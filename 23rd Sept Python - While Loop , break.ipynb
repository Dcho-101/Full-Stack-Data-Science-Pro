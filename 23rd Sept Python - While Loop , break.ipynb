{
 "cells": [
  {
   "cell_type": "markdown",
   "id": "0fec6924-7d6a-477f-b83c-4ef73aae8743",
   "metadata": {},
   "source": [
    "# 23rd Sept : Python - While Loop , break"
   ]
  },
  {
   "cell_type": "code",
   "execution_count": 1,
   "id": "81704569-dda9-4c07-ab73-b8839bea8284",
   "metadata": {},
   "outputs": [
    {
     "ename": "IndentationError",
     "evalue": "unexpected indent (2775724115.py, line 2)",
     "output_type": "error",
     "traceback": [
      "\u001b[0;36m  Cell \u001b[0;32mIn[1], line 2\u001b[0;36m\u001b[0m\n\u001b[0;31m    print('this is my first while loop')\u001b[0m\n\u001b[0m    ^\u001b[0m\n\u001b[0;31mIndentationError\u001b[0m\u001b[0;31m:\u001b[0m unexpected indent\n"
     ]
    }
   ],
   "source": [
    "#wile True :\n",
    "    print('this is my first while loop')"
   ]
  },
  {
   "cell_type": "code",
   "execution_count": 2,
   "id": "4fa531a4-601e-4446-9781-75eb713283b8",
   "metadata": {},
   "outputs": [],
   "source": [
    "## try to print a number from upperbound to 1"
   ]
  },
  {
   "cell_type": "code",
   "execution_count": 5,
   "id": "db188bf7-47f4-4fd4-9ea6-28643eea7d70",
   "metadata": {},
   "outputs": [
    {
     "name": "stdout",
     "output_type": "stream",
     "text": [
      "10\n",
      "9\n",
      "8\n",
      "7\n",
      "6\n",
      "5\n",
      "4\n",
      "3\n",
      "2\n",
      "1\n"
     ]
    }
   ],
   "source": [
    "n = 10\n",
    "\n",
    "while n >= 1 :\n",
    "    print(n)\n",
    "    n-=1"
   ]
  },
  {
   "cell_type": "code",
   "execution_count": 6,
   "id": "63168f5b-96a0-499d-9212-10d5c06ba213",
   "metadata": {},
   "outputs": [],
   "source": [
    "## Addition operation "
   ]
  },
  {
   "cell_type": "code",
   "execution_count": 8,
   "id": "8d638f2f-f452-40e7-a76c-6a482efd7e0e",
   "metadata": {},
   "outputs": [
    {
     "name": "stdout",
     "output_type": "stream",
     "text": [
      "55\n"
     ]
    }
   ],
   "source": [
    "s = 0\n",
    "n = 1\n",
    "t = 10\n",
    "\n",
    "while n <= t :\n",
    "    s = s+n\n",
    "    n = n+1\n",
    "    \n",
    "print(s)"
   ]
  },
  {
   "cell_type": "code",
   "execution_count": 9,
   "id": "fc12d9f6-cd7c-4e26-aea7-2d5d04beec9e",
   "metadata": {},
   "outputs": [],
   "source": [
    "## Multiplication operation "
   ]
  },
  {
   "cell_type": "code",
   "execution_count": 12,
   "id": "6766c085-be21-43ab-a240-80c7cf13abe9",
   "metadata": {},
   "outputs": [
    {
     "name": "stdout",
     "output_type": "stream",
     "text": [
      "120\n"
     ]
    }
   ],
   "source": [
    "s = 1\n",
    "n = 1\n",
    "t = 5\n",
    "\n",
    "while n <= t :\n",
    "    s = s*n\n",
    "    n = n+1\n",
    "    \n",
    "print(s)"
   ]
  },
  {
   "cell_type": "code",
   "execution_count": 13,
   "id": "10995d4e-8033-48e9-a55d-6a59ce3285a3",
   "metadata": {},
   "outputs": [],
   "source": [
    "## multiplication table"
   ]
  },
  {
   "cell_type": "code",
   "execution_count": 15,
   "id": "937c1d46-28bb-4fdb-a7ac-e6fb1f5a27ed",
   "metadata": {},
   "outputs": [
    {
     "name": "stdin",
     "output_type": "stream",
     "text": [
      "Enter a number for which you are looking for a table:  5\n"
     ]
    },
    {
     "name": "stdout",
     "output_type": "stream",
     "text": [
      "5 x 1 = 5\n",
      "5 x 2 = 10\n",
      "5 x 3 = 15\n",
      "5 x 4 = 20\n",
      "5 x 5 = 25\n",
      "5 x 6 = 30\n",
      "5 x 7 = 35\n",
      "5 x 8 = 40\n",
      "5 x 9 = 45\n",
      "5 x 10 = 50\n"
     ]
    }
   ],
   "source": [
    "n = int(input(\"Enter a number for which you are looking for a table: \"))\n",
    "\n",
    "i = 1\n",
    "\n",
    "while i <=10 :\n",
    "    product = n * i\n",
    "    \n",
    "    print(n, 'x', i, '=', product)\n",
    "    \n",
    "    i += 1 "
   ]
  },
  {
   "cell_type": "code",
   "execution_count": 16,
   "id": "90062938-d912-4af5-acf9-fb84292ca501",
   "metadata": {},
   "outputs": [],
   "source": [
    "# time counter"
   ]
  },
  {
   "cell_type": "code",
   "execution_count": 19,
   "id": "b12f266e-3b63-4500-9eaf-05987ceba13f",
   "metadata": {},
   "outputs": [
    {
     "name": "stdout",
     "output_type": "stream",
     "text": [
      "5\n",
      "4\n",
      "3\n",
      "2\n",
      "1\n",
      "Break time is over\n"
     ]
    }
   ],
   "source": [
    "import time # helps to access the system clock\n",
    "\n",
    "# making counter \n",
    "s = 5\n",
    "\n",
    "# making while loop to execute the time \n",
    "while s >0 :\n",
    "    print(s)\n",
    "    time.sleep(1) # pause time\n",
    "    s = s-1\n",
    "    \n",
    "print(\"Break time is over\")"
   ]
  },
  {
   "cell_type": "code",
   "execution_count": 20,
   "id": "99a9897f-18e5-4a6c-a238-e3478b3df116",
   "metadata": {},
   "outputs": [],
   "source": [
    "## vending machine"
   ]
  },
  {
   "cell_type": "code",
   "execution_count": 7,
   "id": "eb018f5c-5883-426b-9324-7e332559b1b0",
   "metadata": {},
   "outputs": [
    {
     "name": "stdout",
     "output_type": "stream",
     "text": [
      "20\n"
     ]
    },
    {
     "name": "stdin",
     "output_type": "stream",
     "text": [
      "Enter your choice (1: buiscuit, 2: chips, 3: redbull, 4: coke):  4\n"
     ]
    },
    {
     "name": "stdout",
     "output_type": "stream",
     "text": [
      "Take your coke\n",
      "12\n"
     ]
    },
    {
     "name": "stdin",
     "output_type": "stream",
     "text": [
      "Enter your choice (1: buiscuit, 2: chips, 3: redbull, 4: coke):  4\n"
     ]
    },
    {
     "name": "stdout",
     "output_type": "stream",
     "text": [
      "Take your coke\n",
      "4\n"
     ]
    },
    {
     "name": "stdin",
     "output_type": "stream",
     "text": [
      "Enter your choice (1: buiscuit, 2: chips, 3: redbull, 4: coke):  1\n"
     ]
    },
    {
     "name": "stdout",
     "output_type": "stream",
     "text": [
      "Take your buiscuit\n",
      "you don't have much balance\n"
     ]
    }
   ],
   "source": [
    "money_in_hand = 20\n",
    "\n",
    "while money_in_hand >= 4 :\n",
    "    print(money_in_hand)\n",
    "    \n",
    "    choice = int(input(\"Enter your choice (1: buiscuit, 2: chips, 3: redbull, 4: coke): \"))\n",
    "    if choice == 1 :\n",
    "        print(\"Take your buiscuit\")\n",
    "        money_in_hand = money_in_hand - 4\n",
    "        \n",
    "    elif choice == 2 :\n",
    "        print(\"Take your chips\")\n",
    "        money_in_hand = money_in_hand - 5 \n",
    "        \n",
    "    elif choice == 3 :\n",
    "        print(\"Take your redbull\")\n",
    "        money_in_hand = money_in_hand - 10\n",
    "        \n",
    "    elif choice == 4 :\n",
    "        print(\"Take your coke\")\n",
    "        money_in_hand = money_in_hand - 8\n",
    "        \n",
    "    else :\n",
    "        print(\"You have entered incorrect choice\")\n",
    "        \n",
    "print(\"you don't have much balance\")"
   ]
  },
  {
   "cell_type": "code",
   "execution_count": null,
   "id": "053961f8-0fe3-40db-bcc3-ebf4994e741b",
   "metadata": {},
   "outputs": [],
   "source": [
    "## In Python there are not sn switch option exist. so we have to control this with break statement and continue statement.  "
   ]
  },
  {
   "cell_type": "code",
   "execution_count": 10,
   "id": "0d3cfa4f-6c77-43b8-9a25-15741d6e0959",
   "metadata": {},
   "outputs": [],
   "source": [
    "## making the counter (timer) such a way that it must having a stop option"
   ]
  },
  {
   "cell_type": "code",
   "execution_count": null,
   "id": "ab427383-1cdd-47a9-a59a-35b816eac636",
   "metadata": {},
   "outputs": [],
   "source": []
  },
  {
   "cell_type": "code",
   "execution_count": 12,
   "id": "2274ddcf-86e5-4377-bcdb-6b4a3035a578",
   "metadata": {},
   "outputs": [
    {
     "name": "stdout",
     "output_type": "stream",
     "text": [
      "Enter s to stop the timer: \n"
     ]
    },
    {
     "name": "stdin",
     "output_type": "stream",
     "text": [
      "Enter s for stop a\n"
     ]
    },
    {
     "name": "stdout",
     "output_type": "stream",
     "text": [
      "Enter s to stop the timer: \n"
     ]
    },
    {
     "name": "stdin",
     "output_type": "stream",
     "text": [
      "Enter s for stop d\n"
     ]
    },
    {
     "name": "stdout",
     "output_type": "stream",
     "text": [
      "Enter s to stop the timer: \n"
     ]
    },
    {
     "name": "stdin",
     "output_type": "stream",
     "text": [
      "Enter s for stop s\n"
     ]
    },
    {
     "name": "stdout",
     "output_type": "stream",
     "text": [
      "Start the class break time is over\n"
     ]
    }
   ],
   "source": [
    "import time # helps to access the system clock\n",
    "\n",
    "stop = False\n",
    "\n",
    "while not stop :\n",
    "    print(\"Enter s to stop the timer: \")\n",
    "    time.sleep(1) # pause time\n",
    "    \n",
    "    press_stop = input(\"Enter s for stop\") ## unlesst typing s it will continue \n",
    "    \n",
    "    if press_stop.lower() == 's' :\n",
    "        stop = True\n",
    "        \n",
    "print(\"Start the class break time is over\")"
   ]
  },
  {
   "cell_type": "code",
   "execution_count": 17,
   "id": "2a350cbd-8284-445b-876f-5c39b8809f3b",
   "metadata": {},
   "outputs": [
    {
     "name": "stdout",
     "output_type": "stream",
     "text": [
      "10\n"
     ]
    },
    {
     "name": "stdin",
     "output_type": "stream",
     "text": [
      "enter anything to stop f\n"
     ]
    },
    {
     "name": "stdout",
     "output_type": "stream",
     "text": [
      "Break time is over\n"
     ]
    }
   ],
   "source": [
    "### another way \n",
    "\n",
    "import time\n",
    "s = 10\n",
    "\n",
    "while s>0 :\n",
    "    print(s)\n",
    "    time.sleep(1)\n",
    "\n",
    "    \n",
    "    i = input(\"enter anything to stop\")\n",
    "    \n",
    "    if i :\n",
    "        break\n",
    "        \n",
    "    s -=1 \n",
    "print(\"Break time is over\")"
   ]
  },
  {
   "cell_type": "code",
   "execution_count": 18,
   "id": "a30e445b-c88c-4002-9756-ded4c85f184f",
   "metadata": {},
   "outputs": [],
   "source": [
    "## banking password system (after 3 wrong attempt then the account is locked for 5 minutes)"
   ]
  },
  {
   "cell_type": "code",
   "execution_count": null,
   "id": "752da340-0814-48f4-848b-f3d560dace00",
   "metadata": {},
   "outputs": [],
   "source": []
  },
  {
   "cell_type": "code",
   "execution_count": 28,
   "id": "f9b867af-15c0-4abe-8f12-49c90a9df483",
   "metadata": {},
   "outputs": [
    {
     "name": "stdin",
     "output_type": "stream",
     "text": [
      "Enter your User Id for Account:  dibyendu\n",
      "Enter your Password for the Account:  aaa\n",
      "Enter your Password for the Account:  ddd\n",
      "Enter your Password for the Account:  ffff\n"
     ]
    },
    {
     "name": "stdout",
     "output_type": "stream",
     "text": [
      "You have attempted the maximum times and your account is locked for 5 minutes\n"
     ]
    }
   ],
   "source": [
    "user_id = \"dibyendu\"\n",
    "password = 'dip@123'\n",
    "counter = 1  # it will be initially 1 count for the first attempt\n",
    "user_id_check = False\n",
    "\n",
    "userid = input(\"Enter your User Id for Account: \")\n",
    "\n",
    "while counter <= 3:\n",
    "    if userid == user_id:\n",
    "        user_id_check = True\n",
    "    if user_id_check:\n",
    "        pswd = input(\"Enter your Password for the Account: \")\n",
    "        if pswd == password:\n",
    "            print(\"You have logged in successfully\")\n",
    "            break\n",
    "    else:\n",
    "        print(\"Incorrect User ID\")\n",
    "        break  # If the user ID is incorrect, exit the loop\n",
    "    \n",
    "    counter += 1\n",
    "\n",
    "if counter > 3:\n",
    "    print('You have attempted the maximum times and your account is locked for 5 minutes')\n"
   ]
  },
  {
   "cell_type": "code",
   "execution_count": 29,
   "id": "44b8fd00-d24d-47af-a728-022ac1ec48ab",
   "metadata": {},
   "outputs": [],
   "source": [
    "## To Do List"
   ]
  },
  {
   "cell_type": "code",
   "execution_count": null,
   "id": "ff696fd9-0b4a-4a20-9a3f-5347404a6782",
   "metadata": {},
   "outputs": [],
   "source": []
  },
  {
   "cell_type": "code",
   "execution_count": 31,
   "id": "8a9f2091-48b8-4b7e-a94a-97e658e5586b",
   "metadata": {},
   "outputs": [
    {
     "name": "stdin",
     "output_type": "stream",
     "text": [
      "enter your task :  take class\n",
      "Enter n if you want to add in todo list or press y if you dont want to add n\n",
      "enter your task :  eat\n",
      "Enter n if you want to add in todo list or press y if you dont want to add y\n"
     ]
    },
    {
     "name": "stdout",
     "output_type": "stream",
     "text": [
      "my todo list is : ['take class', 'eat']\n"
     ]
    }
   ],
   "source": [
    "to_do_list = []\n",
    "\n",
    "end_of_list = 'n'\n",
    "\n",
    "while end_of_list != 'y' :\n",
    "    todo_itme = input('enter your task : ')\n",
    "    to_do_list.append(todo_itme)\n",
    "    \n",
    "    end_of_list = input(\"Enter n if you want to add in todo list or press y if you dont want to add\")\n",
    "    \n",
    "print(f\"my todo list is : {to_do_list}\")"
   ]
  },
  {
   "cell_type": "code",
   "execution_count": null,
   "id": "7e05095c-dcd6-4976-ba92-b57cbbe3b2f7",
   "metadata": {},
   "outputs": [],
   "source": []
  },
  {
   "cell_type": "markdown",
   "id": "2874bf5c-2786-4101-b581-7ed8bf315487",
   "metadata": {},
   "source": [
    "#### Recusrsive Call "
   ]
  },
  {
   "cell_type": "code",
   "execution_count": 36,
   "id": "56e61aa0-bbef-4869-8542-9dd5fda93e49",
   "metadata": {},
   "outputs": [],
   "source": [
    "## Factorial"
   ]
  },
  {
   "cell_type": "code",
   "execution_count": 37,
   "id": "7f8f2a15-7f1d-4266-bef6-5409ff842034",
   "metadata": {},
   "outputs": [],
   "source": [
    "def fact(n) :\n",
    "    if n == 0 :\n",
    "        return 1\n",
    "    else :\n",
    "        return n * fact(n-1)"
   ]
  },
  {
   "cell_type": "code",
   "execution_count": 38,
   "id": "29d963c2-f3f5-4ad0-b51e-3654826b3c62",
   "metadata": {},
   "outputs": [
    {
     "data": {
      "text/plain": [
       "120"
      ]
     },
     "execution_count": 38,
     "metadata": {},
     "output_type": "execute_result"
    }
   ],
   "source": [
    "fact(5)"
   ]
  },
  {
   "cell_type": "code",
   "execution_count": 39,
   "id": "4e610a29-5b82-46b6-91c0-70c85071e3b1",
   "metadata": {},
   "outputs": [
    {
     "data": {
      "text/plain": [
       "1"
      ]
     },
     "execution_count": 39,
     "metadata": {},
     "output_type": "execute_result"
    }
   ],
   "source": [
    "fact(1)"
   ]
  },
  {
   "cell_type": "code",
   "execution_count": 40,
   "id": "93d966a6-e3e9-408f-a070-5f0ae5a519e8",
   "metadata": {},
   "outputs": [
    {
     "data": {
      "text/plain": [
       "1"
      ]
     },
     "execution_count": 40,
     "metadata": {},
     "output_type": "execute_result"
    }
   ],
   "source": [
    "fact(0)"
   ]
  },
  {
   "cell_type": "code",
   "execution_count": 41,
   "id": "5d748af9-49b9-438e-8a32-9d984960d67d",
   "metadata": {},
   "outputs": [],
   "source": [
    "## Fibonacci numbers"
   ]
  },
  {
   "cell_type": "code",
   "execution_count": 42,
   "id": "12adf141-9139-48ba-9885-3a914f7cde19",
   "metadata": {},
   "outputs": [],
   "source": [
    "def fib(n) :\n",
    "    if n <=1 :\n",
    "        return n\n",
    "    \n",
    "    else :\n",
    "        return fib(n-2) + fib(n-1)"
   ]
  },
  {
   "cell_type": "code",
   "execution_count": 43,
   "id": "de7b9c44-8974-44bc-8807-d6869affd490",
   "metadata": {},
   "outputs": [
    {
     "data": {
      "text/plain": [
       "5"
      ]
     },
     "execution_count": 43,
     "metadata": {},
     "output_type": "execute_result"
    }
   ],
   "source": [
    "fib(5)"
   ]
  },
  {
   "cell_type": "code",
   "execution_count": 48,
   "id": "bfb016ac-30ca-45e7-9615-c9a8ff82e9b5",
   "metadata": {},
   "outputs": [],
   "source": [
    "def sum_of_digit(n) :\n",
    "    sum_1 = 0 \n",
    "    while n != 0 :\n",
    "        d = n%10\n",
    "        sum_1 = sum_1 + d\n",
    "        n = n // 10\n",
    "    return sum_1"
   ]
  },
  {
   "cell_type": "code",
   "execution_count": 49,
   "id": "0747236f-8abe-4ff9-a035-ea0055935938",
   "metadata": {},
   "outputs": [
    {
     "data": {
      "text/plain": [
       "15"
      ]
     },
     "execution_count": 49,
     "metadata": {},
     "output_type": "execute_result"
    }
   ],
   "source": [
    "sum_of_digit(12345)"
   ]
  },
  {
   "cell_type": "code",
   "execution_count": 50,
   "id": "ba4a1139-5ccc-4c6d-b1bb-be8113102059",
   "metadata": {},
   "outputs": [],
   "source": [
    "## using for loop\n",
    "\n",
    "def get_sum(n) :\n",
    "    \n",
    "    sum_1 = 0\n",
    "    \n",
    "    for digit in str(n) :\n",
    "        sum_1 = int(digit)\n",
    "        \n",
    "    return sum_1"
   ]
  },
  {
   "cell_type": "code",
   "execution_count": 51,
   "id": "e5ef646b-fa5d-4c93-b926-d896e718e624",
   "metadata": {},
   "outputs": [
    {
     "data": {
      "text/plain": [
       "5"
      ]
     },
     "execution_count": 51,
     "metadata": {},
     "output_type": "execute_result"
    }
   ],
   "source": [
    "get_sum(12345)"
   ]
  },
  {
   "cell_type": "code",
   "execution_count": 52,
   "id": "e75f0e76-3e30-45ed-ba90-e19332ff5886",
   "metadata": {},
   "outputs": [],
   "source": [
    "## Using recursive\n",
    "\n",
    "def sum_digit(n) :\n",
    "    ## base case\n",
    "    if n <= 9 :\n",
    "        return n\n",
    "    else :\n",
    "        return n % 10 + sum_digit(n // 10)"
   ]
  },
  {
   "cell_type": "code",
   "execution_count": 53,
   "id": "2105e827-1106-4908-ab08-dea26cc07633",
   "metadata": {},
   "outputs": [
    {
     "data": {
      "text/plain": [
       "12"
      ]
     },
     "execution_count": 53,
     "metadata": {},
     "output_type": "execute_result"
    }
   ],
   "source": [
    "sum_digit(345)"
   ]
  },
  {
   "cell_type": "code",
   "execution_count": 54,
   "id": "87bf2ab6-b397-49cf-b2f6-f93ea205813e",
   "metadata": {},
   "outputs": [],
   "source": [
    "## finding max element \n",
    "\n",
    "## inbuld function max() available. but we will make another "
   ]
  },
  {
   "cell_type": "code",
   "execution_count": 57,
   "id": "ea317847-1e71-4e84-8faf-e77004e71ca6",
   "metadata": {},
   "outputs": [],
   "source": [
    "def max_find(l) :\n",
    "    if len(l) == 1 :\n",
    "        return l[0]\n",
    "    else :\n",
    "        return max(l[0], max_find(l[1:]))"
   ]
  },
  {
   "cell_type": "code",
   "execution_count": 58,
   "id": "8bec361d-ed29-4f08-a672-fa1110bff366",
   "metadata": {},
   "outputs": [
    {
     "data": {
      "text/plain": [
       "9"
      ]
     },
     "execution_count": 58,
     "metadata": {},
     "output_type": "execute_result"
    }
   ],
   "source": [
    "max_find([1,2,3,4,5,6,7,8,9])"
   ]
  },
  {
   "cell_type": "code",
   "execution_count": 59,
   "id": "eaaec122-e2e0-44a0-9c5c-d4a3429719d3",
   "metadata": {},
   "outputs": [],
   "source": [
    "## power function"
   ]
  },
  {
   "cell_type": "code",
   "execution_count": 60,
   "id": "04c6d73a-c6ec-428f-9ae0-6a576f6a08d4",
   "metadata": {},
   "outputs": [
    {
     "data": {
      "text/plain": [
       "25"
      ]
     },
     "execution_count": 60,
     "metadata": {},
     "output_type": "execute_result"
    }
   ],
   "source": [
    "5**2"
   ]
  },
  {
   "cell_type": "code",
   "execution_count": 61,
   "id": "520fa157-98a8-4d82-a8c4-24c94b06e6f6",
   "metadata": {},
   "outputs": [
    {
     "data": {
      "text/plain": [
       "25"
      ]
     },
     "execution_count": 61,
     "metadata": {},
     "output_type": "execute_result"
    }
   ],
   "source": [
    "pow(5,2)"
   ]
  },
  {
   "cell_type": "code",
   "execution_count": 62,
   "id": "e5d12f59-a16a-4182-9cfd-e26005366465",
   "metadata": {},
   "outputs": [],
   "source": [
    "## making function with the help of recursive call"
   ]
  },
  {
   "cell_type": "code",
   "execution_count": 63,
   "id": "62ad5505-a72c-42e1-b2b5-544dc49f817c",
   "metadata": {},
   "outputs": [],
   "source": [
    "def power(n, k) :\n",
    "    if k == 0 :\n",
    "        return 1\n",
    "    else :\n",
    "        return n * power(n, k-1)"
   ]
  },
  {
   "cell_type": "code",
   "execution_count": 64,
   "id": "d9b8e65c-d7ed-4ed3-9ae8-9d61481acda4",
   "metadata": {},
   "outputs": [
    {
     "data": {
      "text/plain": [
       "6561"
      ]
     },
     "execution_count": 64,
     "metadata": {},
     "output_type": "execute_result"
    }
   ],
   "source": [
    "power(3,8)"
   ]
  },
  {
   "cell_type": "code",
   "execution_count": null,
   "id": "45602637-9594-4557-89b1-a1c9f1b51630",
   "metadata": {},
   "outputs": [],
   "source": []
  }
 ],
 "metadata": {
  "kernelspec": {
   "display_name": "Python 3 (ipykernel)",
   "language": "python",
   "name": "python3"
  },
  "language_info": {
   "codemirror_mode": {
    "name": "ipython",
    "version": 3
   },
   "file_extension": ".py",
   "mimetype": "text/x-python",
   "name": "python",
   "nbconvert_exporter": "python",
   "pygments_lexer": "ipython3",
   "version": "3.10.8"
  }
 },
 "nbformat": 4,
 "nbformat_minor": 5
}
