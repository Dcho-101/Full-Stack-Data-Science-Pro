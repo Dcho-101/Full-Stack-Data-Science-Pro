{
 "cells": [
  {
   "cell_type": "code",
   "execution_count": 1,
   "id": "e93ae226-9f98-464d-a8e4-91c7b654b815",
   "metadata": {},
   "outputs": [
    {
     "data": {
      "text/plain": [
       "[1, 2, 3, 4, 5]"
      ]
     },
     "execution_count": 1,
     "metadata": {},
     "output_type": "execute_result"
    }
   ],
   "source": [
    "data = [1,2,3,4,5]\n",
    "\n",
    "data"
   ]
  },
  {
   "cell_type": "code",
   "execution_count": 3,
   "id": "9b4bfa28-f600-449c-8b34-fdd84f1997f9",
   "metadata": {},
   "outputs": [],
   "source": [
    "## Measures if central tendency"
   ]
  },
  {
   "cell_type": "code",
   "execution_count": 5,
   "id": "9cf77273-19e1-4776-8f09-726377bbd1be",
   "metadata": {},
   "outputs": [],
   "source": [
    "import pandas as pd\n",
    "import numpy as np\n",
    "import seaborn as sns"
   ]
  },
  {
   "cell_type": "code",
   "execution_count": 7,
   "id": "e5b27fd1-b46d-436e-b2ca-a760188e4ba5",
   "metadata": {},
   "outputs": [
    {
     "data": {
      "text/plain": [
       "3.0"
      ]
     },
     "execution_count": 7,
     "metadata": {},
     "output_type": "execute_result"
    }
   ],
   "source": [
    "np.mean(data)"
   ]
  },
  {
   "cell_type": "code",
   "execution_count": 9,
   "id": "bc5d8f92-c48e-4b4c-93c1-670ed96d4b87",
   "metadata": {},
   "outputs": [],
   "source": [
    "## loading dataset from seaborn\n",
    "\n",
    "df = sns.load_dataset('tips')"
   ]
  },
  {
   "cell_type": "code",
   "execution_count": 11,
   "id": "8f9b24c5-b361-4fd4-863f-97f7c04cb83a",
   "metadata": {},
   "outputs": [
    {
     "data": {
      "text/html": [
       "<div>\n",
       "<style scoped>\n",
       "    .dataframe tbody tr th:only-of-type {\n",
       "        vertical-align: middle;\n",
       "    }\n",
       "\n",
       "    .dataframe tbody tr th {\n",
       "        vertical-align: top;\n",
       "    }\n",
       "\n",
       "    .dataframe thead th {\n",
       "        text-align: right;\n",
       "    }\n",
       "</style>\n",
       "<table border=\"1\" class=\"dataframe\">\n",
       "  <thead>\n",
       "    <tr style=\"text-align: right;\">\n",
       "      <th></th>\n",
       "      <th>total_bill</th>\n",
       "      <th>tip</th>\n",
       "      <th>sex</th>\n",
       "      <th>smoker</th>\n",
       "      <th>day</th>\n",
       "      <th>time</th>\n",
       "      <th>size</th>\n",
       "    </tr>\n",
       "  </thead>\n",
       "  <tbody>\n",
       "    <tr>\n",
       "      <th>0</th>\n",
       "      <td>16.99</td>\n",
       "      <td>1.01</td>\n",
       "      <td>Female</td>\n",
       "      <td>No</td>\n",
       "      <td>Sun</td>\n",
       "      <td>Dinner</td>\n",
       "      <td>2</td>\n",
       "    </tr>\n",
       "    <tr>\n",
       "      <th>1</th>\n",
       "      <td>10.34</td>\n",
       "      <td>1.66</td>\n",
       "      <td>Male</td>\n",
       "      <td>No</td>\n",
       "      <td>Sun</td>\n",
       "      <td>Dinner</td>\n",
       "      <td>3</td>\n",
       "    </tr>\n",
       "    <tr>\n",
       "      <th>2</th>\n",
       "      <td>21.01</td>\n",
       "      <td>3.50</td>\n",
       "      <td>Male</td>\n",
       "      <td>No</td>\n",
       "      <td>Sun</td>\n",
       "      <td>Dinner</td>\n",
       "      <td>3</td>\n",
       "    </tr>\n",
       "    <tr>\n",
       "      <th>3</th>\n",
       "      <td>23.68</td>\n",
       "      <td>3.31</td>\n",
       "      <td>Male</td>\n",
       "      <td>No</td>\n",
       "      <td>Sun</td>\n",
       "      <td>Dinner</td>\n",
       "      <td>2</td>\n",
       "    </tr>\n",
       "    <tr>\n",
       "      <th>4</th>\n",
       "      <td>24.59</td>\n",
       "      <td>3.61</td>\n",
       "      <td>Female</td>\n",
       "      <td>No</td>\n",
       "      <td>Sun</td>\n",
       "      <td>Dinner</td>\n",
       "      <td>4</td>\n",
       "    </tr>\n",
       "    <tr>\n",
       "      <th>...</th>\n",
       "      <td>...</td>\n",
       "      <td>...</td>\n",
       "      <td>...</td>\n",
       "      <td>...</td>\n",
       "      <td>...</td>\n",
       "      <td>...</td>\n",
       "      <td>...</td>\n",
       "    </tr>\n",
       "    <tr>\n",
       "      <th>239</th>\n",
       "      <td>29.03</td>\n",
       "      <td>5.92</td>\n",
       "      <td>Male</td>\n",
       "      <td>No</td>\n",
       "      <td>Sat</td>\n",
       "      <td>Dinner</td>\n",
       "      <td>3</td>\n",
       "    </tr>\n",
       "    <tr>\n",
       "      <th>240</th>\n",
       "      <td>27.18</td>\n",
       "      <td>2.00</td>\n",
       "      <td>Female</td>\n",
       "      <td>Yes</td>\n",
       "      <td>Sat</td>\n",
       "      <td>Dinner</td>\n",
       "      <td>2</td>\n",
       "    </tr>\n",
       "    <tr>\n",
       "      <th>241</th>\n",
       "      <td>22.67</td>\n",
       "      <td>2.00</td>\n",
       "      <td>Male</td>\n",
       "      <td>Yes</td>\n",
       "      <td>Sat</td>\n",
       "      <td>Dinner</td>\n",
       "      <td>2</td>\n",
       "    </tr>\n",
       "    <tr>\n",
       "      <th>242</th>\n",
       "      <td>17.82</td>\n",
       "      <td>1.75</td>\n",
       "      <td>Male</td>\n",
       "      <td>No</td>\n",
       "      <td>Sat</td>\n",
       "      <td>Dinner</td>\n",
       "      <td>2</td>\n",
       "    </tr>\n",
       "    <tr>\n",
       "      <th>243</th>\n",
       "      <td>18.78</td>\n",
       "      <td>3.00</td>\n",
       "      <td>Female</td>\n",
       "      <td>No</td>\n",
       "      <td>Thur</td>\n",
       "      <td>Dinner</td>\n",
       "      <td>2</td>\n",
       "    </tr>\n",
       "  </tbody>\n",
       "</table>\n",
       "<p>244 rows × 7 columns</p>\n",
       "</div>"
      ],
      "text/plain": [
       "     total_bill   tip     sex smoker   day    time  size\n",
       "0         16.99  1.01  Female     No   Sun  Dinner     2\n",
       "1         10.34  1.66    Male     No   Sun  Dinner     3\n",
       "2         21.01  3.50    Male     No   Sun  Dinner     3\n",
       "3         23.68  3.31    Male     No   Sun  Dinner     2\n",
       "4         24.59  3.61  Female     No   Sun  Dinner     4\n",
       "..          ...   ...     ...    ...   ...     ...   ...\n",
       "239       29.03  5.92    Male     No   Sat  Dinner     3\n",
       "240       27.18  2.00  Female    Yes   Sat  Dinner     2\n",
       "241       22.67  2.00    Male    Yes   Sat  Dinner     2\n",
       "242       17.82  1.75    Male     No   Sat  Dinner     2\n",
       "243       18.78  3.00  Female     No  Thur  Dinner     2\n",
       "\n",
       "[244 rows x 7 columns]"
      ]
     },
     "execution_count": 11,
     "metadata": {},
     "output_type": "execute_result"
    }
   ],
   "source": [
    "df"
   ]
  },
  {
   "cell_type": "code",
   "execution_count": 13,
   "id": "722daba2-cc9e-488e-978f-f3611ab27e2f",
   "metadata": {},
   "outputs": [
    {
     "data": {
      "text/plain": [
       "19.78594262295082"
      ]
     },
     "execution_count": 13,
     "metadata": {},
     "output_type": "execute_result"
    }
   ],
   "source": [
    "np.mean(df['total_bill'])"
   ]
  },
  {
   "cell_type": "code",
   "execution_count": 15,
   "id": "07d77308-e2ed-474f-bb33-1075803de209",
   "metadata": {},
   "outputs": [
    {
     "data": {
      "text/html": [
       "<div>\n",
       "<style scoped>\n",
       "    .dataframe tbody tr th:only-of-type {\n",
       "        vertical-align: middle;\n",
       "    }\n",
       "\n",
       "    .dataframe tbody tr th {\n",
       "        vertical-align: top;\n",
       "    }\n",
       "\n",
       "    .dataframe thead th {\n",
       "        text-align: right;\n",
       "    }\n",
       "</style>\n",
       "<table border=\"1\" class=\"dataframe\">\n",
       "  <thead>\n",
       "    <tr style=\"text-align: right;\">\n",
       "      <th></th>\n",
       "      <th>total_bill</th>\n",
       "      <th>tip</th>\n",
       "      <th>size</th>\n",
       "    </tr>\n",
       "  </thead>\n",
       "  <tbody>\n",
       "    <tr>\n",
       "      <th>count</th>\n",
       "      <td>244.000000</td>\n",
       "      <td>244.000000</td>\n",
       "      <td>244.000000</td>\n",
       "    </tr>\n",
       "    <tr>\n",
       "      <th>mean</th>\n",
       "      <td>19.785943</td>\n",
       "      <td>2.998279</td>\n",
       "      <td>2.569672</td>\n",
       "    </tr>\n",
       "    <tr>\n",
       "      <th>std</th>\n",
       "      <td>8.902412</td>\n",
       "      <td>1.383638</td>\n",
       "      <td>0.951100</td>\n",
       "    </tr>\n",
       "    <tr>\n",
       "      <th>min</th>\n",
       "      <td>3.070000</td>\n",
       "      <td>1.000000</td>\n",
       "      <td>1.000000</td>\n",
       "    </tr>\n",
       "    <tr>\n",
       "      <th>25%</th>\n",
       "      <td>13.347500</td>\n",
       "      <td>2.000000</td>\n",
       "      <td>2.000000</td>\n",
       "    </tr>\n",
       "    <tr>\n",
       "      <th>50%</th>\n",
       "      <td>17.795000</td>\n",
       "      <td>2.900000</td>\n",
       "      <td>2.000000</td>\n",
       "    </tr>\n",
       "    <tr>\n",
       "      <th>75%</th>\n",
       "      <td>24.127500</td>\n",
       "      <td>3.562500</td>\n",
       "      <td>3.000000</td>\n",
       "    </tr>\n",
       "    <tr>\n",
       "      <th>max</th>\n",
       "      <td>50.810000</td>\n",
       "      <td>10.000000</td>\n",
       "      <td>6.000000</td>\n",
       "    </tr>\n",
       "  </tbody>\n",
       "</table>\n",
       "</div>"
      ],
      "text/plain": [
       "       total_bill         tip        size\n",
       "count  244.000000  244.000000  244.000000\n",
       "mean    19.785943    2.998279    2.569672\n",
       "std      8.902412    1.383638    0.951100\n",
       "min      3.070000    1.000000    1.000000\n",
       "25%     13.347500    2.000000    2.000000\n",
       "50%     17.795000    2.900000    2.000000\n",
       "75%     24.127500    3.562500    3.000000\n",
       "max     50.810000   10.000000    6.000000"
      ]
     },
     "execution_count": 15,
     "metadata": {},
     "output_type": "execute_result"
    }
   ],
   "source": [
    "df.describe()"
   ]
  },
  {
   "cell_type": "code",
   "execution_count": 17,
   "id": "187ce9f5-a0d0-41f1-b26e-18dae1092320",
   "metadata": {},
   "outputs": [
    {
     "data": {
      "text/plain": [
       "[1, 2, 3, 4, 5]"
      ]
     },
     "execution_count": 17,
     "metadata": {},
     "output_type": "execute_result"
    }
   ],
   "source": [
    "data"
   ]
  },
  {
   "cell_type": "code",
   "execution_count": 19,
   "id": "d2b816a5-1feb-434f-856f-30380da29b25",
   "metadata": {},
   "outputs": [
    {
     "data": {
      "text/plain": [
       "3.0"
      ]
     },
     "execution_count": 19,
     "metadata": {},
     "output_type": "execute_result"
    }
   ],
   "source": [
    "np.median(data)"
   ]
  },
  {
   "cell_type": "code",
   "execution_count": 21,
   "id": "75181f7d-f20d-4346-b95a-7ed5bada89c7",
   "metadata": {},
   "outputs": [],
   "source": [
    "## if there are any outlier present then the mean will be affeted by the outlier, that time we need to make median or mode."
   ]
  },
  {
   "cell_type": "code",
   "execution_count": 23,
   "id": "364e42e9-47b3-4222-9b54-f3fa748c8682",
   "metadata": {},
   "outputs": [],
   "source": [
    "## for example"
   ]
  },
  {
   "cell_type": "code",
   "execution_count": 25,
   "id": "3232856b-408a-4fc2-a2ff-25b9aa47602a",
   "metadata": {},
   "outputs": [],
   "source": [
    "data = [1,2,3,4,500]"
   ]
  },
  {
   "cell_type": "code",
   "execution_count": 29,
   "id": "33e98961-6fd2-471b-8a19-e7dd9a99671d",
   "metadata": {},
   "outputs": [
    {
     "data": {
      "text/plain": [
       "102.0"
      ]
     },
     "execution_count": 29,
     "metadata": {},
     "output_type": "execute_result"
    }
   ],
   "source": [
    "np.mean(data)"
   ]
  },
  {
   "cell_type": "code",
   "execution_count": 31,
   "id": "bc5ffd7c-2947-46ce-a621-90108778fea9",
   "metadata": {},
   "outputs": [
    {
     "data": {
      "text/plain": [
       "3.0"
      ]
     },
     "execution_count": 31,
     "metadata": {},
     "output_type": "execute_result"
    }
   ],
   "source": [
    "# but\n",
    "\n",
    "np.median(data)"
   ]
  },
  {
   "cell_type": "code",
   "execution_count": 35,
   "id": "1d72d5f9-5d75-4830-9bf0-89f2bc60a716",
   "metadata": {},
   "outputs": [
    {
     "data": {
      "text/plain": [
       "19.78594262295082"
      ]
     },
     "execution_count": 35,
     "metadata": {},
     "output_type": "execute_result"
    }
   ],
   "source": [
    "np.mean(df['total_bill'])"
   ]
  },
  {
   "cell_type": "code",
   "execution_count": 37,
   "id": "737eb78d-856f-4d43-bbef-e55fad567481",
   "metadata": {},
   "outputs": [
    {
     "data": {
      "text/plain": [
       "17.795"
      ]
     },
     "execution_count": 37,
     "metadata": {},
     "output_type": "execute_result"
    }
   ],
   "source": [
    "np.median(df['total_bill'])"
   ]
  },
  {
   "cell_type": "code",
   "execution_count": 39,
   "id": "126db662-5cc8-4c5d-8e79-c16716d60bf0",
   "metadata": {},
   "outputs": [],
   "source": [
    "data = [1,2,3,3,3,4,4,500]"
   ]
  },
  {
   "cell_type": "code",
   "execution_count": 43,
   "id": "3ee310b3-7846-49fc-8d87-b23607b34905",
   "metadata": {},
   "outputs": [
    {
     "ename": "AttributeError",
     "evalue": "module 'numpy' has no attribute 'mode'",
     "output_type": "error",
     "traceback": [
      "\u001b[1;31m---------------------------------------------------------------------------\u001b[0m",
      "\u001b[1;31mAttributeError\u001b[0m                            Traceback (most recent call last)",
      "Cell \u001b[1;32mIn[43], line 1\u001b[0m\n\u001b[1;32m----> 1\u001b[0m np\u001b[38;5;241m.\u001b[39mmode(data)\n",
      "File \u001b[1;32m~\\anaconda3\\Lib\\site-packages\\numpy\\__init__.py:333\u001b[0m, in \u001b[0;36m__getattr__\u001b[1;34m(attr)\u001b[0m\n\u001b[0;32m    330\u001b[0m     \u001b[38;5;124m\"\u001b[39m\u001b[38;5;124mRemoved in NumPy 1.25.0\u001b[39m\u001b[38;5;124m\"\u001b[39m\n\u001b[0;32m    331\u001b[0m     \u001b[38;5;28;01mraise\u001b[39;00m \u001b[38;5;167;01mRuntimeError\u001b[39;00m(\u001b[38;5;124m\"\u001b[39m\u001b[38;5;124mTester was removed in NumPy 1.25.\u001b[39m\u001b[38;5;124m\"\u001b[39m)\n\u001b[1;32m--> 333\u001b[0m \u001b[38;5;28;01mraise\u001b[39;00m \u001b[38;5;167;01mAttributeError\u001b[39;00m(\u001b[38;5;124m\"\u001b[39m\u001b[38;5;124mmodule \u001b[39m\u001b[38;5;132;01m{!r}\u001b[39;00m\u001b[38;5;124m has no attribute \u001b[39m\u001b[38;5;124m\"\u001b[39m\n\u001b[0;32m    334\u001b[0m                      \u001b[38;5;124m\"\u001b[39m\u001b[38;5;132;01m{!r}\u001b[39;00m\u001b[38;5;124m\"\u001b[39m\u001b[38;5;241m.\u001b[39mformat(\u001b[38;5;18m__name__\u001b[39m, attr))\n",
      "\u001b[1;31mAttributeError\u001b[0m: module 'numpy' has no attribute 'mode'"
     ]
    }
   ],
   "source": [
    "np.mode(data) ## this will throw an error as numpy do not have the mode "
   ]
  },
  {
   "cell_type": "code",
   "execution_count": 45,
   "id": "b381f2cf-6142-4c1a-b3e8-c908a8443a34",
   "metadata": {},
   "outputs": [
    {
     "data": {
      "text/plain": [
       "3"
      ]
     },
     "execution_count": 45,
     "metadata": {},
     "output_type": "execute_result"
    }
   ],
   "source": [
    "import statistics\n",
    "statistics.mode(data)"
   ]
  },
  {
   "cell_type": "code",
   "execution_count": 49,
   "id": "02a231a2-a15a-499b-921f-d963ab23a232",
   "metadata": {},
   "outputs": [
    {
     "data": {
      "text/plain": [
       "array([2.75])"
      ]
     },
     "execution_count": 49,
     "metadata": {},
     "output_type": "execute_result"
    }
   ],
   "source": [
    "np.percentile(data, [25]) ## 25 percentage of the data is below 2.75"
   ]
  },
  {
   "cell_type": "code",
   "execution_count": 51,
   "id": "5da6c8d3-5815-44a9-b6ee-4c711cf8d4fe",
   "metadata": {},
   "outputs": [
    {
     "data": {
      "text/plain": [
       "array([  2.75,   3.  ,   4.  , 326.4 , 361.12, 395.84, 430.56, 465.28,\n",
       "       500.  ])"
      ]
     },
     "execution_count": 51,
     "metadata": {},
     "output_type": "execute_result"
    }
   ],
   "source": [
    "np.percentile(data, [25,50,75,95,96,97,98,99,100])"
   ]
  },
  {
   "cell_type": "code",
   "execution_count": 53,
   "id": "aa182d3e-7260-49d8-8be4-85d082760867",
   "metadata": {},
   "outputs": [
    {
     "data": {
      "text/plain": [
       "[1, 2, 3, 3, 3, 4, 4, 500]"
      ]
     },
     "execution_count": 53,
     "metadata": {},
     "output_type": "execute_result"
    }
   ],
   "source": [
    "data"
   ]
  },
  {
   "cell_type": "code",
   "execution_count": 55,
   "id": "270d7f9f-e7a9-4d39-9cd0-278b75c8a3ad",
   "metadata": {},
   "outputs": [],
   "source": [
    "## appending some values"
   ]
  },
  {
   "cell_type": "code",
   "execution_count": 57,
   "id": "0abf1b6d-344f-46b2-94b6-5eb62b248795",
   "metadata": {},
   "outputs": [],
   "source": [
    "data.append(-500)"
   ]
  },
  {
   "cell_type": "code",
   "execution_count": 59,
   "id": "d7cd5fe8-ee25-45c4-83a0-6a63ef4c0197",
   "metadata": {},
   "outputs": [
    {
     "data": {
      "text/plain": [
       "[1, 2, 3, 3, 3, 4, 4, 500, -500]"
      ]
     },
     "execution_count": 59,
     "metadata": {},
     "output_type": "execute_result"
    }
   ],
   "source": [
    "data"
   ]
  },
  {
   "cell_type": "code",
   "execution_count": 61,
   "id": "1d3cecfe-69ea-405b-a321-3379262ba932",
   "metadata": {},
   "outputs": [],
   "source": [
    "## outliers"
   ]
  },
  {
   "cell_type": "code",
   "execution_count": 63,
   "id": "01b8a23e-c3bc-4d32-8620-2b93747b47a0",
   "metadata": {},
   "outputs": [
    {
     "data": {
      "text/plain": [
       "<Axes: >"
      ]
     },
     "execution_count": 63,
     "metadata": {},
     "output_type": "execute_result"
    },
    {
     "data": {
      "image/png": "[encoded data removed]",
      "text/plain": [
       "<Figure size 640x480 with 1 Axes>"
      ]
     },
     "metadata": {},
     "output_type": "display_data"
    }
   ],
   "source": [
    "sns.boxplot(data)"
   ]
  },
  {
   "cell_type": "code",
   "execution_count": 85,
   "id": "1ba45996-f9d6-4943-908d-fc9a845d476f",
   "metadata": {},
   "outputs": [],
   "source": [
    "data = [1, 2, 3, 3, 3, 4, 4,20,-20,50,-50]"
   ]
  },
  {
   "cell_type": "code",
   "execution_count": 87,
   "id": "0347f504-d8ba-43cc-a191-cb1d8c26448e",
   "metadata": {},
   "outputs": [
    {
     "data": {
      "text/plain": [
       "<Axes: >"
      ]
     },
     "execution_count": 87,
     "metadata": {},
     "output_type": "execute_result"
    },
    {
     "data": {
      "image/png": "[encoded data removed]",
      "text/plain": [
       "<Figure size 640x480 with 1 Axes>"
      ]
     },
     "metadata": {},
     "output_type": "display_data"
    }
   ],
   "source": [
    "sns.boxplot(data)"
   ]
  },
  {
   "cell_type": "code",
   "execution_count": 89,
   "id": "073b8b0f-9b35-4a6f-8ede-3de807508ae1",
   "metadata": {},
   "outputs": [],
   "source": [
    "## measures of dispersion"
   ]
  },
  {
   "cell_type": "code",
   "execution_count": 91,
   "id": "fac4119f-8887-49cc-8bfd-ceed01a3ee3a",
   "metadata": {},
   "outputs": [],
   "source": [
    "data = [1, 2, 3, 3, 3, 4, 4,20,-20,50,-50]"
   ]
  },
  {
   "cell_type": "code",
   "execution_count": 93,
   "id": "61dc4d22-f9ed-4973-a0ed-a0984ee99763",
   "metadata": {},
   "outputs": [
    {
     "data": {
      "text/plain": [
       "529.7851239669421"
      ]
     },
     "execution_count": 93,
     "metadata": {},
     "output_type": "execute_result"
    }
   ],
   "source": [
    "np.var(data)"
   ]
  },
  {
   "cell_type": "code",
   "execution_count": 95,
   "id": "9cecd7b0-d020-47d1-a707-d5679af37833",
   "metadata": {},
   "outputs": [
    {
     "data": {
      "text/plain": [
       "23.01706158411499"
      ]
     },
     "execution_count": 95,
     "metadata": {},
     "output_type": "execute_result"
    }
   ],
   "source": [
    "np.std(data)"
   ]
  },
  {
   "cell_type": "code",
   "execution_count": 97,
   "id": "938b317f-c9d0-4428-9637-c2eab43b84f3",
   "metadata": {},
   "outputs": [],
   "source": [
    "## counting variance using statistics"
   ]
  },
  {
   "cell_type": "code",
   "execution_count": 101,
   "id": "a41b30f0-1405-44f2-b218-b2420dfbe317",
   "metadata": {},
   "outputs": [
    {
     "data": {
      "text/plain": [
       "582.7636363636364"
      ]
     },
     "execution_count": 101,
     "metadata": {},
     "output_type": "execute_result"
    }
   ],
   "source": [
    "statistics.variance(data) ## by default it will take smaple variance"
   ]
  },
  {
   "cell_type": "code",
   "execution_count": 105,
   "id": "72153c77-e93f-476c-88f6-7813d8098bca",
   "metadata": {},
   "outputs": [
    {
     "data": {
      "text/plain": [
       "529.7851239669421"
      ]
     },
     "execution_count": 105,
     "metadata": {},
     "output_type": "execute_result"
    }
   ],
   "source": [
    "statistics.pvariance(data) ## population variance of whole data"
   ]
  },
  {
   "cell_type": "code",
   "execution_count": 107,
   "id": "d2eec292-fc39-4433-8bdf-c82fdc43008c",
   "metadata": {},
   "outputs": [],
   "source": [
    "import math"
   ]
  },
  {
   "cell_type": "code",
   "execution_count": 109,
   "id": "68f9e160-be24-4b5d-9746-fc025610f632",
   "metadata": {},
   "outputs": [
    {
     "data": {
      "text/plain": [
       "24.140497848297088"
      ]
     },
     "execution_count": 109,
     "metadata": {},
     "output_type": "execute_result"
    }
   ],
   "source": [
    "math.sqrt(statistics.variance(data))"
   ]
  },
  {
   "cell_type": "code",
   "execution_count": 111,
   "id": "83e320ef-8bb2-434f-bc67-293f39310e93",
   "metadata": {},
   "outputs": [
    {
     "data": {
      "text/plain": [
       "[1, 2, 3, 3, 3, 4, 4, 20, -20, 50, -50]"
      ]
     },
     "execution_count": 111,
     "metadata": {},
     "output_type": "execute_result"
    }
   ],
   "source": [
    "data"
   ]
  },
  {
   "cell_type": "code",
   "execution_count": null,
   "id": "cd17b74d-caa5-4b9c-9e03-21124431ae0e",
   "metadata": {},
   "outputs": [],
   "source": []
  },
  {
   "cell_type": "code",
   "execution_count": null,
   "id": "23abab37-ed54-4bfa-b910-666047a7a63b",
   "metadata": {},
   "outputs": [],
   "source": []
  },
  {
   "cell_type": "markdown",
   "id": "f738d192-3c61-4817-a0ac-8915a5d90cd7",
   "metadata": {},
   "source": [
    "## how to know the relationship between two features\n",
    "\n",
    "- Correlation \n",
    "- Covariance"
   ]
  },
  {
   "cell_type": "code",
   "execution_count": 118,
   "id": "d9ab9252-a1ef-4cdc-9d6e-52965ee74815",
   "metadata": {},
   "outputs": [
    {
     "data": {
      "text/html": [
       "<div>\n",
       "<style scoped>\n",
       "    .dataframe tbody tr th:only-of-type {\n",
       "        vertical-align: middle;\n",
       "    }\n",
       "\n",
       "    .dataframe tbody tr th {\n",
       "        vertical-align: top;\n",
       "    }\n",
       "\n",
       "    .dataframe thead th {\n",
       "        text-align: right;\n",
       "    }\n",
       "</style>\n",
       "<table border=\"1\" class=\"dataframe\">\n",
       "  <thead>\n",
       "    <tr style=\"text-align: right;\">\n",
       "      <th></th>\n",
       "      <th>total_bill</th>\n",
       "      <th>tip</th>\n",
       "      <th>sex</th>\n",
       "      <th>smoker</th>\n",
       "      <th>day</th>\n",
       "      <th>time</th>\n",
       "      <th>size</th>\n",
       "    </tr>\n",
       "  </thead>\n",
       "  <tbody>\n",
       "    <tr>\n",
       "      <th>0</th>\n",
       "      <td>16.99</td>\n",
       "      <td>1.01</td>\n",
       "      <td>Female</td>\n",
       "      <td>No</td>\n",
       "      <td>Sun</td>\n",
       "      <td>Dinner</td>\n",
       "      <td>2</td>\n",
       "    </tr>\n",
       "    <tr>\n",
       "      <th>1</th>\n",
       "      <td>10.34</td>\n",
       "      <td>1.66</td>\n",
       "      <td>Male</td>\n",
       "      <td>No</td>\n",
       "      <td>Sun</td>\n",
       "      <td>Dinner</td>\n",
       "      <td>3</td>\n",
       "    </tr>\n",
       "    <tr>\n",
       "      <th>2</th>\n",
       "      <td>21.01</td>\n",
       "      <td>3.50</td>\n",
       "      <td>Male</td>\n",
       "      <td>No</td>\n",
       "      <td>Sun</td>\n",
       "      <td>Dinner</td>\n",
       "      <td>3</td>\n",
       "    </tr>\n",
       "    <tr>\n",
       "      <th>3</th>\n",
       "      <td>23.68</td>\n",
       "      <td>3.31</td>\n",
       "      <td>Male</td>\n",
       "      <td>No</td>\n",
       "      <td>Sun</td>\n",
       "      <td>Dinner</td>\n",
       "      <td>2</td>\n",
       "    </tr>\n",
       "    <tr>\n",
       "      <th>4</th>\n",
       "      <td>24.59</td>\n",
       "      <td>3.61</td>\n",
       "      <td>Female</td>\n",
       "      <td>No</td>\n",
       "      <td>Sun</td>\n",
       "      <td>Dinner</td>\n",
       "      <td>4</td>\n",
       "    </tr>\n",
       "    <tr>\n",
       "      <th>...</th>\n",
       "      <td>...</td>\n",
       "      <td>...</td>\n",
       "      <td>...</td>\n",
       "      <td>...</td>\n",
       "      <td>...</td>\n",
       "      <td>...</td>\n",
       "      <td>...</td>\n",
       "    </tr>\n",
       "    <tr>\n",
       "      <th>239</th>\n",
       "      <td>29.03</td>\n",
       "      <td>5.92</td>\n",
       "      <td>Male</td>\n",
       "      <td>No</td>\n",
       "      <td>Sat</td>\n",
       "      <td>Dinner</td>\n",
       "      <td>3</td>\n",
       "    </tr>\n",
       "    <tr>\n",
       "      <th>240</th>\n",
       "      <td>27.18</td>\n",
       "      <td>2.00</td>\n",
       "      <td>Female</td>\n",
       "      <td>Yes</td>\n",
       "      <td>Sat</td>\n",
       "      <td>Dinner</td>\n",
       "      <td>2</td>\n",
       "    </tr>\n",
       "    <tr>\n",
       "      <th>241</th>\n",
       "      <td>22.67</td>\n",
       "      <td>2.00</td>\n",
       "      <td>Male</td>\n",
       "      <td>Yes</td>\n",
       "      <td>Sat</td>\n",
       "      <td>Dinner</td>\n",
       "      <td>2</td>\n",
       "    </tr>\n",
       "    <tr>\n",
       "      <th>242</th>\n",
       "      <td>17.82</td>\n",
       "      <td>1.75</td>\n",
       "      <td>Male</td>\n",
       "      <td>No</td>\n",
       "      <td>Sat</td>\n",
       "      <td>Dinner</td>\n",
       "      <td>2</td>\n",
       "    </tr>\n",
       "    <tr>\n",
       "      <th>243</th>\n",
       "      <td>18.78</td>\n",
       "      <td>3.00</td>\n",
       "      <td>Female</td>\n",
       "      <td>No</td>\n",
       "      <td>Thur</td>\n",
       "      <td>Dinner</td>\n",
       "      <td>2</td>\n",
       "    </tr>\n",
       "  </tbody>\n",
       "</table>\n",
       "<p>244 rows × 7 columns</p>\n",
       "</div>"
      ],
      "text/plain": [
       "     total_bill   tip     sex smoker   day    time  size\n",
       "0         16.99  1.01  Female     No   Sun  Dinner     2\n",
       "1         10.34  1.66    Male     No   Sun  Dinner     3\n",
       "2         21.01  3.50    Male     No   Sun  Dinner     3\n",
       "3         23.68  3.31    Male     No   Sun  Dinner     2\n",
       "4         24.59  3.61  Female     No   Sun  Dinner     4\n",
       "..          ...   ...     ...    ...   ...     ...   ...\n",
       "239       29.03  5.92    Male     No   Sat  Dinner     3\n",
       "240       27.18  2.00  Female    Yes   Sat  Dinner     2\n",
       "241       22.67  2.00    Male    Yes   Sat  Dinner     2\n",
       "242       17.82  1.75    Male     No   Sat  Dinner     2\n",
       "243       18.78  3.00  Female     No  Thur  Dinner     2\n",
       "\n",
       "[244 rows x 7 columns]"
      ]
     },
     "execution_count": 118,
     "metadata": {},
     "output_type": "execute_result"
    }
   ],
   "source": [
    "df"
   ]
  },
  {
   "cell_type": "code",
   "execution_count": 128,
   "id": "bc6da218-3b91-49f6-83e2-db9e91f68f30",
   "metadata": {},
   "outputs": [],
   "source": [
    "corr = df[['total_bill', 'tip', 'size']].corr()"
   ]
  },
  {
   "cell_type": "code",
   "execution_count": 130,
   "id": "a1f28fcd-7e3b-4cea-9def-970060941674",
   "metadata": {},
   "outputs": [
    {
     "data": {
      "text/html": [
       "<div>\n",
       "<style scoped>\n",
       "    .dataframe tbody tr th:only-of-type {\n",
       "        vertical-align: middle;\n",
       "    }\n",
       "\n",
       "    .dataframe tbody tr th {\n",
       "        vertical-align: top;\n",
       "    }\n",
       "\n",
       "    .dataframe thead th {\n",
       "        text-align: right;\n",
       "    }\n",
       "</style>\n",
       "<table border=\"1\" class=\"dataframe\">\n",
       "  <thead>\n",
       "    <tr style=\"text-align: right;\">\n",
       "      <th></th>\n",
       "      <th>total_bill</th>\n",
       "      <th>tip</th>\n",
       "      <th>size</th>\n",
       "    </tr>\n",
       "  </thead>\n",
       "  <tbody>\n",
       "    <tr>\n",
       "      <th>total_bill</th>\n",
       "      <td>1.000000</td>\n",
       "      <td>0.675734</td>\n",
       "      <td>0.598315</td>\n",
       "    </tr>\n",
       "    <tr>\n",
       "      <th>tip</th>\n",
       "      <td>0.675734</td>\n",
       "      <td>1.000000</td>\n",
       "      <td>0.489299</td>\n",
       "    </tr>\n",
       "    <tr>\n",
       "      <th>size</th>\n",
       "      <td>0.598315</td>\n",
       "      <td>0.489299</td>\n",
       "      <td>1.000000</td>\n",
       "    </tr>\n",
       "  </tbody>\n",
       "</table>\n",
       "</div>"
      ],
      "text/plain": [
       "            total_bill       tip      size\n",
       "total_bill    1.000000  0.675734  0.598315\n",
       "tip           0.675734  1.000000  0.489299\n",
       "size          0.598315  0.489299  1.000000"
      ]
     },
     "execution_count": 130,
     "metadata": {},
     "output_type": "execute_result"
    }
   ],
   "source": [
    "corr"
   ]
  },
  {
   "cell_type": "code",
   "execution_count": 132,
   "id": "2f4f35c1-f96f-40f3-9b46-0ac1864616ad",
   "metadata": {},
   "outputs": [
    {
     "data": {
      "text/html": [
       "<div>\n",
       "<style scoped>\n",
       "    .dataframe tbody tr th:only-of-type {\n",
       "        vertical-align: middle;\n",
       "    }\n",
       "\n",
       "    .dataframe tbody tr th {\n",
       "        vertical-align: top;\n",
       "    }\n",
       "\n",
       "    .dataframe thead th {\n",
       "        text-align: right;\n",
       "    }\n",
       "</style>\n",
       "<table border=\"1\" class=\"dataframe\">\n",
       "  <thead>\n",
       "    <tr style=\"text-align: right;\">\n",
       "      <th></th>\n",
       "      <th>total_bill</th>\n",
       "      <th>tip</th>\n",
       "      <th>size</th>\n",
       "    </tr>\n",
       "  </thead>\n",
       "  <tbody>\n",
       "    <tr>\n",
       "      <th>total_bill</th>\n",
       "      <td>1.000000</td>\n",
       "      <td>0.675734</td>\n",
       "      <td>0.598315</td>\n",
       "    </tr>\n",
       "    <tr>\n",
       "      <th>tip</th>\n",
       "      <td>0.675734</td>\n",
       "      <td>1.000000</td>\n",
       "      <td>0.489299</td>\n",
       "    </tr>\n",
       "    <tr>\n",
       "      <th>size</th>\n",
       "      <td>0.598315</td>\n",
       "      <td>0.489299</td>\n",
       "      <td>1.000000</td>\n",
       "    </tr>\n",
       "  </tbody>\n",
       "</table>\n",
       "</div>"
      ],
      "text/plain": [
       "            total_bill       tip      size\n",
       "total_bill    1.000000  0.675734  0.598315\n",
       "tip           0.675734  1.000000  0.489299\n",
       "size          0.598315  0.489299  1.000000"
      ]
     },
     "execution_count": 132,
     "metadata": {},
     "output_type": "execute_result"
    }
   ],
   "source": [
    "df.corr(numeric_only=True)"
   ]
  },
  {
   "cell_type": "code",
   "execution_count": 138,
   "id": "f2b7aa23-ead4-462d-a002-5668c505dc4a",
   "metadata": {},
   "outputs": [],
   "source": [
    "## if there is one unit increase in total bill then there is 67 percent chance that the tip will change in the positive side"
   ]
  },
  {
   "cell_type": "code",
   "execution_count": 140,
   "id": "9949b90b-0c31-4c67-818d-1965c4c330a2",
   "metadata": {},
   "outputs": [
    {
     "data": {
      "text/plain": [
       "<Axes: >"
      ]
     },
     "execution_count": 140,
     "metadata": {},
     "output_type": "execute_result"
    },
    {
     "data": {
      "image/png": "[encoded data removed]",
      "text/plain": [
       "<Figure size 640x480 with 2 Axes>"
      ]
     },
     "metadata": {},
     "output_type": "display_data"
    }
   ],
   "source": [
    "sns.heatmap(corr, annot=True)"
   ]
  },
  {
   "cell_type": "code",
   "execution_count": 142,
   "id": "c87daa39-0398-4d3c-ae07-18fae091eb4e",
   "metadata": {},
   "outputs": [
    {
     "data": {
      "text/html": [
       "<div>\n",
       "<style scoped>\n",
       "    .dataframe tbody tr th:only-of-type {\n",
       "        vertical-align: middle;\n",
       "    }\n",
       "\n",
       "    .dataframe tbody tr th {\n",
       "        vertical-align: top;\n",
       "    }\n",
       "\n",
       "    .dataframe thead th {\n",
       "        text-align: right;\n",
       "    }\n",
       "</style>\n",
       "<table border=\"1\" class=\"dataframe\">\n",
       "  <thead>\n",
       "    <tr style=\"text-align: right;\">\n",
       "      <th></th>\n",
       "      <th>total_bill</th>\n",
       "      <th>tip</th>\n",
       "      <th>size</th>\n",
       "    </tr>\n",
       "  </thead>\n",
       "  <tbody>\n",
       "    <tr>\n",
       "      <th>total_bill</th>\n",
       "      <td>79.252939</td>\n",
       "      <td>8.323502</td>\n",
       "      <td>5.065983</td>\n",
       "    </tr>\n",
       "    <tr>\n",
       "      <th>tip</th>\n",
       "      <td>8.323502</td>\n",
       "      <td>1.914455</td>\n",
       "      <td>0.643906</td>\n",
       "    </tr>\n",
       "    <tr>\n",
       "      <th>size</th>\n",
       "      <td>5.065983</td>\n",
       "      <td>0.643906</td>\n",
       "      <td>0.904591</td>\n",
       "    </tr>\n",
       "  </tbody>\n",
       "</table>\n",
       "</div>"
      ],
      "text/plain": [
       "            total_bill       tip      size\n",
       "total_bill   79.252939  8.323502  5.065983\n",
       "tip           8.323502  1.914455  0.643906\n",
       "size          5.065983  0.643906  0.904591"
      ]
     },
     "execution_count": 142,
     "metadata": {},
     "output_type": "execute_result"
    }
   ],
   "source": [
    "df.cov(numeric_only=True)"
   ]
  },
  {
   "cell_type": "code",
   "execution_count": 144,
   "id": "a31fff83-7abc-41fb-ba2f-dcf3650194b2",
   "metadata": {},
   "outputs": [
    {
     "data": {
      "text/plain": [
       "<seaborn.axisgrid.PairGrid at 0x1fd6d68c920>"
      ]
     },
     "execution_count": 144,
     "metadata": {},
     "output_type": "execute_result"
    },
    {
     "data": {
      "image/png": "[encoded data removed]",
      "text/plain": [
       "<Figure size 750x750 with 12 Axes>"
      ]
     },
     "metadata": {},
     "output_type": "display_data"
    }
   ],
   "source": [
    "sns.pairplot(df)"
   ]
  },
  {
   "cell_type": "code",
   "execution_count": 146,
   "id": "feca7438-6fa4-49da-8595-96c4bab0b76c",
   "metadata": {},
   "outputs": [
    {
     "data": {
      "text/plain": [
       "<Axes: ylabel='Count'>"
      ]
     },
     "execution_count": 146,
     "metadata": {},
     "output_type": "execute_result"
    },
    {
     "data": {
      "image/png": "[encoded data removed]",
      "text/plain": [
       "<Figure size 640x480 with 1 Axes>"
      ]
     },
     "metadata": {},
     "output_type": "display_data"
    }
   ],
   "source": [
    "sns.histplot(data)"
   ]
  },
  {
   "cell_type": "code",
   "execution_count": 148,
   "id": "7101fd2c-d8b8-4b49-80fd-ca627551de0a",
   "metadata": {},
   "outputs": [
    {
     "data": {
      "text/plain": [
       "<Axes: ylabel='Count'>"
      ]
     },
     "execution_count": 148,
     "metadata": {},
     "output_type": "execute_result"
    },
    {
     "data": {
      "image/png": "[encoded data removed]",
      "text/plain": [
       "<Figure size 640x480 with 1 Axes>"
      ]
     },
     "metadata": {},
     "output_type": "display_data"
    }
   ],
   "source": [
    "sns.histplot(data, kde=True)"
   ]
  },
  {
   "cell_type": "code",
   "execution_count": 150,
   "id": "5c767689-b519-4cfb-bfbc-acca8f6d48d2",
   "metadata": {},
   "outputs": [
    {
     "data": {
      "text/plain": [
       "<Axes: xlabel='total_bill', ylabel='Count'>"
      ]
     },
     "execution_count": 150,
     "metadata": {},
     "output_type": "execute_result"
    },
    {
     "data": {
      "image/png": "[encoded data removed]",
      "text/plain": [
       "<Figure size 640x480 with 1 Axes>"
      ]
     },
     "metadata": {},
     "output_type": "display_data"
    }
   ],
   "source": [
    "sns.histplot(df['total_bill'])"
   ]
  },
  {
   "cell_type": "code",
   "execution_count": 154,
   "id": "96a6e8d2-0449-405d-a82b-9820d20ce49a",
   "metadata": {},
   "outputs": [],
   "source": [
    "data1 = np.random.normal(0.5,0.2,1000)"
   ]
  },
  {
   "cell_type": "code",
   "execution_count": 156,
   "id": "9afb48d1-c1ad-407e-a3de-c9b1ca4d6c77",
   "metadata": {},
   "outputs": [
    {
     "name": "stderr",
     "output_type": "stream",
     "text": [
      "C:\\Users\\raich\\AppData\\Local\\Temp\\ipykernel_15240\\1727590720.py:1: UserWarning: \n",
      "\n",
      "`distplot` is a deprecated function and will be removed in seaborn v0.14.0.\n",
      "\n",
      "Please adapt your code to use either `displot` (a figure-level function with\n",
      "similar flexibility) or `histplot` (an axes-level function for histograms).\n",
      "\n",
      "For a guide to updating your code to use the new functions, please see\n",
      "https://gist.github.com/mwaskom/de44147ed2974457ad6372750bbe5751\n",
      "\n",
      "  sns.distplot(data1)\n"
     ]
    },
    {
     "data": {
      "text/plain": [
       "<Axes: ylabel='Density'>"
      ]
     },
     "execution_count": 156,
     "metadata": {},
     "output_type": "execute_result"
    },
    {
     "data": {
      "image/png": "[encoded data removed]",
      "text/plain": [
       "<Figure size 640x480 with 1 Axes>"
      ]
     },
     "metadata": {},
     "output_type": "display_data"
    }
   ],
   "source": [
    "sns.distplot(data1)"
   ]
  },
  {
   "cell_type": "code",
   "execution_count": 160,
   "id": "63503f82-4d65-46a3-bf0d-c6544f4f4469",
   "metadata": {},
   "outputs": [],
   "source": [
    "population = np.random.randint(10,20,50)"
   ]
  },
  {
   "cell_type": "code",
   "execution_count": 162,
   "id": "c6b8835c-c4f9-47ec-859e-da08c58bb057",
   "metadata": {},
   "outputs": [
    {
     "data": {
      "text/plain": [
       "50"
      ]
     },
     "execution_count": 162,
     "metadata": {},
     "output_type": "execute_result"
    }
   ],
   "source": [
    "len(population)"
   ]
  },
  {
   "cell_type": "code",
   "execution_count": 164,
   "id": "e182a954-9758-4732-9753-6bfb001c6804",
   "metadata": {},
   "outputs": [
    {
     "data": {
      "text/plain": [
       "11"
      ]
     },
     "execution_count": 164,
     "metadata": {},
     "output_type": "execute_result"
    }
   ],
   "source": [
    "statistics.mode(population)"
   ]
  },
  {
   "cell_type": "code",
   "execution_count": 166,
   "id": "42c4bbde-4966-4459-ae72-14d6ebef1e88",
   "metadata": {},
   "outputs": [
    {
     "data": {
      "text/plain": [
       "14.28"
      ]
     },
     "execution_count": 166,
     "metadata": {},
     "output_type": "execute_result"
    }
   ],
   "source": [
    "np.mean(population)"
   ]
  },
  {
   "cell_type": "code",
   "execution_count": 168,
   "id": "2549a297-c778-4ba5-be28-491cdfaafab7",
   "metadata": {},
   "outputs": [],
   "source": [
    "sample1 = np.random.choice(population,20)"
   ]
  },
  {
   "cell_type": "code",
   "execution_count": 170,
   "id": "1c8d29c2-a8e6-4799-8c23-e99659dfb769",
   "metadata": {},
   "outputs": [
    {
     "data": {
      "text/plain": [
       "array([17, 13, 18, 16, 11, 11, 14, 16, 14, 19, 11, 11, 16, 16, 10, 11, 14,\n",
       "       16, 11, 18])"
      ]
     },
     "execution_count": 170,
     "metadata": {},
     "output_type": "execute_result"
    }
   ],
   "source": [
    "sample1"
   ]
  },
  {
   "cell_type": "code",
   "execution_count": 172,
   "id": "a65193ad-f732-4833-9a02-26d89e4fb511",
   "metadata": {},
   "outputs": [],
   "source": [
    "sample2 = np.random.choice(population, 20)"
   ]
  },
  {
   "cell_type": "code",
   "execution_count": 174,
   "id": "c79c7fd5-9349-401e-80ef-388de9524555",
   "metadata": {},
   "outputs": [
    {
     "data": {
      "text/plain": [
       "array([10, 10, 12, 11, 10, 16, 11, 12, 11, 10, 13, 12, 11, 18, 16, 12, 12,\n",
       "       14, 10, 14])"
      ]
     },
     "execution_count": 174,
     "metadata": {},
     "output_type": "execute_result"
    }
   ],
   "source": [
    "sample2"
   ]
  },
  {
   "cell_type": "code",
   "execution_count": 176,
   "id": "3d68be1d-318e-4e19-a2c1-ee006cfc1cc9",
   "metadata": {},
   "outputs": [],
   "source": [
    "sample3 = np.random.choice(population, 20)"
   ]
  },
  {
   "cell_type": "code",
   "execution_count": 178,
   "id": "8ca2c224-5daa-4a96-8e4f-f24f70bc4629",
   "metadata": {},
   "outputs": [],
   "source": [
    "sample4 = np.random.choice(population, 20)"
   ]
  },
  {
   "cell_type": "code",
   "execution_count": 180,
   "id": "81bccd37-2740-4548-84fe-3b9b5aad8e0d",
   "metadata": {},
   "outputs": [
    {
     "data": {
      "text/plain": [
       "array([16, 11, 11, 13, 16, 11, 15, 11, 18, 11, 15, 17, 14, 11, 13, 12, 16,\n",
       "       11, 19, 19])"
      ]
     },
     "execution_count": 180,
     "metadata": {},
     "output_type": "execute_result"
    }
   ],
   "source": [
    "sample3"
   ]
  },
  {
   "cell_type": "code",
   "execution_count": 182,
   "id": "5b7c8614-e6c2-443d-9b41-3efd4fe5055b",
   "metadata": {},
   "outputs": [
    {
     "data": {
      "text/plain": [
       "array([10, 15, 15, 10, 11, 18, 11, 16, 16, 11, 16, 11, 14, 16, 10, 11, 14,\n",
       "       10, 11, 19])"
      ]
     },
     "execution_count": 182,
     "metadata": {},
     "output_type": "execute_result"
    }
   ],
   "source": [
    "sample4"
   ]
  },
  {
   "cell_type": "code",
   "execution_count": 186,
   "id": "fce64d2a-7b1d-4af0-8a46-2678e9dee00d",
   "metadata": {},
   "outputs": [],
   "source": [
    "mean_of_samples = []\n",
    "\n",
    "all_samples = [sample1,sample2,sample3,sample4]\n",
    "\n",
    "for i in all_samples :\n",
    "    mean_of_samples.append(np.mean(i))"
   ]
  },
  {
   "cell_type": "code",
   "execution_count": 189,
   "id": "dfd08210-154a-4709-a588-b22d46fcaa74",
   "metadata": {},
   "outputs": [
    {
     "data": {
      "text/plain": [
       "[14.15, 12.25, 14.0, 13.25]"
      ]
     },
     "execution_count": 189,
     "metadata": {},
     "output_type": "execute_result"
    }
   ],
   "source": [
    "mean_of_samples"
   ]
  },
  {
   "cell_type": "code",
   "execution_count": null,
   "id": "9ac4d0dd-8b2c-45b3-acae-80ea8adab004",
   "metadata": {},
   "outputs": [],
   "source": []
  },
  {
   "cell_type": "markdown",
   "id": "114352e5-0023-43a8-9b05-3ca70d2308bb",
   "metadata": {},
   "source": [
    "##### Central Limit Theorm >> For any distribution, the sample mean will be approximated to normal distribution given sample size is greater that or equal to  30 and number of samples should be sufficiently large"
   ]
  },
  {
   "cell_type": "code",
   "execution_count": 201,
   "id": "c8ccd257-f7dd-4ee1-b677-2aeb3130fd82",
   "metadata": {},
   "outputs": [],
   "source": [
    "## Binomial Distribution"
   ]
  },
  {
   "cell_type": "code",
   "execution_count": 195,
   "id": "8377a58b-1069-48d0-94de-3956043f8398",
   "metadata": {},
   "outputs": [],
   "source": [
    "population = np.random.binomial(10, 0.5, 10000)"
   ]
  },
  {
   "cell_type": "code",
   "execution_count": 197,
   "id": "cee2020b-e55c-4d76-b470-254b9e44510e",
   "metadata": {},
   "outputs": [
    {
     "data": {
      "text/plain": [
       "array([1, 6, 7, ..., 4, 5, 4])"
      ]
     },
     "execution_count": 197,
     "metadata": {},
     "output_type": "execute_result"
    }
   ],
   "source": [
    "population"
   ]
  },
  {
   "cell_type": "code",
   "execution_count": 199,
   "id": "1d84a1fd-f14f-46ae-a903-0d86bd8e2e8e",
   "metadata": {},
   "outputs": [
    {
     "name": "stderr",
     "output_type": "stream",
     "text": [
      "C:\\Users\\raich\\AppData\\Local\\Temp\\ipykernel_15240\\2958836585.py:1: UserWarning: \n",
      "\n",
      "`distplot` is a deprecated function and will be removed in seaborn v0.14.0.\n",
      "\n",
      "Please adapt your code to use either `displot` (a figure-level function with\n",
      "similar flexibility) or `histplot` (an axes-level function for histograms).\n",
      "\n",
      "For a guide to updating your code to use the new functions, please see\n",
      "https://gist.github.com/mwaskom/de44147ed2974457ad6372750bbe5751\n",
      "\n",
      "  sns.distplot(population)\n"
     ]
    },
    {
     "data": {
      "text/plain": [
       "<Axes: ylabel='Density'>"
      ]
     },
     "execution_count": 199,
     "metadata": {},
     "output_type": "execute_result"
    },
    {
     "data": {
      "image/png": "[encoded data removed]",
      "text/plain": [
       "<Figure size 640x480 with 1 Axes>"
      ]
     },
     "metadata": {},
     "output_type": "display_data"
    }
   ],
   "source": [
    "sns.distplot(population)"
   ]
  },
  {
   "cell_type": "code",
   "execution_count": 204,
   "id": "65454cbc-012b-495d-8e5c-4a51703acd00",
   "metadata": {},
   "outputs": [],
   "source": [
    "sample_size = 3000\n",
    "\n",
    "mean_of_sample = []\n",
    "\n",
    "\n",
    "for i in range(1,10000) :\n",
    "    sample = np.random.choice(population, size = sample_size)\n",
    "    mean_of_sample.append(np.mean(sample))"
   ]
  },
  {
   "cell_type": "code",
   "execution_count": 206,
   "id": "5db44bc9-b85f-4a64-89a7-819bd4cd7fc5",
   "metadata": {},
   "outputs": [
    {
     "data": {
      "text/plain": [
       "[4.995,\n",
       " 4.983,\n",
       " 4.977666666666667,\n",
       " 4.990333333333333,\n",
       " 5.008,\n",
       " 4.971,\n",
       " 4.9783333333333335,\n",
       " 4.969,\n",
       " 5.054,\n",
       " 5.016666666666667,\n",
       " 4.948666666666667,\n",
       " 5.046,\n",
       " 5.0343333333333335,\n",
       " 5.007666666666666,\n",
       " 4.957,\n",
       " 5.029333333333334,\n",
       " 4.975333333333333,\n",
       " 5.000333333333334,\n",
       " 4.990666666666667,\n",
       " 5.001666666666667,\n",
       " 4.996333333333333,\n",
       " 5.025,\n",
       " 4.985666666666667,\n",
       " 4.972333333333333,\n",
       " 5.023,\n",
       " 5.003,\n",
       " 4.977,\n",
       " 5.038333333333333,\n",
       " 4.968,\n",
       " 4.976666666666667,\n",
       " 5.059666666666667,\n",
       " 4.976,\n",
       " 5.024,\n",
       " 4.944,\n",
       " 4.985,\n",
       " 4.985,\n",
       " 4.957666666666666,\n",
       " 4.972,\n",
       " 4.968666666666667,\n",
       " 4.983333333333333,\n",
       " 5.003,\n",
       " 5.003333333333333,\n",
       " 4.991333333333333,\n",
       " 5.023666666666666,\n",
       " 5.0023333333333335,\n",
       " 5.015333333333333,\n",
       " 5.009,\n",
       " 4.939333333333333,\n",
       " 4.9976666666666665,\n",
       " 5.001333333333333,\n",
       " 4.949666666666666,\n",
       " 4.937666666666667,\n",
       " 5.004333333333333,\n",
       " 4.98,\n",
       " 4.97,\n",
       " 5.011,\n",
       " 4.972,\n",
       " 5.013333333333334,\n",
       " 4.996666666666667,\n",
       " 4.975,\n",
       " 4.9863333333333335,\n",
       " 5.008666666666667,\n",
       " 5.020333333333333,\n",
       " 5.011666666666667,\n",
       " 4.992,\n",
       " 5.040333333333334,\n",
       " 5.047,\n",
       " 4.980666666666667,\n",
       " 4.988,\n",
       " 5.009333333333333,\n",
       " 5.006666666666667,\n",
       " 5.010666666666666,\n",
       " 5.004333333333333,\n",
       " 4.9976666666666665,\n",
       " 4.985333333333333,\n",
       " 5.039,\n",
       " 5.008,\n",
       " 4.993333333333333,\n",
       " 4.99,\n",
       " 4.965,\n",
       " 4.980666666666667,\n",
       " 4.977333333333333,\n",
       " 4.971,\n",
       " 5.016,\n",
       " 4.990333333333333,\n",
       " 4.955333333333333,\n",
       " 5.044333333333333,\n",
       " 5.001666666666667,\n",
       " 5.031,\n",
       " 4.978666666666666,\n",
       " 4.993666666666667,\n",
       " 4.986666666666666,\n",
       " 5.0136666666666665,\n",
       " 4.983333333333333,\n",
       " 5.000333333333334,\n",
       " 5.0056666666666665,\n",
       " 4.982333333333333,\n",
       " 4.9463333333333335,\n",
       " 5.002666666666666,\n",
       " 4.988666666666667,\n",
       " 4.967,\n",
       " 4.993666666666667,\n",
       " 5.040666666666667,\n",
       " 5.015333333333333,\n",
       " 4.979333333333333,\n",
       " 5.008,\n",
       " 5.021,\n",
       " 4.983,\n",
       " 5.03,\n",
       " 4.984,\n",
       " 5.004333333333333,\n",
       " 4.950333333333333,\n",
       " 4.995,\n",
       " 4.974666666666667,\n",
       " 4.97,\n",
       " 4.951333333333333,\n",
       " 5.008666666666667,\n",
       " 5.054666666666667,\n",
       " 4.971333333333333,\n",
       " 5.015333333333333,\n",
       " 4.992,\n",
       " 4.975,\n",
       " 4.959333333333333,\n",
       " 5.004,\n",
       " 5.038333333333333,\n",
       " 4.967333333333333,\n",
       " 5.016,\n",
       " 4.989333333333334,\n",
       " 5.030333333333333,\n",
       " 4.985333333333333,\n",
       " 4.943,\n",
       " 5.020666666666667,\n",
       " 5.0376666666666665,\n",
       " 4.995666666666667,\n",
       " 5.034,\n",
       " 4.976333333333334,\n",
       " 5.014666666666667,\n",
       " 5.0263333333333335,\n",
       " 5.028333333333333,\n",
       " 5.005333333333334,\n",
       " 5.029333333333334,\n",
       " 5.017666666666667,\n",
       " 4.955,\n",
       " 4.997,\n",
       " 5.009333333333333,\n",
       " 4.940666666666667,\n",
       " 5.044,\n",
       " 4.940666666666667,\n",
       " 4.934666666666667,\n",
       " 5.009333333333333,\n",
       " 5.011333333333333,\n",
       " 5.001,\n",
       " 5.048,\n",
       " 5.003,\n",
       " 4.976,\n",
       " 4.996,\n",
       " 4.960333333333334,\n",
       " 5.034666666666666,\n",
       " 4.998666666666667,\n",
       " 4.984,\n",
       " 5.01,\n",
       " 4.98,\n",
       " 4.991333333333333,\n",
       " 5.008333333333334,\n",
       " 5.029333333333334,\n",
       " 5.004333333333333,\n",
       " 4.989,\n",
       " 4.987333333333333,\n",
       " 4.9816666666666665,\n",
       " 4.980333333333333,\n",
       " 4.991666666666666,\n",
       " 4.970666666666666,\n",
       " 4.979,\n",
       " 4.9816666666666665,\n",
       " 4.961666666666667,\n",
       " 5.046,\n",
       " 4.944,\n",
       " 4.973333333333334,\n",
       " 5.054,\n",
       " 4.957666666666666,\n",
       " 5.023333333333333,\n",
       " 5.018,\n",
       " 5.025333333333333,\n",
       " 4.944,\n",
       " 5.017,\n",
       " 5.034666666666666,\n",
       " 4.956333333333333,\n",
       " 4.992,\n",
       " 5.030666666666667,\n",
       " 5.045333333333334,\n",
       " 4.975666666666666,\n",
       " 4.961,\n",
       " 4.997333333333334,\n",
       " 5.035333333333333,\n",
       " 5.044333333333333,\n",
       " 5.041666666666667,\n",
       " 4.9736666666666665,\n",
       " 4.9943333333333335,\n",
       " 5.043,\n",
       " 5.009333333333333,\n",
       " 4.989,\n",
       " 5.061,\n",
       " 5.044333333333333,\n",
       " 4.995,\n",
       " 4.9863333333333335,\n",
       " 5.014666666666667,\n",
       " 5.0,\n",
       " 5.001666666666667,\n",
       " 5.023666666666666,\n",
       " 4.99,\n",
       " 4.968333333333334,\n",
       " 4.968333333333334,\n",
       " 5.018,\n",
       " 5.004333333333333,\n",
       " 5.016333333333334,\n",
       " 4.966,\n",
       " 4.962,\n",
       " 4.958,\n",
       " 4.985333333333333,\n",
       " 5.004,\n",
       " 5.007666666666666,\n",
       " 4.957,\n",
       " 5.037,\n",
       " 4.968666666666667,\n",
       " 4.991,\n",
       " 4.9736666666666665,\n",
       " 5.024666666666667,\n",
       " 4.994,\n",
       " 4.975666666666666,\n",
       " 4.981333333333334,\n",
       " 4.996666666666667,\n",
       " 4.966666666666667,\n",
       " 5.001666666666667,\n",
       " 4.9656666666666665,\n",
       " 5.082666666666666,\n",
       " 4.963666666666667,\n",
       " 5.02,\n",
       " 4.945,\n",
       " 4.983,\n",
       " 5.0263333333333335,\n",
       " 5.010666666666666,\n",
       " 5.035666666666667,\n",
       " 5.067666666666667,\n",
       " 4.996333333333333,\n",
       " 4.983333333333333,\n",
       " 5.019,\n",
       " 4.945666666666667,\n",
       " 4.938,\n",
       " 4.993666666666667,\n",
       " 4.995,\n",
       " 4.983,\n",
       " 4.974333333333333,\n",
       " 4.983,\n",
       " 4.958666666666667,\n",
       " 4.998666666666667,\n",
       " 5.020666666666667,\n",
       " 4.961,\n",
       " 4.986,\n",
       " 5.017,\n",
       " 5.0553333333333335,\n",
       " 5.011,\n",
       " 4.997,\n",
       " 4.987,\n",
       " 5.014333333333333,\n",
       " 4.962,\n",
       " 4.955,\n",
       " 5.004,\n",
       " 5.06,\n",
       " 4.981333333333334,\n",
       " 4.969333333333333,\n",
       " 5.014333333333333,\n",
       " 4.987333333333333,\n",
       " 5.030333333333333,\n",
       " 5.002666666666666,\n",
       " 4.987666666666667,\n",
       " 4.982666666666667,\n",
       " 4.980666666666667,\n",
       " 5.004333333333333,\n",
       " 5.026,\n",
       " 4.995333333333333,\n",
       " 5.012,\n",
       " 5.025,\n",
       " 4.996333333333333,\n",
       " 5.028666666666667,\n",
       " 5.025,\n",
       " 5.011333333333333,\n",
       " 4.9896666666666665,\n",
       " 5.048666666666667,\n",
       " 4.993666666666667,\n",
       " 4.994666666666666,\n",
       " 5.001666666666667,\n",
       " 5.073333333333333,\n",
       " 4.997,\n",
       " 4.9896666666666665,\n",
       " 4.959333333333333,\n",
       " 5.016333333333334,\n",
       " 5.032333333333334,\n",
       " 5.039,\n",
       " 4.983,\n",
       " 5.000666666666667,\n",
       " 4.993,\n",
       " 5.012666666666667,\n",
       " 5.006333333333333,\n",
       " 4.988666666666667,\n",
       " 5.019666666666667,\n",
       " 5.039333333333333,\n",
       " 5.002666666666666,\n",
       " 4.942,\n",
       " 4.977,\n",
       " 4.958666666666667,\n",
       " 5.028333333333333,\n",
       " 5.017,\n",
       " 5.01,\n",
       " 4.9703333333333335,\n",
       " 4.981333333333334,\n",
       " 5.033666666666667,\n",
       " 5.000333333333334,\n",
       " 5.016333333333334,\n",
       " 4.975666666666666,\n",
       " 5.065,\n",
       " 5.014333333333333,\n",
       " 5.000333333333334,\n",
       " 5.014333333333333,\n",
       " 4.990666666666667,\n",
       " 4.986666666666666,\n",
       " 4.984,\n",
       " 5.020333333333333,\n",
       " 4.970666666666666,\n",
       " 4.985,\n",
       " 4.997,\n",
       " 5.009333333333333,\n",
       " 5.016,\n",
       " 4.973333333333334,\n",
       " 5.008,\n",
       " 5.062666666666667,\n",
       " 4.992666666666667,\n",
       " 4.960333333333334,\n",
       " 4.9816666666666665,\n",
       " 5.014666666666667,\n",
       " 5.040666666666667,\n",
       " 5.002666666666666,\n",
       " 4.973333333333334,\n",
       " 5.062,\n",
       " 4.959,\n",
       " 5.010666666666666,\n",
       " 4.956666666666667,\n",
       " 4.991666666666666,\n",
       " 5.0023333333333335,\n",
       " 5.003,\n",
       " 4.984666666666667,\n",
       " 4.994666666666666,\n",
       " 4.9976666666666665,\n",
       " 4.984666666666667,\n",
       " 5.0136666666666665,\n",
       " 5.026666666666666,\n",
       " 5.006666666666667,\n",
       " 5.004333333333333,\n",
       " 5.011,\n",
       " 5.009666666666667,\n",
       " 4.941,\n",
       " 4.9943333333333335,\n",
       " 5.037,\n",
       " 4.985,\n",
       " 4.973,\n",
       " 5.025,\n",
       " 4.963,\n",
       " 5.0296666666666665,\n",
       " 4.995,\n",
       " 4.983666666666666,\n",
       " 5.027666666666667,\n",
       " 4.983,\n",
       " 5.019666666666667,\n",
       " 5.010666666666666,\n",
       " 5.040666666666667,\n",
       " 5.044666666666667,\n",
       " 4.992,\n",
       " 5.005333333333334,\n",
       " 4.933,\n",
       " 5.008,\n",
       " 4.981333333333334,\n",
       " 5.003333333333333,\n",
       " 5.0103333333333335,\n",
       " 4.971666666666667,\n",
       " 5.041,\n",
       " 4.995333333333333,\n",
       " 5.001,\n",
       " 4.957333333333334,\n",
       " 4.987666666666667,\n",
       " 4.993666666666667,\n",
       " 5.031,\n",
       " 4.977,\n",
       " 4.9943333333333335,\n",
       " 5.020333333333333,\n",
       " 4.954666666666666,\n",
       " 5.017,\n",
       " 4.965,\n",
       " 5.001,\n",
       " 5.001666666666667,\n",
       " 5.001666666666667,\n",
       " 5.005333333333334,\n",
       " 5.041333333333333,\n",
       " 4.976,\n",
       " 4.991666666666666,\n",
       " 4.982333333333333,\n",
       " 4.987666666666667,\n",
       " 4.986,\n",
       " 4.9976666666666665,\n",
       " 4.995,\n",
       " 4.9896666666666665,\n",
       " 4.972333333333333,\n",
       " 4.981,\n",
       " 5.0376666666666665,\n",
       " 5.005333333333334,\n",
       " 5.001,\n",
       " 5.0216666666666665,\n",
       " 4.989333333333334,\n",
       " 5.035666666666667,\n",
       " 4.988,\n",
       " 5.0056666666666665,\n",
       " 5.0473333333333334,\n",
       " 5.043,\n",
       " 5.035333333333333,\n",
       " 4.951,\n",
       " 5.004,\n",
       " 5.007666666666666,\n",
       " 4.997,\n",
       " 4.986666666666666,\n",
       " 4.968333333333334,\n",
       " 4.999333333333333,\n",
       " 4.996666666666667,\n",
       " 4.964,\n",
       " 5.021,\n",
       " 5.003,\n",
       " 4.988,\n",
       " 4.982,\n",
       " 5.0183333333333335,\n",
       " 4.961333333333333,\n",
       " 4.982666666666667,\n",
       " 4.975666666666666,\n",
       " 5.039666666666666,\n",
       " 4.982,\n",
       " 4.980333333333333,\n",
       " 5.046,\n",
       " 4.949666666666666,\n",
       " 4.986,\n",
       " 4.976666666666667,\n",
       " 5.000666666666667,\n",
       " 4.963,\n",
       " 4.977666666666667,\n",
       " 4.9783333333333335,\n",
       " 5.057,\n",
       " 4.945666666666667,\n",
       " 5.020333333333333,\n",
       " 5.016666666666667,\n",
       " 5.024,\n",
       " 5.02,\n",
       " 4.985666666666667,\n",
       " 5.040333333333334,\n",
       " 4.968666666666667,\n",
       " 4.964,\n",
       " 4.954,\n",
       " 4.983,\n",
       " 4.971666666666667,\n",
       " 5.025,\n",
       " 5.001666666666667,\n",
       " 4.963,\n",
       " 4.977333333333333,\n",
       " 5.006333333333333,\n",
       " 5.015333333333333,\n",
       " 4.979666666666667,\n",
       " 5.039,\n",
       " 4.977,\n",
       " 4.989333333333334,\n",
       " 5.012,\n",
       " 4.976,\n",
       " 4.988666666666667,\n",
       " 5.009333333333333,\n",
       " 4.9896666666666665,\n",
       " 4.9656666666666665,\n",
       " 4.992333333333334,\n",
       " 4.995,\n",
       " 4.989333333333334,\n",
       " 4.999333333333333,\n",
       " 5.027,\n",
       " 4.978666666666666,\n",
       " 4.992333333333334,\n",
       " 5.011333333333333,\n",
       " 5.007666666666666,\n",
       " 5.041,\n",
       " 5.020666666666667,\n",
       " 5.016,\n",
       " 4.982333333333333,\n",
       " 5.016333333333334,\n",
       " 5.001,\n",
       " 5.007333333333333,\n",
       " 4.988333333333333,\n",
       " 5.028333333333333,\n",
       " 4.966666666666667,\n",
       " 4.99,\n",
       " 4.975666666666666,\n",
       " 4.981333333333334,\n",
       " 4.965333333333334,\n",
       " 4.988333333333333,\n",
       " 4.938666666666666,\n",
       " 5.020666666666667,\n",
       " 5.004333333333333,\n",
       " 4.9976666666666665,\n",
       " 4.984,\n",
       " 4.974666666666667,\n",
       " 4.973,\n",
       " 5.018666666666666,\n",
       " 4.978666666666666,\n",
       " 5.012666666666667,\n",
       " 4.980666666666667,\n",
       " 4.995666666666667,\n",
       " 5.018666666666666,\n",
       " 4.987666666666667,\n",
       " 4.980666666666667,\n",
       " 5.041666666666667,\n",
       " 5.000333333333334,\n",
       " 4.989,\n",
       " 4.996333333333333,\n",
       " 4.961666666666667,\n",
       " 5.012666666666667,\n",
       " 4.975666666666666,\n",
       " 4.960666666666667,\n",
       " 5.040666666666667,\n",
       " 4.960666666666667,\n",
       " 5.0216666666666665,\n",
       " 5.0296666666666665,\n",
       " 4.990333333333333,\n",
       " 4.980666666666667,\n",
       " 5.0103333333333335,\n",
       " 4.984666666666667,\n",
       " 4.991666666666666,\n",
       " 4.9736666666666665,\n",
       " 4.925333333333334,\n",
       " 4.995666666666667,\n",
       " 5.034666666666666,\n",
       " 5.024666666666667,\n",
       " 5.001,\n",
       " 5.042333333333334,\n",
       " 5.012666666666667,\n",
       " 4.982333333333333,\n",
       " 4.979666666666667,\n",
       " 5.019333333333333,\n",
       " 4.969333333333333,\n",
       " 4.975,\n",
       " 4.979666666666667,\n",
       " 4.95,\n",
       " 4.995666666666667,\n",
       " 4.994,\n",
       " 5.000333333333334,\n",
       " 4.967666666666666,\n",
       " 4.937666666666667,\n",
       " 4.9526666666666666,\n",
       " 4.97,\n",
       " 5.002666666666666,\n",
       " 5.076,\n",
       " 4.9656666666666665,\n",
       " 4.964333333333333,\n",
       " 5.044,\n",
       " 4.957333333333334,\n",
       " 4.985,\n",
       " 4.988666666666667,\n",
       " 4.947333333333333,\n",
       " 5.0183333333333335,\n",
       " 4.968333333333334,\n",
       " 5.003333333333333,\n",
       " 4.983,\n",
       " 5.005333333333334,\n",
       " 4.984666666666667,\n",
       " 5.027,\n",
       " 5.005,\n",
       " 5.017333333333333,\n",
       " 4.984666666666667,\n",
       " 4.931666666666667,\n",
       " 4.955333333333333,\n",
       " 5.019666666666667,\n",
       " 5.008,\n",
       " 4.991333333333333,\n",
       " 5.068,\n",
       " 5.028333333333333,\n",
       " 5.030333333333333,\n",
       " 5.02,\n",
       " 4.962,\n",
       " 4.992333333333334,\n",
       " 5.025,\n",
       " 4.9943333333333335,\n",
       " 4.977,\n",
       " 4.993333333333333,\n",
       " 4.999333333333333,\n",
       " 4.999,\n",
       " 5.045333333333334,\n",
       " 5.020333333333333,\n",
       " 4.956333333333333,\n",
       " 5.015333333333333,\n",
       " 5.003666666666667,\n",
       " 5.011,\n",
       " 5.009,\n",
       " 4.974333333333333,\n",
       " 5.046333333333333,\n",
       " 5.0296666666666665,\n",
       " 5.026666666666666,\n",
       " 4.9816666666666665,\n",
       " 4.976333333333334,\n",
       " 5.0263333333333335,\n",
       " 4.9943333333333335,\n",
       " 5.005,\n",
       " 4.983,\n",
       " 5.001,\n",
       " 5.004333333333333,\n",
       " 5.045333333333334,\n",
       " 4.968666666666667,\n",
       " 4.997333333333334,\n",
       " 4.995,\n",
       " 4.987333333333333,\n",
       " 4.969666666666667,\n",
       " 5.065333333333333,\n",
       " 5.000666666666667,\n",
       " 4.982,\n",
       " 5.015333333333333,\n",
       " 5.011333333333333,\n",
       " 5.005333333333334,\n",
       " 5.022,\n",
       " 5.009666666666667,\n",
       " 4.977333333333333,\n",
       " 5.058333333333334,\n",
       " 4.963666666666667,\n",
       " 4.968,\n",
       " 4.995666666666667,\n",
       " 4.971333333333333,\n",
       " 4.975666666666666,\n",
       " 5.008333333333334,\n",
       " 5.0103333333333335,\n",
       " 5.007333333333333,\n",
       " 4.982,\n",
       " 4.973,\n",
       " 4.972666666666667,\n",
       " 5.0216666666666665,\n",
       " 4.987,\n",
       " 4.943333333333333,\n",
       " 5.025,\n",
       " 5.005,\n",
       " 4.999666666666666,\n",
       " 4.990333333333333,\n",
       " 5.022666666666667,\n",
       " 4.992,\n",
       " 5.006,\n",
       " 5.000666666666667,\n",
       " 4.999333333333333,\n",
       " 5.024,\n",
       " 5.009666666666667,\n",
       " 5.073,\n",
       " 4.983666666666666,\n",
       " 4.972333333333333,\n",
       " 4.971666666666667,\n",
       " 4.987333333333333,\n",
       " 5.012,\n",
       " 5.037333333333334,\n",
       " 5.004666666666667,\n",
       " 5.011333333333333,\n",
       " 5.0056666666666665,\n",
       " 4.969,\n",
       " 4.999666666666666,\n",
       " 4.949333333333334,\n",
       " 5.0183333333333335,\n",
       " 5.017666666666667,\n",
       " 4.977,\n",
       " 5.062,\n",
       " 5.041,\n",
       " 4.989,\n",
       " 4.9896666666666665,\n",
       " 4.992666666666667,\n",
       " 4.966,\n",
       " 5.000666666666667,\n",
       " 5.029,\n",
       " 4.9976666666666665,\n",
       " 4.985333333333333,\n",
       " 5.033333333333333,\n",
       " 5.011333333333333,\n",
       " 5.016,\n",
       " 5.021333333333334,\n",
       " 5.035333333333333,\n",
       " 4.984,\n",
       " 5.004333333333333,\n",
       " 4.968,\n",
       " 4.9,\n",
       " 5.002,\n",
       " 4.983666666666666,\n",
       " 4.996,\n",
       " 4.985333333333333,\n",
       " 4.976333333333334,\n",
       " 4.998333333333333,\n",
       " 4.944,\n",
       " 5.020333333333333,\n",
       " 4.999,\n",
       " 5.019333333333333,\n",
       " 4.988666666666667,\n",
       " 4.968333333333334,\n",
       " 4.967666666666666,\n",
       " 4.96,\n",
       " 5.0183333333333335,\n",
       " 5.029333333333334,\n",
       " 5.006333333333333,\n",
       " 4.997,\n",
       " 5.012666666666667,\n",
       " 5.012333333333333,\n",
       " 4.986,\n",
       " 4.968333333333334,\n",
       " 4.946,\n",
       " 4.992666666666667,\n",
       " 4.999,\n",
       " 4.9623333333333335,\n",
       " 5.055,\n",
       " 5.036666666666667,\n",
       " 5.038,\n",
       " 4.983333333333333,\n",
       " 4.962666666666666,\n",
       " 4.987333333333333,\n",
       " 4.9976666666666665,\n",
       " 4.951666666666667,\n",
       " 4.9703333333333335,\n",
       " 5.034666666666666,\n",
       " 4.994,\n",
       " 4.958333333333333,\n",
       " 4.969666666666667,\n",
       " 4.9976666666666665,\n",
       " 5.014,\n",
       " 5.02,\n",
       " 5.009666666666667,\n",
       " 5.063666666666666,\n",
       " 5.0023333333333335,\n",
       " 5.0183333333333335,\n",
       " 5.032333333333334,\n",
       " 4.954,\n",
       " 4.9736666666666665,\n",
       " 5.028,\n",
       " 4.933,\n",
       " 5.0296666666666665,\n",
       " 5.025666666666667,\n",
       " 4.979666666666667,\n",
       " 4.976666666666667,\n",
       " 5.02,\n",
       " 4.966666666666667,\n",
       " 4.976,\n",
       " 4.992666666666667,\n",
       " 4.999,\n",
       " 4.970666666666666,\n",
       " 4.994666666666666,\n",
       " 4.974666666666667,\n",
       " 5.014666666666667,\n",
       " 4.947333333333333,\n",
       " 4.991,\n",
       " 5.019666666666667,\n",
       " 4.967666666666666,\n",
       " 4.976666666666667,\n",
       " 4.985,\n",
       " 4.995333333333333,\n",
       " 4.967333333333333,\n",
       " 5.017,\n",
       " 5.016333333333334,\n",
       " 5.018666666666666,\n",
       " 4.9976666666666665,\n",
       " 5.048,\n",
       " 5.02,\n",
       " 5.045,\n",
       " 5.009333333333333,\n",
       " 4.949333333333334,\n",
       " 5.016666666666667,\n",
       " 4.988666666666667,\n",
       " 5.0023333333333335,\n",
       " 4.982333333333333,\n",
       " 5.052333333333333,\n",
       " 4.995333333333333,\n",
       " 5.016,\n",
       " 5.109666666666667,\n",
       " 5.020666666666667,\n",
       " 4.979,\n",
       " 5.030666666666667,\n",
       " 4.991666666666666,\n",
       " 4.994,\n",
       " 5.031333333333333,\n",
       " 4.998,\n",
       " 4.98,\n",
       " 4.940666666666667,\n",
       " 4.976666666666667,\n",
       " 4.993666666666667,\n",
       " 4.996,\n",
       " 4.980666666666667,\n",
       " 4.989,\n",
       " 4.982333333333333,\n",
       " 4.9656666666666665,\n",
       " 4.976333333333334,\n",
       " 4.959,\n",
       " 4.994,\n",
       " 4.9816666666666665,\n",
       " 4.977666666666667,\n",
       " 4.996,\n",
       " 5.035,\n",
       " 5.044,\n",
       " 4.988666666666667,\n",
       " 5.041666666666667,\n",
       " 5.012,\n",
       " 5.019666666666667,\n",
       " 5.023666666666666,\n",
       " 4.9976666666666665,\n",
       " 5.039333333333333,\n",
       " 4.992333333333334,\n",
       " 5.02,\n",
       " 4.965333333333334,\n",
       " 5.019,\n",
       " 4.964666666666667,\n",
       " 4.974666666666667,\n",
       " 5.0023333333333335,\n",
       " 5.034,\n",
       " 4.972333333333333,\n",
       " 5.062,\n",
       " 5.014666666666667,\n",
       " 5.001333333333333,\n",
       " 5.031666666666666,\n",
       " 5.016666666666667,\n",
       " 4.966666666666667,\n",
       " 5.021,\n",
       " 4.977,\n",
       " 4.995666666666667,\n",
       " 4.978666666666666,\n",
       " 5.02,\n",
       " 4.956333333333333,\n",
       " 4.965,\n",
       " 4.990333333333333,\n",
       " 4.953333333333333,\n",
       " 4.991333333333333,\n",
       " 4.966666666666667,\n",
       " 5.0103333333333335,\n",
       " 5.024333333333334,\n",
       " 4.983666666666666,\n",
       " 5.0,\n",
       " 4.968,\n",
       " 5.012666666666667,\n",
       " 4.990333333333333,\n",
       " 4.9703333333333335,\n",
       " 5.021333333333334,\n",
       " 5.039,\n",
       " 5.058,\n",
       " 5.0263333333333335,\n",
       " 4.975,\n",
       " 4.974666666666667,\n",
       " 4.942666666666667,\n",
       " 5.041,\n",
       " 5.014,\n",
       " 5.011,\n",
       " 4.9976666666666665,\n",
       " 4.982333333333333,\n",
       " 5.014333333333333,\n",
       " 4.987666666666667,\n",
       " 5.023666666666666,\n",
       " 4.998666666666667,\n",
       " 4.995333333333333,\n",
       " 4.995333333333333,\n",
       " 5.007,\n",
       " 5.011,\n",
       " 5.036333333333333,\n",
       " 4.979,\n",
       " 5.021333333333334,\n",
       " 4.982666666666667,\n",
       " 4.965333333333334,\n",
       " 5.019666666666667,\n",
       " 5.020666666666667,\n",
       " 5.035333333333333,\n",
       " 5.044,\n",
       " 5.004666666666667,\n",
       " 4.988,\n",
       " 4.949333333333334,\n",
       " 4.993666666666667,\n",
       " 5.0216666666666665,\n",
       " 5.036,\n",
       " 4.996,\n",
       " 4.980333333333333,\n",
       " 5.022,\n",
       " 4.990333333333333,\n",
       " 5.019,\n",
       " 5.040333333333334,\n",
       " 5.0023333333333335,\n",
       " 4.974,\n",
       " 4.965,\n",
       " 5.005,\n",
       " 5.013333333333334,\n",
       " 5.001333333333333,\n",
       " 5.047666666666666,\n",
       " 4.993666666666667,\n",
       " 5.006666666666667,\n",
       " 5.081,\n",
       " 5.042,\n",
       " 5.033333333333333,\n",
       " 4.963666666666667,\n",
       " 4.971,\n",
       " 4.989333333333334,\n",
       " 5.049666666666667,\n",
       " 5.017666666666667,\n",
       " 5.003,\n",
       " 4.996666666666667,\n",
       " 4.984333333333334,\n",
       " 5.005333333333334,\n",
       " 5.011,\n",
       " 5.028333333333333,\n",
       " 5.002666666666666,\n",
       " 4.985,\n",
       " 4.971333333333333,\n",
       " 4.996333333333333,\n",
       " 4.991666666666666,\n",
       " 4.9656666666666665,\n",
       " 4.986666666666666,\n",
       " 4.98,\n",
       " 5.064666666666667,\n",
       " 5.003,\n",
       " 5.018,\n",
       " 4.960666666666667,\n",
       " 5.028,\n",
       " 5.003,\n",
       " 5.004333333333333,\n",
       " 4.922,\n",
       " 4.961,\n",
       " 5.003,\n",
       " 5.005,\n",
       " 4.9863333333333335,\n",
       " 5.025333333333333,\n",
       " 5.009,\n",
       " 4.957,\n",
       " 5.023,\n",
       " 5.009666666666667,\n",
       " 5.007333333333333,\n",
       " 5.048666666666667,\n",
       " 5.022333333333333,\n",
       " 4.975333333333333,\n",
       " 5.009666666666667,\n",
       " 4.981333333333334,\n",
       " 4.997,\n",
       " 5.0,\n",
       " 4.937666666666667,\n",
       " 5.041666666666667,\n",
       " 4.997333333333334,\n",
       " 5.021,\n",
       " 5.0216666666666665,\n",
       " 4.966,\n",
       " 4.966666666666667,\n",
       " 4.998333333333333,\n",
       " 5.022666666666667,\n",
       " 5.023333333333333,\n",
       " 5.067333333333333,\n",
       " 4.980666666666667,\n",
       " 4.983,\n",
       " 4.998666666666667,\n",
       " 5.013,\n",
       " 5.014666666666667,\n",
       " 4.959666666666666,\n",
       " 5.056666666666667,\n",
       " 5.031,\n",
       " 4.958333333333333,\n",
       " 5.009333333333333,\n",
       " 4.982333333333333,\n",
       " 5.001,\n",
       " 4.9816666666666665,\n",
       " 4.980333333333333,\n",
       " 5.000666666666667,\n",
       " 4.9976666666666665,\n",
       " 5.060666666666667,\n",
       " 5.012666666666667,\n",
       " 4.988666666666667,\n",
       " 4.988666666666667,\n",
       " 4.961666666666667,\n",
       " 5.013,\n",
       " 4.989,\n",
       " 4.992,\n",
       " 4.986,\n",
       " 4.978666666666666,\n",
       " 4.9943333333333335,\n",
       " 5.001,\n",
       " 5.0103333333333335,\n",
       " 4.952333333333334,\n",
       " 4.979,\n",
       " 4.968,\n",
       " 5.020333333333333,\n",
       " 4.993333333333333,\n",
       " 4.955,\n",
       " 4.975666666666666,\n",
       " 5.017333333333333,\n",
       " 5.049666666666667,\n",
       " 4.9816666666666665,\n",
       " 4.990333333333333,\n",
       " 5.019,\n",
       " 5.032666666666667,\n",
       " 4.993,\n",
       " 4.986,\n",
       " 5.0343333333333335,\n",
       " 5.005333333333334,\n",
       " 5.0553333333333335,\n",
       " 5.046333333333333,\n",
       " 4.990333333333333,\n",
       " 5.047666666666666,\n",
       " ...]"
      ]
     },
     "execution_count": 206,
     "metadata": {},
     "output_type": "execute_result"
    }
   ],
   "source": [
    "mean_of_sample"
   ]
  },
  {
   "cell_type": "code",
   "execution_count": 212,
   "id": "02a84ce2-7aff-49e1-a55d-3e4fad3e6f99",
   "metadata": {},
   "outputs": [
    {
     "name": "stderr",
     "output_type": "stream",
     "text": [
      "C:\\Users\\raich\\AppData\\Local\\Temp\\ipykernel_15240\\2951706182.py:1: UserWarning: \n",
      "\n",
      "`distplot` is a deprecated function and will be removed in seaborn v0.14.0.\n",
      "\n",
      "Please adapt your code to use either `displot` (a figure-level function with\n",
      "similar flexibility) or `histplot` (an axes-level function for histograms).\n",
      "\n",
      "For a guide to updating your code to use the new functions, please see\n",
      "https://gist.github.com/mwaskom/de44147ed2974457ad6372750bbe5751\n",
      "\n",
      "  sns.distplot(mean_of_sample, kde = True, color = 'red')\n"
     ]
    },
    {
     "data": {
      "text/plain": [
       "<Axes: ylabel='Density'>"
      ]
     },
     "execution_count": 212,
     "metadata": {},
     "output_type": "execute_result"
    },
    {
     "data": {
      "image/png": "[encoded data removed]",
      "text/plain": [
       "<Figure size 640x480 with 1 Axes>"
      ]
     },
     "metadata": {},
     "output_type": "display_data"
    }
   ],
   "source": [
    "sns.distplot(mean_of_sample, kde = True, color = 'red')"
   ]
  },
  {
   "cell_type": "code",
   "execution_count": 214,
   "id": "206a62cc-22e1-4812-a51c-aed260c7ae94",
   "metadata": {},
   "outputs": [
    {
     "data": {
      "text/plain": [
       "4.996732439910658"
      ]
     },
     "execution_count": 214,
     "metadata": {},
     "output_type": "execute_result"
    }
   ],
   "source": [
    "np.mean(mean_of_sample)"
   ]
  },
  {
   "cell_type": "code",
   "execution_count": 216,
   "id": "e7dc92ed-8cc1-4504-987a-ead50315fa0c",
   "metadata": {},
   "outputs": [
    {
     "data": {
      "text/plain": [
       "4.996666666666667"
      ]
     },
     "execution_count": 216,
     "metadata": {},
     "output_type": "execute_result"
    }
   ],
   "source": [
    "np.median(mean_of_sample)"
   ]
  },
  {
   "cell_type": "code",
   "execution_count": 220,
   "id": "80fc7b47-6748-431a-ae61-5d65c014413a",
   "metadata": {},
   "outputs": [
    {
     "data": {
      "text/plain": [
       "5.000666666666667"
      ]
     },
     "execution_count": 220,
     "metadata": {},
     "output_type": "execute_result"
    }
   ],
   "source": [
    "statistics.mode(mean_of_sample)"
   ]
  },
  {
   "cell_type": "code",
   "execution_count": 232,
   "id": "2254b943-c71d-43e4-acfd-285a0f748b5e",
   "metadata": {},
   "outputs": [
    {
     "data": {
      "text/plain": [
       "1.959963984540054"
      ]
     },
     "execution_count": 232,
     "metadata": {},
     "output_type": "execute_result"
    }
   ],
   "source": [
    "import scipy.stats as stats\n",
    "\n",
    "stats.norm.ppf(q = 0.975)\n",
    "\n",
    "# zcritical for give alpha, ztable"
   ]
  },
  {
   "cell_type": "code",
   "execution_count": 234,
   "id": "2f1a0468-307e-454c-9e05-05b0755cb421",
   "metadata": {},
   "outputs": [],
   "source": [
    "z_critical = stats.norm.ppf(q = 0.975)"
   ]
  },
  {
   "cell_type": "code",
   "execution_count": 228,
   "id": "6487c9be-cf0d-4944-8788-f81950e2de34",
   "metadata": {},
   "outputs": [
    {
     "data": {
      "text/plain": [
       "1.973994288847133"
      ]
     },
     "execution_count": 228,
     "metadata": {},
     "output_type": "execute_result"
    }
   ],
   "source": [
    "# tcritical for give alpha, ttable\n",
    "\n",
    "stats.t.ppf(df = 24, q = 0.97)"
   ]
  },
  {
   "cell_type": "code",
   "execution_count": 236,
   "id": "91a5746f-3127-4e40-94bc-0ec99e80ca65",
   "metadata": {},
   "outputs": [],
   "source": [
    "# margin of error\n",
    "\n",
    "margin_of_error = z_critical * np.std(mean_of_sample) / np.sqrt(20) ## here sample size was 20 that's why sqrt(n) will be 20\n",
    "\n"
   ]
  },
  {
   "cell_type": "code",
   "execution_count": 238,
   "id": "9167220f-fb98-4eca-8339-35cd7f9a7cfa",
   "metadata": {},
   "outputs": [
    {
     "data": {
      "text/plain": [
       "0.012528325647049312"
      ]
     },
     "execution_count": 238,
     "metadata": {},
     "output_type": "execute_result"
    }
   ],
   "source": [
    "margin_of_error"
   ]
  },
  {
   "cell_type": "code",
   "execution_count": 240,
   "id": "93a4561f-aaea-45cd-a6ed-bf9f5ec83f6d",
   "metadata": {},
   "outputs": [
    {
     "data": {
      "text/plain": [
       "[4.995,\n",
       " 4.983,\n",
       " 4.977666666666667,\n",
       " 4.990333333333333,\n",
       " 5.008,\n",
       " 4.971,\n",
       " 4.9783333333333335,\n",
       " 4.969,\n",
       " 5.054,\n",
       " 5.016666666666667,\n",
       " 4.948666666666667,\n",
       " 5.046,\n",
       " 5.0343333333333335,\n",
       " 5.007666666666666,\n",
       " 4.957,\n",
       " 5.029333333333334,\n",
       " 4.975333333333333,\n",
       " 5.000333333333334,\n",
       " 4.990666666666667,\n",
       " 5.001666666666667,\n",
       " 4.996333333333333,\n",
       " 5.025,\n",
       " 4.985666666666667,\n",
       " 4.972333333333333,\n",
       " 5.023,\n",
       " 5.003,\n",
       " 4.977,\n",
       " 5.038333333333333,\n",
       " 4.968,\n",
       " 4.976666666666667,\n",
       " 5.059666666666667,\n",
       " 4.976,\n",
       " 5.024,\n",
       " 4.944,\n",
       " 4.985,\n",
       " 4.985,\n",
       " 4.957666666666666,\n",
       " 4.972,\n",
       " 4.968666666666667,\n",
       " 4.983333333333333,\n",
       " 5.003,\n",
       " 5.003333333333333,\n",
       " 4.991333333333333,\n",
       " 5.023666666666666,\n",
       " 5.0023333333333335,\n",
       " 5.015333333333333,\n",
       " 5.009,\n",
       " 4.939333333333333,\n",
       " 4.9976666666666665,\n",
       " 5.001333333333333,\n",
       " 4.949666666666666,\n",
       " 4.937666666666667,\n",
       " 5.004333333333333,\n",
       " 4.98,\n",
       " 4.97,\n",
       " 5.011,\n",
       " 4.972,\n",
       " 5.013333333333334,\n",
       " 4.996666666666667,\n",
       " 4.975,\n",
       " 4.9863333333333335,\n",
       " 5.008666666666667,\n",
       " 5.020333333333333,\n",
       " 5.011666666666667,\n",
       " 4.992,\n",
       " 5.040333333333334,\n",
       " 5.047,\n",
       " 4.980666666666667,\n",
       " 4.988,\n",
       " 5.009333333333333,\n",
       " 5.006666666666667,\n",
       " 5.010666666666666,\n",
       " 5.004333333333333,\n",
       " 4.9976666666666665,\n",
       " 4.985333333333333,\n",
       " 5.039,\n",
       " 5.008,\n",
       " 4.993333333333333,\n",
       " 4.99,\n",
       " 4.965,\n",
       " 4.980666666666667,\n",
       " 4.977333333333333,\n",
       " 4.971,\n",
       " 5.016,\n",
       " 4.990333333333333,\n",
       " 4.955333333333333,\n",
       " 5.044333333333333,\n",
       " 5.001666666666667,\n",
       " 5.031,\n",
       " 4.978666666666666,\n",
       " 4.993666666666667,\n",
       " 4.986666666666666,\n",
       " 5.0136666666666665,\n",
       " 4.983333333333333,\n",
       " 5.000333333333334,\n",
       " 5.0056666666666665,\n",
       " 4.982333333333333,\n",
       " 4.9463333333333335,\n",
       " 5.002666666666666,\n",
       " 4.988666666666667,\n",
       " 4.967,\n",
       " 4.993666666666667,\n",
       " 5.040666666666667,\n",
       " 5.015333333333333,\n",
       " 4.979333333333333,\n",
       " 5.008,\n",
       " 5.021,\n",
       " 4.983,\n",
       " 5.03,\n",
       " 4.984,\n",
       " 5.004333333333333,\n",
       " 4.950333333333333,\n",
       " 4.995,\n",
       " 4.974666666666667,\n",
       " 4.97,\n",
       " 4.951333333333333,\n",
       " 5.008666666666667,\n",
       " 5.054666666666667,\n",
       " 4.971333333333333,\n",
       " 5.015333333333333,\n",
       " 4.992,\n",
       " 4.975,\n",
       " 4.959333333333333,\n",
       " 5.004,\n",
       " 5.038333333333333,\n",
       " 4.967333333333333,\n",
       " 5.016,\n",
       " 4.989333333333334,\n",
       " 5.030333333333333,\n",
       " 4.985333333333333,\n",
       " 4.943,\n",
       " 5.020666666666667,\n",
       " 5.0376666666666665,\n",
       " 4.995666666666667,\n",
       " 5.034,\n",
       " 4.976333333333334,\n",
       " 5.014666666666667,\n",
       " 5.0263333333333335,\n",
       " 5.028333333333333,\n",
       " 5.005333333333334,\n",
       " 5.029333333333334,\n",
       " 5.017666666666667,\n",
       " 4.955,\n",
       " 4.997,\n",
       " 5.009333333333333,\n",
       " 4.940666666666667,\n",
       " 5.044,\n",
       " 4.940666666666667,\n",
       " 4.934666666666667,\n",
       " 5.009333333333333,\n",
       " 5.011333333333333,\n",
       " 5.001,\n",
       " 5.048,\n",
       " 5.003,\n",
       " 4.976,\n",
       " 4.996,\n",
       " 4.960333333333334,\n",
       " 5.034666666666666,\n",
       " 4.998666666666667,\n",
       " 4.984,\n",
       " 5.01,\n",
       " 4.98,\n",
       " 4.991333333333333,\n",
       " 5.008333333333334,\n",
       " 5.029333333333334,\n",
       " 5.004333333333333,\n",
       " 4.989,\n",
       " 4.987333333333333,\n",
       " 4.9816666666666665,\n",
       " 4.980333333333333,\n",
       " 4.991666666666666,\n",
       " 4.970666666666666,\n",
       " 4.979,\n",
       " 4.9816666666666665,\n",
       " 4.961666666666667,\n",
       " 5.046,\n",
       " 4.944,\n",
       " 4.973333333333334,\n",
       " 5.054,\n",
       " 4.957666666666666,\n",
       " 5.023333333333333,\n",
       " 5.018,\n",
       " 5.025333333333333,\n",
       " 4.944,\n",
       " 5.017,\n",
       " 5.034666666666666,\n",
       " 4.956333333333333,\n",
       " 4.992,\n",
       " 5.030666666666667,\n",
       " 5.045333333333334,\n",
       " 4.975666666666666,\n",
       " 4.961,\n",
       " 4.997333333333334,\n",
       " 5.035333333333333,\n",
       " 5.044333333333333,\n",
       " 5.041666666666667,\n",
       " 4.9736666666666665,\n",
       " 4.9943333333333335,\n",
       " 5.043,\n",
       " 5.009333333333333,\n",
       " 4.989,\n",
       " 5.061,\n",
       " 5.044333333333333,\n",
       " 4.995,\n",
       " 4.9863333333333335,\n",
       " 5.014666666666667,\n",
       " 5.0,\n",
       " 5.001666666666667,\n",
       " 5.023666666666666,\n",
       " 4.99,\n",
       " 4.968333333333334,\n",
       " 4.968333333333334,\n",
       " 5.018,\n",
       " 5.004333333333333,\n",
       " 5.016333333333334,\n",
       " 4.966,\n",
       " 4.962,\n",
       " 4.958,\n",
       " 4.985333333333333,\n",
       " 5.004,\n",
       " 5.007666666666666,\n",
       " 4.957,\n",
       " 5.037,\n",
       " 4.968666666666667,\n",
       " 4.991,\n",
       " 4.9736666666666665,\n",
       " 5.024666666666667,\n",
       " 4.994,\n",
       " 4.975666666666666,\n",
       " 4.981333333333334,\n",
       " 4.996666666666667,\n",
       " 4.966666666666667,\n",
       " 5.001666666666667,\n",
       " 4.9656666666666665,\n",
       " 5.082666666666666,\n",
       " 4.963666666666667,\n",
       " 5.02,\n",
       " 4.945,\n",
       " 4.983,\n",
       " 5.0263333333333335,\n",
       " 5.010666666666666,\n",
       " 5.035666666666667,\n",
       " 5.067666666666667,\n",
       " 4.996333333333333,\n",
       " 4.983333333333333,\n",
       " 5.019,\n",
       " 4.945666666666667,\n",
       " 4.938,\n",
       " 4.993666666666667,\n",
       " 4.995,\n",
       " 4.983,\n",
       " 4.974333333333333,\n",
       " 4.983,\n",
       " 4.958666666666667,\n",
       " 4.998666666666667,\n",
       " 5.020666666666667,\n",
       " 4.961,\n",
       " 4.986,\n",
       " 5.017,\n",
       " 5.0553333333333335,\n",
       " 5.011,\n",
       " 4.997,\n",
       " 4.987,\n",
       " 5.014333333333333,\n",
       " 4.962,\n",
       " 4.955,\n",
       " 5.004,\n",
       " 5.06,\n",
       " 4.981333333333334,\n",
       " 4.969333333333333,\n",
       " 5.014333333333333,\n",
       " 4.987333333333333,\n",
       " 5.030333333333333,\n",
       " 5.002666666666666,\n",
       " 4.987666666666667,\n",
       " 4.982666666666667,\n",
       " 4.980666666666667,\n",
       " 5.004333333333333,\n",
       " 5.026,\n",
       " 4.995333333333333,\n",
       " 5.012,\n",
       " 5.025,\n",
       " 4.996333333333333,\n",
       " 5.028666666666667,\n",
       " 5.025,\n",
       " 5.011333333333333,\n",
       " 4.9896666666666665,\n",
       " 5.048666666666667,\n",
       " 4.993666666666667,\n",
       " 4.994666666666666,\n",
       " 5.001666666666667,\n",
       " 5.073333333333333,\n",
       " 4.997,\n",
       " 4.9896666666666665,\n",
       " 4.959333333333333,\n",
       " 5.016333333333334,\n",
       " 5.032333333333334,\n",
       " 5.039,\n",
       " 4.983,\n",
       " 5.000666666666667,\n",
       " 4.993,\n",
       " 5.012666666666667,\n",
       " 5.006333333333333,\n",
       " 4.988666666666667,\n",
       " 5.019666666666667,\n",
       " 5.039333333333333,\n",
       " 5.002666666666666,\n",
       " 4.942,\n",
       " 4.977,\n",
       " 4.958666666666667,\n",
       " 5.028333333333333,\n",
       " 5.017,\n",
       " 5.01,\n",
       " 4.9703333333333335,\n",
       " 4.981333333333334,\n",
       " 5.033666666666667,\n",
       " 5.000333333333334,\n",
       " 5.016333333333334,\n",
       " 4.975666666666666,\n",
       " 5.065,\n",
       " 5.014333333333333,\n",
       " 5.000333333333334,\n",
       " 5.014333333333333,\n",
       " 4.990666666666667,\n",
       " 4.986666666666666,\n",
       " 4.984,\n",
       " 5.020333333333333,\n",
       " 4.970666666666666,\n",
       " 4.985,\n",
       " 4.997,\n",
       " 5.009333333333333,\n",
       " 5.016,\n",
       " 4.973333333333334,\n",
       " 5.008,\n",
       " 5.062666666666667,\n",
       " 4.992666666666667,\n",
       " 4.960333333333334,\n",
       " 4.9816666666666665,\n",
       " 5.014666666666667,\n",
       " 5.040666666666667,\n",
       " 5.002666666666666,\n",
       " 4.973333333333334,\n",
       " 5.062,\n",
       " 4.959,\n",
       " 5.010666666666666,\n",
       " 4.956666666666667,\n",
       " 4.991666666666666,\n",
       " 5.0023333333333335,\n",
       " 5.003,\n",
       " 4.984666666666667,\n",
       " 4.994666666666666,\n",
       " 4.9976666666666665,\n",
       " 4.984666666666667,\n",
       " 5.0136666666666665,\n",
       " 5.026666666666666,\n",
       " 5.006666666666667,\n",
       " 5.004333333333333,\n",
       " 5.011,\n",
       " 5.009666666666667,\n",
       " 4.941,\n",
       " 4.9943333333333335,\n",
       " 5.037,\n",
       " 4.985,\n",
       " 4.973,\n",
       " 5.025,\n",
       " 4.963,\n",
       " 5.0296666666666665,\n",
       " 4.995,\n",
       " 4.983666666666666,\n",
       " 5.027666666666667,\n",
       " 4.983,\n",
       " 5.019666666666667,\n",
       " 5.010666666666666,\n",
       " 5.040666666666667,\n",
       " 5.044666666666667,\n",
       " 4.992,\n",
       " 5.005333333333334,\n",
       " 4.933,\n",
       " 5.008,\n",
       " 4.981333333333334,\n",
       " 5.003333333333333,\n",
       " 5.0103333333333335,\n",
       " 4.971666666666667,\n",
       " 5.041,\n",
       " 4.995333333333333,\n",
       " 5.001,\n",
       " 4.957333333333334,\n",
       " 4.987666666666667,\n",
       " 4.993666666666667,\n",
       " 5.031,\n",
       " 4.977,\n",
       " 4.9943333333333335,\n",
       " 5.020333333333333,\n",
       " 4.954666666666666,\n",
       " 5.017,\n",
       " 4.965,\n",
       " 5.001,\n",
       " 5.001666666666667,\n",
       " 5.001666666666667,\n",
       " 5.005333333333334,\n",
       " 5.041333333333333,\n",
       " 4.976,\n",
       " 4.991666666666666,\n",
       " 4.982333333333333,\n",
       " 4.987666666666667,\n",
       " 4.986,\n",
       " 4.9976666666666665,\n",
       " 4.995,\n",
       " 4.9896666666666665,\n",
       " 4.972333333333333,\n",
       " 4.981,\n",
       " 5.0376666666666665,\n",
       " 5.005333333333334,\n",
       " 5.001,\n",
       " 5.0216666666666665,\n",
       " 4.989333333333334,\n",
       " 5.035666666666667,\n",
       " 4.988,\n",
       " 5.0056666666666665,\n",
       " 5.0473333333333334,\n",
       " 5.043,\n",
       " 5.035333333333333,\n",
       " 4.951,\n",
       " 5.004,\n",
       " 5.007666666666666,\n",
       " 4.997,\n",
       " 4.986666666666666,\n",
       " 4.968333333333334,\n",
       " 4.999333333333333,\n",
       " 4.996666666666667,\n",
       " 4.964,\n",
       " 5.021,\n",
       " 5.003,\n",
       " 4.988,\n",
       " 4.982,\n",
       " 5.0183333333333335,\n",
       " 4.961333333333333,\n",
       " 4.982666666666667,\n",
       " 4.975666666666666,\n",
       " 5.039666666666666,\n",
       " 4.982,\n",
       " 4.980333333333333,\n",
       " 5.046,\n",
       " 4.949666666666666,\n",
       " 4.986,\n",
       " 4.976666666666667,\n",
       " 5.000666666666667,\n",
       " 4.963,\n",
       " 4.977666666666667,\n",
       " 4.9783333333333335,\n",
       " 5.057,\n",
       " 4.945666666666667,\n",
       " 5.020333333333333,\n",
       " 5.016666666666667,\n",
       " 5.024,\n",
       " 5.02,\n",
       " 4.985666666666667,\n",
       " 5.040333333333334,\n",
       " 4.968666666666667,\n",
       " 4.964,\n",
       " 4.954,\n",
       " 4.983,\n",
       " 4.971666666666667,\n",
       " 5.025,\n",
       " 5.001666666666667,\n",
       " 4.963,\n",
       " 4.977333333333333,\n",
       " 5.006333333333333,\n",
       " 5.015333333333333,\n",
       " 4.979666666666667,\n",
       " 5.039,\n",
       " 4.977,\n",
       " 4.989333333333334,\n",
       " 5.012,\n",
       " 4.976,\n",
       " 4.988666666666667,\n",
       " 5.009333333333333,\n",
       " 4.9896666666666665,\n",
       " 4.9656666666666665,\n",
       " 4.992333333333334,\n",
       " 4.995,\n",
       " 4.989333333333334,\n",
       " 4.999333333333333,\n",
       " 5.027,\n",
       " 4.978666666666666,\n",
       " 4.992333333333334,\n",
       " 5.011333333333333,\n",
       " 5.007666666666666,\n",
       " 5.041,\n",
       " 5.020666666666667,\n",
       " 5.016,\n",
       " 4.982333333333333,\n",
       " 5.016333333333334,\n",
       " 5.001,\n",
       " 5.007333333333333,\n",
       " 4.988333333333333,\n",
       " 5.028333333333333,\n",
       " 4.966666666666667,\n",
       " 4.99,\n",
       " 4.975666666666666,\n",
       " 4.981333333333334,\n",
       " 4.965333333333334,\n",
       " 4.988333333333333,\n",
       " 4.938666666666666,\n",
       " 5.020666666666667,\n",
       " 5.004333333333333,\n",
       " 4.9976666666666665,\n",
       " 4.984,\n",
       " 4.974666666666667,\n",
       " 4.973,\n",
       " 5.018666666666666,\n",
       " 4.978666666666666,\n",
       " 5.012666666666667,\n",
       " 4.980666666666667,\n",
       " 4.995666666666667,\n",
       " 5.018666666666666,\n",
       " 4.987666666666667,\n",
       " 4.980666666666667,\n",
       " 5.041666666666667,\n",
       " 5.000333333333334,\n",
       " 4.989,\n",
       " 4.996333333333333,\n",
       " 4.961666666666667,\n",
       " 5.012666666666667,\n",
       " 4.975666666666666,\n",
       " 4.960666666666667,\n",
       " 5.040666666666667,\n",
       " 4.960666666666667,\n",
       " 5.0216666666666665,\n",
       " 5.0296666666666665,\n",
       " 4.990333333333333,\n",
       " 4.980666666666667,\n",
       " 5.0103333333333335,\n",
       " 4.984666666666667,\n",
       " 4.991666666666666,\n",
       " 4.9736666666666665,\n",
       " 4.925333333333334,\n",
       " 4.995666666666667,\n",
       " 5.034666666666666,\n",
       " 5.024666666666667,\n",
       " 5.001,\n",
       " 5.042333333333334,\n",
       " 5.012666666666667,\n",
       " 4.982333333333333,\n",
       " 4.979666666666667,\n",
       " 5.019333333333333,\n",
       " 4.969333333333333,\n",
       " 4.975,\n",
       " 4.979666666666667,\n",
       " 4.95,\n",
       " 4.995666666666667,\n",
       " 4.994,\n",
       " 5.000333333333334,\n",
       " 4.967666666666666,\n",
       " 4.937666666666667,\n",
       " 4.9526666666666666,\n",
       " 4.97,\n",
       " 5.002666666666666,\n",
       " 5.076,\n",
       " 4.9656666666666665,\n",
       " 4.964333333333333,\n",
       " 5.044,\n",
       " 4.957333333333334,\n",
       " 4.985,\n",
       " 4.988666666666667,\n",
       " 4.947333333333333,\n",
       " 5.0183333333333335,\n",
       " 4.968333333333334,\n",
       " 5.003333333333333,\n",
       " 4.983,\n",
       " 5.005333333333334,\n",
       " 4.984666666666667,\n",
       " 5.027,\n",
       " 5.005,\n",
       " 5.017333333333333,\n",
       " 4.984666666666667,\n",
       " 4.931666666666667,\n",
       " 4.955333333333333,\n",
       " 5.019666666666667,\n",
       " 5.008,\n",
       " 4.991333333333333,\n",
       " 5.068,\n",
       " 5.028333333333333,\n",
       " 5.030333333333333,\n",
       " 5.02,\n",
       " 4.962,\n",
       " 4.992333333333334,\n",
       " 5.025,\n",
       " 4.9943333333333335,\n",
       " 4.977,\n",
       " 4.993333333333333,\n",
       " 4.999333333333333,\n",
       " 4.999,\n",
       " 5.045333333333334,\n",
       " 5.020333333333333,\n",
       " 4.956333333333333,\n",
       " 5.015333333333333,\n",
       " 5.003666666666667,\n",
       " 5.011,\n",
       " 5.009,\n",
       " 4.974333333333333,\n",
       " 5.046333333333333,\n",
       " 5.0296666666666665,\n",
       " 5.026666666666666,\n",
       " 4.9816666666666665,\n",
       " 4.976333333333334,\n",
       " 5.0263333333333335,\n",
       " 4.9943333333333335,\n",
       " 5.005,\n",
       " 4.983,\n",
       " 5.001,\n",
       " 5.004333333333333,\n",
       " 5.045333333333334,\n",
       " 4.968666666666667,\n",
       " 4.997333333333334,\n",
       " 4.995,\n",
       " 4.987333333333333,\n",
       " 4.969666666666667,\n",
       " 5.065333333333333,\n",
       " 5.000666666666667,\n",
       " 4.982,\n",
       " 5.015333333333333,\n",
       " 5.011333333333333,\n",
       " 5.005333333333334,\n",
       " 5.022,\n",
       " 5.009666666666667,\n",
       " 4.977333333333333,\n",
       " 5.058333333333334,\n",
       " 4.963666666666667,\n",
       " 4.968,\n",
       " 4.995666666666667,\n",
       " 4.971333333333333,\n",
       " 4.975666666666666,\n",
       " 5.008333333333334,\n",
       " 5.0103333333333335,\n",
       " 5.007333333333333,\n",
       " 4.982,\n",
       " 4.973,\n",
       " 4.972666666666667,\n",
       " 5.0216666666666665,\n",
       " 4.987,\n",
       " 4.943333333333333,\n",
       " 5.025,\n",
       " 5.005,\n",
       " 4.999666666666666,\n",
       " 4.990333333333333,\n",
       " 5.022666666666667,\n",
       " 4.992,\n",
       " 5.006,\n",
       " 5.000666666666667,\n",
       " 4.999333333333333,\n",
       " 5.024,\n",
       " 5.009666666666667,\n",
       " 5.073,\n",
       " 4.983666666666666,\n",
       " 4.972333333333333,\n",
       " 4.971666666666667,\n",
       " 4.987333333333333,\n",
       " 5.012,\n",
       " 5.037333333333334,\n",
       " 5.004666666666667,\n",
       " 5.011333333333333,\n",
       " 5.0056666666666665,\n",
       " 4.969,\n",
       " 4.999666666666666,\n",
       " 4.949333333333334,\n",
       " 5.0183333333333335,\n",
       " 5.017666666666667,\n",
       " 4.977,\n",
       " 5.062,\n",
       " 5.041,\n",
       " 4.989,\n",
       " 4.9896666666666665,\n",
       " 4.992666666666667,\n",
       " 4.966,\n",
       " 5.000666666666667,\n",
       " 5.029,\n",
       " 4.9976666666666665,\n",
       " 4.985333333333333,\n",
       " 5.033333333333333,\n",
       " 5.011333333333333,\n",
       " 5.016,\n",
       " 5.021333333333334,\n",
       " 5.035333333333333,\n",
       " 4.984,\n",
       " 5.004333333333333,\n",
       " 4.968,\n",
       " 4.9,\n",
       " 5.002,\n",
       " 4.983666666666666,\n",
       " 4.996,\n",
       " 4.985333333333333,\n",
       " 4.976333333333334,\n",
       " 4.998333333333333,\n",
       " 4.944,\n",
       " 5.020333333333333,\n",
       " 4.999,\n",
       " 5.019333333333333,\n",
       " 4.988666666666667,\n",
       " 4.968333333333334,\n",
       " 4.967666666666666,\n",
       " 4.96,\n",
       " 5.0183333333333335,\n",
       " 5.029333333333334,\n",
       " 5.006333333333333,\n",
       " 4.997,\n",
       " 5.012666666666667,\n",
       " 5.012333333333333,\n",
       " 4.986,\n",
       " 4.968333333333334,\n",
       " 4.946,\n",
       " 4.992666666666667,\n",
       " 4.999,\n",
       " 4.9623333333333335,\n",
       " 5.055,\n",
       " 5.036666666666667,\n",
       " 5.038,\n",
       " 4.983333333333333,\n",
       " 4.962666666666666,\n",
       " 4.987333333333333,\n",
       " 4.9976666666666665,\n",
       " 4.951666666666667,\n",
       " 4.9703333333333335,\n",
       " 5.034666666666666,\n",
       " 4.994,\n",
       " 4.958333333333333,\n",
       " 4.969666666666667,\n",
       " 4.9976666666666665,\n",
       " 5.014,\n",
       " 5.02,\n",
       " 5.009666666666667,\n",
       " 5.063666666666666,\n",
       " 5.0023333333333335,\n",
       " 5.0183333333333335,\n",
       " 5.032333333333334,\n",
       " 4.954,\n",
       " 4.9736666666666665,\n",
       " 5.028,\n",
       " 4.933,\n",
       " 5.0296666666666665,\n",
       " 5.025666666666667,\n",
       " 4.979666666666667,\n",
       " 4.976666666666667,\n",
       " 5.02,\n",
       " 4.966666666666667,\n",
       " 4.976,\n",
       " 4.992666666666667,\n",
       " 4.999,\n",
       " 4.970666666666666,\n",
       " 4.994666666666666,\n",
       " 4.974666666666667,\n",
       " 5.014666666666667,\n",
       " 4.947333333333333,\n",
       " 4.991,\n",
       " 5.019666666666667,\n",
       " 4.967666666666666,\n",
       " 4.976666666666667,\n",
       " 4.985,\n",
       " 4.995333333333333,\n",
       " 4.967333333333333,\n",
       " 5.017,\n",
       " 5.016333333333334,\n",
       " 5.018666666666666,\n",
       " 4.9976666666666665,\n",
       " 5.048,\n",
       " 5.02,\n",
       " 5.045,\n",
       " 5.009333333333333,\n",
       " 4.949333333333334,\n",
       " 5.016666666666667,\n",
       " 4.988666666666667,\n",
       " 5.0023333333333335,\n",
       " 4.982333333333333,\n",
       " 5.052333333333333,\n",
       " 4.995333333333333,\n",
       " 5.016,\n",
       " 5.109666666666667,\n",
       " 5.020666666666667,\n",
       " 4.979,\n",
       " 5.030666666666667,\n",
       " 4.991666666666666,\n",
       " 4.994,\n",
       " 5.031333333333333,\n",
       " 4.998,\n",
       " 4.98,\n",
       " 4.940666666666667,\n",
       " 4.976666666666667,\n",
       " 4.993666666666667,\n",
       " 4.996,\n",
       " 4.980666666666667,\n",
       " 4.989,\n",
       " 4.982333333333333,\n",
       " 4.9656666666666665,\n",
       " 4.976333333333334,\n",
       " 4.959,\n",
       " 4.994,\n",
       " 4.9816666666666665,\n",
       " 4.977666666666667,\n",
       " 4.996,\n",
       " 5.035,\n",
       " 5.044,\n",
       " 4.988666666666667,\n",
       " 5.041666666666667,\n",
       " 5.012,\n",
       " 5.019666666666667,\n",
       " 5.023666666666666,\n",
       " 4.9976666666666665,\n",
       " 5.039333333333333,\n",
       " 4.992333333333334,\n",
       " 5.02,\n",
       " 4.965333333333334,\n",
       " 5.019,\n",
       " 4.964666666666667,\n",
       " 4.974666666666667,\n",
       " 5.0023333333333335,\n",
       " 5.034,\n",
       " 4.972333333333333,\n",
       " 5.062,\n",
       " 5.014666666666667,\n",
       " 5.001333333333333,\n",
       " 5.031666666666666,\n",
       " 5.016666666666667,\n",
       " 4.966666666666667,\n",
       " 5.021,\n",
       " 4.977,\n",
       " 4.995666666666667,\n",
       " 4.978666666666666,\n",
       " 5.02,\n",
       " 4.956333333333333,\n",
       " 4.965,\n",
       " 4.990333333333333,\n",
       " 4.953333333333333,\n",
       " 4.991333333333333,\n",
       " 4.966666666666667,\n",
       " 5.0103333333333335,\n",
       " 5.024333333333334,\n",
       " 4.983666666666666,\n",
       " 5.0,\n",
       " 4.968,\n",
       " 5.012666666666667,\n",
       " 4.990333333333333,\n",
       " 4.9703333333333335,\n",
       " 5.021333333333334,\n",
       " 5.039,\n",
       " 5.058,\n",
       " 5.0263333333333335,\n",
       " 4.975,\n",
       " 4.974666666666667,\n",
       " 4.942666666666667,\n",
       " 5.041,\n",
       " 5.014,\n",
       " 5.011,\n",
       " 4.9976666666666665,\n",
       " 4.982333333333333,\n",
       " 5.014333333333333,\n",
       " 4.987666666666667,\n",
       " 5.023666666666666,\n",
       " 4.998666666666667,\n",
       " 4.995333333333333,\n",
       " 4.995333333333333,\n",
       " 5.007,\n",
       " 5.011,\n",
       " 5.036333333333333,\n",
       " 4.979,\n",
       " 5.021333333333334,\n",
       " 4.982666666666667,\n",
       " 4.965333333333334,\n",
       " 5.019666666666667,\n",
       " 5.020666666666667,\n",
       " 5.035333333333333,\n",
       " 5.044,\n",
       " 5.004666666666667,\n",
       " 4.988,\n",
       " 4.949333333333334,\n",
       " 4.993666666666667,\n",
       " 5.0216666666666665,\n",
       " 5.036,\n",
       " 4.996,\n",
       " 4.980333333333333,\n",
       " 5.022,\n",
       " 4.990333333333333,\n",
       " 5.019,\n",
       " 5.040333333333334,\n",
       " 5.0023333333333335,\n",
       " 4.974,\n",
       " 4.965,\n",
       " 5.005,\n",
       " 5.013333333333334,\n",
       " 5.001333333333333,\n",
       " 5.047666666666666,\n",
       " 4.993666666666667,\n",
       " 5.006666666666667,\n",
       " 5.081,\n",
       " 5.042,\n",
       " 5.033333333333333,\n",
       " 4.963666666666667,\n",
       " 4.971,\n",
       " 4.989333333333334,\n",
       " 5.049666666666667,\n",
       " 5.017666666666667,\n",
       " 5.003,\n",
       " 4.996666666666667,\n",
       " 4.984333333333334,\n",
       " 5.005333333333334,\n",
       " 5.011,\n",
       " 5.028333333333333,\n",
       " 5.002666666666666,\n",
       " 4.985,\n",
       " 4.971333333333333,\n",
       " 4.996333333333333,\n",
       " 4.991666666666666,\n",
       " 4.9656666666666665,\n",
       " 4.986666666666666,\n",
       " 4.98,\n",
       " 5.064666666666667,\n",
       " 5.003,\n",
       " 5.018,\n",
       " 4.960666666666667,\n",
       " 5.028,\n",
       " 5.003,\n",
       " 5.004333333333333,\n",
       " 4.922,\n",
       " 4.961,\n",
       " 5.003,\n",
       " 5.005,\n",
       " 4.9863333333333335,\n",
       " 5.025333333333333,\n",
       " 5.009,\n",
       " 4.957,\n",
       " 5.023,\n",
       " 5.009666666666667,\n",
       " 5.007333333333333,\n",
       " 5.048666666666667,\n",
       " 5.022333333333333,\n",
       " 4.975333333333333,\n",
       " 5.009666666666667,\n",
       " 4.981333333333334,\n",
       " 4.997,\n",
       " 5.0,\n",
       " 4.937666666666667,\n",
       " 5.041666666666667,\n",
       " 4.997333333333334,\n",
       " 5.021,\n",
       " 5.0216666666666665,\n",
       " 4.966,\n",
       " 4.966666666666667,\n",
       " 4.998333333333333,\n",
       " 5.022666666666667,\n",
       " 5.023333333333333,\n",
       " 5.067333333333333,\n",
       " 4.980666666666667,\n",
       " 4.983,\n",
       " 4.998666666666667,\n",
       " 5.013,\n",
       " 5.014666666666667,\n",
       " 4.959666666666666,\n",
       " 5.056666666666667,\n",
       " 5.031,\n",
       " 4.958333333333333,\n",
       " 5.009333333333333,\n",
       " 4.982333333333333,\n",
       " 5.001,\n",
       " 4.9816666666666665,\n",
       " 4.980333333333333,\n",
       " 5.000666666666667,\n",
       " 4.9976666666666665,\n",
       " 5.060666666666667,\n",
       " 5.012666666666667,\n",
       " 4.988666666666667,\n",
       " 4.988666666666667,\n",
       " 4.961666666666667,\n",
       " 5.013,\n",
       " 4.989,\n",
       " 4.992,\n",
       " 4.986,\n",
       " 4.978666666666666,\n",
       " 4.9943333333333335,\n",
       " 5.001,\n",
       " 5.0103333333333335,\n",
       " 4.952333333333334,\n",
       " 4.979,\n",
       " 4.968,\n",
       " 5.020333333333333,\n",
       " 4.993333333333333,\n",
       " 4.955,\n",
       " 4.975666666666666,\n",
       " 5.017333333333333,\n",
       " 5.049666666666667,\n",
       " 4.9816666666666665,\n",
       " 4.990333333333333,\n",
       " 5.019,\n",
       " 5.032666666666667,\n",
       " 4.993,\n",
       " 4.986,\n",
       " 5.0343333333333335,\n",
       " 5.005333333333334,\n",
       " 5.0553333333333335,\n",
       " 5.046333333333333,\n",
       " 4.990333333333333,\n",
       " 5.047666666666666,\n",
       " ...]"
      ]
     },
     "execution_count": 240,
     "metadata": {},
     "output_type": "execute_result"
    }
   ],
   "source": [
    "mean_of_sample"
   ]
  },
  {
   "cell_type": "code",
   "execution_count": 242,
   "id": "b2ea7e9a-483b-42ac-89bd-8a23f3c8c4ad",
   "metadata": {},
   "outputs": [
    {
     "data": {
      "text/plain": [
       "4.996732439910658"
      ]
     },
     "execution_count": 242,
     "metadata": {},
     "output_type": "execute_result"
    }
   ],
   "source": [
    "np.mean(mean_of_sample)"
   ]
  },
  {
   "cell_type": "code",
   "execution_count": null,
   "id": "d7cd1a85-e341-49a6-8698-8f8eb13efb12",
   "metadata": {},
   "outputs": [],
   "source": []
  },
  {
   "cell_type": "code",
   "execution_count": 245,
   "id": "9c028f8d-2baf-446c-9118-3c6d114e3b59",
   "metadata": {},
   "outputs": [
    {
     "data": {
      "text/plain": [
       "(4.984204114263608, 5.009260765557707)"
      ]
     },
     "execution_count": 245,
     "metadata": {},
     "output_type": "execute_result"
    }
   ],
   "source": [
    "## confidence interval \n",
    "\n",
    "np.mean(mean_of_sample) - margin_of_error, np.mean(mean_of_sample) + margin_of_error"
   ]
  },
  {
   "cell_type": "code",
   "execution_count": 257,
   "id": "9bad4b0a-2231-4bdc-b108-fbf40a6abb1a",
   "metadata": {},
   "outputs": [
    {
     "data": {
      "text/plain": [
       "array([-3.59526059e-01,  4.32589872e-02,  4.76906017e-01, -4.23452812e-01,\n",
       "        3.59183217e-01,  3.22695365e-01,  1.19002077e+00, -1.18790019e+00,\n",
       "        1.01705582e+00, -1.95387007e-01, -2.52733759e-01,  1.18534368e+00,\n",
       "        1.30363318e+00,  1.79746627e+00,  1.81436474e+00,  1.37609632e+00,\n",
       "        7.34115106e-02, -4.28005792e-01,  6.52886203e-01,  1.43357144e+00,\n",
       "       -1.17564688e+00,  6.75220624e-01,  1.85932639e-01, -1.00720990e+00,\n",
       "        5.46978468e-01,  1.71074710e+00, -9.26347952e-01, -1.67696999e+00,\n",
       "       -1.84570384e+00,  1.55983504e+00,  7.79376551e-01, -2.43150395e-01,\n",
       "       -5.63457333e-01,  7.80525563e-01, -8.58715016e-01, -1.32880034e+00,\n",
       "       -4.42910155e-01,  3.35568988e-01,  8.98783040e-02, -4.79621695e-01,\n",
       "       -1.63826432e+00, -2.07899161e+00,  3.66508886e-01,  7.15407849e-02,\n",
       "        9.68846874e-01,  4.50438827e-01, -6.73963596e-01, -6.91355523e-01,\n",
       "        1.06669730e+00, -1.10919503e-01, -5.42801545e-01,  4.47545202e-01,\n",
       "        7.11230446e-02, -8.01462173e-01,  3.44956864e-01,  1.21777200e+00,\n",
       "        1.28818735e+00, -8.46725633e-01,  3.95859424e-01, -7.08786247e-01,\n",
       "       -1.58141298e+00, -1.92316132e+00,  6.17578039e-01, -6.77576727e-01,\n",
       "       -1.40660817e+00,  1.34109739e+00, -4.66635263e-01, -1.68989605e-01,\n",
       "       -1.63310558e+00, -5.01933198e-01, -7.80081871e-01,  7.64966199e-01,\n",
       "        8.91633500e-01,  1.75128218e+00, -4.21392395e-01,  1.12384700e+00,\n",
       "       -1.21343495e+00, -1.52124273e+00, -1.16365429e+00, -1.48720203e-01,\n",
       "        1.08808428e+00, -8.76682115e-01,  1.08273652e+00,  4.32712639e-01,\n",
       "        1.24631889e+00,  1.55033668e+00,  1.54631760e+00, -1.07376561e+00,\n",
       "       -1.37798439e+00, -2.26821584e-01, -5.94195366e-01, -6.01804317e-01,\n",
       "        2.17001939e-01,  3.97971619e-01,  7.27895477e-02,  2.15110743e-01,\n",
       "        2.95773689e-01,  8.43565977e-01,  4.01973227e-01, -9.31359303e-02,\n",
       "        5.90018773e-01,  7.40345048e-01,  1.02855365e-01,  2.58967824e+00,\n",
       "       -1.29231572e-01, -1.11411489e+00, -1.73303053e+00,  1.75702252e+00,\n",
       "        6.40819538e-01,  5.98605617e-01, -5.31553161e-01, -2.74024029e+00,\n",
       "       -5.77504824e-01, -2.41951235e+00,  1.98347712e+00,  9.38338471e-01,\n",
       "       -5.82179769e-01,  2.54971018e-01,  6.74416280e-01, -8.63185107e-01,\n",
       "       -1.05791541e+00,  1.28900222e+00,  2.17427604e+00, -1.59420286e+00,\n",
       "        8.72283439e-01, -1.52248000e+00, -3.41476730e-01, -1.74851191e+00,\n",
       "        2.91512386e-01,  3.92959747e-01, -3.86145659e-01,  1.39805921e+00,\n",
       "       -6.62534444e-01,  1.02636014e+00,  6.05969659e-01, -2.56146455e+00,\n",
       "        2.51098533e+00, -1.03941742e-01,  7.83724883e-02,  4.14414893e-01,\n",
       "       -1.08045670e+00, -1.31644900e+00, -1.24713581e+00, -1.10587920e+00,\n",
       "       -8.76184890e-02,  4.44637045e-01, -1.17030275e+00, -1.11205268e+00,\n",
       "        1.64394284e+00,  1.67732160e+00,  1.34655730e-01,  2.82678858e-01,\n",
       "       -1.10264668e+00, -4.51329536e-02, -4.56659452e-01, -1.56839763e+00,\n",
       "        4.90518647e-01, -3.16943068e-01,  5.77961371e-01, -7.94682477e-01,\n",
       "       -1.76523857e-01, -2.08079567e-01, -7.36548061e-01,  5.07559610e-01,\n",
       "        3.38430111e-01,  1.11764853e+00, -7.15913605e-01, -1.38350371e+00,\n",
       "       -1.57788002e+00,  2.11934154e-01, -3.38674422e-01, -1.66845950e-02,\n",
       "       -2.13188651e-01,  6.44347683e-01,  5.00698109e-01,  2.66257815e+00,\n",
       "        5.33962254e-01,  9.22268699e-01,  1.86992602e+00, -1.74970147e+00,\n",
       "        2.43632359e-01,  1.14597079e-01,  1.44070236e+00,  2.08220677e+00,\n",
       "        2.32054811e-01, -5.86769438e-01,  3.20216771e-01, -2.32131447e-01,\n",
       "        1.13605786e+00,  8.05178142e-01, -3.65923221e-01, -1.86959589e+00,\n",
       "        6.55873293e-01, -1.46414533e+00,  1.21808416e+00,  1.20317109e+00,\n",
       "        2.16894712e-01,  8.32218401e-01, -1.16225531e+00,  2.64891728e-01,\n",
       "       -1.02722510e-01, -8.07723876e-01, -1.75877760e-01,  5.91720719e-01,\n",
       "        3.29839594e-01,  4.67605592e-01,  7.80916860e-01, -7.30622125e-01,\n",
       "        1.40884194e-01, -5.91356021e-01, -3.17981801e-01, -9.02013233e-01,\n",
       "        1.00068504e-01,  6.74615949e-01, -2.25517943e-01,  2.08175929e-01,\n",
       "        2.38804768e+00, -1.58352163e+00,  7.33873141e-02, -3.57327603e-01,\n",
       "       -6.03796521e-01, -2.62588798e-01, -1.49089487e+00, -1.57737990e+00,\n",
       "        9.09958786e-01,  9.81068809e-01,  4.46318087e-01,  2.88414087e-01,\n",
       "       -8.72725023e-01,  4.03999505e-01, -1.06367419e+00, -8.51780855e-01,\n",
       "       -6.27279587e-01, -2.11384613e+00,  4.40391216e-01,  9.97990492e-01,\n",
       "       -1.18852110e+00,  8.54983967e-01,  1.05509062e-01,  2.38716056e-01,\n",
       "        1.02771492e+00, -7.39736212e-01, -6.33626090e-01, -1.99522706e-01,\n",
       "        8.70463391e-01,  4.63943083e-01, -8.81963796e-01, -1.08978504e+00,\n",
       "        1.87306437e-02, -1.31837247e+00,  9.39387164e-01,  8.82201458e-01,\n",
       "       -7.22401452e-01,  1.43188188e+00, -1.65129037e-03, -9.32029173e-03,\n",
       "        8.57107370e-01, -2.37970681e+00, -1.64585679e+00,  2.89712244e-01,\n",
       "       -6.25160281e-01, -1.82844608e+00, -1.24672272e+00, -1.80952251e-01,\n",
       "        2.70125741e-01, -5.04520138e-01, -9.87695415e-01,  1.08456325e+00,\n",
       "        5.05533230e-01, -1.05068246e-02,  2.10785121e+00, -6.25068467e-02,\n",
       "       -5.60888370e-01, -3.91822962e-01,  8.65296028e-02, -1.92087135e+00,\n",
       "       -4.08935587e-01,  1.48429109e+00,  1.45771972e+00,  3.13965814e-01,\n",
       "        8.20993002e-01,  5.04994280e-01,  5.69323666e-01,  1.30542811e+00,\n",
       "        9.93072526e-01,  1.04668484e+00,  9.40582152e-01, -1.34683279e-01,\n",
       "        6.36896006e-01,  6.55764228e-01,  5.44922676e-01,  1.44448645e-01,\n",
       "        1.24996527e+00,  2.36989708e+00,  1.15664367e+00,  1.40311219e+00,\n",
       "        1.30128484e-01, -1.99551909e+00, -5.37849643e-01,  7.54002944e-02,\n",
       "       -9.51260438e-02, -5.55976576e-01,  3.58463800e-01,  8.03325759e-01,\n",
       "       -7.22135759e-01, -5.16366431e-01, -8.69227268e-01, -1.53628094e+00,\n",
       "        1.56956703e+00, -2.07250370e+00, -4.49319303e-01, -3.26788814e-01,\n",
       "        1.40222000e+00,  9.22260959e-01,  1.16485905e+00, -1.85139888e-01,\n",
       "       -1.08663504e+00,  1.17233556e+00, -2.06462678e+00,  9.04523108e-01,\n",
       "        1.85827572e-01,  8.16762247e-01,  7.98648223e-01, -1.38128194e+00,\n",
       "       -1.18163210e-02, -1.04763450e+00,  1.44396999e-01,  1.33556706e-01,\n",
       "        1.96595943e+00, -9.26409513e-01, -7.35520670e-01, -1.80417033e-01,\n",
       "        1.83582324e+00,  1.07020119e-01, -1.42014303e+00, -4.95497111e-01,\n",
       "       -3.94348970e-01, -3.41325861e-02, -2.29580639e-01, -1.03611108e+00,\n",
       "       -4.58292158e-01,  1.54676118e-01,  6.66660053e-01,  1.23089964e+00,\n",
       "        1.41602734e+00, -1.18622270e+00,  1.71722055e+00,  1.09598926e+00,\n",
       "        9.93942484e-01,  1.24208346e+00, -8.08297924e-01, -6.55437770e-01,\n",
       "        1.58387693e+00,  1.26103412e-01, -4.52254019e-01,  3.79245487e-01,\n",
       "       -2.01018803e-02,  5.54112180e-01,  1.41692621e-01, -2.66624322e-01,\n",
       "        1.63243682e-01,  9.77648740e-01, -3.41955051e-01, -6.80573735e-01,\n",
       "       -1.21243633e+00,  5.96596989e-01, -1.02327941e+00,  1.17418103e+00,\n",
       "       -6.85749512e-01,  4.19603634e-01,  2.47900262e+00,  1.60880077e-01,\n",
       "       -8.19666086e-01, -4.30009289e-01, -9.46432537e-01,  1.92266980e-01,\n",
       "        8.50243445e-01, -1.34800183e+00, -8.98370398e-01,  9.54136928e-01,\n",
       "       -1.12504821e+00, -1.17155121e+00, -4.97563046e-01,  3.96523774e-01,\n",
       "       -5.06332241e-01,  3.59323738e-01, -2.99531043e-01, -6.89398182e-01,\n",
       "        1.09596014e+00, -6.51817078e-02, -4.47778421e-01,  1.87867245e+00,\n",
       "        2.65153342e+00, -7.74562268e-01, -6.54935437e-01, -5.28030441e-01,\n",
       "       -1.54430378e+00,  8.49857636e-01,  1.02948837e+00,  5.92269677e-01,\n",
       "        4.97169123e-01,  2.27184862e-01, -6.92134956e-01,  2.88959905e-01,\n",
       "        1.04416814e-01,  1.19145257e+00, -1.18327616e+00,  8.92374894e-01,\n",
       "       -8.60838149e-01,  7.84688972e-01, -1.22616358e+00, -6.73598068e-01,\n",
       "        5.61259406e-01, -5.26283019e-01, -8.01890850e-01,  2.04630183e-01,\n",
       "       -7.75761903e-01, -1.27546560e+00,  4.69642238e-01,  1.59804772e-01,\n",
       "        2.68030410e-01, -6.43260805e-01,  1.23838995e+00,  6.34696967e-01,\n",
       "        5.18851559e-01,  6.51402551e-01,  1.33889763e+00, -7.33840116e-01,\n",
       "        1.28027508e+00, -3.64002993e-01, -4.12471550e-01, -6.33098779e-01,\n",
       "        1.17656095e-01, -1.49570372e+00, -1.18696527e+00,  7.16970977e-01,\n",
       "       -2.98498270e-01,  4.45803490e-01, -1.03479435e+00, -2.82370592e-02,\n",
       "        1.25880350e+00,  4.93034110e-02,  2.23950208e-01,  2.58550813e-01,\n",
       "       -2.61159247e-01,  5.57298003e-01, -1.44931427e+00, -4.26587910e-02,\n",
       "       -6.78623575e-01,  1.30350378e+00, -6.12531590e-01,  1.17661958e-01,\n",
       "       -1.48279962e-01,  2.15575534e-01,  1.26694987e+00, -1.13987615e+00,\n",
       "        9.79871966e-01,  8.60958819e-01, -8.88596359e-01,  6.38026995e-01,\n",
       "        1.15979750e+00,  3.20231557e-01,  1.20406560e+00,  1.52896094e+00,\n",
       "        5.10062304e-01,  6.03380363e-01,  1.66265584e-01,  1.38747865e+00,\n",
       "       -1.57125216e+00,  1.04018903e+00, -1.67631007e+00,  2.26265766e-01,\n",
       "       -3.20905105e-01,  4.22195552e-01,  3.55601316e-01, -2.03708970e-01,\n",
       "       -8.96529670e-02, -5.01530890e-01,  3.99671523e-01,  4.93023551e-01,\n",
       "       -1.00420153e-01,  6.30437649e-01,  1.04423396e+00,  1.80200163e+00,\n",
       "       -1.05608340e+00,  1.45423860e+00, -5.08951046e-01, -6.28534858e-02,\n",
       "       -1.02227775e+00,  1.80292579e+00,  4.96577371e-01, -7.58565449e-01,\n",
       "        5.06024989e-01,  4.67659108e-01,  4.82124421e-01,  7.96956210e-01,\n",
       "       -1.56891460e-01, -6.60597174e-01, -1.45382661e-01,  1.74657606e+00,\n",
       "        1.15806631e+00,  6.94940615e-01,  6.43061426e-01,  1.87168149e-01,\n",
       "       -1.44712003e+00,  4.43688224e-01, -1.39196706e+00, -1.80300430e-01,\n",
       "       -2.81664690e-01,  7.33710604e-01,  8.89372599e-01, -7.50858019e-01,\n",
       "       -5.31325842e-01, -2.16753506e-01,  1.75516516e+00,  8.56128606e-01,\n",
       "       -4.54817971e-01,  5.50918676e-02, -9.70962394e-01,  9.24048269e-01,\n",
       "        2.84674563e+00,  8.66666975e-02, -2.54810454e+00,  2.14740324e+00,\n",
       "       -1.48797841e-01,  1.60649141e+00, -5.00529233e-02, -1.48288893e+00,\n",
       "        9.02551519e-02,  8.00232518e-01,  7.47165749e-01,  8.42146292e-01,\n",
       "       -1.70626107e-01, -9.62824311e-01, -2.01768274e-01,  2.52344330e-01,\n",
       "       -1.72291106e+00,  2.25050838e+00,  8.86163005e-01, -1.09675519e+00,\n",
       "       -1.32897284e+00,  3.05649265e-01,  2.33242623e-01, -1.66117539e-01,\n",
       "        1.05178001e-01, -1.84979400e+00, -4.83045542e-01, -1.57307690e+00,\n",
       "       -5.65838967e-02, -8.47406891e-01,  1.02347135e+00,  3.94858505e-01,\n",
       "        1.42475108e-02,  1.02973241e+00,  5.80463338e-01, -1.22168573e+00,\n",
       "        5.54053693e-01,  1.02355189e+00,  6.87231039e-03, -7.01150923e-01,\n",
       "       -1.32536764e+00, -7.37790813e-01, -8.57104245e-01, -1.33376926e+00,\n",
       "        1.07381641e+00,  6.52102029e-01, -8.95038971e-01,  6.50680193e-03,\n",
       "       -4.09586549e-01,  3.70770587e-01, -8.64603510e-01,  7.11707562e-02,\n",
       "       -3.12266111e-01,  5.02574125e-01, -1.41541552e+00, -1.82441839e+00,\n",
       "       -6.21952676e-02,  9.54498898e-01, -3.79066968e-01,  7.98847080e-03,\n",
       "        1.88722873e+00,  1.01500217e+00,  1.75545384e+00,  4.46355143e-01,\n",
       "        7.23453814e-01, -2.61438471e-01,  4.19476909e-01, -6.11670298e-01,\n",
       "        1.18145102e-01, -2.95573427e-01,  1.25020655e+00,  1.80513353e+00,\n",
       "        1.39153478e+00,  4.62043874e-01,  1.13065684e+00, -2.02762859e-01,\n",
       "       -6.12256519e-01,  1.44860239e+00, -1.40446625e+00, -9.24974610e-01,\n",
       "       -4.39897989e-01, -1.17290680e+00, -5.87296487e-01, -3.00451691e-02,\n",
       "        2.24067248e+00, -2.25379993e-01, -3.61568040e-01,  1.29512999e+00,\n",
       "       -7.12815649e-01,  8.36359588e-01, -1.09748319e+00,  4.38668834e-01,\n",
       "       -8.30171182e-02,  1.25278889e+00,  1.73399786e+00,  1.29834826e-01,\n",
       "       -1.88572274e-01,  5.49631691e-04,  1.15191266e+00, -1.03278366e+00,\n",
       "        7.30404668e-01, -9.49057297e-01, -7.70682926e-01, -1.43487012e+00,\n",
       "        1.53467463e+00, -5.81090202e-01, -9.62318121e-01, -4.21783994e-01,\n",
       "        9.82017199e-01, -1.50142674e-01,  7.48127996e-02,  2.98869525e-01,\n",
       "       -9.15259289e-02,  1.67937882e+00,  6.75904444e-01, -3.45967649e-01,\n",
       "        3.12079001e-01, -1.11744591e+00,  2.33701460e+00, -1.47024190e+00,\n",
       "        7.66854552e-01, -1.10049182e-01, -1.04179128e+00,  3.33125842e-01,\n",
       "        1.15578375e+00, -1.18970258e+00,  1.70175566e+00,  3.65682195e-01,\n",
       "       -2.43006794e-01, -7.24401242e-01,  4.81537372e-01,  1.91754044e-01,\n",
       "       -8.77082768e-01,  1.38292608e+00,  4.25780259e-01,  7.68389313e-02,\n",
       "        5.58892932e-01,  4.52206442e-01, -4.93696561e-01,  3.52393009e-01,\n",
       "        5.18188902e-01, -8.88480188e-01, -3.31224371e-01, -4.48338707e-01,\n",
       "       -5.83914002e-01,  1.41078311e+00,  4.24868801e-01, -1.72340248e-01,\n",
       "        3.59330571e-01, -1.00985927e+00,  3.03460169e-01,  1.05756419e+00,\n",
       "       -1.16371205e+00, -3.73405183e-01,  5.80094962e-01, -1.89169693e+00,\n",
       "        1.80082347e+00,  8.26087326e-01, -1.95750028e+00,  2.60075417e-01,\n",
       "       -2.84208770e-01, -1.23158379e-01, -3.10147156e-01, -8.06243433e-02,\n",
       "       -4.33795097e-01, -1.03256563e+00, -6.63160936e-01,  2.82742107e+00,\n",
       "        7.46251098e-01, -1.46446571e+00, -1.60771804e+00,  7.96225800e-02,\n",
       "        4.82851204e-01, -1.00447929e+00, -6.57368526e-01,  2.58442177e-01,\n",
       "       -8.42670559e-01, -4.27897695e-02,  7.25751060e-01, -1.05904667e+00,\n",
       "       -2.54970978e+00, -1.32898328e+00,  1.03247529e+00,  1.85455915e-01,\n",
       "       -4.59750608e-01,  1.69560234e-01, -1.56002688e+00,  2.69411341e-01,\n",
       "        1.45449006e+00,  1.33852361e+00,  4.92470445e-03, -1.28352550e-01,\n",
       "       -4.74577996e-01,  1.43647125e+00,  2.28051906e+00,  1.50254690e+00,\n",
       "        1.88155935e-01, -7.08476180e-01, -1.38520067e+00, -1.69181617e-01,\n",
       "        8.77817641e-01,  9.59861676e-01, -1.01060090e+00, -1.15910013e+00,\n",
       "        9.53748665e-01,  1.17221921e+00, -4.60086236e-01,  2.03698160e+00,\n",
       "        1.07122913e+00, -2.13952963e+00,  1.00533319e-02,  5.86080941e-01,\n",
       "       -9.05186843e-02, -8.68387717e-01,  1.91380543e+00, -4.47632882e-02,\n",
       "       -1.04119578e-01, -5.54446732e-01,  9.01237941e-01, -2.29073517e-01,\n",
       "       -3.44358720e-01, -1.60253496e+00, -5.55598786e-01,  1.61519606e+00,\n",
       "        6.97395990e-01, -2.34550421e-01, -7.57359926e-01,  7.70347439e-01,\n",
       "        4.02241631e-01,  1.37052532e-01,  1.53201988e+00, -1.01403315e-01,\n",
       "        4.99497889e-01,  3.93458952e-01, -1.19567494e+00, -2.00333492e+00,\n",
       "       -2.70337676e-01, -1.18418039e+00, -1.06467777e+00,  2.85192174e-01,\n",
       "       -2.20429407e-01, -1.56623889e+00,  5.38346801e-01, -1.53035029e+00,\n",
       "        1.12357762e+00, -5.83988231e-01,  9.14830753e-01, -9.30377481e-01,\n",
       "        4.91210779e-01, -2.28215745e+00,  1.64342513e+00,  1.17722637e-01,\n",
       "        1.06531033e+00,  7.81267098e-01, -6.79593173e-01,  1.94957450e+00,\n",
       "        1.76140264e+00, -4.92071579e-01,  2.28945152e+00,  4.44933086e-01,\n",
       "        5.44344714e-01, -1.71471516e-01, -1.52239450e-01,  3.19936391e-01,\n",
       "        1.25723003e+00, -5.75815031e-01,  8.27107106e-01,  7.65017547e-02,\n",
       "        9.19509577e-01, -6.60993862e-01, -1.75231258e+00,  7.57230940e-02,\n",
       "        6.77132590e-01, -8.88074824e-02,  8.81991943e-01,  9.37241744e-03,\n",
       "        3.64600634e-01,  2.00574173e+00,  3.80997065e-01, -3.71825038e-01,\n",
       "       -3.45019025e-01,  4.07041915e-01,  3.12633862e-01, -2.66427241e-01,\n",
       "        8.97878883e-01,  7.73582945e-01, -4.51455362e-01,  4.70182096e-01,\n",
       "       -3.52589101e-01,  1.50501389e+00, -2.96288245e-01, -1.61564831e+00,\n",
       "       -1.31018596e+00,  1.70619976e+00, -1.33544983e+00, -2.77492350e-01,\n",
       "       -1.31616170e-01,  1.10008216e+00, -2.34538877e+00,  9.37996777e-01,\n",
       "        5.56747533e-01, -2.29426602e-01, -9.12225008e-01,  1.33341707e+00,\n",
       "        8.09526193e-01, -1.70893369e+00, -1.22053709e-01,  6.83246457e-01,\n",
       "       -1.87935214e-03,  1.73063101e-01,  1.42521100e+00,  4.64515902e-01,\n",
       "       -3.28821999e-01, -4.14589362e-01,  2.67375905e-01, -1.29698604e+00,\n",
       "        1.03438944e+00, -2.66284692e-01,  2.97337136e-01,  9.22466593e-01,\n",
       "       -7.18838299e-02, -1.09653655e+00,  1.06607338e-01, -3.77197731e-01,\n",
       "       -3.26987631e-01,  1.32910137e-02, -1.43465760e+00, -2.54658169e-01,\n",
       "       -2.46953302e+00,  1.26287961e+00, -1.21637546e-01, -1.11752901e-01,\n",
       "        9.50520999e-02, -1.27762074e+00,  4.13842959e-01, -4.37137127e-01,\n",
       "        1.18946964e+00,  7.86966909e-01, -5.16613667e-01,  2.53268348e-01,\n",
       "        8.22246099e-01, -2.50399719e-01,  1.36425101e+00,  1.97827406e-01,\n",
       "        1.41627716e+00, -1.45114122e-01, -1.63581984e+00,  3.01933454e+00,\n",
       "        2.28770993e-01, -1.01326620e-01,  1.47292237e+00, -2.59289624e-02,\n",
       "        3.06190587e-02,  1.23146715e+00, -5.06652139e-01, -8.82511611e-01,\n",
       "        3.69256003e-01, -1.42400708e+00, -1.21918960e+00,  2.12065180e-01,\n",
       "        2.87782414e-01,  1.29756352e+00, -6.23308569e-01, -6.82091719e-02,\n",
       "        1.61851050e+00, -9.94090512e-01, -3.15457707e-01, -1.06731403e+00,\n",
       "        5.09835041e-01, -1.69352395e-01, -1.18116055e-01,  5.47979022e-01,\n",
       "        1.77163427e+00, -5.48595096e-01, -2.89008293e-01, -2.25892695e+00,\n",
       "       -1.14254181e+00, -5.28348180e-01, -8.72241897e-01,  4.62237176e-02,\n",
       "        3.24588523e-01,  6.34139259e-01, -1.54753074e+00, -9.09800863e-01,\n",
       "        1.10420297e+00, -1.71948011e-01,  2.82338837e-01, -1.04277759e+00,\n",
       "       -1.45947704e-01,  4.84068562e-01,  4.82972235e-01,  9.07813829e-01,\n",
       "       -3.14847328e-01, -1.24812112e+00,  1.36828169e+00,  6.41945546e-01,\n",
       "       -1.60484377e+00, -8.16918332e-01, -1.23301398e+00, -1.84940771e+00,\n",
       "       -1.05651465e+00, -3.80309462e-01,  2.37693226e+00,  2.41006863e-02,\n",
       "       -1.26984028e+00, -1.15197458e+00, -1.32086233e+00, -7.81802296e-01,\n",
       "        9.53129801e-01, -1.20532800e+00,  5.26858852e-01,  9.80230537e-01,\n",
       "       -2.23456442e+00, -8.67327977e-01, -3.32871465e-01, -7.06270053e-02,\n",
       "       -1.40211245e+00,  4.65779854e-01, -7.84193530e-01,  5.02507595e-01,\n",
       "       -3.15762840e-01, -8.28821085e-01,  1.31093124e+00, -6.35492812e-01,\n",
       "       -2.67599938e-01, -2.56712213e+00,  4.33023391e-01, -4.43001937e-01,\n",
       "        9.80224694e-02,  1.94475265e-01,  7.29584115e-01,  7.52565475e-01,\n",
       "       -7.99538038e-01,  1.95654513e-01, -1.80137970e+00, -4.18130748e-01,\n",
       "        7.35301781e-01, -2.11735161e-01, -2.47786497e-02,  8.09642147e-01,\n",
       "       -9.12024704e-01, -1.95932121e-01, -1.66713685e+00, -2.09643193e-01,\n",
       "        2.37219491e+00, -7.41398785e-01, -8.79104251e-01, -3.97777470e-01,\n",
       "       -9.11595284e-01,  1.43779127e+00,  1.14218957e+00, -1.25732525e+00,\n",
       "       -8.36161656e-03,  3.41831587e-01,  1.66808897e+00,  3.16375207e-01,\n",
       "        5.81384017e-01, -2.91039114e-01, -6.83523422e-01, -9.08437891e-01,\n",
       "       -7.67913122e-01,  3.68466459e-01, -2.26176848e+00, -3.42090871e-01,\n",
       "        3.53616597e-01,  3.83678662e-01,  6.52230172e-02,  5.45545346e-01,\n",
       "        2.73107407e-01, -1.21978067e+00, -3.84456805e-01,  1.17260400e-01,\n",
       "       -2.47054330e-01,  1.61485865e+00,  1.56036853e+00,  1.05782732e+00,\n",
       "       -1.28968501e+00, -2.20333734e+00,  9.07114403e-01, -4.37901352e-01])"
      ]
     },
     "execution_count": 257,
     "metadata": {},
     "output_type": "execute_result"
    }
   ],
   "source": [
    "# Ztest\n",
    "\n",
    "from numpy.random import randn\n",
    "\n",
    "population = randn(1000)\n",
    "population"
   ]
  },
  {
   "cell_type": "code",
   "execution_count": 259,
   "id": "fa2b6724-45a5-470d-9fa4-bb3514e9baf7",
   "metadata": {},
   "outputs": [
    {
     "name": "stderr",
     "output_type": "stream",
     "text": [
      "C:\\Users\\raich\\AppData\\Local\\Temp\\ipykernel_15240\\2958836585.py:1: UserWarning: \n",
      "\n",
      "`distplot` is a deprecated function and will be removed in seaborn v0.14.0.\n",
      "\n",
      "Please adapt your code to use either `displot` (a figure-level function with\n",
      "similar flexibility) or `histplot` (an axes-level function for histograms).\n",
      "\n",
      "For a guide to updating your code to use the new functions, please see\n",
      "https://gist.github.com/mwaskom/de44147ed2974457ad6372750bbe5751\n",
      "\n",
      "  sns.distplot(population)\n"
     ]
    },
    {
     "data": {
      "text/plain": [
       "<Axes: ylabel='Density'>"
      ]
     },
     "execution_count": 259,
     "metadata": {},
     "output_type": "execute_result"
    },
    {
     "data": {
      "image/png": "[encoded data removed]",
      "text/plain": [
       "<Figure size 640x480 with 1 Axes>"
      ]
     },
     "metadata": {},
     "output_type": "display_data"
    }
   ],
   "source": [
    "sns.distplot(population)"
   ]
  },
  {
   "cell_type": "code",
   "execution_count": 261,
   "id": "393b42a5-9d57-4ee9-b489-6453be16303f",
   "metadata": {},
   "outputs": [
    {
     "data": {
      "text/plain": [
       "(0.023099481026618948, 0.9983292266684217)"
      ]
     },
     "execution_count": 261,
     "metadata": {},
     "output_type": "execute_result"
    }
   ],
   "source": [
    "np.mean(population), np.std(population)"
   ]
  },
  {
   "cell_type": "code",
   "execution_count": 263,
   "id": "7e4ee046-9b54-4f8b-b1f4-9009a6cdf656",
   "metadata": {},
   "outputs": [],
   "source": [
    "null_mean = 0.05\n",
    "\n",
    "## if p value <= 0.05 -- reject null hypothesis\n",
    "## if p value > 0.05 -- fail to reject null hypothesis"
   ]
  },
  {
   "cell_type": "code",
   "execution_count": 265,
   "id": "e8cf117b-e9fe-4306-8de2-a3421160f93d",
   "metadata": {},
   "outputs": [],
   "source": [
    "from statsmodels.stats.weightstats import ztest"
   ]
  },
  {
   "cell_type": "code",
   "execution_count": 271,
   "id": "22158fdf-11bd-47ee-9b3a-1837f17d3bb3",
   "metadata": {},
   "outputs": [],
   "source": [
    "z_score, pvalue = ztest(population, value=null_mean, alternative='larger') ## here alternative means the mean is greater than the null mean"
   ]
  },
  {
   "cell_type": "code",
   "execution_count": 273,
   "id": "a7e8c836-522c-407d-82db-5f129e05a73c",
   "metadata": {},
   "outputs": [
    {
     "data": {
      "text/plain": [
       "-0.8516666028742433"
      ]
     },
     "execution_count": 273,
     "metadata": {},
     "output_type": "execute_result"
    }
   ],
   "source": [
    "z_score"
   ]
  },
  {
   "cell_type": "code",
   "execution_count": 275,
   "id": "9e19d518-5495-4864-9a87-8b312e68e3ae",
   "metadata": {},
   "outputs": [
    {
     "data": {
      "text/plain": [
       "0.8028004190767073"
      ]
     },
     "execution_count": 275,
     "metadata": {},
     "output_type": "execute_result"
    }
   ],
   "source": [
    "pvalue"
   ]
  },
  {
   "cell_type": "code",
   "execution_count": 277,
   "id": "37f372b5-f366-4fc2-9161-ea11b397ece7",
   "metadata": {},
   "outputs": [
    {
     "name": "stdout",
     "output_type": "stream",
     "text": [
      "Fail to reject the hypothesis\n"
     ]
    }
   ],
   "source": [
    "if pvalue <= 0.05 :\n",
    "    print(\"Reject the hypothesis\")\n",
    "else :\n",
    "    print(\"Fail to reject the hypothesis\")"
   ]
  },
  {
   "cell_type": "code",
   "execution_count": null,
   "id": "2ead3159-ff7e-47f5-ad34-1442dd1fc716",
   "metadata": {},
   "outputs": [],
   "source": []
  }
 ],
 "metadata": {
  "kernelspec": {
   "display_name": "Python [conda env:base] *",
   "language": "python",
   "name": "conda-base-py"
  },
  "language_info": {
   "codemirror_mode": {
    "name": "ipython",
    "version": 3
   },
   "file_extension": ".py",
   "mimetype": "text/x-python",
   "name": "python",
   "nbconvert_exporter": "python",
   "pygments_lexer": "ipython3",
   "version": "3.12.7"
  }
 },
 "nbformat": 4,
 "nbformat_minor": 5
}
