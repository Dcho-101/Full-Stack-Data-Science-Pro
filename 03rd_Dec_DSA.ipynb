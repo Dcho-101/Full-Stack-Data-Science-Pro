{
  "cells": [
    {
      "cell_type": "markdown",
      "metadata": {
        "id": "b-IrgRfhlqvd"
      },
      "source": [
        "# ***03rd Dec : DSA Problem Solving***"
      ]
    },
    {
      "cell_type": "code",
      "execution_count": null,
      "metadata": {
        "id": "77csLt4Elfd6"
      },
      "outputs": [],
      "source": [
        "## Previously we have done some linear search algorithms. today we will make the same linear search using recursions."
      ]
    },
    {
      "cell_type": "code",
      "execution_count": 19,
      "metadata": {
        "colab": {
          "base_uri": "https://localhost:8080/",
          "height": 321
        },
        "id": "e20ImNPFmHRZ",
        "outputId": "7a3752a9-cd76-46b2-8924-d4c70ca6e8b3"
      },
      "outputs": [
        {
          "output_type": "error",
          "ename": "IndexError",
          "evalue": "list index out of range",
          "traceback": [
            "\u001b[0;31m---------------------------------------------------------------------------\u001b[0m",
            "\u001b[0;31mIndexError\u001b[0m                                Traceback (most recent call last)",
            "\u001b[0;32m<ipython-input-19-ff74849a7f09>\u001b[0m in \u001b[0;36m<cell line: 10>\u001b[0;34m()\u001b[0m\n\u001b[1;32m      8\u001b[0m   \u001b[0;32mreturn\u001b[0m \u001b[0mlinear_search_using_recursion\u001b[0m\u001b[0;34m(\u001b[0m\u001b[0marr\u001b[0m\u001b[0;34m,\u001b[0m\u001b[0mnum_find\u001b[0m\u001b[0;34m,\u001b[0m \u001b[0mstarting_index\u001b[0m \u001b[0;34m+\u001b[0m \u001b[0;36m1\u001b[0m\u001b[0;34m)\u001b[0m\u001b[0;34m\u001b[0m\u001b[0;34m\u001b[0m\u001b[0m\n\u001b[1;32m      9\u001b[0m \u001b[0;34m\u001b[0m\u001b[0m\n\u001b[0;32m---> 10\u001b[0;31m \u001b[0mlinear_search_using_recursion\u001b[0m\u001b[0;34m(\u001b[0m\u001b[0;34m[\u001b[0m\u001b[0;36m3\u001b[0m\u001b[0;34m,\u001b[0m\u001b[0;36m1\u001b[0m\u001b[0;34m,\u001b[0m\u001b[0;36m5\u001b[0m\u001b[0;34m,\u001b[0m\u001b[0;36m2\u001b[0m\u001b[0;34m,\u001b[0m\u001b[0;36m4\u001b[0m\u001b[0;34m]\u001b[0m\u001b[0;34m,\u001b[0m\u001b[0;36m9\u001b[0m\u001b[0;34m,\u001b[0m\u001b[0;36m0\u001b[0m\u001b[0;34m)\u001b[0m\u001b[0;34m\u001b[0m\u001b[0;34m\u001b[0m\u001b[0m\n\u001b[0m",
            "\u001b[0;32m<ipython-input-19-ff74849a7f09>\u001b[0m in \u001b[0;36mlinear_search_using_recursion\u001b[0;34m(arr, num_find, starting_index)\u001b[0m\n\u001b[1;32m      6\u001b[0m \u001b[0;34m\u001b[0m\u001b[0m\n\u001b[1;32m      7\u001b[0m   \u001b[0;31m# recursive case\u001b[0m\u001b[0;34m\u001b[0m\u001b[0;34m\u001b[0m\u001b[0m\n\u001b[0;32m----> 8\u001b[0;31m   \u001b[0;32mreturn\u001b[0m \u001b[0mlinear_search_using_recursion\u001b[0m\u001b[0;34m(\u001b[0m\u001b[0marr\u001b[0m\u001b[0;34m,\u001b[0m\u001b[0mnum_find\u001b[0m\u001b[0;34m,\u001b[0m \u001b[0mstarting_index\u001b[0m \u001b[0;34m+\u001b[0m \u001b[0;36m1\u001b[0m\u001b[0;34m)\u001b[0m\u001b[0;34m\u001b[0m\u001b[0;34m\u001b[0m\u001b[0m\n\u001b[0m\u001b[1;32m      9\u001b[0m \u001b[0;34m\u001b[0m\u001b[0m\n\u001b[1;32m     10\u001b[0m \u001b[0mlinear_search_using_recursion\u001b[0m\u001b[0;34m(\u001b[0m\u001b[0;34m[\u001b[0m\u001b[0;36m3\u001b[0m\u001b[0;34m,\u001b[0m\u001b[0;36m1\u001b[0m\u001b[0;34m,\u001b[0m\u001b[0;36m5\u001b[0m\u001b[0;34m,\u001b[0m\u001b[0;36m2\u001b[0m\u001b[0;34m,\u001b[0m\u001b[0;36m4\u001b[0m\u001b[0;34m]\u001b[0m\u001b[0;34m,\u001b[0m\u001b[0;36m9\u001b[0m\u001b[0;34m,\u001b[0m\u001b[0;36m0\u001b[0m\u001b[0;34m)\u001b[0m\u001b[0;34m\u001b[0m\u001b[0;34m\u001b[0m\u001b[0m\n",
            "\u001b[0;32m<ipython-input-19-ff74849a7f09>\u001b[0m in \u001b[0;36mlinear_search_using_recursion\u001b[0;34m(arr, num_find, starting_index)\u001b[0m\n\u001b[1;32m      6\u001b[0m \u001b[0;34m\u001b[0m\u001b[0m\n\u001b[1;32m      7\u001b[0m   \u001b[0;31m# recursive case\u001b[0m\u001b[0;34m\u001b[0m\u001b[0;34m\u001b[0m\u001b[0m\n\u001b[0;32m----> 8\u001b[0;31m   \u001b[0;32mreturn\u001b[0m \u001b[0mlinear_search_using_recursion\u001b[0m\u001b[0;34m(\u001b[0m\u001b[0marr\u001b[0m\u001b[0;34m,\u001b[0m\u001b[0mnum_find\u001b[0m\u001b[0;34m,\u001b[0m \u001b[0mstarting_index\u001b[0m \u001b[0;34m+\u001b[0m \u001b[0;36m1\u001b[0m\u001b[0;34m)\u001b[0m\u001b[0;34m\u001b[0m\u001b[0;34m\u001b[0m\u001b[0m\n\u001b[0m\u001b[1;32m      9\u001b[0m \u001b[0;34m\u001b[0m\u001b[0m\n\u001b[1;32m     10\u001b[0m \u001b[0mlinear_search_using_recursion\u001b[0m\u001b[0;34m(\u001b[0m\u001b[0;34m[\u001b[0m\u001b[0;36m3\u001b[0m\u001b[0;34m,\u001b[0m\u001b[0;36m1\u001b[0m\u001b[0;34m,\u001b[0m\u001b[0;36m5\u001b[0m\u001b[0;34m,\u001b[0m\u001b[0;36m2\u001b[0m\u001b[0;34m,\u001b[0m\u001b[0;36m4\u001b[0m\u001b[0;34m]\u001b[0m\u001b[0;34m,\u001b[0m\u001b[0;36m9\u001b[0m\u001b[0;34m,\u001b[0m\u001b[0;36m0\u001b[0m\u001b[0;34m)\u001b[0m\u001b[0;34m\u001b[0m\u001b[0;34m\u001b[0m\u001b[0m\n",
            "\u001b[0;32m<ipython-input-19-ff74849a7f09>\u001b[0m in \u001b[0;36mlinear_search_using_recursion\u001b[0;34m(arr, num_find, starting_index)\u001b[0m\n\u001b[1;32m      6\u001b[0m \u001b[0;34m\u001b[0m\u001b[0m\n\u001b[1;32m      7\u001b[0m   \u001b[0;31m# recursive case\u001b[0m\u001b[0;34m\u001b[0m\u001b[0;34m\u001b[0m\u001b[0m\n\u001b[0;32m----> 8\u001b[0;31m   \u001b[0;32mreturn\u001b[0m \u001b[0mlinear_search_using_recursion\u001b[0m\u001b[0;34m(\u001b[0m\u001b[0marr\u001b[0m\u001b[0;34m,\u001b[0m\u001b[0mnum_find\u001b[0m\u001b[0;34m,\u001b[0m \u001b[0mstarting_index\u001b[0m \u001b[0;34m+\u001b[0m \u001b[0;36m1\u001b[0m\u001b[0;34m)\u001b[0m\u001b[0;34m\u001b[0m\u001b[0;34m\u001b[0m\u001b[0m\n\u001b[0m\u001b[1;32m      9\u001b[0m \u001b[0;34m\u001b[0m\u001b[0m\n\u001b[1;32m     10\u001b[0m \u001b[0mlinear_search_using_recursion\u001b[0m\u001b[0;34m(\u001b[0m\u001b[0;34m[\u001b[0m\u001b[0;36m3\u001b[0m\u001b[0;34m,\u001b[0m\u001b[0;36m1\u001b[0m\u001b[0;34m,\u001b[0m\u001b[0;36m5\u001b[0m\u001b[0;34m,\u001b[0m\u001b[0;36m2\u001b[0m\u001b[0;34m,\u001b[0m\u001b[0;36m4\u001b[0m\u001b[0;34m]\u001b[0m\u001b[0;34m,\u001b[0m\u001b[0;36m9\u001b[0m\u001b[0;34m,\u001b[0m\u001b[0;36m0\u001b[0m\u001b[0;34m)\u001b[0m\u001b[0;34m\u001b[0m\u001b[0;34m\u001b[0m\u001b[0m\n",
            "\u001b[0;32m<ipython-input-19-ff74849a7f09>\u001b[0m in \u001b[0;36mlinear_search_using_recursion\u001b[0;34m(arr, num_find, starting_index)\u001b[0m\n\u001b[1;32m      6\u001b[0m \u001b[0;34m\u001b[0m\u001b[0m\n\u001b[1;32m      7\u001b[0m   \u001b[0;31m# recursive case\u001b[0m\u001b[0;34m\u001b[0m\u001b[0;34m\u001b[0m\u001b[0m\n\u001b[0;32m----> 8\u001b[0;31m   \u001b[0;32mreturn\u001b[0m \u001b[0mlinear_search_using_recursion\u001b[0m\u001b[0;34m(\u001b[0m\u001b[0marr\u001b[0m\u001b[0;34m,\u001b[0m\u001b[0mnum_find\u001b[0m\u001b[0;34m,\u001b[0m \u001b[0mstarting_index\u001b[0m \u001b[0;34m+\u001b[0m \u001b[0;36m1\u001b[0m\u001b[0;34m)\u001b[0m\u001b[0;34m\u001b[0m\u001b[0;34m\u001b[0m\u001b[0m\n\u001b[0m\u001b[1;32m      9\u001b[0m \u001b[0;34m\u001b[0m\u001b[0m\n\u001b[1;32m     10\u001b[0m \u001b[0mlinear_search_using_recursion\u001b[0m\u001b[0;34m(\u001b[0m\u001b[0;34m[\u001b[0m\u001b[0;36m3\u001b[0m\u001b[0;34m,\u001b[0m\u001b[0;36m1\u001b[0m\u001b[0;34m,\u001b[0m\u001b[0;36m5\u001b[0m\u001b[0;34m,\u001b[0m\u001b[0;36m2\u001b[0m\u001b[0;34m,\u001b[0m\u001b[0;36m4\u001b[0m\u001b[0;34m]\u001b[0m\u001b[0;34m,\u001b[0m\u001b[0;36m9\u001b[0m\u001b[0;34m,\u001b[0m\u001b[0;36m0\u001b[0m\u001b[0;34m)\u001b[0m\u001b[0;34m\u001b[0m\u001b[0;34m\u001b[0m\u001b[0m\n",
            "\u001b[0;32m<ipython-input-19-ff74849a7f09>\u001b[0m in \u001b[0;36mlinear_search_using_recursion\u001b[0;34m(arr, num_find, starting_index)\u001b[0m\n\u001b[1;32m      6\u001b[0m \u001b[0;34m\u001b[0m\u001b[0m\n\u001b[1;32m      7\u001b[0m   \u001b[0;31m# recursive case\u001b[0m\u001b[0;34m\u001b[0m\u001b[0;34m\u001b[0m\u001b[0m\n\u001b[0;32m----> 8\u001b[0;31m   \u001b[0;32mreturn\u001b[0m \u001b[0mlinear_search_using_recursion\u001b[0m\u001b[0;34m(\u001b[0m\u001b[0marr\u001b[0m\u001b[0;34m,\u001b[0m\u001b[0mnum_find\u001b[0m\u001b[0;34m,\u001b[0m \u001b[0mstarting_index\u001b[0m \u001b[0;34m+\u001b[0m \u001b[0;36m1\u001b[0m\u001b[0;34m)\u001b[0m\u001b[0;34m\u001b[0m\u001b[0;34m\u001b[0m\u001b[0m\n\u001b[0m\u001b[1;32m      9\u001b[0m \u001b[0;34m\u001b[0m\u001b[0m\n\u001b[1;32m     10\u001b[0m \u001b[0mlinear_search_using_recursion\u001b[0m\u001b[0;34m(\u001b[0m\u001b[0;34m[\u001b[0m\u001b[0;36m3\u001b[0m\u001b[0;34m,\u001b[0m\u001b[0;36m1\u001b[0m\u001b[0;34m,\u001b[0m\u001b[0;36m5\u001b[0m\u001b[0;34m,\u001b[0m\u001b[0;36m2\u001b[0m\u001b[0;34m,\u001b[0m\u001b[0;36m4\u001b[0m\u001b[0;34m]\u001b[0m\u001b[0;34m,\u001b[0m\u001b[0;36m9\u001b[0m\u001b[0;34m,\u001b[0m\u001b[0;36m0\u001b[0m\u001b[0;34m)\u001b[0m\u001b[0;34m\u001b[0m\u001b[0;34m\u001b[0m\u001b[0m\n",
            "\u001b[0;32m<ipython-input-19-ff74849a7f09>\u001b[0m in \u001b[0;36mlinear_search_using_recursion\u001b[0;34m(arr, num_find, starting_index)\u001b[0m\n\u001b[1;32m      2\u001b[0m \u001b[0;34m\u001b[0m\u001b[0m\n\u001b[1;32m      3\u001b[0m   \u001b[0;31m# base case\u001b[0m\u001b[0;34m\u001b[0m\u001b[0;34m\u001b[0m\u001b[0m\n\u001b[0;32m----> 4\u001b[0;31m   \u001b[0;32mif\u001b[0m \u001b[0marr\u001b[0m\u001b[0;34m[\u001b[0m\u001b[0mstarting_index\u001b[0m\u001b[0;34m]\u001b[0m \u001b[0;34m==\u001b[0m \u001b[0mnum_find\u001b[0m \u001b[0;34m:\u001b[0m\u001b[0;34m\u001b[0m\u001b[0;34m\u001b[0m\u001b[0m\n\u001b[0m\u001b[1;32m      5\u001b[0m     \u001b[0;32mreturn\u001b[0m \u001b[0mstarting_index\u001b[0m\u001b[0;34m\u001b[0m\u001b[0;34m\u001b[0m\u001b[0m\n\u001b[1;32m      6\u001b[0m \u001b[0;34m\u001b[0m\u001b[0m\n",
            "\u001b[0;31mIndexError\u001b[0m: list index out of range"
          ]
        }
      ],
      "source": [
        "def linear_search_using_recursion(arr, num_find, starting_index) :\n",
        "\n",
        "  # base case\n",
        "  if arr[starting_index] == num_find :\n",
        "    return starting_index\n",
        "\n",
        "  # recursive case\n",
        "  return linear_search_using_recursion(arr,num_find, starting_index + 1)\n",
        "\n",
        "linear_search_using_recursion([3,1,5,2,4],9,0)"
      ]
    },
    {
      "cell_type": "code",
      "execution_count": 20,
      "metadata": {
        "colab": {
          "base_uri": "https://localhost:8080/"
        },
        "id": "ydrxYNUVm_vb",
        "outputId": "761d9d5f-1450-4c95-9458-c44c9485041c"
      },
      "outputs": [
        {
          "output_type": "execute_result",
          "data": {
            "text/plain": [
              "-1"
            ]
          },
          "metadata": {},
          "execution_count": 20
        }
      ],
      "source": [
        "## corrected code\n",
        "\n",
        "def search(arr, starting_index, data) :\n",
        "  ## base case\n",
        "  if starting_index >= len(arr) :\n",
        "    return -1\n",
        "\n",
        "  ## code\n",
        "  if arr[starting_index] == data :\n",
        "    return starting_index\n",
        "\n",
        "  ## Recursive case\n",
        "  return search(arr, starting_index + 1, data)\n",
        "\n",
        "search([3,1,5,2,4],0,9)"
      ]
    },
    {
      "cell_type": "markdown",
      "source": [
        "# **Binary Search Using Recursion**"
      ],
      "metadata": {
        "id": "qN4Wyt1hsKKD"
      }
    },
    {
      "cell_type": "code",
      "execution_count": 23,
      "metadata": {
        "id": "m5pDHOHvpr2h",
        "colab": {
          "base_uri": "https://localhost:8080/"
        },
        "outputId": "708c3e8c-3a26-4021-a9ca-07a56b28dce2"
      },
      "outputs": [
        {
          "output_type": "execute_result",
          "data": {
            "text/plain": [
              "1"
            ]
          },
          "metadata": {},
          "execution_count": 23
        }
      ],
      "source": [
        "def binary_search_using_recursion(arr, starting_index, ending_index, data) :\n",
        "  ## base case\n",
        "  if starting_index > ending_index :\n",
        "    return -1\n",
        "\n",
        "  ## logic\n",
        "  mid = int(starting_index + (ending_index - starting_index)/2)\n",
        "  if arr[mid] == data :\n",
        "    return mid\n",
        "\n",
        "  ## recursive case\n",
        "  elif arr[mid] > data :\n",
        "    return binary_search_using_recursion(arr, starting_index, mid -1, data)\n",
        "\n",
        "  else :\n",
        "    return binary_search_using_recursion(arr, mid + 1, ending_index, data)\n",
        "\n",
        "binary_search_using_recursion([1,2,3,4,5],0,4,2)"
      ]
    },
    {
      "cell_type": "code",
      "source": [
        "## Corrected code\n",
        "def binary_search_using_recursion(arr, left, right, data) :\n",
        "  ## base case\n",
        "  if left > right :\n",
        "    return -1\n",
        "\n",
        "  ## logic\n",
        "  mid = int(left + (right - left)/2)\n",
        "  if arr[mid] == data :\n",
        "    return mid\n",
        "\n",
        "  ## recursive case\n",
        "  elif arr[mid] > data :\n",
        "    return binary_search_using_recursion(arr, left, mid -1, data)\n",
        "\n",
        "  else :\n",
        "    return binary_search_using_recursion(arr, mid + 1, right, data)\n",
        "\n",
        "binary_search_using_recursion([1,2,3,4,5],0,4,99)"
      ],
      "metadata": {
        "colab": {
          "base_uri": "https://localhost:8080/"
        },
        "id": "HQjrRXOiwCX5",
        "outputId": "0454aaaa-a7e2-4d53-cd7c-2b010cce4034"
      },
      "execution_count": 25,
      "outputs": [
        {
          "output_type": "execute_result",
          "data": {
            "text/plain": [
              "-1"
            ]
          },
          "metadata": {},
          "execution_count": 25
        }
      ]
    },
    {
      "cell_type": "markdown",
      "source": [
        "# **Reversing array**"
      ],
      "metadata": {
        "id": "eECHVpgwzXoa"
      }
    },
    {
      "cell_type": "code",
      "source": [
        "def reverse_array(arr) :\n",
        "  reversed_array = []\n",
        "  for i in range(len(arr)-1,-1,-1) :\n",
        "    reversed_array.append(arr[i])\n",
        "  return reversed_array\n",
        "\n",
        "reverse_array([1,2,3,4,5])\n"
      ],
      "metadata": {
        "colab": {
          "base_uri": "https://localhost:8080/"
        },
        "id": "x0Fs4VFZw_-i",
        "outputId": "033597dd-9761-4fd3-b0fd-43b9ad8f421f"
      },
      "execution_count": 26,
      "outputs": [
        {
          "output_type": "execute_result",
          "data": {
            "text/plain": [
              "[5, 4, 3, 2, 1]"
            ]
          },
          "metadata": {},
          "execution_count": 26
        }
      ]
    },
    {
      "cell_type": "code",
      "source": [
        "## another method\n",
        "def reverse_array_2(arr) :\n",
        "  i = 0\n",
        "  j = len(arr) - 1\n",
        "  while i < j :\n",
        "    arr[i], arr[j] = arr[j], arr[i]\n",
        "    i += 1\n",
        "    j -= 1\n",
        "  return arr\n",
        "\n",
        "print(reverse_array_2([1,2,3,4,5]))"
      ],
      "metadata": {
        "colab": {
          "base_uri": "https://localhost:8080/"
        },
        "id": "W9Q9Rj6c0GqZ",
        "outputId": "62117356-2112-46b5-e65f-17be22187c0d"
      },
      "execution_count": 28,
      "outputs": [
        {
          "output_type": "stream",
          "name": "stdout",
          "text": [
            "[5, 4, 3, 2, 1]\n"
          ]
        }
      ]
    },
    {
      "cell_type": "code",
      "source": [
        "## Using recursively\n",
        "\n",
        "def reverse_rec(arr,sI,eI) :\n",
        "  if sI > eI :\n",
        "    return\n",
        "  arr[sI], arr[eI] = arr[eI], arr[sI]\n",
        "  reverse_rec(arr,sI+1,eI-1)\n",
        "\n",
        "\n",
        "arr = [1,2,3,4,5]\n",
        "reverse_rec(arr,0,len(arr)-1)\n",
        "print(arr)"
      ],
      "metadata": {
        "colab": {
          "base_uri": "https://localhost:8080/"
        },
        "id": "bRmMFK3V02JW",
        "outputId": "13b4422e-991c-41a7-bc32-d75875c42227"
      },
      "execution_count": 29,
      "outputs": [
        {
          "output_type": "stream",
          "name": "stdout",
          "text": [
            "[5, 4, 3, 2, 1]\n"
          ]
        }
      ]
    },
    {
      "cell_type": "code",
      "source": [],
      "metadata": {
        "id": "bM0ZxmoO7YCn"
      },
      "execution_count": null,
      "outputs": []
    },
    {
      "cell_type": "markdown",
      "source": [
        "# you have been given an array which is (1,2,3,3,2,1). you have to check and tell us is that the array is in palindrome or not."
      ],
      "metadata": {
        "id": "HMvK8UmN7h_Z"
      }
    },
    {
      "cell_type": "code",
      "source": [
        "def isPalindrome(arr) :\n",
        "  ## 2 pointer approach\n",
        "  left = 0\n",
        "  right = len(arr)-1\n",
        "\n",
        "\n",
        "  while left < right :\n",
        "    if arr[left] != arr[right] :\n",
        "      return False\n",
        "    #arr[left], arr[right] = arr[right], arr[left]\n",
        "    left += 1\n",
        "    right -= 1\n",
        "  return True\n",
        "\n",
        "arr = [1,2,3,3,2,1]\n",
        "arr1 = [1,2,5,3,9,1]\n",
        "arr2 = [1]\n",
        "print(isPalindrome(arr))\n",
        "print(isPalindrome(arr1))\n",
        "print(isPalindrome(arr2))"
      ],
      "metadata": {
        "colab": {
          "base_uri": "https://localhost:8080/"
        },
        "id": "7P_JcVIP8C81",
        "outputId": "a33df966-5382-4b5f-f149-612f35a2b3e3"
      },
      "execution_count": 32,
      "outputs": [
        {
          "output_type": "stream",
          "name": "stdout",
          "text": [
            "True\n",
            "False\n",
            "True\n"
          ]
        }
      ]
    },
    {
      "cell_type": "markdown",
      "source": [],
      "metadata": {
        "id": "VwgG0cFpFkqh"
      }
    },
    {
      "cell_type": "code",
      "source": [],
      "metadata": {
        "id": "EfYnMSTiE-gQ"
      },
      "execution_count": 32,
      "outputs": []
    },
    {
      "cell_type": "code",
      "source": [],
      "metadata": {
        "id": "aWqunhqcFmyT"
      },
      "execution_count": null,
      "outputs": []
    },
    {
      "cell_type": "markdown",
      "source": [
        "# ***Amazon Interview Question***"
      ],
      "metadata": {
        "id": "GcCYVX3UFnrp"
      }
    },
    {
      "cell_type": "code",
      "source": [
        "### I have an array which is [3,1,2,5,4], you have to rotate this array to left to right and the result will be [4,3,1,2,5], if we rotate again then it will be [5,4,3,1,2]"
      ],
      "metadata": {
        "id": "Rf-z87VpFm1D"
      },
      "execution_count": 33,
      "outputs": []
    },
    {
      "cell_type": "code",
      "source": [
        "## this question is if we rotate two times, (k = 2), what it will look like"
      ],
      "metadata": {
        "id": "MbDyEVVEGE5O"
      },
      "execution_count": 34,
      "outputs": []
    },
    {
      "cell_type": "code",
      "source": [
        "def rotate_arr(arr, k) :\n",
        "  # base case\n",
        "  k = k%len(arr)\n",
        "\n",
        "  for i in range(k) :\n",
        "     ## number of times the rotation takes place.\n",
        "\n",
        "      # logic to rotate the array\n",
        "\n",
        "      prev = arr[0]\n",
        "      curr = arr[0]\n",
        "      arr[0] = arr[len(arr) - 1] # whenever we do this the 0 th index will loose, then make sure to store the 0th index before.\n",
        "\n",
        "      j = 1\n",
        "      while(j < len(arr)) :\n",
        "\n",
        "        curr = arr[j]\n",
        "        arr[j] = prev\n",
        "        prev = curr\n",
        "        j += 1\n",
        "\n",
        "  return arr\n",
        "\n",
        "arr1 = [1,2,3,4,5]\n",
        "arr2 = [1,2,3,4,5]\n",
        "arr3 = [1,2,3,4,5]\n",
        "arr4 = [1,2,3,4,5]\n",
        "print(rotate_arr(arr1,2))\n",
        "print(rotate_arr(arr2,3))\n",
        "print(rotate_arr(arr3,4))\n",
        "print(rotate_arr(arr4,5))"
      ],
      "metadata": {
        "colab": {
          "base_uri": "https://localhost:8080/"
        },
        "id": "-PGkWr7wGVq2",
        "outputId": "3cd25add-e9de-43de-e9de-88ce8904ded1"
      },
      "execution_count": 5,
      "outputs": [
        {
          "output_type": "stream",
          "name": "stdout",
          "text": [
            "[4, 5, 1, 2, 3]\n",
            "[3, 4, 5, 1, 2]\n",
            "[2, 3, 4, 5, 1]\n",
            "[1, 2, 3, 4, 5]\n"
          ]
        }
      ]
    },
    {
      "cell_type": "code",
      "source": [
        "def rotate_k_times(arr,k):\n",
        "  k =  k % len(arr)\n",
        "\n",
        "  ## reverse the entire array\n",
        "  reverse_rec(arr,0,len(arr)-1)\n",
        "\n",
        "  ## reverse the first k elements\n",
        "  reverse_rec(arr,0,k-1)\n",
        "\n",
        "  ## reverse the remaining elements\n",
        "  reverse_rec(arr,k,len(arr)-1)\n",
        "\n",
        "\n",
        "arr = [1,2,3,4,5]\n",
        "rotate_k_times(arr,1)\n",
        "print(arr)"
      ],
      "metadata": {
        "colab": {
          "base_uri": "https://localhost:8080/",
          "height": 315
        },
        "id": "hZF3W81Uuoqk",
        "outputId": "2f3ce32c-60db-4290-e5db-e386d004d33a"
      },
      "execution_count": 13,
      "outputs": [
        {
          "output_type": "error",
          "ename": "NameError",
          "evalue": "name 'reverse_rec' is not defined",
          "traceback": [
            "\u001b[0;31m---------------------------------------------------------------------------\u001b[0m",
            "\u001b[0;31mNameError\u001b[0m                                 Traceback (most recent call last)",
            "\u001b[0;32m<ipython-input-13-11c039ebddf2>\u001b[0m in \u001b[0;36m<cell line: 15>\u001b[0;34m()\u001b[0m\n\u001b[1;32m     13\u001b[0m \u001b[0;34m\u001b[0m\u001b[0m\n\u001b[1;32m     14\u001b[0m \u001b[0marr\u001b[0m \u001b[0;34m=\u001b[0m \u001b[0;34m[\u001b[0m\u001b[0;36m1\u001b[0m\u001b[0;34m,\u001b[0m\u001b[0;36m2\u001b[0m\u001b[0;34m,\u001b[0m\u001b[0;36m3\u001b[0m\u001b[0;34m,\u001b[0m\u001b[0;36m4\u001b[0m\u001b[0;34m,\u001b[0m\u001b[0;36m5\u001b[0m\u001b[0;34m]\u001b[0m\u001b[0;34m\u001b[0m\u001b[0;34m\u001b[0m\u001b[0m\n\u001b[0;32m---> 15\u001b[0;31m \u001b[0mrotate_k_times\u001b[0m\u001b[0;34m(\u001b[0m\u001b[0marr\u001b[0m\u001b[0;34m,\u001b[0m\u001b[0;36m1\u001b[0m\u001b[0;34m)\u001b[0m\u001b[0;34m\u001b[0m\u001b[0;34m\u001b[0m\u001b[0m\n\u001b[0m\u001b[1;32m     16\u001b[0m \u001b[0mprint\u001b[0m\u001b[0;34m(\u001b[0m\u001b[0marr\u001b[0m\u001b[0;34m)\u001b[0m\u001b[0;34m\u001b[0m\u001b[0;34m\u001b[0m\u001b[0m\n",
            "\u001b[0;32m<ipython-input-13-11c039ebddf2>\u001b[0m in \u001b[0;36mrotate_k_times\u001b[0;34m(arr, k)\u001b[0m\n\u001b[1;32m      3\u001b[0m \u001b[0;34m\u001b[0m\u001b[0m\n\u001b[1;32m      4\u001b[0m   \u001b[0;31m## reverse the entire array\u001b[0m\u001b[0;34m\u001b[0m\u001b[0;34m\u001b[0m\u001b[0m\n\u001b[0;32m----> 5\u001b[0;31m   \u001b[0mreverse_rec\u001b[0m\u001b[0;34m(\u001b[0m\u001b[0marr\u001b[0m\u001b[0;34m,\u001b[0m\u001b[0;36m0\u001b[0m\u001b[0;34m,\u001b[0m\u001b[0mlen\u001b[0m\u001b[0;34m(\u001b[0m\u001b[0marr\u001b[0m\u001b[0;34m)\u001b[0m\u001b[0;34m-\u001b[0m\u001b[0;36m1\u001b[0m\u001b[0;34m)\u001b[0m\u001b[0;34m\u001b[0m\u001b[0;34m\u001b[0m\u001b[0m\n\u001b[0m\u001b[1;32m      6\u001b[0m \u001b[0;34m\u001b[0m\u001b[0m\n\u001b[1;32m      7\u001b[0m   \u001b[0;31m## reverse the first k elements\u001b[0m\u001b[0;34m\u001b[0m\u001b[0;34m\u001b[0m\u001b[0m\n",
            "\u001b[0;31mNameError\u001b[0m: name 'reverse_rec' is not defined"
          ]
        }
      ]
    },
    {
      "cell_type": "code",
      "source": [],
      "metadata": {
        "id": "v7X7l1ncxcdE"
      },
      "execution_count": null,
      "outputs": []
    }
  ],
  "metadata": {
    "colab": {
      "provenance": []
    },
    "kernelspec": {
      "display_name": "Python 3",
      "name": "python3"
    },
    "language_info": {
      "name": "python"
    }
  },
  "nbformat": 4,
  "nbformat_minor": 0
}