{
 "cells": [
  {
   "cell_type": "markdown",
   "id": "22ed7910-3ff2-4058-99d9-a2200bcc05ec",
   "metadata": {},
   "source": [
    "# 10 Sep'23 : Python - Lambda Functions"
   ]
  },
  {
   "cell_type": "markdown",
   "id": "98a85a70-5921-48d4-8501-cfde19e22997",
   "metadata": {},
   "source": [
    "accept string as an input. your task is to determine if the input string is a valid password or not. for a string to be valid password, we must satisfy all the conditions\n",
    "\n",
    "- . it should have at least 8 and at most 32 characters\n",
    "- . it should start with an uppercase and lowecase letter\n",
    "- . it should not have any of these characters \\ / = ' \"\n",
    "- . it should not have any spaces\n",
    "- . it could have any character that is not mentioned in the list of characters to be avoided (point number 3 and 4)\n",
    "\n",
    "output True if string forms a valid password else output will be False"
   ]
  },
  {
   "cell_type": "code",
   "execution_count": 4,
   "id": "59183d58-92ee-419b-b3ab-de4c1e26f731",
   "metadata": {},
   "outputs": [],
   "source": [
    "# answer\n",
    "\n",
    "def validation(pwd: str) :\n",
    "    if 8 <= len(pwd) <=32 and pwd[0].isalpha() and all(char not in pwd for char in [\" \", \"'\", \"/\", \"=\", \"\\\\\"]) :\n",
    "        return True\n",
    "    else :\n",
    "        return False\n",
    "                                                                                    "
   ]
  },
  {
   "cell_type": "code",
   "execution_count": 5,
   "id": "6949e6ae-58c7-4b1d-bf1b-45bb0d0625e1",
   "metadata": {},
   "outputs": [
    {
     "data": {
      "text/plain": [
       "False"
      ]
     },
     "execution_count": 5,
     "metadata": {},
     "output_type": "execute_result"
    }
   ],
   "source": [
    "validation('raja')"
   ]
  },
  {
   "cell_type": "code",
   "execution_count": null,
   "id": "8d79c626-137e-48e0-b24e-45469cb64948",
   "metadata": {},
   "outputs": [],
   "source": []
  },
  {
   "cell_type": "code",
   "execution_count": 6,
   "id": "d47e96bb-c601-41f2-b93b-54da2c71268d",
   "metadata": {},
   "outputs": [],
   "source": [
    "## Local and global Variable"
   ]
  },
  {
   "cell_type": "code",
   "execution_count": 8,
   "id": "fec639c0-2fb9-4aac-9812-4851cdc3dfe2",
   "metadata": {},
   "outputs": [],
   "source": [
    "def greet() :\n",
    "    message = \"Hello!\"\n",
    "    \n",
    "    print(\"Local\", message)\n",
    "\n",
    "#print(message)"
   ]
  },
  {
   "cell_type": "code",
   "execution_count": 10,
   "id": "9b2a5b93-9645-4e29-9586-b9a0540daa6a",
   "metadata": {},
   "outputs": [
    {
     "name": "stdout",
     "output_type": "stream",
     "text": [
      "Local Hello!\n"
     ]
    }
   ],
   "source": [
    "greet()"
   ]
  },
  {
   "cell_type": "code",
   "execution_count": 11,
   "id": "7cc11294-5a77-47e9-8f52-08ec3de6a1e6",
   "metadata": {},
   "outputs": [
    {
     "ename": "NameError",
     "evalue": "name 'message' is not defined",
     "output_type": "error",
     "traceback": [
      "\u001b[0;31m---------------------------------------------------------------------------\u001b[0m",
      "\u001b[0;31mNameError\u001b[0m                                 Traceback (most recent call last)",
      "Cell \u001b[0;32mIn[11], line 6\u001b[0m\n\u001b[1;32m      2\u001b[0m     message \u001b[38;5;241m=\u001b[39m \u001b[38;5;124m\"\u001b[39m\u001b[38;5;124mHello!\u001b[39m\u001b[38;5;124m\"\u001b[39m\n\u001b[1;32m      4\u001b[0m     \u001b[38;5;28mprint\u001b[39m(\u001b[38;5;124m\"\u001b[39m\u001b[38;5;124mLocal\u001b[39m\u001b[38;5;124m\"\u001b[39m, message)\n\u001b[0;32m----> 6\u001b[0m \u001b[38;5;28mprint\u001b[39m(\u001b[43mmessage\u001b[49m)\n",
      "\u001b[0;31mNameError\u001b[0m: name 'message' is not defined"
     ]
    }
   ],
   "source": [
    "def greet() :\n",
    "    message = \"Hello!\"\n",
    "    \n",
    "    print(\"Local\", message)\n",
    "\n",
    "print(message)"
   ]
  },
  {
   "cell_type": "code",
   "execution_count": 12,
   "id": "9649f058-1226-48f3-817f-1290fd572626",
   "metadata": {},
   "outputs": [],
   "source": [
    "## here we can see that if we need to print anything from the function, we need to make command within the function\n",
    "\n",
    "## function stores the print inside the local variable"
   ]
  },
  {
   "cell_type": "code",
   "execution_count": 13,
   "id": "9be5df76-db6b-4199-aa83-6b265b8c28fe",
   "metadata": {},
   "outputs": [],
   "source": [
    "## another example\n",
    "\n",
    "def add() :\n",
    "    x,y = 20,30\n",
    "    print(x+y)"
   ]
  },
  {
   "cell_type": "code",
   "execution_count": 14,
   "id": "dfbd69a1-9526-4c00-8c0e-66889b914b7c",
   "metadata": {},
   "outputs": [
    {
     "name": "stdout",
     "output_type": "stream",
     "text": [
      "50\n"
     ]
    }
   ],
   "source": [
    "add()"
   ]
  },
  {
   "cell_type": "code",
   "execution_count": 15,
   "id": "a02c5105-8f6a-4d05-9aed-732b9c8bf31e",
   "metadata": {},
   "outputs": [
    {
     "ename": "NameError",
     "evalue": "name 'x' is not defined",
     "output_type": "error",
     "traceback": [
      "\u001b[0;31m---------------------------------------------------------------------------\u001b[0m",
      "\u001b[0;31mNameError\u001b[0m                                 Traceback (most recent call last)",
      "Cell \u001b[0;32mIn[15], line 1\u001b[0m\n\u001b[0;32m----> 1\u001b[0m \u001b[38;5;28mprint\u001b[39m(\u001b[43mx\u001b[49m)\n",
      "\u001b[0;31mNameError\u001b[0m: name 'x' is not defined"
     ]
    }
   ],
   "source": [
    "print(x)"
   ]
  },
  {
   "cell_type": "code",
   "execution_count": 16,
   "id": "6cf8f492-ea2a-4c68-a7b8-0c499c6b142a",
   "metadata": {},
   "outputs": [],
   "source": [
    "## here x is a local variable"
   ]
  },
  {
   "cell_type": "code",
   "execution_count": 18,
   "id": "7dd40819-bbbd-43e5-aa45-2551579b2fd4",
   "metadata": {},
   "outputs": [
    {
     "name": "stdout",
     "output_type": "stream",
     "text": [
      "fantastic\n",
      "awesome\n"
     ]
    }
   ],
   "source": [
    "x = 'awesome'\n",
    "## global scope x\n",
    "\n",
    "def my_func() :\n",
    "    x = 'fantastic'\n",
    "    ## local scope x\n",
    "    \n",
    "    print(x)\n",
    "    \n",
    "my_func()\n",
    "print(x)"
   ]
  },
  {
   "cell_type": "code",
   "execution_count": 1,
   "id": "c263f275-584a-4dd2-9ddb-f6a7da42d9ce",
   "metadata": {},
   "outputs": [],
   "source": [
    "x = 20 \n",
    "\n",
    "def add() :\n",
    "    y = 30 \n",
    "    \n",
    "    print(\"Local Variable y = \", y)\n",
    "    \n",
    "    print(\"Global Variable x = \", x)\n",
    "    \n",
    "    z = x+y\n",
    "    \n",
    "    print(z)"
   ]
  },
  {
   "cell_type": "code",
   "execution_count": 2,
   "id": "4eafcfc4-da83-4f60-963d-5fa6ce0cda65",
   "metadata": {},
   "outputs": [
    {
     "name": "stdout",
     "output_type": "stream",
     "text": [
      "Local Variable y =  30\n",
      "Global Variable x =  20\n",
      "50\n"
     ]
    }
   ],
   "source": [
    "add()"
   ]
  },
  {
   "cell_type": "markdown",
   "id": "cce1d488-eef3-4378-8e53-a916488a83e6",
   "metadata": {},
   "source": [
    "- we can access global variable inside a function"
   ]
  },
  {
   "cell_type": "markdown",
   "id": "1224e724-a5bb-461c-b412-d7bb23609c14",
   "metadata": {},
   "source": [
    "#### there are two types of fuctions \n",
    "\n",
    "1. user defined (we will make)\n",
    "\n",
    "2. build-in functions (already some developer made these functions)\n",
    "\n"
   ]
  },
  {
   "cell_type": "code",
   "execution_count": 3,
   "id": "63626380-7e61-470b-a452-9ea6aad34452",
   "metadata": {},
   "outputs": [],
   "source": [
    "## Python Function Arguments\n"
   ]
  },
  {
   "cell_type": "code",
   "execution_count": 9,
   "id": "98a4abf9-baad-4a1f-a6ac-5631cc281e48",
   "metadata": {},
   "outputs": [],
   "source": [
    "## Positional arguments\n",
    "\n",
    "def add_nums(a,b) : ## it will always ask for two arguments when we will use this function\n",
    "    sum_1 = a+b\n",
    "    print(sum_1)"
   ]
  },
  {
   "cell_type": "code",
   "execution_count": 10,
   "id": "f1e5e487-19a3-49a8-a88d-96a26957d451",
   "metadata": {},
   "outputs": [
    {
     "name": "stdout",
     "output_type": "stream",
     "text": [
      "5\n"
     ]
    }
   ],
   "source": [
    "add_nums(2,3)"
   ]
  },
  {
   "cell_type": "code",
   "execution_count": null,
   "id": "501721fa-455f-4276-a2c9-a60227f56f01",
   "metadata": {},
   "outputs": [],
   "source": []
  },
  {
   "cell_type": "code",
   "execution_count": 11,
   "id": "64f65bf6-edbc-40b8-8c77-6371ed63a9e7",
   "metadata": {},
   "outputs": [],
   "source": [
    "## Default arguments\n",
    "\n",
    "def add_nums_1(a = 4, b = 8) : ## it will not always ask for two arguments, rather it will take those default values if we are not giving any\n",
    "    sum_1 = a+b\n",
    "    print(sum_1)"
   ]
  },
  {
   "cell_type": "code",
   "execution_count": 12,
   "id": "2d8fecc8-46d0-4222-a9d3-de15f61ac2ae",
   "metadata": {},
   "outputs": [
    {
     "name": "stdout",
     "output_type": "stream",
     "text": [
      "12\n"
     ]
    }
   ],
   "source": [
    "add_nums_1()"
   ]
  },
  {
   "cell_type": "code",
   "execution_count": 13,
   "id": "4873218e-2d18-45d7-9e48-288175ee77fd",
   "metadata": {},
   "outputs": [
    {
     "name": "stdout",
     "output_type": "stream",
     "text": [
      "6\n"
     ]
    }
   ],
   "source": [
    "add_nums_1(2,4)"
   ]
  },
  {
   "cell_type": "code",
   "execution_count": 14,
   "id": "81aeedb8-229a-4d69-b99a-5baab7a653e2",
   "metadata": {},
   "outputs": [],
   "source": [
    "## keyword arguments\n",
    "\n",
    "def display_info(first_name, last_name) :\n",
    "    print(f\"First Name: {first_name}\")\n",
    "    print(f\"Last Name: {last_name}\")"
   ]
  },
  {
   "cell_type": "code",
   "execution_count": 16,
   "id": "fcb82749-f1d4-4953-877b-bded18299d9f",
   "metadata": {},
   "outputs": [
    {
     "name": "stdout",
     "output_type": "stream",
     "text": [
      "First Name: pw\n",
      "Last Name: skills\n"
     ]
    }
   ],
   "source": [
    "display_info(first_name= 'pw', last_name='skills') ## you can write in any order"
   ]
  },
  {
   "cell_type": "code",
   "execution_count": null,
   "id": "81d3ed80-cbf4-41b2-9c8d-2a0af62a1919",
   "metadata": {},
   "outputs": [],
   "source": []
  },
  {
   "cell_type": "code",
   "execution_count": 1,
   "id": "63f560ac-d711-4db0-8f86-c173424ac4ff",
   "metadata": {},
   "outputs": [],
   "source": [
    "## arguments and keyward_arguments\n",
    "\n",
    "## *args and **kargs"
   ]
  },
  {
   "cell_type": "code",
   "execution_count": 2,
   "id": "79341da2-efe3-49b9-9790-7a92ae201e5d",
   "metadata": {},
   "outputs": [],
   "source": [
    "# you can use any name instead of args and kargs but the stars are important"
   ]
  },
  {
   "cell_type": "code",
   "execution_count": 7,
   "id": "037ffc31-c312-4896-b275-754826196d0f",
   "metadata": {},
   "outputs": [],
   "source": [
    "def find_num(*numbers) :\n",
    "    result = 0\n",
    "    \n",
    "    for num in numbers :\n",
    "        result +=num\n",
    "    print(\"sum\", result)"
   ]
  },
  {
   "cell_type": "code",
   "execution_count": 8,
   "id": "816c99f0-ef4e-4d3b-9ddd-76db45b8aa31",
   "metadata": {},
   "outputs": [
    {
     "name": "stdout",
     "output_type": "stream",
     "text": [
      "sum 0\n"
     ]
    }
   ],
   "source": [
    "find_num()"
   ]
  },
  {
   "cell_type": "code",
   "execution_count": 9,
   "id": "c2496d93-52cb-4d0a-b649-fc4803b52318",
   "metadata": {},
   "outputs": [
    {
     "name": "stdout",
     "output_type": "stream",
     "text": [
      "sum 6\n"
     ]
    }
   ],
   "source": [
    "find_num(1,2,3)"
   ]
  },
  {
   "cell_type": "code",
   "execution_count": 10,
   "id": "2a906501-bc0c-4f99-a7bb-c3e7b5adf79b",
   "metadata": {},
   "outputs": [
    {
     "name": "stdout",
     "output_type": "stream",
     "text": [
      "sum 45\n"
     ]
    }
   ],
   "source": [
    "find_num(1,2,3,4,5,6,7,8,9)"
   ]
  },
  {
   "cell_type": "code",
   "execution_count": null,
   "id": "676ff4db-a52b-487c-b64e-99ac04804f3f",
   "metadata": {},
   "outputs": [],
   "source": []
  },
  {
   "cell_type": "code",
   "execution_count": 13,
   "id": "9fa95316-5d2e-417b-b01d-d4b1122a5b07",
   "metadata": {},
   "outputs": [],
   "source": [
    "## **kargs\n",
    "\n",
    "def intro(**data) :\n",
    "    print(f\"data type of argument\", type(data))\n",
    "    \n",
    "    for key, value in data.items() :\n",
    "        print(key,value)\n",
    "        "
   ]
  },
  {
   "cell_type": "code",
   "execution_count": 14,
   "id": "f2fe1144-6d64-4783-b907-5b68353882a0",
   "metadata": {},
   "outputs": [
    {
     "name": "stdout",
     "output_type": "stream",
     "text": [
      "data type of argument <class 'dict'>\n",
      "firstname pw\n",
      "lastname skills\n"
     ]
    }
   ],
   "source": [
    "intro(firstname = 'pw', lastname = 'skills')"
   ]
  },
  {
   "cell_type": "code",
   "execution_count": null,
   "id": "b918e705-3223-41fb-af20-506fb7d886ca",
   "metadata": {},
   "outputs": [],
   "source": []
  },
  {
   "cell_type": "markdown",
   "id": "1f31d8a8-33e3-4966-b9fb-fa57c8006d73",
   "metadata": {},
   "source": [
    "### Lambda or Annonymus Function"
   ]
  },
  {
   "cell_type": "code",
   "execution_count": 15,
   "id": "be2f54ac-8078-46d8-a2c7-da0d8c71565a",
   "metadata": {},
   "outputs": [],
   "source": [
    "## skeletal bosy\n",
    "\n",
    "## lambda arguments : expression"
   ]
  },
  {
   "cell_type": "code",
   "execution_count": 16,
   "id": "2bb6f0bd-1977-4a79-a823-e9a0d4c26db4",
   "metadata": {},
   "outputs": [],
   "source": [
    "x = lambda : print('hello')"
   ]
  },
  {
   "cell_type": "code",
   "execution_count": 18,
   "id": "5e2a4741-9334-4ca0-a695-089ee6738c8a",
   "metadata": {},
   "outputs": [
    {
     "name": "stdout",
     "output_type": "stream",
     "text": [
      "hello\n"
     ]
    }
   ],
   "source": [
    "x()"
   ]
  },
  {
   "cell_type": "code",
   "execution_count": 19,
   "id": "2dd50579-c30a-46e2-b437-8f3659bfcfb1",
   "metadata": {},
   "outputs": [],
   "source": [
    "y = lambda a,b : a+b"
   ]
  },
  {
   "cell_type": "code",
   "execution_count": 21,
   "id": "0d828756-a60a-48db-8101-b1fb521b22e6",
   "metadata": {},
   "outputs": [
    {
     "data": {
      "text/plain": [
       "10"
      ]
     },
     "execution_count": 21,
     "metadata": {},
     "output_type": "execute_result"
    }
   ],
   "source": [
    "y(5,5)"
   ]
  },
  {
   "cell_type": "code",
   "execution_count": 22,
   "id": "6ab49234-27d9-472b-83f0-22062a72a8e9",
   "metadata": {},
   "outputs": [],
   "source": [
    "# similarly multiplication\n",
    "\n",
    "m = lambda x,y : x*y"
   ]
  },
  {
   "cell_type": "code",
   "execution_count": 23,
   "id": "56b39a2a-cd7d-4c64-8551-64d176f401e3",
   "metadata": {},
   "outputs": [
    {
     "data": {
      "text/plain": [
       "25"
      ]
     },
     "execution_count": 23,
     "metadata": {},
     "output_type": "execute_result"
    }
   ],
   "source": [
    "m(5,5)"
   ]
  },
  {
   "cell_type": "code",
   "execution_count": 24,
   "id": "abd5ef9a-855a-4a2e-a56f-d3934cf0c55b",
   "metadata": {},
   "outputs": [],
   "source": [
    "## making square of two numbers separately using lambda function"
   ]
  },
  {
   "cell_type": "code",
   "execution_count": 27,
   "id": "8edc4e58-71e4-4b5a-9799-3c0705d9f246",
   "metadata": {},
   "outputs": [
    {
     "name": "stdin",
     "output_type": "stream",
     "text": [
      "Enter First Number :  7\n",
      "Enter Second Number :  9\n"
     ]
    },
    {
     "name": "stdout",
     "output_type": "stream",
     "text": [
      "(49, 81)\n"
     ]
    }
   ],
   "source": [
    "a = int(input(\"Enter First Number : \"))\n",
    "b = int(input(\"Enter Second Number : \"))\n",
    "\n",
    "square = lambda a,b : (a**2, b**2)\n",
    "\n",
    "print(square(a,b))"
   ]
  },
  {
   "cell_type": "code",
   "execution_count": 28,
   "id": "67a675ef-0e7d-4c14-a820-c053adbee1ee",
   "metadata": {},
   "outputs": [],
   "source": [
    "## even number using lambda\n",
    "\n",
    "even = lambda x : 'true' if x%2 == 0 else 'false'"
   ]
  },
  {
   "cell_type": "code",
   "execution_count": 29,
   "id": "45c9703e-45ec-43e5-9f10-84dc8aba104c",
   "metadata": {},
   "outputs": [
    {
     "data": {
      "text/plain": [
       "'false'"
      ]
     },
     "execution_count": 29,
     "metadata": {},
     "output_type": "execute_result"
    }
   ],
   "source": [
    "even(23)"
   ]
  },
  {
   "cell_type": "code",
   "execution_count": 32,
   "id": "16a40254-50b4-4468-a710-4834ceb9e794",
   "metadata": {},
   "outputs": [],
   "source": [
    "# or you can make this way \n",
    "\n",
    "number = lambda x : 'number is even' if x%2 == 0 else 'number is odd'"
   ]
  },
  {
   "cell_type": "code",
   "execution_count": 33,
   "id": "280af4e1-c53b-469a-9c74-b48ef0dc0c3d",
   "metadata": {},
   "outputs": [
    {
     "data": {
      "text/plain": [
       "'number is even'"
      ]
     },
     "execution_count": 33,
     "metadata": {},
     "output_type": "execute_result"
    }
   ],
   "source": [
    "number(56)"
   ]
  },
  {
   "cell_type": "code",
   "execution_count": 34,
   "id": "6f028171-ac53-4682-85b9-3c3fc9905729",
   "metadata": {},
   "outputs": [],
   "source": [
    "### write a lambda function which accepts 2 arguments and return the greater amongst them"
   ]
  },
  {
   "cell_type": "code",
   "execution_count": 38,
   "id": "43068402-4301-4829-a319-c0c62ae52d3f",
   "metadata": {},
   "outputs": [
    {
     "name": "stdin",
     "output_type": "stream",
     "text": [
      "Enter first number :  45\n",
      "Enter Second number :  56\n"
     ]
    },
    {
     "name": "stdout",
     "output_type": "stream",
     "text": [
      "Greater number is :  56\n"
     ]
    }
   ],
   "source": [
    "a = int(input(\"Enter first number : \"))\n",
    "b = int(input(\"Enter Second number : \"))\n",
    "\n",
    "greater = lambda a,b : a if a>b else b\n",
    "\n",
    "print(\"Greater number is : \", greater(a,b))"
   ]
  },
  {
   "cell_type": "code",
   "execution_count": 39,
   "id": "f9f9d96d-7b54-40fd-a36a-e527cf6cb965",
   "metadata": {},
   "outputs": [],
   "source": [
    "products = [{'name' : 'product1', 'price' : 50},\n",
    "            {'name' : 'product2', 'price' : 40},\n",
    "           {'name' : 'product3', 'price' : 30},\n",
    "           {'name' : 'product4', 'price': 80}]\n",
    "\n",
    "\n",
    "# sorted()\n",
    "\n",
    "sorted_products = sorted(products, key = lambda x : x['price'])\n",
    "\n"
   ]
  },
  {
   "cell_type": "code",
   "execution_count": 40,
   "id": "eaefb2e2-3fff-486f-86e2-ba78f00aa2b9",
   "metadata": {},
   "outputs": [
    {
     "name": "stdout",
     "output_type": "stream",
     "text": [
      "{'name': 'product3', 'price': 30}\n",
      "{'name': 'product2', 'price': 40}\n",
      "{'name': 'product1', 'price': 50}\n",
      "{'name': 'product4', 'price': 80}\n"
     ]
    }
   ],
   "source": [
    "for i in sorted_products :\n",
    "    print(i)"
   ]
  },
  {
   "cell_type": "code",
   "execution_count": null,
   "id": "0f515b08-0773-4111-b897-244b6b2a3d64",
   "metadata": {},
   "outputs": [],
   "source": []
  },
  {
   "cell_type": "code",
   "execution_count": 41,
   "id": "c9055202-5f87-4422-a9ed-bebf84caafda",
   "metadata": {},
   "outputs": [],
   "source": [
    "## write a lambda expression that accepts a character as argument and return true if it is vowel other than false\n",
    "\n",
    "## aeiou\n",
    "\n",
    "## imran\n",
    "\n",
    "## i a"
   ]
  },
  {
   "cell_type": "code",
   "execution_count": 42,
   "id": "63eb53af-f462-450f-a469-6b736d97cded",
   "metadata": {},
   "outputs": [],
   "source": [
    "## for solving these type of questions, we need to understand the concept of map, filter and reduce"
   ]
  },
  {
   "cell_type": "code",
   "execution_count": 45,
   "id": "b5daac0d-c495-4e26-ba7b-253b4380e2a4",
   "metadata": {},
   "outputs": [
    {
     "name": "stdin",
     "output_type": "stream",
     "text": [
      "enter a string :  imran\n"
     ]
    },
    {
     "data": {
      "text/plain": [
       "['i', 'a']"
      ]
     },
     "execution_count": 45,
     "metadata": {},
     "output_type": "execute_result"
    }
   ],
   "source": [
    "## although we can do this by this way\n",
    "\n",
    "\n",
    "vowels = ['a','e','i','o','u','A','E','I','O','U']\n",
    "\n",
    "string = input(\"enter a string : \")\n",
    "\n",
    "vowels_list = [string[i] for i in range(len(string)) if string[i] in vowels]\n",
    "\n",
    "vowels_list"
   ]
  },
  {
   "cell_type": "markdown",
   "id": "32812579-7620-4315-acc8-1303df164e6e",
   "metadata": {},
   "source": [
    "### Enumerate"
   ]
  },
  {
   "cell_type": "code",
   "execution_count": 46,
   "id": "984defb4-e986-4f91-9dec-78df94c64115",
   "metadata": {},
   "outputs": [],
   "source": [
    "language = ['python', 'java','c++']\n",
    "\n",
    "enumerate_prime = enumerate(language)"
   ]
  },
  {
   "cell_type": "code",
   "execution_count": 47,
   "id": "c9a5432a-7418-4466-ae97-6b130b160074",
   "metadata": {},
   "outputs": [
    {
     "data": {
      "text/plain": [
       "[(0, 'python'), (1, 'java'), (2, 'c++')]"
      ]
     },
     "execution_count": 47,
     "metadata": {},
     "output_type": "execute_result"
    }
   ],
   "source": [
    "list(enumerate_prime)"
   ]
  },
  {
   "cell_type": "code",
   "execution_count": null,
   "id": "cdfc63d5-a3b8-4d2c-8ffe-3d8eb38a2561",
   "metadata": {},
   "outputs": [],
   "source": []
  },
  {
   "cell_type": "code",
   "execution_count": 48,
   "id": "141527fc-23dd-43ac-94da-ef4c716e9279",
   "metadata": {},
   "outputs": [],
   "source": [
    "# similarly\n",
    "\n",
    "language = ['python', 'java','c++']\n",
    "\n",
    "enumerate_prime = enumerate(language, 3)"
   ]
  },
  {
   "cell_type": "code",
   "execution_count": 49,
   "id": "3dc0294a-fca8-495b-afed-cf27978fba84",
   "metadata": {},
   "outputs": [
    {
     "data": {
      "text/plain": [
       "[(3, 'python'), (4, 'java'), (5, 'c++')]"
      ]
     },
     "execution_count": 49,
     "metadata": {},
     "output_type": "execute_result"
    }
   ],
   "source": [
    "list(enumerate_prime)"
   ]
  },
  {
   "cell_type": "code",
   "execution_count": null,
   "id": "5e7511bf-95d3-4d85-8f96-5636f28c7d5b",
   "metadata": {},
   "outputs": [],
   "source": []
  },
  {
   "cell_type": "markdown",
   "id": "00891388-fbba-4639-a423-f87b3d072188",
   "metadata": {},
   "source": [
    "### List Comprehension"
   ]
  },
  {
   "cell_type": "code",
   "execution_count": 50,
   "id": "741e3cd5-3803-4e6d-81c9-78a97e1dead5",
   "metadata": {},
   "outputs": [],
   "source": [
    "# [output | collection | condition]\n",
    "\n",
    "# example\n",
    "\n",
    "list_1 = [1,2,3,4,5,6,7,8,9,10]\n",
    "\n",
    "a = [x+1 for x in list_1]"
   ]
  },
  {
   "cell_type": "code",
   "execution_count": 51,
   "id": "4feb01e7-fa66-4f93-bcce-33248e5c8a0a",
   "metadata": {},
   "outputs": [
    {
     "data": {
      "text/plain": [
       "[1, 2, 3, 4, 5, 6, 7, 8, 9, 10]"
      ]
     },
     "execution_count": 51,
     "metadata": {},
     "output_type": "execute_result"
    }
   ],
   "source": [
    "a"
   ]
  },
  {
   "cell_type": "code",
   "execution_count": 52,
   "id": "0e4b24c9-2fd6-4e25-8fc5-40563a9652b2",
   "metadata": {},
   "outputs": [],
   "source": [
    "a1 = [x+1 for x in list_1]"
   ]
  },
  {
   "cell_type": "code",
   "execution_count": 53,
   "id": "cee80e6b-8470-4c9b-a652-cd04a451a397",
   "metadata": {},
   "outputs": [
    {
     "data": {
      "text/plain": [
       "[2, 3, 4, 5, 6, 7, 8, 9, 10, 11]"
      ]
     },
     "execution_count": 53,
     "metadata": {},
     "output_type": "execute_result"
    }
   ],
   "source": [
    "a1"
   ]
  },
  {
   "cell_type": "code",
   "execution_count": 54,
   "id": "aa9e8d7d-631d-49a3-b41e-74f3d5c5636c",
   "metadata": {},
   "outputs": [],
   "source": [
    "a2 = [x**2 for x in list_1]"
   ]
  },
  {
   "cell_type": "code",
   "execution_count": 55,
   "id": "6ce3033e-7af8-422d-8866-5dff46474392",
   "metadata": {},
   "outputs": [
    {
     "data": {
      "text/plain": [
       "[1, 4, 9, 16, 25, 36, 49, 64, 81, 100]"
      ]
     },
     "execution_count": 55,
     "metadata": {},
     "output_type": "execute_result"
    }
   ],
   "source": [
    "a2"
   ]
  },
  {
   "cell_type": "code",
   "execution_count": 56,
   "id": "0c968a99-75bb-4581-a3b0-4b4182db9d9f",
   "metadata": {},
   "outputs": [
    {
     "data": {
      "text/plain": [
       "[5, 6, 7, 8, 9, 10]"
      ]
     },
     "execution_count": 56,
     "metadata": {},
     "output_type": "execute_result"
    }
   ],
   "source": [
    "## another example\n",
    "\n",
    "c = [x for x in list_1 if x>4]\n",
    "\n",
    "c"
   ]
  },
  {
   "cell_type": "code",
   "execution_count": 57,
   "id": "cc0f518f-4a82-47fc-aae1-e6271a157383",
   "metadata": {},
   "outputs": [
    {
     "data": {
      "text/plain": [
       "[2, 4, 6, 8, 10]"
      ]
     },
     "execution_count": 57,
     "metadata": {},
     "output_type": "execute_result"
    }
   ],
   "source": [
    "## even number \n",
    "\n",
    "result = [i for i in list_1 if i%2 == 0]\n",
    "\n",
    "result"
   ]
  },
  {
   "cell_type": "code",
   "execution_count": 58,
   "id": "955050d0-7a19-4c04-b704-9d4f7211576f",
   "metadata": {},
   "outputs": [],
   "source": [
    "## breakdown \n",
    "\n",
    "# modular process\n",
    "\n",
    "a = []\n",
    "\n",
    "for x in list_1 :\n",
    "    if x%2 == 0 : \n",
    "        a.append('two')\n",
    "        \n",
    "    elif x%3 == 0 :\n",
    "        a.append('three')\n",
    "        \n",
    "    else :\n",
    "        a.append('not 2 and 3')"
   ]
  },
  {
   "cell_type": "code",
   "execution_count": 59,
   "id": "a63030ae-d030-4c30-9e2b-e49144cafc48",
   "metadata": {},
   "outputs": [
    {
     "data": {
      "text/plain": [
       "['not 2 and 3',\n",
       " 'two',\n",
       " 'three',\n",
       " 'two',\n",
       " 'not 2 and 3',\n",
       " 'two',\n",
       " 'not 2 and 3',\n",
       " 'two',\n",
       " 'three',\n",
       " 'two']"
      ]
     },
     "execution_count": 59,
     "metadata": {},
     "output_type": "execute_result"
    }
   ],
   "source": [
    "a"
   ]
  },
  {
   "cell_type": "code",
   "execution_count": 64,
   "id": "492e8953-f5c8-48dc-9022-ecfc45fae466",
   "metadata": {},
   "outputs": [],
   "source": [
    "#  comprehenstion process\n",
    "\n",
    "f = ['two' if x%2 == 0 else 'three' if x%3 == 0 else 'not 2 and 3' for x in list_1] # dont use elif here"
   ]
  },
  {
   "cell_type": "code",
   "execution_count": 65,
   "id": "6dc812c8-25de-4e06-be37-815c294556d3",
   "metadata": {},
   "outputs": [
    {
     "data": {
      "text/plain": [
       "['not 2 and 3',\n",
       " 'two',\n",
       " 'three',\n",
       " 'two',\n",
       " 'not 2 and 3',\n",
       " 'two',\n",
       " 'not 2 and 3',\n",
       " 'two',\n",
       " 'three',\n",
       " 'two']"
      ]
     },
     "execution_count": 65,
     "metadata": {},
     "output_type": "execute_result"
    }
   ],
   "source": [
    "f"
   ]
  },
  {
   "cell_type": "code",
   "execution_count": null,
   "id": "165ab859-697d-4fc7-a04a-24a86f21c133",
   "metadata": {},
   "outputs": [],
   "source": []
  }
 ],
 "metadata": {
  "kernelspec": {
   "display_name": "Python 3 (ipykernel)",
   "language": "python",
   "name": "python3"
  },
  "language_info": {
   "codemirror_mode": {
    "name": "ipython",
    "version": 3
   },
   "file_extension": ".py",
   "mimetype": "text/x-python",
   "name": "python",
   "nbconvert_exporter": "python",
   "pygments_lexer": "ipython3",
   "version": "3.10.8"
  }
 },
 "nbformat": 4,
 "nbformat_minor": 5
}
