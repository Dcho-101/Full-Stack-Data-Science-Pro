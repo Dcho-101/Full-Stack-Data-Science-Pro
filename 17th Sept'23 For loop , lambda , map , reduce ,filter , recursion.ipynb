{
 "cells": [
  {
   "cell_type": "markdown",
   "id": "b7b64bb1-7d0d-4159-962c-df06a86824b7",
   "metadata": {},
   "source": [
    "# 17th Sept'23 : For loop , lambda , map , reduce ,filter , recursion"
   ]
  },
  {
   "cell_type": "code",
   "execution_count": 1,
   "id": "0091112e-2609-4f8a-90a0-ea6622463c33",
   "metadata": {},
   "outputs": [],
   "source": [
    "## Function"
   ]
  },
  {
   "cell_type": "code",
   "execution_count": 2,
   "id": "8c5e6189-c550-4a93-aecb-156b32e12d81",
   "metadata": {},
   "outputs": [],
   "source": [
    "def test() :\n",
    "    print('this is my first function')"
   ]
  },
  {
   "cell_type": "code",
   "execution_count": 3,
   "id": "f37e6a02-b001-45f4-92b5-9d07e7a82ab7",
   "metadata": {},
   "outputs": [
    {
     "name": "stdout",
     "output_type": "stream",
     "text": [
      "this is my first function\n"
     ]
    }
   ],
   "source": [
    "test()"
   ]
  },
  {
   "cell_type": "code",
   "execution_count": 4,
   "id": "0760e9c1-3cce-4e9f-8181-a23832b25ab3",
   "metadata": {},
   "outputs": [
    {
     "name": "stdout",
     "output_type": "stream",
     "text": [
      "this is my first function\n"
     ]
    },
    {
     "ename": "TypeError",
     "evalue": "unsupported operand type(s) for +: 'NoneType' and 'str'",
     "output_type": "error",
     "traceback": [
      "\u001b[0;31m---------------------------------------------------------------------------\u001b[0m",
      "\u001b[0;31mTypeError\u001b[0m                                 Traceback (most recent call last)",
      "Cell \u001b[0;32mIn[4], line 1\u001b[0m\n\u001b[0;32m----> 1\u001b[0m \u001b[43mtest\u001b[49m\u001b[43m(\u001b[49m\u001b[43m)\u001b[49m\u001b[43m \u001b[49m\u001b[38;5;241;43m+\u001b[39;49m\u001b[43m \u001b[49m\u001b[38;5;124;43m'\u001b[39;49m\u001b[38;5;124;43mraja\u001b[39;49m\u001b[38;5;124;43m'\u001b[39;49m\n",
      "\u001b[0;31mTypeError\u001b[0m: unsupported operand type(s) for +: 'NoneType' and 'str'"
     ]
    }
   ],
   "source": [
    "test() + 'raja'"
   ]
  },
  {
   "cell_type": "code",
   "execution_count": 5,
   "id": "cb132746-a167-4b39-a1db-7e934aad5807",
   "metadata": {},
   "outputs": [],
   "source": [
    "# the function is returning the string but we cannot concatinate function output and other string\n",
    "\n",
    "## it because the function returns none type "
   ]
  },
  {
   "cell_type": "code",
   "execution_count": 6,
   "id": "6f33a558-dea9-4a95-88dd-186d1994c052",
   "metadata": {},
   "outputs": [
    {
     "name": "stdout",
     "output_type": "stream",
     "text": [
      "this is my first function\n"
     ]
    },
    {
     "data": {
      "text/plain": [
       "NoneType"
      ]
     },
     "execution_count": 6,
     "metadata": {},
     "output_type": "execute_result"
    }
   ],
   "source": [
    "type(test())"
   ]
  },
  {
   "cell_type": "code",
   "execution_count": 7,
   "id": "69e1cecb-93b8-4947-87ea-0cdc57f0a694",
   "metadata": {},
   "outputs": [],
   "source": [
    "# another example\n",
    "\n",
    "def test_1() :\n",
    "    print(1+2)"
   ]
  },
  {
   "cell_type": "code",
   "execution_count": 8,
   "id": "3e537121-09cc-4b9f-9119-e1dd16799ee5",
   "metadata": {},
   "outputs": [
    {
     "name": "stdout",
     "output_type": "stream",
     "text": [
      "3\n"
     ]
    }
   ],
   "source": [
    "test_1()"
   ]
  },
  {
   "cell_type": "code",
   "execution_count": 9,
   "id": "58ecbbf7-1c45-4a89-a57e-9503bba1d944",
   "metadata": {},
   "outputs": [
    {
     "name": "stdout",
     "output_type": "stream",
     "text": [
      "3\n"
     ]
    },
    {
     "ename": "TypeError",
     "evalue": "unsupported operand type(s) for +: 'NoneType' and 'int'",
     "output_type": "error",
     "traceback": [
      "\u001b[0;31m---------------------------------------------------------------------------\u001b[0m",
      "\u001b[0;31mTypeError\u001b[0m                                 Traceback (most recent call last)",
      "Cell \u001b[0;32mIn[9], line 1\u001b[0m\n\u001b[0;32m----> 1\u001b[0m \u001b[43mtest_1\u001b[49m\u001b[43m(\u001b[49m\u001b[43m)\u001b[49m\u001b[43m \u001b[49m\u001b[38;5;241;43m+\u001b[39;49m\u001b[43m \u001b[49m\u001b[38;5;241;43m2\u001b[39;49m\n",
      "\u001b[0;31mTypeError\u001b[0m: unsupported operand type(s) for +: 'NoneType' and 'int'"
     ]
    }
   ],
   "source": [
    "test_1() + 2"
   ]
  },
  {
   "cell_type": "markdown",
   "id": "4a3ce6b6-3b27-4d07-8879-b029195ed20a",
   "metadata": {},
   "source": [
    "print statement always returns NoneType and we cannot be able to do any further operations with the function"
   ]
  },
  {
   "cell_type": "markdown",
   "id": "fc1dab01-be20-4b9f-a4dc-c4dda69c6b07",
   "metadata": {},
   "source": [
    "we need to use return statement when we use functions"
   ]
  },
  {
   "cell_type": "code",
   "execution_count": 10,
   "id": "e841c902-145d-4851-8367-e798d65b9fa1",
   "metadata": {},
   "outputs": [],
   "source": [
    "def test_2() :\n",
    "    return 2+5"
   ]
  },
  {
   "cell_type": "code",
   "execution_count": 11,
   "id": "7f442a94-91c3-47a8-9246-f701966a4320",
   "metadata": {},
   "outputs": [
    {
     "data": {
      "text/plain": [
       "7"
      ]
     },
     "execution_count": 11,
     "metadata": {},
     "output_type": "execute_result"
    }
   ],
   "source": [
    "test_2()"
   ]
  },
  {
   "cell_type": "code",
   "execution_count": 12,
   "id": "ddef92e8-7fc2-41e0-85b9-57fa7a404e28",
   "metadata": {},
   "outputs": [
    {
     "data": {
      "text/plain": [
       "18"
      ]
     },
     "execution_count": 12,
     "metadata": {},
     "output_type": "execute_result"
    }
   ],
   "source": [
    "test_2() + 11"
   ]
  },
  {
   "cell_type": "code",
   "execution_count": 13,
   "id": "5c04f49f-d019-4f8f-8ebc-53c3eb5a49d1",
   "metadata": {},
   "outputs": [
    {
     "data": {
      "text/plain": [
       "int"
      ]
     },
     "execution_count": 13,
     "metadata": {},
     "output_type": "execute_result"
    }
   ],
   "source": [
    "type(test_2())"
   ]
  },
  {
   "cell_type": "markdown",
   "id": "03b4429f-dca0-4f0f-9799-65e858b1a112",
   "metadata": {},
   "source": [
    "it is possible to return multiple entities"
   ]
  },
  {
   "cell_type": "code",
   "execution_count": 14,
   "id": "6ebae8af-b3f5-4d21-aeb6-9f0d32b7178f",
   "metadata": {},
   "outputs": [],
   "source": [
    "def test_3() :\n",
    "    return 2,True,\"raja\", [1,2,3,4,5]"
   ]
  },
  {
   "cell_type": "code",
   "execution_count": 15,
   "id": "644c80b9-7ed4-405f-a759-04c2a999f365",
   "metadata": {},
   "outputs": [
    {
     "data": {
      "text/plain": [
       "(2, True, 'raja', [1, 2, 3, 4, 5])"
      ]
     },
     "execution_count": 15,
     "metadata": {},
     "output_type": "execute_result"
    }
   ],
   "source": [
    "test_3()"
   ]
  },
  {
   "cell_type": "markdown",
   "id": "9f3c66dd-66ae-4985-839a-f1fad68ecc31",
   "metadata": {},
   "source": [
    "more than one returns, returns the values as a tuple"
   ]
  },
  {
   "cell_type": "code",
   "execution_count": 16,
   "id": "dc7c89a1-d6b0-4463-bdf7-daef75bd821c",
   "metadata": {},
   "outputs": [],
   "source": [
    "# also\n",
    "\n",
    "m,n,o,p = test_3()"
   ]
  },
  {
   "cell_type": "code",
   "execution_count": 17,
   "id": "ec06e66c-25dc-426a-bc7c-8a381e2b623b",
   "metadata": {},
   "outputs": [
    {
     "data": {
      "text/plain": [
       "2"
      ]
     },
     "execution_count": 17,
     "metadata": {},
     "output_type": "execute_result"
    }
   ],
   "source": [
    "m"
   ]
  },
  {
   "cell_type": "code",
   "execution_count": 18,
   "id": "89643415-ddfd-4e7c-8dc5-839d69d49cac",
   "metadata": {},
   "outputs": [
    {
     "data": {
      "text/plain": [
       "True"
      ]
     },
     "execution_count": 18,
     "metadata": {},
     "output_type": "execute_result"
    }
   ],
   "source": [
    "n"
   ]
  },
  {
   "cell_type": "code",
   "execution_count": 19,
   "id": "ad385963-72db-45fd-9546-603238c13872",
   "metadata": {},
   "outputs": [
    {
     "data": {
      "text/plain": [
       "'raja'"
      ]
     },
     "execution_count": 19,
     "metadata": {},
     "output_type": "execute_result"
    }
   ],
   "source": [
    "o"
   ]
  },
  {
   "cell_type": "code",
   "execution_count": 20,
   "id": "1b98195a-169d-4c75-ad77-b1d26e0e546a",
   "metadata": {},
   "outputs": [
    {
     "data": {
      "text/plain": [
       "[1, 2, 3, 4, 5]"
      ]
     },
     "execution_count": 20,
     "metadata": {},
     "output_type": "execute_result"
    }
   ],
   "source": [
    "p"
   ]
  },
  {
   "cell_type": "code",
   "execution_count": 21,
   "id": "dfc58b49-2f89-4533-86b7-5d28eb9a4dca",
   "metadata": {},
   "outputs": [
    {
     "data": {
      "text/plain": [
       "[1, 2, 3, 4, 5]"
      ]
     },
     "execution_count": 21,
     "metadata": {},
     "output_type": "execute_result"
    }
   ],
   "source": [
    "test_3()[3]"
   ]
  },
  {
   "cell_type": "code",
   "execution_count": 22,
   "id": "01832ae6-c7a2-4893-bdca-dd16ce7aab8b",
   "metadata": {},
   "outputs": [],
   "source": [
    "def test_4(x) :\n",
    "    return x"
   ]
  },
  {
   "cell_type": "code",
   "execution_count": 23,
   "id": "1bd5da0a-320f-4553-b7bd-ffb3aba1411c",
   "metadata": {},
   "outputs": [
    {
     "ename": "TypeError",
     "evalue": "test_4() missing 1 required positional argument: 'x'",
     "output_type": "error",
     "traceback": [
      "\u001b[0;31m---------------------------------------------------------------------------\u001b[0m",
      "\u001b[0;31mTypeError\u001b[0m                                 Traceback (most recent call last)",
      "Cell \u001b[0;32mIn[23], line 1\u001b[0m\n\u001b[0;32m----> 1\u001b[0m \u001b[43mtest_4\u001b[49m\u001b[43m(\u001b[49m\u001b[43m)\u001b[49m\n",
      "\u001b[0;31mTypeError\u001b[0m: test_4() missing 1 required positional argument: 'x'"
     ]
    }
   ],
   "source": [
    "test_4()"
   ]
  },
  {
   "cell_type": "code",
   "execution_count": 24,
   "id": "9f246780-49c5-4da0-9ffe-e8bd5ef7e771",
   "metadata": {},
   "outputs": [],
   "source": [
    "## we can also mention or set the datatype in a function\n",
    "\n",
    "def test_6(x:int, y:int) :\n",
    "    return x,y"
   ]
  },
  {
   "cell_type": "code",
   "execution_count": 26,
   "id": "075fc038-2880-490c-9dfe-e1f8004e2828",
   "metadata": {},
   "outputs": [
    {
     "data": {
      "text/plain": [
       "tuple"
      ]
     },
     "execution_count": 26,
     "metadata": {},
     "output_type": "execute_result"
    }
   ],
   "source": [
    "type(test_6(5,7))"
   ]
  },
  {
   "cell_type": "code",
   "execution_count": 28,
   "id": "5327a4ff-68fe-4bf9-8bb0-668b89c07097",
   "metadata": {},
   "outputs": [
    {
     "data": {
      "text/plain": [
       "('abc', [1, 2, 3, 4])"
      ]
     },
     "execution_count": 28,
     "metadata": {},
     "output_type": "execute_result"
    }
   ],
   "source": [
    "# but \n",
    "\n",
    "test_6('abc', [1,2,3,4]) #both are not integer"
   ]
  },
  {
   "cell_type": "markdown",
   "id": "d6dc1992-d4f8-4b7d-8140-2b07a5c2a48f",
   "metadata": {},
   "source": [
    "##### it is because python programming language is self identifiable language. it can understand a datatype automatically. so there is no hardcore rule that we have to define a datatype. we can only create a notification for that. "
   ]
  },
  {
   "cell_type": "code",
   "execution_count": 29,
   "id": "ce1132ea-592b-4103-b025-eb807a549fb7",
   "metadata": {},
   "outputs": [],
   "source": [
    "def test_11(x:int, y: int) :\n",
    "    return x/y"
   ]
  },
  {
   "cell_type": "code",
   "execution_count": 30,
   "id": "2bb62e19-988a-44a9-8039-35d97c520b37",
   "metadata": {},
   "outputs": [
    {
     "data": {
      "text/plain": [
       "2.0"
      ]
     },
     "execution_count": 30,
     "metadata": {},
     "output_type": "execute_result"
    }
   ],
   "source": [
    "test_11(10,5)"
   ]
  },
  {
   "cell_type": "code",
   "execution_count": 31,
   "id": "1896cae5-6a81-4b1f-b811-25f4625700c3",
   "metadata": {},
   "outputs": [
    {
     "ename": "TypeError",
     "evalue": "unsupported operand type(s) for /: 'str' and 'str'",
     "output_type": "error",
     "traceback": [
      "\u001b[0;31m---------------------------------------------------------------------------\u001b[0m",
      "\u001b[0;31mTypeError\u001b[0m                                 Traceback (most recent call last)",
      "Cell \u001b[0;32mIn[31], line 1\u001b[0m\n\u001b[0;32m----> 1\u001b[0m \u001b[43mtest_11\u001b[49m\u001b[43m(\u001b[49m\u001b[38;5;124;43m\"\u001b[39;49m\u001b[38;5;124;43mraja\u001b[39;49m\u001b[38;5;124;43m\"\u001b[39;49m\u001b[43m,\u001b[49m\u001b[43m \u001b[49m\u001b[38;5;124;43m\"\u001b[39;49m\u001b[38;5;124;43msubho\u001b[39;49m\u001b[38;5;124;43m\"\u001b[39;49m\u001b[43m)\u001b[49m\n",
      "Cell \u001b[0;32mIn[29], line 2\u001b[0m, in \u001b[0;36mtest_11\u001b[0;34m(x, y)\u001b[0m\n\u001b[1;32m      1\u001b[0m \u001b[38;5;28;01mdef\u001b[39;00m \u001b[38;5;21mtest_11\u001b[39m(x:\u001b[38;5;28mint\u001b[39m, y: \u001b[38;5;28mint\u001b[39m) :\n\u001b[0;32m----> 2\u001b[0m     \u001b[38;5;28;01mreturn\u001b[39;00m \u001b[43mx\u001b[49m\u001b[38;5;241;43m/\u001b[39;49m\u001b[43my\u001b[49m\n",
      "\u001b[0;31mTypeError\u001b[0m: unsupported operand type(s) for /: 'str' and 'str'"
     ]
    }
   ],
   "source": [
    "test_11(\"raja\", \"subho\")"
   ]
  },
  {
   "cell_type": "markdown",
   "id": "5eb8b920-697f-40b5-94e4-642c6a6bcb2b",
   "metadata": {},
   "source": [
    "we can't restrict the user. only notify the user"
   ]
  },
  {
   "cell_type": "markdown",
   "id": "1388caa6-aafa-46f1-bc7a-98a1cf5a2db4",
   "metadata": {},
   "source": [
    "#### Also, by looking into any function, we cant be able to understand the workablity. If I am creating my own fuction, and I want to other to do the same thing with the function then I need to implement some defination. for that we can use the double quote mark (\") three times as docstring under the function.  "
   ]
  },
  {
   "cell_type": "code",
   "execution_count": 32,
   "id": "8e4449e5-5a7a-43c6-a8d7-021e631f0614",
   "metadata": {},
   "outputs": [],
   "source": [
    "def test_add(c,d) :\n",
    "    \"\"\" this is my function which makes addition of two integer values\n",
    "    \"\"\"\n",
    "    return c+d"
   ]
  },
  {
   "cell_type": "code",
   "execution_count": 33,
   "id": "4b789b37-6265-40c0-b7b3-bbe52827617b",
   "metadata": {},
   "outputs": [],
   "source": [
    "### when we making any function always try to make a docstring for the function. this is a standard approacch"
   ]
  },
  {
   "cell_type": "code",
   "execution_count": 34,
   "id": "06a1516a-0325-4021-8d08-7794d07fd578",
   "metadata": {},
   "outputs": [],
   "source": [
    "### multiple arguments"
   ]
  },
  {
   "cell_type": "code",
   "execution_count": 35,
   "id": "44a21f8d-979a-4b5c-ac53-b32b3e5a4b84",
   "metadata": {},
   "outputs": [],
   "source": [
    "def test10(*args):\n",
    "    return args"
   ]
  },
  {
   "cell_type": "code",
   "execution_count": 36,
   "id": "9cbf48b5-1f31-46b1-ab28-c1cb83c76e60",
   "metadata": {},
   "outputs": [
    {
     "data": {
      "text/plain": [
       "()"
      ]
     },
     "execution_count": 36,
     "metadata": {},
     "output_type": "execute_result"
    }
   ],
   "source": [
    "test10()"
   ]
  },
  {
   "cell_type": "code",
   "execution_count": 37,
   "id": "3f238b8c-aa33-4266-b48c-29bc18c2180d",
   "metadata": {},
   "outputs": [
    {
     "data": {
      "text/plain": [
       "(2, 1, 4, 5, 6, 8, 9, 7, 4, 1, 2, 5, 4, 7)"
      ]
     },
     "execution_count": 37,
     "metadata": {},
     "output_type": "execute_result"
    }
   ],
   "source": [
    "test10(2,1,4,5,6,8,9,7,4,1,2,5,4,7)"
   ]
  },
  {
   "cell_type": "code",
   "execution_count": 39,
   "id": "fbf58069-cc3e-4883-8177-3432797792ac",
   "metadata": {},
   "outputs": [],
   "source": [
    "def test11(*raja) :\n",
    "    return raja # we can use any name instead of args"
   ]
  },
  {
   "cell_type": "code",
   "execution_count": 40,
   "id": "016316e4-7849-44a9-aaf0-3d5e1079a555",
   "metadata": {},
   "outputs": [],
   "source": [
    "#  ** kwargs"
   ]
  },
  {
   "cell_type": "code",
   "execution_count": 41,
   "id": "e01d5d06-ba8a-41fb-897c-accd5a0de56b",
   "metadata": {},
   "outputs": [],
   "source": [
    "def test_kw(**kwargs) :\n",
    "    return kwargs"
   ]
  },
  {
   "cell_type": "code",
   "execution_count": 42,
   "id": "e7715ab2-ced8-4354-8a4d-0bae3ec967f7",
   "metadata": {},
   "outputs": [
    {
     "data": {
      "text/plain": [
       "{'a': 10, 'b': 20}"
      ]
     },
     "execution_count": 42,
     "metadata": {},
     "output_type": "execute_result"
    }
   ],
   "source": [
    "test_kw(a = 10, b = 20)"
   ]
  },
  {
   "cell_type": "code",
   "execution_count": 43,
   "id": "cdc1bd26-5449-4c29-9fe8-35040de5d964",
   "metadata": {},
   "outputs": [
    {
     "data": {
      "text/plain": [
       "{'n': {'a': 4, 'b': 5, 'c': 6}}"
      ]
     },
     "execution_count": 43,
     "metadata": {},
     "output_type": "execute_result"
    }
   ],
   "source": [
    "# also\n",
    "\n",
    "test_kw(n = {'a': 4, 'b' : 5, 'c': 6})"
   ]
  },
  {
   "cell_type": "code",
   "execution_count": 48,
   "id": "1cdd2938-e886-4583-91b7-c22c024b3ac9",
   "metadata": {},
   "outputs": [],
   "source": [
    "def test_kw_1(b,a = 30, c = 40) :\n",
    "    return a,b,c"
   ]
  },
  {
   "cell_type": "code",
   "execution_count": 49,
   "id": "ebfc5f73-4be4-4c6d-80c9-b332c5a152e7",
   "metadata": {},
   "outputs": [
    {
     "data": {
      "text/plain": [
       "(30, 56, 40)"
      ]
     },
     "execution_count": 49,
     "metadata": {},
     "output_type": "execute_result"
    }
   ],
   "source": [
    "test_kw_1(56)"
   ]
  },
  {
   "cell_type": "code",
   "execution_count": 50,
   "id": "085aa9ed-362b-468a-91cd-01e28022ac4a",
   "metadata": {},
   "outputs": [],
   "source": [
    "## lambda\n",
    "\n",
    "m = lambda x,y : x+y"
   ]
  },
  {
   "cell_type": "code",
   "execution_count": 51,
   "id": "c119d62f-d4ce-4d34-9e55-2abc3fb19872",
   "metadata": {},
   "outputs": [
    {
     "data": {
      "text/plain": [
       "7"
      ]
     },
     "execution_count": 51,
     "metadata": {},
     "output_type": "execute_result"
    }
   ],
   "source": [
    "m(3,4)"
   ]
  },
  {
   "cell_type": "code",
   "execution_count": 52,
   "id": "effc906a-84d5-49b4-ae1b-7ad35339979f",
   "metadata": {},
   "outputs": [],
   "source": [
    "def check_even(n) :\n",
    "    if n%2 == 0 :\n",
    "        return \"even number\"\n",
    "    else :\n",
    "        return \"odd number\"\n",
    "    \n",
    "    "
   ]
  },
  {
   "cell_type": "code",
   "execution_count": 53,
   "id": "0d08d133-e213-4739-85c0-2cc6be43a5db",
   "metadata": {},
   "outputs": [
    {
     "data": {
      "text/plain": [
       "'odd number'"
      ]
     },
     "execution_count": 53,
     "metadata": {},
     "output_type": "execute_result"
    }
   ],
   "source": [
    "check_even(3)"
   ]
  },
  {
   "cell_type": "code",
   "execution_count": 54,
   "id": "30e66b70-b032-47ef-b74f-6a86497328de",
   "metadata": {},
   "outputs": [],
   "source": [
    "b = lambda n : \"even number\" if n%2 == 0 else \"odd number\""
   ]
  },
  {
   "cell_type": "code",
   "execution_count": 55,
   "id": "80a60fd1-1761-4caa-9d42-0aa55d5a2278",
   "metadata": {},
   "outputs": [
    {
     "data": {
      "text/plain": [
       "'odd number'"
      ]
     },
     "execution_count": 55,
     "metadata": {},
     "output_type": "execute_result"
    }
   ],
   "source": [
    "b(3)"
   ]
  },
  {
   "cell_type": "code",
   "execution_count": 56,
   "id": "de4f9dc6-b34a-46b9-a2a5-27cca3446367",
   "metadata": {},
   "outputs": [],
   "source": [
    "l = [4,5,2,1,4,5,6,9,87,65,5,99,21,1254,578,4123,5469,857,412,45]\n",
    "\n",
    "min_list = lambda li : min(li)"
   ]
  },
  {
   "cell_type": "code",
   "execution_count": 57,
   "id": "e1c55b7c-2980-459a-a8dd-53197dd928f8",
   "metadata": {},
   "outputs": [
    {
     "data": {
      "text/plain": [
       "1"
      ]
     },
     "execution_count": 57,
     "metadata": {},
     "output_type": "execute_result"
    }
   ],
   "source": [
    "min_list(l)"
   ]
  },
  {
   "cell_type": "code",
   "execution_count": 58,
   "id": "c851724e-4c92-44c1-a8de-011f14ee2185",
   "metadata": {},
   "outputs": [],
   "source": [
    "upper = lambda s : s.upper()"
   ]
  },
  {
   "cell_type": "code",
   "execution_count": 59,
   "id": "013bb6ee-9197-4315-92e2-87db4d835346",
   "metadata": {},
   "outputs": [
    {
     "data": {
      "text/plain": [
       "'DIBYENDU'"
      ]
     },
     "execution_count": 59,
     "metadata": {},
     "output_type": "execute_result"
    }
   ],
   "source": [
    "upper(\"dibyendu\")"
   ]
  },
  {
   "cell_type": "code",
   "execution_count": 62,
   "id": "eebb3af2-4099-4806-a50b-b159a0c74879",
   "metadata": {},
   "outputs": [],
   "source": [
    "## sum of odd number\n",
    "\n",
    "l = [4,5,2,1,4,5,6,9,87,65,5,99,21,1254,578,4123,5469,857,412,45]\n",
    "\n",
    "def sum_odd(b) :\n",
    "    l1 = []\n",
    "    \n",
    "    for i in l :\n",
    "        if i%2 != 0 :\n",
    "            l1.append(i)\n",
    "            \n",
    "    return sum(l1)"
   ]
  },
  {
   "cell_type": "code",
   "execution_count": 63,
   "id": "a9fdc3c8-7ecf-47c3-a687-7154c30fe43f",
   "metadata": {},
   "outputs": [
    {
     "data": {
      "text/plain": [
       "10791"
      ]
     },
     "execution_count": 63,
     "metadata": {},
     "output_type": "execute_result"
    }
   ],
   "source": [
    "sum_odd(l)"
   ]
  },
  {
   "cell_type": "code",
   "execution_count": 65,
   "id": "9f5d8f7f-5820-4723-b93d-81d7e8d33c28",
   "metadata": {},
   "outputs": [
    {
     "data": {
      "text/plain": [
       "[5, 1, 5, 9, 87, 65, 5, 99, 21, 4123, 5469, 857, 45]"
      ]
     },
     "execution_count": 65,
     "metadata": {},
     "output_type": "execute_result"
    }
   ],
   "source": [
    "## same thing using lambda function\n",
    "\n",
    "[i for i in l if i % 2 != 0] # returns the odd numbers from the list"
   ]
  },
  {
   "cell_type": "code",
   "execution_count": 67,
   "id": "d1386dff-da83-4fd8-80d2-00fe6c2840a4",
   "metadata": {},
   "outputs": [
    {
     "data": {
      "text/plain": [
       "10791"
      ]
     },
     "execution_count": 67,
     "metadata": {},
     "output_type": "execute_result"
    }
   ],
   "source": [
    "sum([i for i in l if i % 2 != 0]) # returns sum"
   ]
  },
  {
   "cell_type": "code",
   "execution_count": 68,
   "id": "3ba67058-e29e-4b4b-be78-dfd2f64593e0",
   "metadata": {},
   "outputs": [],
   "source": [
    "## using lambda\n",
    "\n",
    "sum_of_lambda = lambda b : sum([i for i in l if i % 2 != 0])"
   ]
  },
  {
   "cell_type": "code",
   "execution_count": 69,
   "id": "97d08f71-57d9-4efe-bb68-c03a37c92aab",
   "metadata": {},
   "outputs": [
    {
     "data": {
      "text/plain": [
       "10791"
      ]
     },
     "execution_count": 69,
     "metadata": {},
     "output_type": "execute_result"
    }
   ],
   "source": [
    "sum_of_lambda(l)"
   ]
  },
  {
   "cell_type": "markdown",
   "id": "5ff8d9e1-5213-4a4b-8c18-79bceafc2f8f",
   "metadata": {},
   "source": [
    "#### Lambda can be called as single liner definations or single liner function. also lambda called as snnonymus function"
   ]
  },
  {
   "cell_type": "code",
   "execution_count": null,
   "id": "6dc535a7-4c94-418c-8b11-336056332ec6",
   "metadata": {},
   "outputs": [],
   "source": []
  },
  {
   "cell_type": "markdown",
   "id": "df23b253-acfb-4b44-b3b0-bf840967d9ad",
   "metadata": {},
   "source": [
    "### Recursion"
   ]
  },
  {
   "cell_type": "code",
   "execution_count": 70,
   "id": "7d9df7cc-d6a4-417b-b3af-a9c0a4f232b9",
   "metadata": {},
   "outputs": [],
   "source": [
    "def fact_num(n) :\n",
    "    if n == 0 :\n",
    "        return 1\n",
    "    else :\n",
    "        return n*fact_num(n-1)"
   ]
  },
  {
   "cell_type": "code",
   "execution_count": 71,
   "id": "0dc24844-0839-451c-a3e4-2a618c216b61",
   "metadata": {},
   "outputs": [
    {
     "data": {
      "text/plain": [
       "1"
      ]
     },
     "execution_count": 71,
     "metadata": {},
     "output_type": "execute_result"
    }
   ],
   "source": [
    "fact_num(0)"
   ]
  },
  {
   "cell_type": "code",
   "execution_count": 72,
   "id": "263baefe-d468-4b9e-bf90-0e17c83bc0f6",
   "metadata": {},
   "outputs": [
    {
     "data": {
      "text/plain": [
       "120"
      ]
     },
     "execution_count": 72,
     "metadata": {},
     "output_type": "execute_result"
    }
   ],
   "source": [
    "fact_num(5)"
   ]
  },
  {
   "cell_type": "code",
   "execution_count": 75,
   "id": "47e7cf18-449b-4d97-b44a-0595bda914a0",
   "metadata": {},
   "outputs": [],
   "source": [
    "### without recursion\n",
    "\n",
    "\n",
    "def without_rec_fact(n) : \n",
    "    a = 1\n",
    "    for i in range(1,n+1) :\n",
    "        a = i*a\n",
    "        \n",
    "    return a"
   ]
  },
  {
   "cell_type": "code",
   "execution_count": 76,
   "id": "761d9fd6-d51a-4400-bd22-5abe5a962ac5",
   "metadata": {},
   "outputs": [
    {
     "data": {
      "text/plain": [
       "120"
      ]
     },
     "execution_count": 76,
     "metadata": {},
     "output_type": "execute_result"
    }
   ],
   "source": [
    "without_rec_fact(5)"
   ]
  },
  {
   "cell_type": "code",
   "execution_count": 77,
   "id": "f2ff6a6c-301e-483c-ab26-54ef3ba09ca0",
   "metadata": {},
   "outputs": [],
   "source": [
    "## using lambda\n",
    "\n",
    "fact_num_lambda = lambda n : 1 if n==0 else n*fact_num_lambda(n-1)"
   ]
  },
  {
   "cell_type": "code",
   "execution_count": 78,
   "id": "0b5978f4-2ab6-439c-add2-a407ee5fcffc",
   "metadata": {},
   "outputs": [
    {
     "data": {
      "text/plain": [
       "120"
      ]
     },
     "execution_count": 78,
     "metadata": {},
     "output_type": "execute_result"
    }
   ],
   "source": [
    "fact_num_lambda(5)"
   ]
  },
  {
   "cell_type": "code",
   "execution_count": 79,
   "id": "31fa7fe8-724a-4b37-a044-483291cf2878",
   "metadata": {},
   "outputs": [],
   "source": [
    "## suppose we have to addition of 2 from each list member \n",
    "\n",
    "l = [4,5,2,1,4,5,6,9,87,65,5,99,21,1254,578,4123,5469,857,412,45]\n",
    "\n",
    "l1 = []\n",
    "for i in l :\n",
    "    l1.append(i+2)"
   ]
  },
  {
   "cell_type": "code",
   "execution_count": 80,
   "id": "b920d5db-4fc4-4755-9440-e430ed0efd2e",
   "metadata": {},
   "outputs": [
    {
     "data": {
      "text/plain": [
       "[6,\n",
       " 7,\n",
       " 4,\n",
       " 3,\n",
       " 6,\n",
       " 7,\n",
       " 8,\n",
       " 11,\n",
       " 89,\n",
       " 67,\n",
       " 7,\n",
       " 101,\n",
       " 23,\n",
       " 1256,\n",
       " 580,\n",
       " 4125,\n",
       " 5471,\n",
       " 859,\n",
       " 414,\n",
       " 47]"
      ]
     },
     "execution_count": 80,
     "metadata": {},
     "output_type": "execute_result"
    }
   ],
   "source": [
    "l1"
   ]
  },
  {
   "cell_type": "code",
   "execution_count": 81,
   "id": "65fedaf6-2709-4b42-9554-a7803aced34d",
   "metadata": {},
   "outputs": [],
   "source": [
    "def add_list(l) :\n",
    "    l1 = []\n",
    "    for i in l :\n",
    "        l1.append(i+2)\n",
    "    return l1"
   ]
  },
  {
   "cell_type": "code",
   "execution_count": 82,
   "id": "ce3409bb-5c82-46a4-b4a6-06b3c05f7a74",
   "metadata": {},
   "outputs": [
    {
     "data": {
      "text/plain": [
       "[5, 6, 7, 8, 9]"
      ]
     },
     "execution_count": 82,
     "metadata": {},
     "output_type": "execute_result"
    }
   ],
   "source": [
    "add_list([3,4,5,6,7])"
   ]
  },
  {
   "cell_type": "code",
   "execution_count": 83,
   "id": "39a27c4c-7f88-4764-bc42-a77fdf608270",
   "metadata": {},
   "outputs": [],
   "source": [
    "### using lambda\n",
    "\n",
    "v = lambda a : a+2"
   ]
  },
  {
   "cell_type": "code",
   "execution_count": 84,
   "id": "8bc91b7d-6820-444b-bb67-0acbeae77528",
   "metadata": {},
   "outputs": [
    {
     "data": {
      "text/plain": [
       "12"
      ]
     },
     "execution_count": 84,
     "metadata": {},
     "output_type": "execute_result"
    }
   ],
   "source": [
    "v(10)"
   ]
  },
  {
   "cell_type": "code",
   "execution_count": 85,
   "id": "bc419c0b-c9c9-45d7-8aa6-3ce808ae2655",
   "metadata": {},
   "outputs": [
    {
     "data": {
      "text/plain": [
       "<map at 0x7f67c0265660>"
      ]
     },
     "execution_count": 85,
     "metadata": {},
     "output_type": "execute_result"
    }
   ],
   "source": [
    "map(lambda a : a+2, l)"
   ]
  },
  {
   "cell_type": "code",
   "execution_count": 86,
   "id": "b8e8b6f5-9197-4852-aed5-1764c9fe5ac1",
   "metadata": {},
   "outputs": [
    {
     "data": {
      "text/plain": [
       "[6,\n",
       " 7,\n",
       " 4,\n",
       " 3,\n",
       " 6,\n",
       " 7,\n",
       " 8,\n",
       " 11,\n",
       " 89,\n",
       " 67,\n",
       " 7,\n",
       " 101,\n",
       " 23,\n",
       " 1256,\n",
       " 580,\n",
       " 4125,\n",
       " 5471,\n",
       " 859,\n",
       " 414,\n",
       " 47]"
      ]
     },
     "execution_count": 86,
     "metadata": {},
     "output_type": "execute_result"
    }
   ],
   "source": [
    "list(map(lambda a : a+2, l))"
   ]
  },
  {
   "cell_type": "markdown",
   "id": "6e8f8f48-eef1-4068-b0ae-26b1af94f678",
   "metadata": {},
   "source": [
    "#### map functions indivitually and returns the outputs "
   ]
  },
  {
   "cell_type": "code",
   "execution_count": 87,
   "id": "576c87e8-6753-4c83-acc9-9769122f0e1e",
   "metadata": {},
   "outputs": [],
   "source": [
    "def test34(c) :\n",
    "    return c+2"
   ]
  },
  {
   "cell_type": "code",
   "execution_count": 89,
   "id": "d34c53a7-a10b-41c3-9190-7c2767c5c7db",
   "metadata": {},
   "outputs": [
    {
     "data": {
      "text/plain": [
       "[6,\n",
       " 7,\n",
       " 4,\n",
       " 3,\n",
       " 6,\n",
       " 7,\n",
       " 8,\n",
       " 11,\n",
       " 89,\n",
       " 67,\n",
       " 7,\n",
       " 101,\n",
       " 23,\n",
       " 1256,\n",
       " 580,\n",
       " 4125,\n",
       " 5471,\n",
       " 859,\n",
       " 414,\n",
       " 47]"
      ]
     },
     "execution_count": 89,
     "metadata": {},
     "output_type": "execute_result"
    }
   ],
   "source": [
    "list(map(test34,l))"
   ]
  },
  {
   "cell_type": "code",
   "execution_count": 90,
   "id": "60e0177e-bd53-43c2-af22-a3b4ca361eb5",
   "metadata": {},
   "outputs": [],
   "source": [
    "l_str = ['raja','dibyendu', 'subho']"
   ]
  },
  {
   "cell_type": "code",
   "execution_count": 91,
   "id": "e4ec1bea-db18-49a1-a025-f2a94c657954",
   "metadata": {},
   "outputs": [
    {
     "data": {
      "text/plain": [
       "4"
      ]
     },
     "execution_count": 91,
     "metadata": {},
     "output_type": "execute_result"
    }
   ],
   "source": [
    "len('raja')"
   ]
  },
  {
   "cell_type": "code",
   "execution_count": 92,
   "id": "e23f0e24-e589-4bd9-bd66-8c757c395ed5",
   "metadata": {},
   "outputs": [
    {
     "data": {
      "text/plain": [
       "5"
      ]
     },
     "execution_count": 92,
     "metadata": {},
     "output_type": "execute_result"
    }
   ],
   "source": [
    "len('subho')"
   ]
  },
  {
   "cell_type": "code",
   "execution_count": 93,
   "id": "02b833f0-3102-4d95-8941-a84e76fcc8da",
   "metadata": {},
   "outputs": [
    {
     "data": {
      "text/plain": [
       "8"
      ]
     },
     "execution_count": 93,
     "metadata": {},
     "output_type": "execute_result"
    }
   ],
   "source": [
    "len('dibyendu')"
   ]
  },
  {
   "cell_type": "code",
   "execution_count": 94,
   "id": "73a710d1-b34a-45a1-932e-82986b11e359",
   "metadata": {},
   "outputs": [],
   "source": [
    "l1 = []\n",
    "\n",
    "for i in l_str :\n",
    "    l1.append(len(i))"
   ]
  },
  {
   "cell_type": "code",
   "execution_count": 95,
   "id": "93550a6c-e5a4-4566-aed8-5baf70534f6b",
   "metadata": {},
   "outputs": [
    {
     "data": {
      "text/plain": [
       "[4, 8, 5]"
      ]
     },
     "execution_count": 95,
     "metadata": {},
     "output_type": "execute_result"
    }
   ],
   "source": [
    "l1"
   ]
  },
  {
   "cell_type": "code",
   "execution_count": 96,
   "id": "f5d1558b-fd23-47a3-b7d6-e8a9d35562d4",
   "metadata": {},
   "outputs": [],
   "source": [
    "def test_01(l) :\n",
    "    l1 = []\n",
    "    for i in l :\n",
    "        l1.append(len(i))\n",
    "        \n",
    "    return l1"
   ]
  },
  {
   "cell_type": "code",
   "execution_count": 98,
   "id": "8161ab24-7756-417d-844a-12adc4fd0620",
   "metadata": {},
   "outputs": [
    {
     "data": {
      "text/plain": [
       "[4, 8, 5]"
      ]
     },
     "execution_count": 98,
     "metadata": {},
     "output_type": "execute_result"
    }
   ],
   "source": [
    "test_01(l_str)"
   ]
  },
  {
   "cell_type": "code",
   "execution_count": 99,
   "id": "90ae9049-653b-454e-a079-42fc74867fcc",
   "metadata": {},
   "outputs": [
    {
     "data": {
      "text/plain": [
       "[4, 8, 5]"
      ]
     },
     "execution_count": 99,
     "metadata": {},
     "output_type": "execute_result"
    }
   ],
   "source": [
    "## using map\n",
    "\n",
    "list(map(lambda x : len(x), l_str))"
   ]
  },
  {
   "cell_type": "code",
   "execution_count": 101,
   "id": "731f57ae-ca24-4c34-a5cc-970b4dedc250",
   "metadata": {},
   "outputs": [
    {
     "data": {
      "text/plain": [
       "[4, 8, 5]"
      ]
     },
     "execution_count": 101,
     "metadata": {},
     "output_type": "execute_result"
    }
   ],
   "source": [
    "list(map(len, l_str))"
   ]
  },
  {
   "cell_type": "code",
   "execution_count": 102,
   "id": "5496fab4-38ba-4f06-a295-e868d553e57c",
   "metadata": {},
   "outputs": [
    {
     "data": {
      "text/plain": [
       "['raja', 'dibyendu', 'subho']"
      ]
     },
     "execution_count": 102,
     "metadata": {},
     "output_type": "execute_result"
    }
   ],
   "source": [
    "l_str"
   ]
  },
  {
   "cell_type": "code",
   "execution_count": 103,
   "id": "fce9d55d-3483-4b25-baf0-8658e6303bcb",
   "metadata": {},
   "outputs": [
    {
     "data": {
      "text/plain": [
       "['subho', 'dibyendu', 'raja']"
      ]
     },
     "execution_count": 103,
     "metadata": {},
     "output_type": "execute_result"
    }
   ],
   "source": [
    "l_str[::-1]"
   ]
  },
  {
   "cell_type": "code",
   "execution_count": 105,
   "id": "c99d8806-0b2d-45c0-ad7c-8532beca629e",
   "metadata": {},
   "outputs": [
    {
     "data": {
      "text/plain": [
       "'udneybid'"
      ]
     },
     "execution_count": 105,
     "metadata": {},
     "output_type": "execute_result"
    }
   ],
   "source": [
    "l_str[1][::-1]"
   ]
  },
  {
   "cell_type": "code",
   "execution_count": 104,
   "id": "08330662-f8a2-4abf-be51-01e604234dda",
   "metadata": {},
   "outputs": [
    {
     "data": {
      "text/plain": [
       "['ajar', 'udneybid', 'ohbus']"
      ]
     },
     "execution_count": 104,
     "metadata": {},
     "output_type": "execute_result"
    }
   ],
   "source": [
    "list(map(lambda a : a[::-1], l_str))"
   ]
  },
  {
   "cell_type": "code",
   "execution_count": null,
   "id": "554435d1-8bc2-4b23-a316-c5d70425ef45",
   "metadata": {},
   "outputs": [],
   "source": []
  },
  {
   "cell_type": "code",
   "execution_count": 106,
   "id": "eba98599-2a68-4fe6-bbd9-87198ff2a589",
   "metadata": {},
   "outputs": [],
   "source": [
    "l = [2,3,4,5,6,6]\n",
    "\n",
    "## try to an outcome which is going to be multiplication of all the elements available inside a list "
   ]
  },
  {
   "cell_type": "code",
   "execution_count": 107,
   "id": "adb6c572-2d9f-4452-acb1-4d492af75c84",
   "metadata": {},
   "outputs": [
    {
     "data": {
      "text/plain": [
       "4320"
      ]
     },
     "execution_count": 107,
     "metadata": {},
     "output_type": "execute_result"
    }
   ],
   "source": [
    "## for this we need to import functools\n",
    "\n",
    "from functools import reduce\n",
    "\n",
    "reduce(lambda a,b : a*b, l)"
   ]
  },
  {
   "cell_type": "code",
   "execution_count": 108,
   "id": "16437b45-c14a-465c-8afc-abf6463c452f",
   "metadata": {},
   "outputs": [
    {
     "data": {
      "text/plain": [
       "2"
      ]
     },
     "execution_count": 108,
     "metadata": {},
     "output_type": "execute_result"
    }
   ],
   "source": [
    "## determining minimum element from the list with the help of comparison\n",
    "\n",
    "reduce(lambda a,b : a if a < b else b, l)"
   ]
  },
  {
   "cell_type": "code",
   "execution_count": 109,
   "id": "90eb2dc2-49dc-4600-97e7-63732a510a20",
   "metadata": {},
   "outputs": [],
   "source": [
    "## factorial \n",
    "\n",
    "n = 4\n",
    "\n",
    "fact = reduce(lambda a,b : a*b , range(1, n+1))"
   ]
  },
  {
   "cell_type": "code",
   "execution_count": 110,
   "id": "67f3678f-819b-457d-a65c-785291dcf4b7",
   "metadata": {},
   "outputs": [
    {
     "data": {
      "text/plain": [
       "24"
      ]
     },
     "execution_count": 110,
     "metadata": {},
     "output_type": "execute_result"
    }
   ],
   "source": [
    "fact"
   ]
  },
  {
   "cell_type": "code",
   "execution_count": 111,
   "id": "67ed0f41-16a6-49c2-9725-ace961eec63f",
   "metadata": {},
   "outputs": [
    {
     "data": {
      "text/plain": [
       "288"
      ]
     },
     "execution_count": 111,
     "metadata": {},
     "output_type": "execute_result"
    }
   ],
   "source": [
    "## multiplication of even elements from the list\n",
    "\n",
    "reduce(lambda a,b : a*b , [i for i in l if i%2 == 0])"
   ]
  },
  {
   "cell_type": "code",
   "execution_count": 112,
   "id": "af9f6bb0-615a-4d6e-a760-487cb5c91f25",
   "metadata": {},
   "outputs": [],
   "source": [
    "l = [4,5,2,1,4,5,6,9,87,65,5,99,21,1254,578,4123,5469,857,412,45]"
   ]
  },
  {
   "cell_type": "code",
   "execution_count": 113,
   "id": "c258463a-6027-4e23-869e-86923ffa440c",
   "metadata": {},
   "outputs": [
    {
     "data": {
      "text/plain": [
       "[4, 2, 4, 6, 1254, 578, 412]"
      ]
     },
     "execution_count": 113,
     "metadata": {},
     "output_type": "execute_result"
    }
   ],
   "source": [
    "## returning even element from the list\n",
    "\n",
    "list(filter(lambda a : a%2 == 0, l))"
   ]
  },
  {
   "cell_type": "code",
   "execution_count": 114,
   "id": "948a49f8-c419-47fd-915f-5970019a70f9",
   "metadata": {},
   "outputs": [
    {
     "data": {
      "text/plain": [
       "['w', 'k', 'i', 'l', 'l', 's']"
      ]
     },
     "execution_count": 114,
     "metadata": {},
     "output_type": "execute_result"
    }
   ],
   "source": [
    "s = \"Pw Skills\"\n",
    "\n",
    "# returning the data which is been in lower case only\n",
    "\n",
    "list(filter(lambda a : a.islower(), s))"
   ]
  },
  {
   "cell_type": "code",
   "execution_count": 119,
   "id": "7e43d74b-e16e-44b6-ac3b-b680b95b2c26",
   "metadata": {},
   "outputs": [
    {
     "data": {
      "text/plain": [
       "['pw', 'dip']"
      ]
     },
     "execution_count": 119,
     "metadata": {},
     "output_type": "execute_result"
    }
   ],
   "source": [
    "l = ['pw', 'skills', 'dibyendu', 'dip']\n",
    "\n",
    "## returning those data which is lesser than 4\n",
    "\n",
    "list(filter(lambda x : len(x) <= 4, l))"
   ]
  },
  {
   "cell_type": "code",
   "execution_count": 120,
   "id": "457121b0-7709-46c3-9799-38bb15283e6c",
   "metadata": {},
   "outputs": [
    {
     "data": {
      "text/plain": [
       "['pw']"
      ]
     },
     "execution_count": 120,
     "metadata": {},
     "output_type": "execute_result"
    }
   ],
   "source": [
    "## not starting from p \n",
    "\n",
    "list(filter(lambda a : a[0] == 'p', l))"
   ]
  },
  {
   "cell_type": "markdown",
   "id": "4d926c10-92f3-47de-b4ce-8a8df6288f43",
   "metadata": {},
   "source": [
    "## Recursive function "
   ]
  },
  {
   "cell_type": "code",
   "execution_count": 123,
   "id": "4328a441-2376-4242-ae2e-148ed7bf3c73",
   "metadata": {},
   "outputs": [],
   "source": [
    "def gen_fib(n) :\n",
    "    if n <= 1 :\n",
    "        return n\n",
    "    else :\n",
    "        return gen_fib(n-1) + gen_fib(n-2)"
   ]
  },
  {
   "cell_type": "code",
   "execution_count": 124,
   "id": "be564b01-3848-401a-add7-6e61dfc3ec67",
   "metadata": {},
   "outputs": [
    {
     "data": {
      "text/plain": [
       "55"
      ]
     },
     "execution_count": 124,
     "metadata": {},
     "output_type": "execute_result"
    }
   ],
   "source": [
    "gen_fib(10)"
   ]
  },
  {
   "cell_type": "code",
   "execution_count": 125,
   "id": "c41937cb-467f-4a90-99a4-baded467095a",
   "metadata": {},
   "outputs": [],
   "source": [
    "# sum of 100 numbers\n",
    "\n",
    "def sum_till_n(n) :\n",
    "    if n == 1 :\n",
    "        return 1\n",
    "    else :\n",
    "        return n + sum_till_n(n-1)"
   ]
  },
  {
   "cell_type": "code",
   "execution_count": 126,
   "id": "634b2c16-e5f9-42ad-916a-076611bb255a",
   "metadata": {},
   "outputs": [
    {
     "data": {
      "text/plain": [
       "15"
      ]
     },
     "execution_count": 126,
     "metadata": {},
     "output_type": "execute_result"
    }
   ],
   "source": [
    "sum_till_n(5)"
   ]
  },
  {
   "cell_type": "code",
   "execution_count": null,
   "id": "bfc8a800-552e-4a28-a485-4751dad15e30",
   "metadata": {},
   "outputs": [],
   "source": []
  }
 ],
 "metadata": {
  "kernelspec": {
   "display_name": "Python 3 (ipykernel)",
   "language": "python",
   "name": "python3"
  },
  "language_info": {
   "codemirror_mode": {
    "name": "ipython",
    "version": 3
   },
   "file_extension": ".py",
   "mimetype": "text/x-python",
   "name": "python",
   "nbconvert_exporter": "python",
   "pygments_lexer": "ipython3",
   "version": "3.10.8"
  }
 },
 "nbformat": 4,
 "nbformat_minor": 5
}
