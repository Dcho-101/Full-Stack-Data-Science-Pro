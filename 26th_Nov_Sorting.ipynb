{
  "nbformat": 4,
  "nbformat_minor": 0,
  "metadata": {
    "colab": {
      "provenance": []
    },
    "kernelspec": {
      "name": "python3",
      "display_name": "Python 3"
    },
    "language_info": {
      "name": "python"
    }
  },
  "cells": [
    {
      "cell_type": "markdown",
      "source": [
        "# **BUBBLE SORT**"
      ],
      "metadata": {
        "id": "pa2qlqbFTud3"
      }
    },
    {
      "cell_type": "code",
      "execution_count": null,
      "metadata": {
        "colab": {
          "base_uri": "https://localhost:8080/"
        },
        "id": "q9evwyJRTmNo",
        "outputId": "cfca5ba2-5aca-4311-f807-7aca016ee8af"
      },
      "outputs": [
        {
          "output_type": "stream",
          "name": "stdout",
          "text": [
            "[1, 2, 3, 4]\n"
          ]
        }
      ],
      "source": [
        "## bubble sort\n",
        "\n",
        "def bubbeSort(arr) :\n",
        "  for i in range(len(arr) - 1, 0, -1) : ## taken the last index from the array, and going backwards untill 0th index.\n",
        "    for j in  range(i) : ## it starts from the first index form the array and checking with all the other contents of the array\n",
        "      if arr[j] > arr[j + 1] : ## if the values are bigger on the first index\n",
        "        arr[j] , arr[j + 1] = arr[j + 1] , arr[j] ## helps in swapping and making the indexing in right.\n",
        "\n",
        "\n",
        "## driver code\n",
        "\n",
        "arr = [4,3,2,1]\n",
        "bubbeSort(arr)\n",
        "print(arr)\n"
      ]
    },
    {
      "cell_type": "code",
      "source": [
        "## More optimised code for the above\n",
        "\n",
        "def bubbeSortOptimized(arr) :\n",
        "  for i in range(len(arr) - 1, 0, -1) :\n",
        "    isSorted = True\n",
        "    for j in  range(i) :\n",
        "      if arr[j] > arr[j + 1] :\n",
        "        isSorted = False\n",
        "        arr[j] , arr[j + 1] = arr[j + 1] , arr[j]\n",
        "\n",
        "    if isSorted :\n",
        "      print(\"Array is already sorted\")\n",
        "      break\n",
        "\n",
        "\n",
        "## driver code\n",
        "\n",
        "arr = [1,2,3,4]\n",
        "bubbeSortOptimized(arr)\n",
        "print(arr)"
      ],
      "metadata": {
        "colab": {
          "base_uri": "https://localhost:8080/"
        },
        "id": "c337p3d11JUL",
        "outputId": "0def25fa-9046-49d1-9449-ca9dd7dd0791"
      },
      "execution_count": null,
      "outputs": [
        {
          "output_type": "stream",
          "name": "stdout",
          "text": [
            "Array is already sorted\n",
            "[1, 2, 3, 4]\n"
          ]
        }
      ]
    },
    {
      "cell_type": "code",
      "source": [
        "arr = [1,2,3,4,5]\n",
        "len(arr)\n",
        "for i in range(len(arr)):\n",
        "  print(i)"
      ],
      "metadata": {
        "colab": {
          "base_uri": "https://localhost:8080/"
        },
        "id": "4Al7GBTZnXpi",
        "outputId": "c5a9354b-773d-4f27-cb87-ef266cb951e5"
      },
      "execution_count": null,
      "outputs": [
        {
          "output_type": "execute_result",
          "data": {
            "text/plain": [
              "5"
            ]
          },
          "metadata": {},
          "execution_count": 17
        }
      ]
    },
    {
      "cell_type": "code",
      "source": [
        "## Question\n",
        "## check in an array given and sort it. If sorted then return that the array is sorted\n",
        "\n",
        "\n",
        "def sorting_array(arr) :\n",
        "  for i in range(len(arr)-1, 0,-1) :\n",
        "    is_sorted = True ## let assume the array is sorted\n",
        "    for j in range(i):\n",
        "      if arr[j] > arr[j+1] :\n",
        "        arr[j],arr[j+1] = arr[j+1],arr[j]\n",
        "        is_sorted = False\n",
        "\n",
        "    if is_sorted:\n",
        "      print(\"Array is already sorted\") ## assuming the array is sorted then this print will execute\n",
        "      break  # Exit the loop early if no swaps happened\n",
        "  else :\n",
        "    print(\"Array is not sorted\")\n",
        "\n",
        "\n",
        "## Driver code\n",
        "\n",
        "arr = [1,2,8,4,5]\n",
        "sorting_array(arr)\n",
        "print(arr)\n"
      ],
      "metadata": {
        "colab": {
          "base_uri": "https://localhost:8080/"
        },
        "id": "AjS-kUk1gZFF",
        "outputId": "e9ce0864-198a-41d6-bfd0-7a1aa86d7ee2"
      },
      "execution_count": null,
      "outputs": [
        {
          "output_type": "stream",
          "name": "stdout",
          "text": [
            "Array is already sorted\n",
            "[1, 2, 4, 5, 8]\n"
          ]
        }
      ]
    },
    {
      "cell_type": "markdown",
      "source": [
        "# **SELECTION SORT**"
      ],
      "metadata": {
        "id": "g6qUNOfgDwxY"
      }
    },
    {
      "cell_type": "code",
      "source": [
        "## Function Definition\n",
        "def selectionSort(arr) :\n",
        "  for i in range(len(arr)-1,0,-1) : ## iterating through range\n",
        "    for j in range(i) :\n",
        "      if arr[j] == max(arr[j:i+1]) : ## finding the minimum or maximum value\n",
        "        arr[j],arr[i] = arr[i],arr[j]\n",
        "        break\n",
        "\n",
        "\n",
        "## Driver code\n",
        "arr = [5,6,8,9,2,1]\n",
        "selectionSort(arr)\n",
        "print(arr)"
      ],
      "metadata": {
        "colab": {
          "base_uri": "https://localhost:8080/"
        },
        "id": "7n_LCOA9sFVf",
        "outputId": "79553bcc-b756-4eee-fbfd-93dd010736bc"
      },
      "execution_count": null,
      "outputs": [
        {
          "output_type": "stream",
          "name": "stdout",
          "text": [
            "[1, 2, 5, 6, 8, 9]\n"
          ]
        }
      ]
    },
    {
      "cell_type": "code",
      "source": [
        "## Another code\n",
        "\n",
        "def Selection_sort(arr) :\n",
        "  for i in range(len(arr)) : ## iterating through range\n",
        "    min = i\n",
        "    for j in range(i+1,len(arr)) : ## finding the minimum or maximum value\n",
        "      if arr[j] < arr[min] :\n",
        "        min = j\n",
        "    arr[i],arr[min] = arr[min],arr[i]\n",
        "\n",
        "\n",
        "## Driver code\n",
        "arr = [5,6,8,9,2,1]\n",
        "selectionSort(arr)\n",
        "print(arr)"
      ],
      "metadata": {
        "colab": {
          "base_uri": "https://localhost:8080/"
        },
        "id": "h4yTujFRuz8v",
        "outputId": "e5779b12-9c71-4ed8-ea68-ef69c7944e21"
      },
      "execution_count": null,
      "outputs": [
        {
          "output_type": "stream",
          "name": "stdout",
          "text": [
            "[1, 2, 5, 6, 8, 9]\n"
          ]
        }
      ]
    },
    {
      "cell_type": "markdown",
      "source": [
        "# **Insertion Sorting / Online Sorting Algorithm**"
      ],
      "metadata": {
        "id": "TIWvJS1bUphP"
      }
    },
    {
      "cell_type": "code",
      "source": [
        "def insertionSort(arr) :\n",
        "  for i in range(1,len(arr)) :\n",
        "    v = arr[i]\n",
        "    j = i\n",
        "    while(j>=1 and arr[j-1]>v) :\n",
        "      arr[j] = arr[j-1]\n",
        "      j = j-1\n",
        "    arr[j] = v\n",
        "\n",
        "\n",
        "## Driver code\n",
        "arr = [5,6,8,9,2,1]\n",
        "insertionSort(arr)\n",
        "print(arr)"
      ],
      "metadata": {
        "colab": {
          "base_uri": "https://localhost:8080/"
        },
        "id": "nZBUy2qQFzwH",
        "outputId": "e0a1a6df-d374-4cbb-f5fa-ae0a2c9eec79"
      },
      "execution_count": null,
      "outputs": [
        {
          "output_type": "stream",
          "name": "stdout",
          "text": [
            "[1, 2, 5, 6, 8, 9]\n"
          ]
        }
      ]
    },
    {
      "cell_type": "code",
      "source": [
        "arr = [2,5,3,8,4]\n",
        "insertionSort(arr)\n",
        "print(arr)"
      ],
      "metadata": {
        "colab": {
          "base_uri": "https://localhost:8080/"
        },
        "id": "vLNa6hQqVVjZ",
        "outputId": "dc178647-bd23-4053-d6a0-de00572113a8"
      },
      "execution_count": null,
      "outputs": [
        {
          "output_type": "stream",
          "name": "stdout",
          "text": [
            "[2, 3, 4, 5, 8]\n"
          ]
        }
      ]
    },
    {
      "cell_type": "markdown",
      "source": [
        "# **LINEAR SEARCH**"
      ],
      "metadata": {
        "id": "c5Ky01QOqa9M"
      }
    },
    {
      "cell_type": "code",
      "source": [
        "def search(arr, num) :\n",
        "  for i in range(len(arr)) :\n",
        "    if arr[i] == num :\n",
        "      return i\n",
        "  return \"Not Found\"\n",
        "\n",
        "\n",
        "## Driver code\n",
        "\n",
        "search([4,5,1,2,4,7,8], 2)\n"
      ],
      "metadata": {
        "id": "wsK5yhNYxl7U",
        "colab": {
          "base_uri": "https://localhost:8080/"
        },
        "outputId": "a381c2c2-cb9c-494e-e89b-204be3bf6269"
      },
      "execution_count": 16,
      "outputs": [
        {
          "output_type": "execute_result",
          "data": {
            "text/plain": [
              "3"
            ]
          },
          "metadata": {},
          "execution_count": 16
        }
      ]
    },
    {
      "cell_type": "code",
      "source": [],
      "metadata": {
        "id": "lDdf8BnBq9gR"
      },
      "execution_count": null,
      "outputs": []
    },
    {
      "cell_type": "markdown",
      "source": [
        "# **BINARY SEARCH**"
      ],
      "metadata": {
        "id": "4OT8Mwn_8wNb"
      }
    },
    {
      "cell_type": "code",
      "source": [
        "def binary_search(arr, num) :\n",
        "  left = 0\n",
        "  right = len(arr)-1\n",
        "\n",
        "  while(left <= right) :\n",
        "    #mid = (left + right) /2\n",
        "    mid = int(left + (right-left)/2)\n",
        "    if arr[mid] == num :\n",
        "      return mid\n",
        "    elif arr[mid] > num :\n",
        "      right = mid-1\n",
        "    else :\n",
        "      left = mid+1\n",
        "  return -1\n",
        "\n",
        "## driver code\n",
        "\n",
        "binary_search([1,2,3,4,5,6,7,8,9], 5)"
      ],
      "metadata": {
        "colab": {
          "base_uri": "https://localhost:8080/"
        },
        "id": "6CUyDzSV8zP8",
        "outputId": "723654bb-4617-461d-c88c-7d727fc0f230"
      },
      "execution_count": 19,
      "outputs": [
        {
          "output_type": "execute_result",
          "data": {
            "text/plain": [
              "4"
            ]
          },
          "metadata": {},
          "execution_count": 19
        }
      ]
    },
    {
      "cell_type": "code",
      "source": [],
      "metadata": {
        "id": "5Yx6PmM9_g0T"
      },
      "execution_count": null,
      "outputs": []
    }
  ]
}