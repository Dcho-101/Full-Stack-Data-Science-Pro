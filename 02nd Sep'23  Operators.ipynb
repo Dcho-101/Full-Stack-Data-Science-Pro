{
 "cells": [
  {
   "cell_type": "markdown",
   "id": "ea4750be-8d93-4118-99d0-294edc3d9633",
   "metadata": {},
   "source": [
    "# 02nd Sep 23 : Operators"
   ]
  },
  {
   "cell_type": "code",
   "execution_count": 1,
   "id": "faf10ea0-5312-4381-8f5b-f4f8fdeaa82d",
   "metadata": {},
   "outputs": [
    {
     "name": "stdin",
     "output_type": "stream",
     "text": [
      " hi\n"
     ]
    }
   ],
   "source": [
    "x = input()"
   ]
  },
  {
   "cell_type": "code",
   "execution_count": 2,
   "id": "35749105-fbb0-48dc-b0df-ce68858d8727",
   "metadata": {},
   "outputs": [
    {
     "data": {
      "text/plain": [
       "'hi'"
      ]
     },
     "execution_count": 2,
     "metadata": {},
     "output_type": "execute_result"
    }
   ],
   "source": [
    "x"
   ]
  },
  {
   "cell_type": "code",
   "execution_count": 3,
   "id": "9fb53220-843c-4719-8126-843c9845d520",
   "metadata": {},
   "outputs": [
    {
     "name": "stdin",
     "output_type": "stream",
     "text": [
      "enter your name:  raja\n"
     ]
    }
   ],
   "source": [
    "w = input('enter your name: ')"
   ]
  },
  {
   "cell_type": "code",
   "execution_count": 4,
   "id": "6cad49b1-d4d5-4b2a-918b-d8e2425a5cea",
   "metadata": {},
   "outputs": [
    {
     "name": "stdin",
     "output_type": "stream",
     "text": [
      "enter your name:  rrr\n"
     ]
    },
    {
     "name": "stdout",
     "output_type": "stream",
     "text": [
      "rrr\n"
     ]
    }
   ],
   "source": [
    "w = input('enter your name: ')\n",
    "\n",
    "print(w)"
   ]
  },
  {
   "cell_type": "code",
   "execution_count": 5,
   "id": "b7746cfc-4075-41f6-bd89-3def8785244d",
   "metadata": {},
   "outputs": [
    {
     "name": "stdin",
     "output_type": "stream",
     "text": [
      "enter your name:  raja\n"
     ]
    },
    {
     "name": "stdout",
     "output_type": "stream",
     "text": [
      "my name is: raja\n"
     ]
    }
   ],
   "source": [
    "w = input('enter your name: ')\n",
    "print(\"my name is:\" + \" \" + w)"
   ]
  },
  {
   "cell_type": "code",
   "execution_count": null,
   "id": "8efb1e6c-df9f-4997-b906-9d4ca1eaac5d",
   "metadata": {},
   "outputs": [],
   "source": []
  },
  {
   "cell_type": "markdown",
   "id": "0e5ec8e1-27b9-47ec-9de2-6330839df861",
   "metadata": {},
   "source": [
    "### F String format"
   ]
  },
  {
   "cell_type": "code",
   "execution_count": 7,
   "id": "d938e823-59be-442f-bbba-5753251b73ad",
   "metadata": {},
   "outputs": [
    {
     "name": "stdout",
     "output_type": "stream",
     "text": [
      "hello world\n"
     ]
    }
   ],
   "source": [
    "x = \"hello\"\n",
    "y = \"world\"\n",
    "\n",
    "print(f\"{x} {y}\")"
   ]
  },
  {
   "cell_type": "code",
   "execution_count": 1,
   "id": "678cb3e9-94d9-485a-bb06-8e4edd9b9142",
   "metadata": {},
   "outputs": [],
   "source": [
    "a = 20\n",
    "b = 10"
   ]
  },
  {
   "cell_type": "code",
   "execution_count": 2,
   "id": "5f342c6f-7bad-4bcd-8a93-f8cd17838d96",
   "metadata": {},
   "outputs": [
    {
     "data": {
      "text/plain": [
       "2.0"
      ]
     },
     "execution_count": 2,
     "metadata": {},
     "output_type": "execute_result"
    }
   ],
   "source": [
    "a/b"
   ]
  },
  {
   "cell_type": "code",
   "execution_count": 3,
   "id": "e1a81504-d987-43f3-b854-23793633a433",
   "metadata": {},
   "outputs": [
    {
     "data": {
      "text/plain": [
       "2"
      ]
     },
     "execution_count": 3,
     "metadata": {},
     "output_type": "execute_result"
    }
   ],
   "source": [
    "a//b"
   ]
  },
  {
   "cell_type": "code",
   "execution_count": 4,
   "id": "fd89b955-9196-469b-adbd-adb2ebce8add",
   "metadata": {},
   "outputs": [],
   "source": [
    "## double slash returns the answer without decimaal number and the single slash returns the value with decimal"
   ]
  },
  {
   "cell_type": "code",
   "execution_count": 5,
   "id": "ab4db62d-dcc3-4f8f-95d2-1222e19f424a",
   "metadata": {},
   "outputs": [],
   "source": [
    "## single slash returns the quotient and modulus or (%) returms the remiander value"
   ]
  },
  {
   "cell_type": "code",
   "execution_count": 6,
   "id": "3c802b1f-584f-496c-bd6b-65650f4e795c",
   "metadata": {},
   "outputs": [
    {
     "data": {
      "text/plain": [
       "0"
      ]
     },
     "execution_count": 6,
     "metadata": {},
     "output_type": "execute_result"
    }
   ],
   "source": [
    "a%b"
   ]
  },
  {
   "cell_type": "code",
   "execution_count": 7,
   "id": "cb633a27-6d99-46a2-9069-8cad086c76c4",
   "metadata": {},
   "outputs": [],
   "source": [
    "# when you need the quotient then go with slash, and when we need to return the reminder then we can go with %"
   ]
  },
  {
   "cell_type": "code",
   "execution_count": 8,
   "id": "571f6f9f-f0a8-4f44-b611-e1e4a834a64b",
   "metadata": {},
   "outputs": [],
   "source": [
    "a = 10 \n",
    "b = 10"
   ]
  },
  {
   "cell_type": "code",
   "execution_count": 10,
   "id": "935f4d34-66a5-472a-8a68-2a2422ac8412",
   "metadata": {},
   "outputs": [
    {
     "data": {
      "text/plain": [
       "True"
      ]
     },
     "execution_count": 10,
     "metadata": {},
     "output_type": "execute_result"
    }
   ],
   "source": [
    "a == b # equality operator compares the equality of an objective"
   ]
  },
  {
   "cell_type": "code",
   "execution_count": 13,
   "id": "e37b7076-7c24-4184-b21b-cea52e48d4eb",
   "metadata": {},
   "outputs": [
    {
     "data": {
      "text/plain": [
       "True"
      ]
     },
     "execution_count": 13,
     "metadata": {},
     "output_type": "execute_result"
    }
   ],
   "source": [
    "a is b # identity operator choose whether the different variables are point same object memory"
   ]
  },
  {
   "cell_type": "code",
   "execution_count": 14,
   "id": "b52e6dd2-24a9-4378-8a93-73fbc9b4eb51",
   "metadata": {},
   "outputs": [
    {
     "data": {
      "text/plain": [
       "139765008876048"
      ]
     },
     "execution_count": 14,
     "metadata": {},
     "output_type": "execute_result"
    }
   ],
   "source": [
    "id(a)"
   ]
  },
  {
   "cell_type": "code",
   "execution_count": 15,
   "id": "fbc6c834-6ebb-4c26-a115-0fdbdfc1c161",
   "metadata": {},
   "outputs": [
    {
     "data": {
      "text/plain": [
       "139765008876048"
      ]
     },
     "execution_count": 15,
     "metadata": {},
     "output_type": "execute_result"
    }
   ],
   "source": [
    "id(b)"
   ]
  },
  {
   "cell_type": "code",
   "execution_count": 16,
   "id": "9292405f-c71a-4890-b76d-12ba9e172551",
   "metadata": {},
   "outputs": [
    {
     "data": {
      "text/plain": [
       "False"
      ]
     },
     "execution_count": 16,
     "metadata": {},
     "output_type": "execute_result"
    }
   ],
   "source": [
    "a != b"
   ]
  },
  {
   "cell_type": "code",
   "execution_count": 17,
   "id": "dec74502-b54c-4989-bf18-2a521a661d83",
   "metadata": {},
   "outputs": [
    {
     "name": "stdin",
     "output_type": "stream",
     "text": [
      "Enter a number :  10\n"
     ]
    },
    {
     "name": "stdout",
     "output_type": "stream",
     "text": [
      "5003154509899970\n"
     ]
    }
   ],
   "source": [
    "x = int(input(\"Enter a number : \"))\n",
    "\n",
    "y = 3**35//x\n",
    "\n",
    "print(y)"
   ]
  },
  {
   "cell_type": "code",
   "execution_count": null,
   "id": "45799839-b9e1-4303-aa2d-3412f6bac2b3",
   "metadata": {},
   "outputs": [],
   "source": []
  },
  {
   "cell_type": "code",
   "execution_count": 18,
   "id": "5ec8f547-0586-4e2c-ad64-76adb789c943",
   "metadata": {},
   "outputs": [],
   "source": [
    "a = 10"
   ]
  },
  {
   "cell_type": "code",
   "execution_count": 19,
   "id": "8e4b9477-fb14-4cbe-bbd5-59f2d2ec3042",
   "metadata": {},
   "outputs": [],
   "source": [
    "b = 20"
   ]
  },
  {
   "cell_type": "code",
   "execution_count": 20,
   "id": "40aaea1c-542e-434a-b82e-3f14fdf715a4",
   "metadata": {},
   "outputs": [
    {
     "data": {
      "text/plain": [
       "False"
      ]
     },
     "execution_count": 20,
     "metadata": {},
     "output_type": "execute_result"
    }
   ],
   "source": [
    "a>b"
   ]
  },
  {
   "cell_type": "code",
   "execution_count": 21,
   "id": "e167d9ae-f919-455a-9a69-7e22bda497cf",
   "metadata": {},
   "outputs": [
    {
     "data": {
      "text/plain": [
       "True"
      ]
     },
     "execution_count": 21,
     "metadata": {},
     "output_type": "execute_result"
    }
   ],
   "source": [
    "a<b"
   ]
  },
  {
   "cell_type": "code",
   "execution_count": 1,
   "id": "343ea051-20a3-4b7c-863c-dff5184e5428",
   "metadata": {},
   "outputs": [],
   "source": [
    "a = 10\n",
    "b = 4"
   ]
  },
  {
   "cell_type": "code",
   "execution_count": 2,
   "id": "5d83a7a6-8aa3-4061-99c1-1f6b3658def9",
   "metadata": {},
   "outputs": [
    {
     "data": {
      "text/plain": [
       "'0b1010'"
      ]
     },
     "execution_count": 2,
     "metadata": {},
     "output_type": "execute_result"
    }
   ],
   "source": [
    "bin(a)"
   ]
  },
  {
   "cell_type": "code",
   "execution_count": 4,
   "id": "3b994f01-2a94-4b01-9db0-6815ffef5c7f",
   "metadata": {},
   "outputs": [
    {
     "data": {
      "text/plain": [
       "'0b100'"
      ]
     },
     "execution_count": 4,
     "metadata": {},
     "output_type": "execute_result"
    }
   ],
   "source": [
    "bin(b)"
   ]
  },
  {
   "cell_type": "code",
   "execution_count": 6,
   "id": "f9a3cd3f-2660-4443-bd45-d4826c1efe1f",
   "metadata": {},
   "outputs": [
    {
     "data": {
      "text/plain": [
       "0"
      ]
     },
     "execution_count": 6,
     "metadata": {},
     "output_type": "execute_result"
    }
   ],
   "source": [
    "a & b # and operator"
   ]
  },
  {
   "cell_type": "code",
   "execution_count": 8,
   "id": "abf95269-fa4c-4816-8456-823c405c060f",
   "metadata": {},
   "outputs": [
    {
     "data": {
      "text/plain": [
       "14"
      ]
     },
     "execution_count": 8,
     "metadata": {},
     "output_type": "execute_result"
    }
   ],
   "source": [
    "a | b # or operator"
   ]
  },
  {
   "cell_type": "code",
   "execution_count": 9,
   "id": "c55b7db0-462e-4a43-a696-7a4eb9c651cf",
   "metadata": {},
   "outputs": [
    {
     "data": {
      "text/plain": [
       "10"
      ]
     },
     "execution_count": 9,
     "metadata": {},
     "output_type": "execute_result"
    }
   ],
   "source": [
    "a "
   ]
  },
  {
   "cell_type": "code",
   "execution_count": 10,
   "id": "f0f3405f-864c-4266-806b-a201521b8241",
   "metadata": {},
   "outputs": [
    {
     "data": {
      "text/plain": [
       "14"
      ]
     },
     "execution_count": 10,
     "metadata": {},
     "output_type": "execute_result"
    }
   ],
   "source": [
    "a ^ b"
   ]
  },
  {
   "cell_type": "code",
   "execution_count": 11,
   "id": "95ef02d2-7596-4786-a041-e1706e25c0e2",
   "metadata": {},
   "outputs": [
    {
     "data": {
      "text/plain": [
       "-11"
      ]
     },
     "execution_count": 11,
     "metadata": {},
     "output_type": "execute_result"
    }
   ],
   "source": [
    "~a"
   ]
  },
  {
   "cell_type": "code",
   "execution_count": 12,
   "id": "dd13a5e4-6895-4c7f-80b8-370d70b309dc",
   "metadata": {},
   "outputs": [
    {
     "data": {
      "text/plain": [
       "20"
      ]
     },
     "execution_count": 12,
     "metadata": {},
     "output_type": "execute_result"
    }
   ],
   "source": [
    "a << 1"
   ]
  },
  {
   "cell_type": "code",
   "execution_count": 13,
   "id": "ace67175-7046-4b09-b0d5-e0f3aeed17eb",
   "metadata": {},
   "outputs": [],
   "source": [
    "a = 10"
   ]
  },
  {
   "cell_type": "code",
   "execution_count": 15,
   "id": "1ade92c5-ec05-46b1-a9d4-c7a77f57051d",
   "metadata": {},
   "outputs": [],
   "source": [
    "a+=1"
   ]
  },
  {
   "cell_type": "code",
   "execution_count": 16,
   "id": "760b7497-fd30-408d-84e0-b13268e76fb0",
   "metadata": {},
   "outputs": [
    {
     "data": {
      "text/plain": [
       "11"
      ]
     },
     "execution_count": 16,
     "metadata": {},
     "output_type": "execute_result"
    }
   ],
   "source": [
    "a"
   ]
  },
  {
   "cell_type": "markdown",
   "id": "c2d3763d-ddc2-4100-b45b-d47d9f5246cc",
   "metadata": {},
   "source": [
    "PRECEDENCE OF ARITHMATIC OPERATORS IN PYTHON"
   ]
  },
  {
   "cell_type": "code",
   "execution_count": null,
   "id": "30d6d46d-3879-42cb-b7b2-3eea17e546b3",
   "metadata": {},
   "outputs": [],
   "source": [
    "P - Parenthesis\n",
    "E - Exponentiation\n",
    "M - Multiplication (Multiplication and division have the same precedence)\n",
    "D - Division\n",
    "A - Addition (Addition and Subtraction have the same precedence)\n",
    "S - Subtraction"
   ]
  }
 ],
 "metadata": {
  "kernelspec": {
   "display_name": "Python 3 (ipykernel)",
   "language": "python",
   "name": "python3"
  },
  "language_info": {
   "codemirror_mode": {
    "name": "ipython",
    "version": 3
   },
   "file_extension": ".py",
   "mimetype": "text/x-python",
   "name": "python",
   "nbconvert_exporter": "python",
   "pygments_lexer": "ipython3",
   "version": "3.10.8"
  }
 },
 "nbformat": 4,
 "nbformat_minor": 5
}
