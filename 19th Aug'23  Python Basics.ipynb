{
 "cells": [
  {
   "cell_type": "markdown",
   "id": "17d4c2e5-b412-444a-b46d-5305e31d2a28",
   "metadata": {},
   "source": [
    "# 19th Aug'23 : Python Basics"
   ]
  },
  {
   "cell_type": "markdown",
   "id": "3d1e252e-00eb-4d88-97df-917625edc40a",
   "metadata": {},
   "source": [
    "### VARIABLES"
   ]
  },
  {
   "cell_type": "code",
   "execution_count": 5,
   "id": "2d29fa0e-c692-49d7-b7ee-d2f230e83a50",
   "metadata": {},
   "outputs": [],
   "source": [
    "a= 10"
   ]
  },
  {
   "cell_type": "code",
   "execution_count": 6,
   "id": "9c5f1bce-70c0-46ad-bc2d-7a406a299e80",
   "metadata": {},
   "outputs": [
    {
     "data": {
      "text/plain": [
       "int"
      ]
     },
     "execution_count": 6,
     "metadata": {},
     "output_type": "execute_result"
    }
   ],
   "source": [
    "type(a)"
   ]
  },
  {
   "cell_type": "code",
   "execution_count": 7,
   "id": "cf3c079d-19c7-4ca5-8999-1e793612584b",
   "metadata": {},
   "outputs": [],
   "source": [
    "b = 3.5"
   ]
  },
  {
   "cell_type": "code",
   "execution_count": 8,
   "id": "19a33858-b621-441f-a99f-7cf2c05db0ae",
   "metadata": {},
   "outputs": [
    {
     "data": {
      "text/plain": [
       "float"
      ]
     },
     "execution_count": 8,
     "metadata": {},
     "output_type": "execute_result"
    }
   ],
   "source": [
    "type(b)"
   ]
  },
  {
   "cell_type": "markdown",
   "id": "12d06c42-bf61-49fb-8a6a-4e218334172b",
   "metadata": {},
   "source": [
    "- majority of the programming language we need to provide the type of the variable then we need to type the value. for example\n",
    "\n",
    "- int a = 10 (in java)"
   ]
  },
  {
   "cell_type": "code",
   "execution_count": 10,
   "id": "f45baab9-6986-4e2d-881f-a860b9b44ec3",
   "metadata": {},
   "outputs": [],
   "source": [
    "s = 'pwskills'"
   ]
  },
  {
   "cell_type": "code",
   "execution_count": 11,
   "id": "b3cda5dd-c3aa-4cdd-98e1-93f08cc73540",
   "metadata": {},
   "outputs": [
    {
     "data": {
      "text/plain": [
       "str"
      ]
     },
     "execution_count": 11,
     "metadata": {},
     "output_type": "execute_result"
    }
   ],
   "source": [
    "type(s)"
   ]
  },
  {
   "cell_type": "code",
   "execution_count": 12,
   "id": "1b8ef325-a64d-41eb-8cbf-5c06f52028ad",
   "metadata": {},
   "outputs": [],
   "source": [
    "s1 = \"this is my first python lecture\""
   ]
  },
  {
   "cell_type": "code",
   "execution_count": 13,
   "id": "c2c1f8d4-2d6e-4d04-9171-e633860f1079",
   "metadata": {},
   "outputs": [
    {
     "data": {
      "text/plain": [
       "str"
      ]
     },
     "execution_count": 13,
     "metadata": {},
     "output_type": "execute_result"
    }
   ],
   "source": [
    "type(s1)"
   ]
  },
  {
   "cell_type": "code",
   "execution_count": 14,
   "id": "2b46f87f-373d-4433-92ad-bf80d25dc3c4",
   "metadata": {},
   "outputs": [],
   "source": [
    "c = 5+6j"
   ]
  },
  {
   "cell_type": "code",
   "execution_count": 15,
   "id": "6d8dd2f7-992a-41df-9e55-37b8fac638be",
   "metadata": {},
   "outputs": [
    {
     "data": {
      "text/plain": [
       "complex"
      ]
     },
     "execution_count": 15,
     "metadata": {},
     "output_type": "execute_result"
    }
   ],
   "source": [
    "type(c)"
   ]
  },
  {
   "cell_type": "code",
   "execution_count": 17,
   "id": "4849ad79-8a94-4eb7-8906-4edcb09021ce",
   "metadata": {},
   "outputs": [
    {
     "data": {
      "text/plain": [
       "5.0"
      ]
     },
     "execution_count": 17,
     "metadata": {},
     "output_type": "execute_result"
    }
   ],
   "source": [
    "# showing real number\n",
    "\n",
    "c.real"
   ]
  },
  {
   "cell_type": "code",
   "execution_count": 18,
   "id": "8ee280f8-bb11-43cf-846c-7c843efb9d6d",
   "metadata": {},
   "outputs": [
    {
     "data": {
      "text/plain": [
       "6.0"
      ]
     },
     "execution_count": 18,
     "metadata": {},
     "output_type": "execute_result"
    }
   ],
   "source": [
    "# showing imaginary number\n",
    "\n",
    "c.imag"
   ]
  },
  {
   "cell_type": "code",
   "execution_count": 19,
   "id": "6617dae9-66d2-4d62-98cb-cc316a9a2cb8",
   "metadata": {},
   "outputs": [],
   "source": [
    "d = 5+6j "
   ]
  },
  {
   "cell_type": "code",
   "execution_count": 20,
   "id": "3352d440-416b-4d31-b366-ecd03c35ea96",
   "metadata": {},
   "outputs": [
    {
     "data": {
      "text/plain": [
       "(10+12j)"
      ]
     },
     "execution_count": 20,
     "metadata": {},
     "output_type": "execute_result"
    }
   ],
   "source": [
    "c+d"
   ]
  },
  {
   "cell_type": "code",
   "execution_count": null,
   "id": "ade2a373-ccc6-4e35-97d3-9699a1a71b3e",
   "metadata": {},
   "outputs": [],
   "source": []
  },
  {
   "cell_type": "markdown",
   "id": "9f96c423-be63-4d70-b0f3-0c690f9dbeb5",
   "metadata": {},
   "source": [
    "### BOOLIEAN VARIABLES"
   ]
  },
  {
   "cell_type": "code",
   "execution_count": 21,
   "id": "392fa498-06b7-43ad-993f-a17e4df2bf9b",
   "metadata": {},
   "outputs": [],
   "source": [
    "b = True"
   ]
  },
  {
   "cell_type": "code",
   "execution_count": 22,
   "id": "910186c1-4e06-4637-b386-ce3ebd27d84f",
   "metadata": {},
   "outputs": [
    {
     "data": {
      "text/plain": [
       "bool"
      ]
     },
     "execution_count": 22,
     "metadata": {},
     "output_type": "execute_result"
    }
   ],
   "source": [
    "type(b)"
   ]
  },
  {
   "cell_type": "code",
   "execution_count": 23,
   "id": "1460072a-caaf-45e4-a254-041ae0950aa2",
   "metadata": {},
   "outputs": [],
   "source": [
    "b1 = False"
   ]
  },
  {
   "cell_type": "code",
   "execution_count": 24,
   "id": "44da8c48-639e-48dd-bdc7-2790b6e7ba36",
   "metadata": {},
   "outputs": [
    {
     "data": {
      "text/plain": [
       "bool"
      ]
     },
     "execution_count": 24,
     "metadata": {},
     "output_type": "execute_result"
    }
   ],
   "source": [
    "type(b1)"
   ]
  },
  {
   "cell_type": "code",
   "execution_count": null,
   "id": "17d84a9e-1f4f-4aa8-93b7-0b2fa624c7c2",
   "metadata": {},
   "outputs": [],
   "source": []
  },
  {
   "cell_type": "code",
   "execution_count": 25,
   "id": "b6530ddd-0a78-45b8-87aa-729ee6f0d284",
   "metadata": {},
   "outputs": [],
   "source": [
    "a1 = 45\n",
    "a2 = 34"
   ]
  },
  {
   "cell_type": "code",
   "execution_count": 26,
   "id": "5775a279-1ae1-4563-b42e-ccfddf78488f",
   "metadata": {},
   "outputs": [
    {
     "data": {
      "text/plain": [
       "79"
      ]
     },
     "execution_count": 26,
     "metadata": {},
     "output_type": "execute_result"
    }
   ],
   "source": [
    "a1+a2"
   ]
  },
  {
   "cell_type": "code",
   "execution_count": 27,
   "id": "d57b81ed-1c10-4a59-b28e-bdc9534de0aa",
   "metadata": {},
   "outputs": [
    {
     "data": {
      "text/plain": [
       "1530"
      ]
     },
     "execution_count": 27,
     "metadata": {},
     "output_type": "execute_result"
    }
   ],
   "source": [
    "a1*a2"
   ]
  },
  {
   "cell_type": "code",
   "execution_count": 28,
   "id": "162cfb7d-1184-4dc5-8f51-6abb960c572e",
   "metadata": {},
   "outputs": [
    {
     "data": {
      "text/plain": [
       "11"
      ]
     },
     "execution_count": 28,
     "metadata": {},
     "output_type": "execute_result"
    }
   ],
   "source": [
    "a1-a2"
   ]
  },
  {
   "cell_type": "code",
   "execution_count": 29,
   "id": "0f333c55-149c-4342-987f-4d6a01555ab9",
   "metadata": {},
   "outputs": [
    {
     "data": {
      "text/plain": [
       "1.3235294117647058"
      ]
     },
     "execution_count": 29,
     "metadata": {},
     "output_type": "execute_result"
    }
   ],
   "source": [
    "a1/a2"
   ]
  },
  {
   "cell_type": "code",
   "execution_count": 30,
   "id": "f4446c96-69fc-43c9-841a-ae9377845977",
   "metadata": {},
   "outputs": [],
   "source": [
    "a1,a2 = 45,34"
   ]
  },
  {
   "cell_type": "code",
   "execution_count": 31,
   "id": "1fd63b79-51bc-4f13-8eda-319774f87d3e",
   "metadata": {},
   "outputs": [
    {
     "data": {
      "text/plain": [
       "45"
      ]
     },
     "execution_count": 31,
     "metadata": {},
     "output_type": "execute_result"
    }
   ],
   "source": [
    "a1"
   ]
  },
  {
   "cell_type": "code",
   "execution_count": 32,
   "id": "9a20009e-0150-4540-bc14-df488b0c725e",
   "metadata": {},
   "outputs": [
    {
     "data": {
      "text/plain": [
       "34"
      ]
     },
     "execution_count": 32,
     "metadata": {},
     "output_type": "execute_result"
    }
   ],
   "source": [
    "a2"
   ]
  },
  {
   "cell_type": "code",
   "execution_count": 34,
   "id": "a5db0661-ae6c-4323-bc96-bdaa5c1f1d20",
   "metadata": {},
   "outputs": [],
   "source": [
    "a,b,c,d = 354,'sudh',34.34,True"
   ]
  },
  {
   "cell_type": "code",
   "execution_count": 35,
   "id": "b77530ae-a1a1-4507-a04d-6e27a9d9c52f",
   "metadata": {},
   "outputs": [
    {
     "data": {
      "text/plain": [
       "354"
      ]
     },
     "execution_count": 35,
     "metadata": {},
     "output_type": "execute_result"
    }
   ],
   "source": [
    "a"
   ]
  },
  {
   "cell_type": "code",
   "execution_count": 36,
   "id": "426525b6-f733-4a22-9736-f39696992e60",
   "metadata": {},
   "outputs": [
    {
     "data": {
      "text/plain": [
       "'sudh'"
      ]
     },
     "execution_count": 36,
     "metadata": {},
     "output_type": "execute_result"
    }
   ],
   "source": [
    "b"
   ]
  },
  {
   "cell_type": "code",
   "execution_count": 37,
   "id": "b72dcd74-a01a-4832-9bbb-ade262c79725",
   "metadata": {},
   "outputs": [
    {
     "data": {
      "text/plain": [
       "34.34"
      ]
     },
     "execution_count": 37,
     "metadata": {},
     "output_type": "execute_result"
    }
   ],
   "source": [
    "c"
   ]
  },
  {
   "cell_type": "code",
   "execution_count": 38,
   "id": "26699bab-faea-435d-9598-46dd5860035f",
   "metadata": {},
   "outputs": [
    {
     "data": {
      "text/plain": [
       "True"
      ]
     },
     "execution_count": 38,
     "metadata": {},
     "output_type": "execute_result"
    }
   ],
   "source": [
    "d"
   ]
  },
  {
   "cell_type": "code",
   "execution_count": 39,
   "id": "cf20ad68-fc6a-4ec5-a0e8-6754159cdabd",
   "metadata": {},
   "outputs": [
    {
     "name": "stderr",
     "output_type": "stream",
     "text": [
      "UsageError: Line magic function `%a` not found.\n"
     ]
    }
   ],
   "source": [
    "%a = 234"
   ]
  },
  {
   "cell_type": "code",
   "execution_count": 40,
   "id": "4271b145-f396-42bb-bc48-d4bcb321ca8d",
   "metadata": {},
   "outputs": [
    {
     "ename": "SyntaxError",
     "evalue": "invalid binary literal (3855480707.py, line 1)",
     "output_type": "error",
     "traceback": [
      "\u001b[0;36m  Cell \u001b[0;32mIn[40], line 1\u001b[0;36m\u001b[0m\n\u001b[0;31m    0b = 45\u001b[0m\n\u001b[0m     ^\u001b[0m\n\u001b[0;31mSyntaxError\u001b[0m\u001b[0;31m:\u001b[0m invalid binary literal\n"
     ]
    }
   ],
   "source": [
    "0b = 45"
   ]
  },
  {
   "cell_type": "code",
   "execution_count": 41,
   "id": "e40d0867-c06e-4f4f-8bdf-5ed1a52b8c8c",
   "metadata": {},
   "outputs": [
    {
     "ename": "SyntaxError",
     "evalue": "invalid syntax. Maybe you meant '==' or ':=' instead of '='? (3690229280.py, line 1)",
     "output_type": "error",
     "traceback": [
      "\u001b[0;36m  Cell \u001b[0;32mIn[41], line 1\u001b[0;36m\u001b[0m\n\u001b[0;31m    @g = 55\u001b[0m\n\u001b[0m     ^\u001b[0m\n\u001b[0;31mSyntaxError\u001b[0m\u001b[0;31m:\u001b[0m invalid syntax. Maybe you meant '==' or ':=' instead of '='?\n"
     ]
    }
   ],
   "source": [
    "@g = 55"
   ]
  },
  {
   "cell_type": "markdown",
   "id": "c8a3b8dd-f594-491a-8583-479befac9bba",
   "metadata": {},
   "source": [
    "- in variable we cannot use these things although we can use (underscore) (_)"
   ]
  },
  {
   "cell_type": "code",
   "execution_count": 1,
   "id": "2eb9941f-00ae-40b8-b350-537c4da57680",
   "metadata": {},
   "outputs": [],
   "source": [
    "_a = 40"
   ]
  },
  {
   "cell_type": "code",
   "execution_count": 2,
   "id": "7f83f4e9-ceb2-4769-8eeb-757b75f04b05",
   "metadata": {},
   "outputs": [
    {
     "ename": "SyntaxError",
     "evalue": "cannot assign to expression here. Maybe you meant '==' instead of '='? (4239720989.py, line 1)",
     "output_type": "error",
     "traceback": [
      "\u001b[0;36m  Cell \u001b[0;32mIn[2], line 1\u001b[0;36m\u001b[0m\n\u001b[0;31m    -b = 45\u001b[0m\n\u001b[0m    ^\u001b[0m\n\u001b[0;31mSyntaxError\u001b[0m\u001b[0;31m:\u001b[0m cannot assign to expression here. Maybe you meant '==' instead of '='?\n"
     ]
    }
   ],
   "source": [
    "-b = 45"
   ]
  },
  {
   "cell_type": "code",
   "execution_count": 3,
   "id": "d06220ae-a805-403e-9079-9692f03a4d43",
   "metadata": {},
   "outputs": [
    {
     "ename": "SyntaxError",
     "evalue": "cannot assign to True (2088492994.py, line 1)",
     "output_type": "error",
     "traceback": [
      "\u001b[0;36m  Cell \u001b[0;32mIn[3], line 1\u001b[0;36m\u001b[0m\n\u001b[0;31m    True = 44\u001b[0m\n\u001b[0m    ^\u001b[0m\n\u001b[0;31mSyntaxError\u001b[0m\u001b[0;31m:\u001b[0m cannot assign to True\n"
     ]
    }
   ],
   "source": [
    "True = 44"
   ]
  },
  {
   "cell_type": "code",
   "execution_count": null,
   "id": "ba16d048-3eb9-4275-9f53-62712403e2ba",
   "metadata": {},
   "outputs": [],
   "source": []
  },
  {
   "cell_type": "markdown",
   "id": "1c677c5e-9b20-423f-bd99-5d0988af5f57",
   "metadata": {},
   "source": [
    "### PERMUTATION AND COMBINATION"
   ]
  },
  {
   "cell_type": "code",
   "execution_count": 4,
   "id": "2a95609a-0b6c-46e6-9935-2ad8b6e9bd51",
   "metadata": {},
   "outputs": [],
   "source": [
    "b1 = True"
   ]
  },
  {
   "cell_type": "code",
   "execution_count": 5,
   "id": "983b5e8e-918c-4065-a8c6-61fab8dd809d",
   "metadata": {},
   "outputs": [],
   "source": [
    "b2 = False"
   ]
  },
  {
   "cell_type": "markdown",
   "id": "26ef7601-c263-4a51-b70a-fa00ab3aa496",
   "metadata": {},
   "source": [
    "- The system assigns as True as 1 and False as 0"
   ]
  },
  {
   "cell_type": "code",
   "execution_count": 10,
   "id": "b98db80d-396f-4fb5-a0ee-edf7d7b4c823",
   "metadata": {},
   "outputs": [
    {
     "data": {
      "text/plain": [
       "1"
      ]
     },
     "execution_count": 10,
     "metadata": {},
     "output_type": "execute_result"
    }
   ],
   "source": [
    "b1 + b2\n",
    "\n",
    "# (1 + 0)"
   ]
  },
  {
   "cell_type": "code",
   "execution_count": 9,
   "id": "5600f0c1-9714-4882-be3d-2585ed56ddac",
   "metadata": {},
   "outputs": [
    {
     "data": {
      "text/plain": [
       "1"
      ]
     },
     "execution_count": 9,
     "metadata": {},
     "output_type": "execute_result"
    }
   ],
   "source": [
    "b1 - b2\n",
    "\n",
    "# ( 1 - 0)"
   ]
  },
  {
   "cell_type": "code",
   "execution_count": 11,
   "id": "bb3b5b07-8ffa-4800-93e2-05ee8d949641",
   "metadata": {},
   "outputs": [
    {
     "ename": "ZeroDivisionError",
     "evalue": "division by zero",
     "output_type": "error",
     "traceback": [
      "\u001b[0;31m---------------------------------------------------------------------------\u001b[0m",
      "\u001b[0;31mZeroDivisionError\u001b[0m                         Traceback (most recent call last)",
      "Cell \u001b[0;32mIn[11], line 1\u001b[0m\n\u001b[0;32m----> 1\u001b[0m \u001b[43mb1\u001b[49m\u001b[43m \u001b[49m\u001b[38;5;241;43m/\u001b[39;49m\u001b[43m \u001b[49m\u001b[43mb2\u001b[49m\n",
      "\u001b[0;31mZeroDivisionError\u001b[0m: division by zero"
     ]
    }
   ],
   "source": [
    "b1 / b2"
   ]
  },
  {
   "cell_type": "code",
   "execution_count": null,
   "id": "fa89d7f9-e7a1-463b-b53f-6addaf19c5d5",
   "metadata": {},
   "outputs": [],
   "source": []
  },
  {
   "cell_type": "code",
   "execution_count": 12,
   "id": "4588e2ff-c945-472d-a9d5-3152ed5c0117",
   "metadata": {},
   "outputs": [],
   "source": [
    "a = 10"
   ]
  },
  {
   "cell_type": "code",
   "execution_count": 13,
   "id": "4702e883-7ce1-4f52-8c50-0e2fa8480e07",
   "metadata": {},
   "outputs": [],
   "source": [
    "b = 'abc'"
   ]
  },
  {
   "cell_type": "code",
   "execution_count": 14,
   "id": "946e900e-0d1d-4628-bc20-5a7452459dc7",
   "metadata": {},
   "outputs": [
    {
     "ename": "TypeError",
     "evalue": "unsupported operand type(s) for +: 'int' and 'str'",
     "output_type": "error",
     "traceback": [
      "\u001b[0;31m---------------------------------------------------------------------------\u001b[0m",
      "\u001b[0;31mTypeError\u001b[0m                                 Traceback (most recent call last)",
      "Cell \u001b[0;32mIn[14], line 1\u001b[0m\n\u001b[0;32m----> 1\u001b[0m \u001b[43ma\u001b[49m\u001b[38;5;241;43m+\u001b[39;49m\u001b[43mb\u001b[49m\n",
      "\u001b[0;31mTypeError\u001b[0m: unsupported operand type(s) for +: 'int' and 'str'"
     ]
    }
   ],
   "source": [
    "a+b"
   ]
  },
  {
   "cell_type": "code",
   "execution_count": null,
   "id": "87c4c24f-9b6f-4ff9-8311-1c9bf255081c",
   "metadata": {},
   "outputs": [],
   "source": []
  },
  {
   "cell_type": "markdown",
   "id": "09910fad-387b-4adb-98fd-67ec2d6bbd1a",
   "metadata": {},
   "source": [
    "- CONCATINATION"
   ]
  },
  {
   "cell_type": "code",
   "execution_count": 15,
   "id": "3909e761-b090-4fe9-b7fe-eaaf66c67bf6",
   "metadata": {},
   "outputs": [
    {
     "data": {
      "text/plain": [
       "'sudhkumar'"
      ]
     },
     "execution_count": 15,
     "metadata": {},
     "output_type": "execute_result"
    }
   ],
   "source": [
    "'sudh'+'kumar'"
   ]
  },
  {
   "cell_type": "markdown",
   "id": "06f85c91-3198-4c92-a5f7-685634f4828f",
   "metadata": {},
   "source": [
    "- conversion of integer to string"
   ]
  },
  {
   "cell_type": "code",
   "execution_count": 16,
   "id": "0eec066c-cb10-4d4c-a75f-5fdb6533d1b0",
   "metadata": {},
   "outputs": [],
   "source": [
    "a = 10"
   ]
  },
  {
   "cell_type": "code",
   "execution_count": 17,
   "id": "47ae32bd-2e11-417d-b16d-d11e14330197",
   "metadata": {},
   "outputs": [
    {
     "data": {
      "text/plain": [
       "int"
      ]
     },
     "execution_count": 17,
     "metadata": {},
     "output_type": "execute_result"
    }
   ],
   "source": [
    "type(a)"
   ]
  },
  {
   "cell_type": "code",
   "execution_count": 18,
   "id": "cc6c374f-a18e-43e5-8f47-c50cd4f5aa24",
   "metadata": {},
   "outputs": [
    {
     "data": {
      "text/plain": [
       "'10'"
      ]
     },
     "execution_count": 18,
     "metadata": {},
     "output_type": "execute_result"
    }
   ],
   "source": [
    "str(a)"
   ]
  },
  {
   "cell_type": "markdown",
   "id": "55ff268c-db9e-4ddb-83c4-7107a295a2b5",
   "metadata": {},
   "source": [
    "- if there is a numeric value in the string then it can be converted into integer\n",
    "\n",
    "- if there is a string value then it cannot changed into integer"
   ]
  },
  {
   "cell_type": "code",
   "execution_count": null,
   "id": "df566f47-2aa0-4831-bd4f-f00d0249d4a0",
   "metadata": {},
   "outputs": [],
   "source": []
  },
  {
   "cell_type": "markdown",
   "id": "babbfd24-4168-491c-80d9-89dc7adec7b1",
   "metadata": {},
   "source": [
    "### INPUT"
   ]
  },
  {
   "cell_type": "code",
   "execution_count": 23,
   "id": "c150b9ef-57d4-42bc-9d59-eacff6760112",
   "metadata": {},
   "outputs": [
    {
     "name": "stdin",
     "output_type": "stream",
     "text": [
      " 11\n"
     ]
    }
   ],
   "source": [
    "a = input()"
   ]
  },
  {
   "cell_type": "code",
   "execution_count": 24,
   "id": "5ee68e68-463c-4ab2-ba07-b24e4ee25992",
   "metadata": {},
   "outputs": [
    {
     "data": {
      "text/plain": [
       "'11'"
      ]
     },
     "execution_count": 24,
     "metadata": {},
     "output_type": "execute_result"
    }
   ],
   "source": [
    "a"
   ]
  },
  {
   "cell_type": "code",
   "execution_count": 26,
   "id": "d08985a3-4c87-46f5-a513-e14e79303e5e",
   "metadata": {},
   "outputs": [
    {
     "data": {
      "text/plain": [
       "str"
      ]
     },
     "execution_count": 26,
     "metadata": {},
     "output_type": "execute_result"
    }
   ],
   "source": [
    "# input always returns string as an input\n",
    "\n",
    "type(a)"
   ]
  },
  {
   "cell_type": "code",
   "execution_count": 27,
   "id": "fa4d3560-cd04-4280-bd92-35792b5c1ea5",
   "metadata": {},
   "outputs": [],
   "source": [
    "# changing the type of the input needs typecasting"
   ]
  },
  {
   "cell_type": "code",
   "execution_count": 28,
   "id": "c9dc31d5-4604-46b5-b3a5-bc567b25d891",
   "metadata": {},
   "outputs": [
    {
     "name": "stdin",
     "output_type": "stream",
     "text": [
      " 22\n"
     ]
    }
   ],
   "source": [
    "b = int(input())"
   ]
  },
  {
   "cell_type": "code",
   "execution_count": 29,
   "id": "3be9a79d-f710-4479-abef-aad4511c7c07",
   "metadata": {},
   "outputs": [
    {
     "data": {
      "text/plain": [
       "int"
      ]
     },
     "execution_count": 29,
     "metadata": {},
     "output_type": "execute_result"
    }
   ],
   "source": [
    "type(b)"
   ]
  },
  {
   "cell_type": "code",
   "execution_count": 30,
   "id": "b3584d3e-75dc-4395-ada8-7baacadb67f5",
   "metadata": {},
   "outputs": [
    {
     "name": "stdin",
     "output_type": "stream",
     "text": [
      " True\n"
     ]
    }
   ],
   "source": [
    "c = bool(input())"
   ]
  },
  {
   "cell_type": "code",
   "execution_count": 31,
   "id": "25f38bdb-6c3f-4e4f-940e-7d96cc577890",
   "metadata": {},
   "outputs": [
    {
     "data": {
      "text/plain": [
       "bool"
      ]
     },
     "execution_count": 31,
     "metadata": {},
     "output_type": "execute_result"
    }
   ],
   "source": [
    "type(c)"
   ]
  },
  {
   "cell_type": "code",
   "execution_count": 32,
   "id": "6af7f207-f4d3-4a42-a55d-256cf124bd80",
   "metadata": {},
   "outputs": [
    {
     "name": "stdin",
     "output_type": "stream",
     "text": [
      " dgd\n"
     ]
    }
   ],
   "source": [
    "d = str(input())"
   ]
  },
  {
   "cell_type": "code",
   "execution_count": 33,
   "id": "1ad1d48e-84ca-46d2-844a-1b7dac4b9a37",
   "metadata": {},
   "outputs": [
    {
     "data": {
      "text/plain": [
       "str"
      ]
     },
     "execution_count": 33,
     "metadata": {},
     "output_type": "execute_result"
    }
   ],
   "source": [
    "type(d)"
   ]
  },
  {
   "cell_type": "markdown",
   "id": "81ddd950-959a-479a-a4a3-86914b926fd6",
   "metadata": {},
   "source": [
    " ### INDEXING"
   ]
  },
  {
   "cell_type": "code",
   "execution_count": 34,
   "id": "297a5e0e-f353-4585-a194-ea8f5b9f249c",
   "metadata": {},
   "outputs": [],
   "source": [
    "s = 'sudh'"
   ]
  },
  {
   "cell_type": "code",
   "execution_count": 35,
   "id": "e7a7f923-d3b8-499d-9133-6a3d13573123",
   "metadata": {},
   "outputs": [
    {
     "data": {
      "text/plain": [
       "'s'"
      ]
     },
     "execution_count": 35,
     "metadata": {},
     "output_type": "execute_result"
    }
   ],
   "source": [
    "s[0]"
   ]
  },
  {
   "cell_type": "code",
   "execution_count": 36,
   "id": "676af1f4-b3b9-4c5e-a772-85a583dd350f",
   "metadata": {},
   "outputs": [
    {
     "data": {
      "text/plain": [
       "'u'"
      ]
     },
     "execution_count": 36,
     "metadata": {},
     "output_type": "execute_result"
    }
   ],
   "source": [
    "s[1]"
   ]
  },
  {
   "cell_type": "code",
   "execution_count": 37,
   "id": "fb5a8557-b208-42e0-9f50-3034dcff494f",
   "metadata": {},
   "outputs": [
    {
     "data": {
      "text/plain": [
       "'d'"
      ]
     },
     "execution_count": 37,
     "metadata": {},
     "output_type": "execute_result"
    }
   ],
   "source": [
    "s[2]"
   ]
  },
  {
   "cell_type": "code",
   "execution_count": 38,
   "id": "504711df-4fe2-4fe5-9e66-37ddb5ce7edc",
   "metadata": {},
   "outputs": [
    {
     "data": {
      "text/plain": [
       "'h'"
      ]
     },
     "execution_count": 38,
     "metadata": {},
     "output_type": "execute_result"
    }
   ],
   "source": [
    "s[3]"
   ]
  },
  {
   "cell_type": "code",
   "execution_count": 39,
   "id": "c77c4c0d-b338-4f4c-a229-0f2b1ae7ad03",
   "metadata": {},
   "outputs": [
    {
     "ename": "IndexError",
     "evalue": "string index out of range",
     "output_type": "error",
     "traceback": [
      "\u001b[0;31m---------------------------------------------------------------------------\u001b[0m",
      "\u001b[0;31mIndexError\u001b[0m                                Traceback (most recent call last)",
      "Cell \u001b[0;32mIn[39], line 1\u001b[0m\n\u001b[0;32m----> 1\u001b[0m \u001b[43ms\u001b[49m\u001b[43m[\u001b[49m\u001b[38;5;241;43m100\u001b[39;49m\u001b[43m]\u001b[49m\n",
      "\u001b[0;31mIndexError\u001b[0m: string index out of range"
     ]
    }
   ],
   "source": [
    "s[100]"
   ]
  },
  {
   "cell_type": "code",
   "execution_count": 40,
   "id": "30447a42-cd78-4596-b64e-96c941394c5f",
   "metadata": {},
   "outputs": [
    {
     "data": {
      "text/plain": [
       "'h'"
      ]
     },
     "execution_count": 40,
     "metadata": {},
     "output_type": "execute_result"
    }
   ],
   "source": [
    "s[-1]"
   ]
  },
  {
   "cell_type": "code",
   "execution_count": 41,
   "id": "466f743f-3afb-4b18-9e1e-c33970e92e16",
   "metadata": {},
   "outputs": [
    {
     "data": {
      "text/plain": [
       "'d'"
      ]
     },
     "execution_count": 41,
     "metadata": {},
     "output_type": "execute_result"
    }
   ],
   "source": [
    "s[-2]"
   ]
  },
  {
   "cell_type": "code",
   "execution_count": 42,
   "id": "e74471e8-5512-4c0b-8768-83a8b882c76f",
   "metadata": {},
   "outputs": [
    {
     "data": {
      "text/plain": [
       "'u'"
      ]
     },
     "execution_count": 42,
     "metadata": {},
     "output_type": "execute_result"
    }
   ],
   "source": [
    "s[-3]"
   ]
  },
  {
   "cell_type": "code",
   "execution_count": 43,
   "id": "38354dc6-731b-4a51-b4d8-8dcc08594ec6",
   "metadata": {},
   "outputs": [
    {
     "data": {
      "text/plain": [
       "'s'"
      ]
     },
     "execution_count": 43,
     "metadata": {},
     "output_type": "execute_result"
    }
   ],
   "source": [
    "s[-4]"
   ]
  },
  {
   "cell_type": "code",
   "execution_count": 44,
   "id": "56f3fdc8-ffa4-46db-9c02-ddd1cca27193",
   "metadata": {},
   "outputs": [
    {
     "ename": "IndexError",
     "evalue": "string index out of range",
     "output_type": "error",
     "traceback": [
      "\u001b[0;31m---------------------------------------------------------------------------\u001b[0m",
      "\u001b[0;31mIndexError\u001b[0m                                Traceback (most recent call last)",
      "Cell \u001b[0;32mIn[44], line 1\u001b[0m\n\u001b[0;32m----> 1\u001b[0m \u001b[43ms\u001b[49m\u001b[43m[\u001b[49m\u001b[38;5;241;43m-\u001b[39;49m\u001b[38;5;241;43m44\u001b[39;49m\u001b[43m]\u001b[49m\n",
      "\u001b[0;31mIndexError\u001b[0m: string index out of range"
     ]
    }
   ],
   "source": [
    "s[-44]"
   ]
  },
  {
   "cell_type": "code",
   "execution_count": null,
   "id": "32fff08b-1ca5-4081-a917-6c14716ad8f5",
   "metadata": {},
   "outputs": [],
   "source": []
  },
  {
   "cell_type": "markdown",
   "id": "29ad62f0-7031-4bf5-bbd8-3def3a282046",
   "metadata": {},
   "source": [
    "- SLICING"
   ]
  },
  {
   "cell_type": "code",
   "execution_count": 45,
   "id": "08862432-818d-4767-852a-dc3dd67a14b3",
   "metadata": {},
   "outputs": [],
   "source": [
    "s1 = 'pwskills'"
   ]
  },
  {
   "cell_type": "code",
   "execution_count": 47,
   "id": "d78aab42-7d1e-4545-ae30-3708931fd16e",
   "metadata": {},
   "outputs": [
    {
     "data": {
      "text/plain": [
       "'pws'"
      ]
     },
     "execution_count": 47,
     "metadata": {},
     "output_type": "execute_result"
    }
   ],
   "source": [
    "s1[:3]\n",
    "\n",
    "# it will take from 0 to 2 (upperbound)"
   ]
  },
  {
   "cell_type": "code",
   "execution_count": 48,
   "id": "e80df1a2-8fe5-4f94-bd08-9a7b2c35c0ba",
   "metadata": {},
   "outputs": [
    {
     "data": {
      "text/plain": [
       "'pwskill'"
      ]
     },
     "execution_count": 48,
     "metadata": {},
     "output_type": "execute_result"
    }
   ],
   "source": [
    "# typing only pwskill\n",
    "\n",
    "s1[:-1]"
   ]
  },
  {
   "cell_type": "code",
   "execution_count": 49,
   "id": "29e8a1f8-29e5-4a9e-9bc4-af2f8a2f8942",
   "metadata": {},
   "outputs": [],
   "source": [
    "# jumping"
   ]
  },
  {
   "cell_type": "code",
   "execution_count": 51,
   "id": "c1fe583d-508e-4261-bb96-afffcf064b8a",
   "metadata": {},
   "outputs": [
    {
     "data": {
      "text/plain": [
       "'psil'"
      ]
     },
     "execution_count": 51,
     "metadata": {},
     "output_type": "execute_result"
    }
   ],
   "source": [
    "s1[::2]"
   ]
  },
  {
   "cell_type": "code",
   "execution_count": 52,
   "id": "1d9a75ca-77f5-4a1d-859f-5be8a3273992",
   "metadata": {},
   "outputs": [
    {
     "data": {
      "text/plain": [
       "'sllikswp'"
      ]
     },
     "execution_count": 52,
     "metadata": {},
     "output_type": "execute_result"
    }
   ],
   "source": [
    "s1[::-1]"
   ]
  },
  {
   "cell_type": "markdown",
   "id": "c5b21890-557f-49f3-b433-d1bb00d88de7",
   "metadata": {},
   "source": [
    "### Backward slicing and issues"
   ]
  },
  {
   "cell_type": "code",
   "execution_count": 53,
   "id": "1db5f70c-324e-438d-9e32-c429948fec69",
   "metadata": {},
   "outputs": [
    {
     "data": {
      "text/plain": [
       "''"
      ]
     },
     "execution_count": 53,
     "metadata": {},
     "output_type": "execute_result"
    }
   ],
   "source": [
    "s1[7:3]"
   ]
  },
  {
   "cell_type": "code",
   "execution_count": 54,
   "id": "75f33353-c20c-4922-9f4e-ed600ee9b060",
   "metadata": {},
   "outputs": [],
   "source": [
    "# it conflict with jump and end point. so output isn't going anywhere"
   ]
  },
  {
   "cell_type": "code",
   "execution_count": 55,
   "id": "02154ab5-d9b1-4331-bd17-c5b4336dfeef",
   "metadata": {},
   "outputs": [
    {
     "data": {
      "text/plain": [
       "''"
      ]
     },
     "execution_count": 55,
     "metadata": {},
     "output_type": "execute_result"
    }
   ],
   "source": [
    "# similarly\n",
    "\n",
    "s1[-1:-5]"
   ]
  },
  {
   "cell_type": "code",
   "execution_count": 56,
   "id": "44b49c0e-33bb-444a-8d03-9a6bf6d2f027",
   "metadata": {},
   "outputs": [],
   "source": [
    "# reassignment"
   ]
  },
  {
   "cell_type": "code",
   "execution_count": 58,
   "id": "db609063-ec01-4481-aa94-2c58952204c5",
   "metadata": {},
   "outputs": [
    {
     "ename": "TypeError",
     "evalue": "'str' object does not support item assignment",
     "output_type": "error",
     "traceback": [
      "\u001b[0;31m---------------------------------------------------------------------------\u001b[0m",
      "\u001b[0;31mTypeError\u001b[0m                                 Traceback (most recent call last)",
      "Cell \u001b[0;32mIn[58], line 1\u001b[0m\n\u001b[0;32m----> 1\u001b[0m \u001b[43ms1\u001b[49m\u001b[43m[\u001b[49m\u001b[38;5;241;43m0\u001b[39;49m\u001b[43m]\u001b[49m \u001b[38;5;241m=\u001b[39m \u001b[38;5;124m'\u001b[39m\u001b[38;5;124ms\u001b[39m\u001b[38;5;124m'\u001b[39m\n\u001b[1;32m      3\u001b[0m \u001b[38;5;66;03m# string is immutable\u001b[39;00m\n",
      "\u001b[0;31mTypeError\u001b[0m: 'str' object does not support item assignment"
     ]
    }
   ],
   "source": [
    "s1[0] = 's'\n",
    "\n",
    "# string is immutable"
   ]
  },
  {
   "cell_type": "code",
   "execution_count": null,
   "id": "f41532ad-a0dc-470d-9507-5c7845bd143a",
   "metadata": {},
   "outputs": [],
   "source": []
  }
 ],
 "metadata": {
  "kernelspec": {
   "display_name": "Python 3 (ipykernel)",
   "language": "python",
   "name": "python3"
  },
  "language_info": {
   "codemirror_mode": {
    "name": "ipython",
    "version": 3
   },
   "file_extension": ".py",
   "mimetype": "text/x-python",
   "name": "python",
   "nbconvert_exporter": "python",
   "pygments_lexer": "ipython3",
   "version": "3.10.8"
  }
 },
 "nbformat": 4,
 "nbformat_minor": 5
}
