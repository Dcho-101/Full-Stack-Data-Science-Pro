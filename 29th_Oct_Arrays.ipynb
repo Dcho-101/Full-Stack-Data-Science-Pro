{
  "nbformat": 4,
  "nbformat_minor": 0,
  "metadata": {
    "colab": {
      "provenance": []
    },
    "kernelspec": {
      "name": "python3",
      "display_name": "Python 3"
    },
    "language_info": {
      "name": "python"
    }
  },
  "cells": [
    {
      "cell_type": "markdown",
      "source": [
        "# **29th Oct : Arrays**"
      ],
      "metadata": {
        "id": "9A9VX3vi06Vz"
      }
    },
    {
      "cell_type": "code",
      "execution_count": 1,
      "metadata": {
        "colab": {
          "base_uri": "https://localhost:8080/"
        },
        "id": "XQtA-cj305UH",
        "outputId": "6ee07c34-02c7-49d8-ee1f-9956e54c9033"
      },
      "outputs": [
        {
          "output_type": "stream",
          "name": "stdout",
          "text": [
            "15\n"
          ]
        }
      ],
      "source": [
        "## method definition of the sum function\n",
        "\n",
        "def summantion(arr) :\n",
        "  n = len(arr)\n",
        "  sum = 0\n",
        "  for i in range(n) :\n",
        "    sum += arr[i]\n",
        "  return sum\n",
        "\n",
        "\n",
        "## driver code\n",
        "\n",
        "arr = [1,2,3,4,5]\n",
        "result = (summantion(arr))\n",
        "print(result)\n",
        "\n",
        "\n",
        "## time complexity = O(n)\n",
        "## Space complexity = O(1)"
      ]
    },
    {
      "cell_type": "code",
      "source": [
        "arr = [23,25,26,27]\n",
        "\n",
        "arr.insert(1,24)\n",
        "print(arr)"
      ],
      "metadata": {
        "colab": {
          "base_uri": "https://localhost:8080/"
        },
        "id": "0tvKLGgA1SVK",
        "outputId": "5f27cfa5-ac6b-4572-9b77-515cb0e80213"
      },
      "execution_count": 2,
      "outputs": [
        {
          "output_type": "stream",
          "name": "stdout",
          "text": [
            "[23, 24, 25, 26, 27]\n"
          ]
        }
      ]
    },
    {
      "cell_type": "code",
      "source": [
        "arr.remove(24)\n",
        "print(arr)"
      ],
      "metadata": {
        "colab": {
          "base_uri": "https://localhost:8080/"
        },
        "id": "mdF5jnOp2HK0",
        "outputId": "b5ba36cf-f376-483a-a46a-e2cf31ef70db"
      },
      "execution_count": 3,
      "outputs": [
        {
          "output_type": "stream",
          "name": "stdout",
          "text": [
            "[23, 25, 26, 27]\n"
          ]
        }
      ]
    },
    {
      "cell_type": "code",
      "source": [
        "## Searching algorithms\n",
        "\n",
        "\n",
        "## provide the index number where the target variable are staying\n",
        "## if the value is not provided in the array then it returns that \"the value is not in the array\"\n",
        "\n",
        "\n",
        "def linear_search(arr,target) :\n",
        "  for index in range(len(arr)) :\n",
        "    if arr[index] == target :\n",
        "      return index\n",
        "  return \"The value is not in the array\"\n",
        "\n",
        "arr = [12,14,16,18,11,22,26,29]\n",
        "\n",
        "target = 11\n",
        "\n",
        "index = linear_search(arr, target)\n",
        "print(index)\n",
        "\n",
        "\n",
        "## time complexity = O(n)\n",
        "# space complexity = O(1)"
      ],
      "metadata": {
        "colab": {
          "base_uri": "https://localhost:8080/"
        },
        "id": "PPKvvbca2Nub",
        "outputId": "2e0b0c50-32ac-484e-ddbb-0d23581bfd32"
      },
      "execution_count": 4,
      "outputs": [
        {
          "output_type": "stream",
          "name": "stdout",
          "text": [
            "4\n"
          ]
        }
      ]
    },
    {
      "cell_type": "code",
      "source": [
        "## arr = [2,5,11,13,15,18,22]\n",
        "\n",
        "## even and odd array containing even num and odd num\n",
        "\n",
        "\n",
        "def even_odd(arr) :\n",
        "  ## write logic\n",
        "\n",
        "  ## Creatting external data structure list to store the data for even and odd values\n",
        "  even = []\n",
        "  odd= []\n",
        "  for i in arr :\n",
        "    if i%2==0 :\n",
        "      even.append(i)\n",
        "    else:\n",
        "      odd.append(i)\n",
        "  return even,odd\n",
        "\n",
        "## Driver code\n",
        "arr = [2,5,11,13,15,18,22]\n",
        "result = even_odd(arr)\n",
        "print(result)\n",
        "\n",
        "## time complexity = O(n)\n",
        "## space complexity = O(n)"
      ],
      "metadata": {
        "colab": {
          "base_uri": "https://localhost:8080/"
        },
        "id": "YAFFEGlN3rk1",
        "outputId": "6e5ab1af-478c-49cf-d497-b70e81bd69b6"
      },
      "execution_count": 5,
      "outputs": [
        {
          "output_type": "stream",
          "name": "stdout",
          "text": [
            "([2, 18, 22], [5, 11, 13, 15])\n"
          ]
        }
      ]
    },
    {
      "cell_type": "code",
      "source": [
        "## function defination\n",
        "'''\n",
        "   0  1   2\n",
        "0  3  4   6\n",
        "1  7  8   9\n",
        "2  10 11 12\n",
        "'''\n",
        "\n",
        "def printDiagonalSum(arr):\n",
        "  n = len(arr)\n",
        "  primaryDiagonalSum = 0\n",
        "  secondaryDiagonalSum = 0\n",
        "  for i in range(n):\n",
        "    for j in range(n):\n",
        "\n",
        "      ## condition to get the primary diagonal\n",
        "      if i == j:\n",
        "        primaryDiagonalSum += arr[i][j]\n",
        "\n",
        "        ## condition to get the secondary diagonal\n",
        "      if (i + j) == n-1 :\n",
        "        secondaryDiagonalSum += arr[i][j]\n",
        "  print(\"primaryDiagonalSum :\", primaryDiagonalSum)\n",
        "  print(\"secondaryDiagonalSum :\", secondaryDiagonalSum)\n",
        "\n",
        "\n",
        "## Driver code\n",
        "\n",
        "arr = [[2,4,6], [8,11,13], [14,17,19]]\n",
        "\n",
        "## function calling\n",
        "n = 3\n",
        "printDiagonalSum(arr)\n",
        "\n",
        "## time complexity = O(n^2)\n",
        "## space complexity = O(1)"
      ],
      "metadata": {
        "colab": {
          "base_uri": "https://localhost:8080/"
        },
        "id": "-vu3UQUg6RTi",
        "outputId": "83770000-8605-4959-9d17-5392878554b0"
      },
      "execution_count": 13,
      "outputs": [
        {
          "output_type": "stream",
          "name": "stdout",
          "text": [
            "primaryDiagonalSum : 32\n",
            "secondaryDiagonalSum : 31\n"
          ]
        }
      ]
    },
    {
      "cell_type": "code",
      "source": [],
      "metadata": {
        "id": "y8NgQxlNP_z8"
      },
      "execution_count": null,
      "outputs": []
    }
  ]
}