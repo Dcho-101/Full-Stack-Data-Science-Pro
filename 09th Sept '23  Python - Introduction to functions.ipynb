{
 "cells": [
  {
   "cell_type": "markdown",
   "id": "57f4e51d-3bbd-49b2-806d-db1688e31ddd",
   "metadata": {},
   "source": [
    "# 09th Sept '23 : Python - Introduction to functions"
   ]
  },
  {
   "cell_type": "code",
   "execution_count": 5,
   "id": "0829e08e-4804-408d-bf0e-5126ff303733",
   "metadata": {},
   "outputs": [
    {
     "name": "stdout",
     "output_type": "stream",
     "text": [
      "Zero\n"
     ]
    }
   ],
   "source": [
    "number = 0\n",
    "\n",
    "if number > 0 :\n",
    "    print(\"Positive Number\")\n",
    "    \n",
    "elif number == 0 :\n",
    "    print(\"Zero\")\n",
    "    \n",
    "else :\n",
    "    print(\"Negative Number\")"
   ]
  },
  {
   "cell_type": "code",
   "execution_count": 6,
   "id": "86509eb3-2669-417b-898d-ea7643bce14e",
   "metadata": {},
   "outputs": [
    {
     "name": "stdout",
     "output_type": "stream",
     "text": [
      "0\n",
      "1\n",
      "2\n",
      "3\n",
      "4\n"
     ]
    }
   ],
   "source": [
    "for i in range(5) :\n",
    "    print(i)"
   ]
  },
  {
   "cell_type": "code",
   "execution_count": 7,
   "id": "86ca573b-da53-40cf-9e01-e3122b1efe77",
   "metadata": {},
   "outputs": [
    {
     "name": "stdout",
     "output_type": "stream",
     "text": [
      "Today is Monday\n",
      "Today is Tuesday\n",
      "Today is Wednesday\n",
      "Today is Thursday\n",
      "Today is Friday\n",
      "Today is Saturday\n",
      "Today is Sunday\n"
     ]
    }
   ],
   "source": [
    "days = 0\n",
    "\n",
    "week = ['Monday', 'Tuesday', 'Wednesday', 'Thursday', 'Friday', 'Saturday', 'Sunday']\n",
    "\n",
    "while days < 7 :\n",
    "    print(f\"Today is {week[days]}\")\n",
    "    \n",
    "    days +=1"
   ]
  },
  {
   "cell_type": "markdown",
   "id": "0c8fb1cc-c7d5-4e2f-a6b6-b435743b3c7f",
   "metadata": {},
   "source": [
    "### SPLIT FUNCTIONS"
   ]
  },
  {
   "cell_type": "code",
   "execution_count": 8,
   "id": "adfef625-dcad-4861-b0b3-15ad54301591",
   "metadata": {},
   "outputs": [
    {
     "data": {
      "text/plain": [
       "['I', 'Write', 'Code']"
      ]
     },
     "execution_count": 8,
     "metadata": {},
     "output_type": "execute_result"
    }
   ],
   "source": [
    "text = \"I Write Code\"\n",
    "\n",
    "text.split()"
   ]
  },
  {
   "cell_type": "code",
   "execution_count": 9,
   "id": "b12f7103-5c90-46fd-8784-20fd26e3109d",
   "metadata": {},
   "outputs": [
    {
     "name": "stdin",
     "output_type": "stream",
     "text": [
      "Enter 3 words:  welcome to pwskills\n"
     ]
    }
   ],
   "source": [
    "x = input(\"Enter 3 words: \")"
   ]
  },
  {
   "cell_type": "code",
   "execution_count": 10,
   "id": "3321234e-8fec-44a7-a537-267537cf864f",
   "metadata": {},
   "outputs": [],
   "source": [
    "word1,word2,word3 = x.split()"
   ]
  },
  {
   "cell_type": "code",
   "execution_count": 11,
   "id": "6f0038f5-3746-4fae-97df-ff4f6cb797f6",
   "metadata": {},
   "outputs": [
    {
     "data": {
      "text/plain": [
       "'welcome'"
      ]
     },
     "execution_count": 11,
     "metadata": {},
     "output_type": "execute_result"
    }
   ],
   "source": [
    "word1"
   ]
  },
  {
   "cell_type": "code",
   "execution_count": 12,
   "id": "d86b494c-af13-4045-ab91-68890f2da97e",
   "metadata": {},
   "outputs": [
    {
     "data": {
      "text/plain": [
       "'to'"
      ]
     },
     "execution_count": 12,
     "metadata": {},
     "output_type": "execute_result"
    }
   ],
   "source": [
    "word2"
   ]
  },
  {
   "cell_type": "code",
   "execution_count": 13,
   "id": "79ecc434-f875-4478-9df3-e9a0149f5e7f",
   "metadata": {},
   "outputs": [
    {
     "data": {
      "text/plain": [
       "'pwskills'"
      ]
     },
     "execution_count": 13,
     "metadata": {},
     "output_type": "execute_result"
    }
   ],
   "source": [
    "word3"
   ]
  },
  {
   "cell_type": "code",
   "execution_count": 16,
   "id": "9615a5cd-1534-4dc0-8b70-3ad9c7899aaf",
   "metadata": {},
   "outputs": [
    {
     "name": "stdin",
     "output_type": "stream",
     "text": [
      "Enter 2 number : 2 3\n"
     ]
    },
    {
     "name": "stdout",
     "output_type": "stream",
     "text": [
      "23\n",
      "5\n"
     ]
    }
   ],
   "source": [
    "## Another Example\n",
    "\n",
    "a,b = input(\"Enter 2 number :\").split()\n",
    "\n",
    "c = a+b ## this will place the input values one after another because it does not count as an integer\n",
    "\n",
    "d = int(a) + int(b) ## this will count as an integer as we converted the values\n",
    "\n",
    "print(c)\n",
    "\n",
    "print(d) "
   ]
  },
  {
   "cell_type": "code",
   "execution_count": null,
   "id": "48ffabab-24d9-46d5-8b7d-ccf173b0341f",
   "metadata": {},
   "outputs": [],
   "source": []
  },
  {
   "cell_type": "code",
   "execution_count": 17,
   "id": "1fe1a46f-b326-48aa-95c5-7d76df49dc80",
   "metadata": {},
   "outputs": [],
   "source": [
    "## Max Split"
   ]
  },
  {
   "cell_type": "code",
   "execution_count": 18,
   "id": "a0d16ddd-4a63-414a-8760-608e74c0e50c",
   "metadata": {},
   "outputs": [
    {
     "name": "stdout",
     "output_type": "stream",
     "text": [
      "['A', 'B', 'C', 'D', 'E F']\n"
     ]
    }
   ],
   "source": [
    "s1 = \"A B C D E F\"\n",
    "\n",
    "print(s1.split(' ', 4))"
   ]
  },
  {
   "cell_type": "code",
   "execution_count": 20,
   "id": "f90697f6-37dd-415c-b21b-711dc39464d1",
   "metadata": {},
   "outputs": [
    {
     "name": "stdout",
     "output_type": "stream",
     "text": [
      "letter:  p\n",
      "letter:  w\n",
      "letter:  s\n",
      "letter:  k\n",
      "letter:  i\n",
      "letter:  l\n",
      "letter:  l\n",
      "letter:  s\n"
     ]
    }
   ],
   "source": [
    "for letter in \"pwskills\" :\n",
    "    print('letter: ',letter)"
   ]
  },
  {
   "cell_type": "code",
   "execution_count": 21,
   "id": "3a6cf239-a2cd-4d09-8a19-081bcb7bb799",
   "metadata": {},
   "outputs": [
    {
     "name": "stdout",
     "output_type": "stream",
     "text": [
      "letter:  p\n",
      "letter:  w\n",
      "letter:  s\n",
      "letter:  k\n",
      "letter:  i\n"
     ]
    }
   ],
   "source": [
    "## Break operation\n",
    "\n",
    "for letter in \"pwskills\" :\n",
    "    \n",
    "    if letter == 'l':\n",
    "        break\n",
    "    print('letter: ',letter)"
   ]
  },
  {
   "cell_type": "code",
   "execution_count": null,
   "id": "ea05afdf-7071-4c33-8e7f-884e2606b3a4",
   "metadata": {},
   "outputs": [],
   "source": []
  },
  {
   "cell_type": "code",
   "execution_count": 22,
   "id": "a9eb2ab2-4e04-47fb-a4f6-8af2ddf8ed8e",
   "metadata": {},
   "outputs": [
    {
     "name": "stdout",
     "output_type": "stream",
     "text": [
      "1\n",
      "2\n",
      "3\n",
      "4\n",
      "5\n"
     ]
    }
   ],
   "source": [
    "## Break statement using while loop\n",
    "\n",
    "i = 1\n",
    "\n",
    "while i <=10:\n",
    "    print(i)\n",
    "    \n",
    "    if i == 5 :\n",
    "        break\n",
    "        \n",
    "    i+=1"
   ]
  },
  {
   "cell_type": "code",
   "execution_count": 23,
   "id": "8ecdb3e0-15e8-4e4f-9527-1ad4c1579046",
   "metadata": {},
   "outputs": [
    {
     "name": "stdout",
     "output_type": "stream",
     "text": [
      "p\n",
      "w\n",
      "s\n",
      "k\n",
      "l\n",
      "l\n",
      "s\n"
     ]
    }
   ],
   "source": [
    "## continue statement\n",
    "\n",
    "for letter in 'pwskills' :\n",
    "    if letter == 'i' :\n",
    "        continue\n",
    "        \n",
    "    print(letter)\n",
    "    "
   ]
  },
  {
   "cell_type": "code",
   "execution_count": 25,
   "id": "6b03d4ed-8b11-45c5-b9c9-e80aad4faae0",
   "metadata": {},
   "outputs": [],
   "source": [
    "## here you can see the 'i' portion from the string is missing. it helps to skip the perticular iterations"
   ]
  },
  {
   "cell_type": "code",
   "execution_count": 26,
   "id": "c056d705-40d3-4f67-a0c0-bbddb0f09a9a",
   "metadata": {},
   "outputs": [],
   "source": [
    "### therefore\n",
    "\n",
    "## break -- end the loop\n",
    "\n",
    "## continue -- skip the loop"
   ]
  },
  {
   "cell_type": "code",
   "execution_count": 27,
   "id": "8d0a3705-79d3-4476-ad69-cc4fa738d71e",
   "metadata": {},
   "outputs": [
    {
     "name": "stdout",
     "output_type": "stream",
     "text": [
      "1\n",
      "3\n",
      "5\n",
      "7\n",
      "9\n"
     ]
    }
   ],
   "source": [
    "# write a program to print odd number from 1 to 10\n",
    "\n",
    "for i in range(10) :\n",
    "    if i%2 == 1 :\n",
    "        print(i)"
   ]
  },
  {
   "cell_type": "code",
   "execution_count": 29,
   "id": "9a3fbe43-119b-47b2-b7b1-52fadd00545a",
   "metadata": {},
   "outputs": [
    {
     "name": "stdout",
     "output_type": "stream",
     "text": [
      "hello\n"
     ]
    }
   ],
   "source": [
    "## Pass function\n",
    "\n",
    "## pass will do nothing but it helps to make the code properly\n",
    "\n",
    "## it is like if you want to change a code in some segment according to requirements, then we can use this\n",
    "\n",
    "n = 10\n",
    "\n",
    "if n > 10 :\n",
    "    pass\n",
    "\n",
    "print('hello')"
   ]
  },
  {
   "cell_type": "code",
   "execution_count": 30,
   "id": "a97129bc-fde1-4c39-b74c-53ffe38bc12a",
   "metadata": {},
   "outputs": [],
   "source": [
    "for i in range(5) :\n",
    "    pass"
   ]
  },
  {
   "cell_type": "code",
   "execution_count": null,
   "id": "9605094b-c4e5-4e7e-87ec-f11bf65f4014",
   "metadata": {},
   "outputs": [],
   "source": []
  },
  {
   "cell_type": "markdown",
   "id": "f276a424-0b1a-4010-a4ff-293bc2acc0e5",
   "metadata": {},
   "source": [
    "### Functions"
   ]
  },
  {
   "cell_type": "code",
   "execution_count": 31,
   "id": "f6cf700c-e3bd-47d1-a1b2-6280e9ce71a3",
   "metadata": {},
   "outputs": [],
   "source": [
    "def add_nums(a, b) :\n",
    "    return a+b"
   ]
  },
  {
   "cell_type": "code",
   "execution_count": 32,
   "id": "7cf8e04b-7462-4747-8ddb-a5b03bdde7b4",
   "metadata": {},
   "outputs": [],
   "source": [
    "# def helps for defining the function\n",
    "\n",
    "## after def we name the function (within bracket we set the arguments)\n",
    "\n",
    "### then write the function body under the return statement"
   ]
  },
  {
   "cell_type": "code",
   "execution_count": 33,
   "id": "de0a4139-a5b8-4d64-9bb0-c67d3cc193ad",
   "metadata": {},
   "outputs": [
    {
     "data": {
      "text/plain": [
       "'\\ndef functionname(arguments) :\\n    ## function body\\n    return\\n    '"
      ]
     },
     "execution_count": 33,
     "metadata": {},
     "output_type": "execute_result"
    }
   ],
   "source": [
    "'''\n",
    "def functionname(arguments) :\n",
    "    ## function body\n",
    "    return\n",
    "    '''"
   ]
  },
  {
   "cell_type": "code",
   "execution_count": 34,
   "id": "2b41ad7d-bed3-4dd5-b87b-7f7f6067036a",
   "metadata": {},
   "outputs": [],
   "source": [
    "def addnum() :\n",
    "    a = int(input(\"Enter first number: \"))\n",
    "    b = int(input(\"Enter second number: \"))\n",
    "    \n",
    "    c = a+b\n",
    "    \n",
    "    return c"
   ]
  },
  {
   "cell_type": "code",
   "execution_count": 35,
   "id": "38a71959-acd8-4978-8d69-96bf7c7f0ec2",
   "metadata": {},
   "outputs": [
    {
     "name": "stdin",
     "output_type": "stream",
     "text": [
      "Enter first number:  5\n",
      "Enter second number:  5\n"
     ]
    },
    {
     "data": {
      "text/plain": [
       "10"
      ]
     },
     "execution_count": 35,
     "metadata": {},
     "output_type": "execute_result"
    }
   ],
   "source": [
    "addnum()"
   ]
  },
  {
   "cell_type": "code",
   "execution_count": 50,
   "id": "8827df26-71af-440f-ac7f-cc143d6c03f4",
   "metadata": {},
   "outputs": [],
   "source": [
    "def intro(first_name, last_name) :\n",
    "    print('Hi!',first_name+' '+last_name) "
   ]
  },
  {
   "cell_type": "code",
   "execution_count": 51,
   "id": "85466721-bbcb-4173-9e6e-a32b3de89ffe",
   "metadata": {},
   "outputs": [
    {
     "name": "stdout",
     "output_type": "stream",
     "text": [
      "Hi! Dibyendu Chowdhury\n"
     ]
    }
   ],
   "source": [
    "intro('Dibyendu', 'Chowdhury')"
   ]
  },
  {
   "cell_type": "code",
   "execution_count": 55,
   "id": "6a2803ff-68bf-4960-a0fe-808334e1d989",
   "metadata": {},
   "outputs": [],
   "source": [
    "## defining area of a circule given radius using a function\n",
    "\n",
    "def area_of_circle(radius) :\n",
    "    return 3.14*radius*radius"
   ]
  },
  {
   "cell_type": "code",
   "execution_count": 56,
   "id": "53cd7dcc-05f5-46f9-946e-dc80403d0a0f",
   "metadata": {},
   "outputs": [
    {
     "data": {
      "text/plain": [
       "28.259999999999998"
      ]
     },
     "execution_count": 56,
     "metadata": {},
     "output_type": "execute_result"
    }
   ],
   "source": [
    "area_of_circle(3)"
   ]
  },
  {
   "cell_type": "code",
   "execution_count": 57,
   "id": "0d58fe39-e01d-4bde-878b-0df70c554abb",
   "metadata": {},
   "outputs": [],
   "source": [
    "## defining area of a rectangle given radius using a function\n",
    "\n",
    "def area_of_rectangle(length, breadth) :\n",
    "    return length*breadth"
   ]
  },
  {
   "cell_type": "code",
   "execution_count": 58,
   "id": "07ada527-acd6-4771-8adf-91f01dd8c185",
   "metadata": {},
   "outputs": [
    {
     "data": {
      "text/plain": [
       "30"
      ]
     },
     "execution_count": 58,
     "metadata": {},
     "output_type": "execute_result"
    }
   ],
   "source": [
    "area_of_rectangle(10,3)"
   ]
  },
  {
   "cell_type": "code",
   "execution_count": 60,
   "id": "d487d6b1-6c81-4a52-86cb-8988dcf66f11",
   "metadata": {},
   "outputs": [],
   "source": [
    "## defining area of a triangle given radius using a function\n",
    "\n",
    "def area_of_triangle(base, height) :\n",
    "    return 0.5*base*height"
   ]
  },
  {
   "cell_type": "code",
   "execution_count": 61,
   "id": "308a3964-5e79-4a5f-a7ad-23aaff523bbc",
   "metadata": {},
   "outputs": [
    {
     "data": {
      "text/plain": [
       "150.0"
      ]
     },
     "execution_count": 61,
     "metadata": {},
     "output_type": "execute_result"
    }
   ],
   "source": [
    "area_of_triangle(10,30)"
   ]
  },
  {
   "cell_type": "code",
   "execution_count": 62,
   "id": "19d4c4ee-3b73-4723-a7f9-2fe1626be177",
   "metadata": {},
   "outputs": [],
   "source": [
    "## accept an integer as input and print its square as an output "
   ]
  },
  {
   "cell_type": "code",
   "execution_count": 64,
   "id": "5d99aeae-ca67-41cd-a448-7783254cd1ef",
   "metadata": {},
   "outputs": [
    {
     "name": "stdin",
     "output_type": "stream",
     "text": [
      "Enter an integer:  45\n"
     ]
    },
    {
     "name": "stdout",
     "output_type": "stream",
     "text": [
      "square of the integer 45 is: 2025\n"
     ]
    }
   ],
   "source": [
    "integer = int(input(\"Enter an integer: \"))\n",
    "\n",
    "square = integer**2\n",
    "\n",
    "print(f\"square of the integer {integer} is: {square}\")"
   ]
  },
  {
   "cell_type": "code",
   "execution_count": null,
   "id": "6489670b-5e60-4ca7-9cb9-56b55483b8b6",
   "metadata": {},
   "outputs": [],
   "source": []
  },
  {
   "cell_type": "code",
   "execution_count": 65,
   "id": "9ba9791b-bb9e-43dd-93c3-64e3ebe0a8ae",
   "metadata": {},
   "outputs": [],
   "source": [
    "## Accept two words as input and print the two words after adding a space between them"
   ]
  },
  {
   "cell_type": "code",
   "execution_count": 67,
   "id": "c38e595e-a92b-4f58-960e-6b53ad80207a",
   "metadata": {},
   "outputs": [
    {
     "name": "stdin",
     "output_type": "stream",
     "text": [
      "enter word:  raja\n",
      "enter word:  s\n"
     ]
    },
    {
     "name": "stdout",
     "output_type": "stream",
     "text": [
      "raja s\n"
     ]
    }
   ],
   "source": [
    "a = input('enter word: ')\n",
    "b = input('enter word: ')\n",
    "\n",
    "c = a + ' ' + b\n",
    "\n",
    "print(c)"
   ]
  },
  {
   "cell_type": "code",
   "execution_count": 69,
   "id": "45cadac4-1936-485e-8f3c-a0ab754261ce",
   "metadata": {},
   "outputs": [],
   "source": [
    "### this can also used with the help of function\n",
    "\n",
    "def function(first_name, last_name) :\n",
    "    c = first_name + ' ' + last_name\n",
    "    return c"
   ]
  },
  {
   "cell_type": "code",
   "execution_count": 71,
   "id": "88890817-1b67-4f51-9e42-b2919d461186",
   "metadata": {},
   "outputs": [
    {
     "data": {
      "text/plain": [
       "'raja s'"
      ]
     },
     "execution_count": 71,
     "metadata": {},
     "output_type": "execute_result"
    }
   ],
   "source": [
    "function('raja', 's')"
   ]
  },
  {
   "cell_type": "code",
   "execution_count": 72,
   "id": "081e8c02-5656-4bbd-b32c-63d6c4a69936",
   "metadata": {},
   "outputs": [],
   "source": [
    "# create a python program that includes a user-defined function called print_even_number(). \n",
    "# the function should prompt the user to set a range limit before printing all the even numbers upto that limit"
   ]
  },
  {
   "cell_type": "code",
   "execution_count": 76,
   "id": "defdf84a-1695-43d3-b77a-337ddf05dfb7",
   "metadata": {},
   "outputs": [],
   "source": [
    "def print_even_number() :\n",
    "    lim_1 = int(input(\"enter first limit of even number: \"))\n",
    "    lim_2 = int(input(\"enter second limit of even number: \"))\n",
    "    \n",
    "    for i in range(lim_1, lim_2+1) :\n",
    "        if i%2 == 0 :\n",
    "            print(i, end = \" \")"
   ]
  },
  {
   "cell_type": "code",
   "execution_count": 77,
   "id": "cab32c7d-4dae-47d5-9e47-849340b4cefa",
   "metadata": {},
   "outputs": [
    {
     "name": "stdin",
     "output_type": "stream",
     "text": [
      "enter first limit of even number:  2\n",
      "enter second limit of even number:  50\n"
     ]
    },
    {
     "name": "stdout",
     "output_type": "stream",
     "text": [
      "2 4 6 8 10 12 14 16 18 20 22 24 26 28 30 32 34 36 38 40 42 44 46 48 50 "
     ]
    }
   ],
   "source": [
    "print_even_number()"
   ]
  },
  {
   "cell_type": "code",
   "execution_count": null,
   "id": "ce9737e6-a586-4d66-b8be-0c7e86e4d1da",
   "metadata": {},
   "outputs": [],
   "source": []
  },
  {
   "cell_type": "code",
   "execution_count": 79,
   "id": "43e40e02-9c42-424a-b480-b0a4d91cc904",
   "metadata": {},
   "outputs": [
    {
     "name": "stdin",
     "output_type": "stream",
     "text": [
      "Enter first side of the triangle:  5\n",
      "Enter second side of the triangle:  7\n",
      "Enter third side of the triangle:  8\n"
     ]
    },
    {
     "name": "stdout",
     "output_type": "stream",
     "text": [
      "it is not a right angle triangle\n"
     ]
    }
   ],
   "source": [
    "def check_right_triangle(a,b,c):\n",
    "    if a**2 == b**2 +c**2 or b**2 == c**2 + a**2 or c**2 == a**2 + b**2 :\n",
    "        print(\"it is a right angled triangle\")\n",
    "    else :\n",
    "        print('it is not a right angle triangle')\n",
    "        \n",
    "a = int(input(\"Enter first side of the triangle: \"))\n",
    "b = int(input(\"Enter second side of the triangle: \"))\n",
    "c = int(input(\"Enter third side of the triangle: \"))\n",
    "\n",
    "check_right_triangle(a,b,c)"
   ]
  },
  {
   "cell_type": "code",
   "execution_count": null,
   "id": "54b64560-081f-4476-8601-ec47ca1c5eaa",
   "metadata": {},
   "outputs": [],
   "source": []
  }
 ],
 "metadata": {
  "kernelspec": {
   "display_name": "Python 3 (ipykernel)",
   "language": "python",
   "name": "python3"
  },
  "language_info": {
   "codemirror_mode": {
    "name": "ipython",
    "version": 3
   },
   "file_extension": ".py",
   "mimetype": "text/x-python",
   "name": "python",
   "nbconvert_exporter": "python",
   "pygments_lexer": "ipython3",
   "version": "3.10.8"
  }
 },
 "nbformat": 4,
 "nbformat_minor": 5
}
