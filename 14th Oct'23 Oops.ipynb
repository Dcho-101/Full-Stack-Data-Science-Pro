{
 "cells": [
  {
   "cell_type": "markdown",
   "id": "49a51295-bf25-464f-b44c-12d1b81f7b54",
   "metadata": {},
   "source": [
    "# 14th Oct'23 : Oops"
   ]
  },
  {
   "cell_type": "code",
   "execution_count": 1,
   "id": "906f6447-29bc-4674-9d00-e8660dbe1bab",
   "metadata": {},
   "outputs": [],
   "source": [
    "class pwskills :\n",
    "    def __init__(self, mentor) :\n",
    "        self.mentor = mentor\n",
    "        \n",
    "    def mentor_name(self) :\n",
    "        print(self.mentor)\n",
    "        \n",
    "        \n",
    "class datascience(pwskills) :\n",
    "    def __init__(self, mentor, mentor_mail_id) :\n",
    "        self.mentor = mentor\n",
    "        self.mentor_mail_id = mentor_mail_id\n",
    "        \n",
    "    def show_info(self) :\n",
    "        print(self.mentor, self.mentor_mail_id)"
   ]
  },
  {
   "cell_type": "code",
   "execution_count": 2,
   "id": "b78cdd8b-5091-415c-a61b-ceab382d1124",
   "metadata": {},
   "outputs": [],
   "source": [
    "# creating object of the data science class"
   ]
  },
  {
   "cell_type": "code",
   "execution_count": 3,
   "id": "f62d41a6-b3b9-4004-960f-a4ff4bb553fa",
   "metadata": {},
   "outputs": [],
   "source": [
    "python_basic = datascience(\"sudh\", \"sudh123@gmail.com\")"
   ]
  },
  {
   "cell_type": "code",
   "execution_count": 4,
   "id": "27b8b286-fcd2-43b9-a7d3-e4d92e6f52e0",
   "metadata": {},
   "outputs": [
    {
     "name": "stdout",
     "output_type": "stream",
     "text": [
      "sudh sudh123@gmail.com\n"
     ]
    }
   ],
   "source": [
    "python_basic.show_info()"
   ]
  },
  {
   "cell_type": "code",
   "execution_count": 5,
   "id": "86334b4e-d875-4825-8ee1-59f5c2c16efe",
   "metadata": {},
   "outputs": [
    {
     "name": "stdout",
     "output_type": "stream",
     "text": [
      "sudh\n"
     ]
    }
   ],
   "source": [
    "python_basic.mentor_name()"
   ]
  },
  {
   "cell_type": "code",
   "execution_count": 6,
   "id": "87a913e5-cf37-4959-bf18-adf8e67dce77",
   "metadata": {},
   "outputs": [],
   "source": [
    "# so from the child object we can call the child class as well as parent class"
   ]
  },
  {
   "cell_type": "code",
   "execution_count": 7,
   "id": "094f3fae-a4e0-4742-bb2c-f36b8011e4bc",
   "metadata": {},
   "outputs": [],
   "source": [
    "# we can see that there are mentor present in both parent as well as child class. so we are reassigning the mentor in the cihild class"
   ]
  },
  {
   "cell_type": "code",
   "execution_count": 9,
   "id": "199f3914-2533-45d7-bb8a-b4dd16efcccc",
   "metadata": {},
   "outputs": [],
   "source": [
    "# althogh we can reassign the same mentor in a different manner. this is where the superclass comes"
   ]
  },
  {
   "cell_type": "code",
   "execution_count": 2,
   "id": "a4401bfe-aee1-4ee4-9dc0-2f008108736c",
   "metadata": {},
   "outputs": [],
   "source": [
    "# for that \n",
    "\n",
    "class pwskills :\n",
    "    def __init__(self, mentor) :\n",
    "        self.mentor = mentor\n",
    "        \n",
    "    def mentor_name(self) :\n",
    "        print(self.mentor)\n",
    "        \n",
    "        \n",
    "class datascience(pwskills) :\n",
    "    def __init__(self, mentor, mentor_mail_id) :\n",
    "        #self.mentor = mentor\n",
    "        super().__init__(mentor)\n",
    "        self.mentor_mail_id = mentor_mail_id\n",
    "        \n",
    "    def show_info(self) :\n",
    "        super().mentor_name()\n",
    "        print(self.mentor, self.mentor_mail_id)"
   ]
  },
  {
   "cell_type": "code",
   "execution_count": 3,
   "id": "b9f26388-827e-4d51-be6c-95fd1f6f36cd",
   "metadata": {},
   "outputs": [],
   "source": [
    "# now\n",
    "\n",
    "python_basic_1 = datascience(\"sudh\", \"sudh123@gmail.com\")"
   ]
  },
  {
   "cell_type": "code",
   "execution_count": 4,
   "id": "52d75151-1b60-4ea1-9e31-7a36dab55cc9",
   "metadata": {},
   "outputs": [
    {
     "name": "stdout",
     "output_type": "stream",
     "text": [
      "sudh\n",
      "sudh sudh123@gmail.com\n"
     ]
    }
   ],
   "source": [
    "python_basic_1.show_info()"
   ]
  },
  {
   "cell_type": "code",
   "execution_count": 13,
   "id": "ab5bc570-edf7-427f-b5a4-da3def616729",
   "metadata": {},
   "outputs": [
    {
     "name": "stdout",
     "output_type": "stream",
     "text": [
      "sudh\n"
     ]
    }
   ],
   "source": [
    "python_basic_1.mentor_name()"
   ]
  },
  {
   "cell_type": "code",
   "execution_count": 14,
   "id": "f6cee026-6c50-4597-b146-4a6643509f4c",
   "metadata": {},
   "outputs": [],
   "source": [
    "# whenever and whereever I dont have to do reassignment of a value, we can do this superclass"
   ]
  },
  {
   "cell_type": "code",
   "execution_count": 15,
   "id": "8f21fbfc-8d1f-479e-832c-acd10c6f2f14",
   "metadata": {},
   "outputs": [],
   "source": [
    "# suppose we have 20-30 lines and we have to do this again and again. using the superclass method we can easily make this in one line"
   ]
  },
  {
   "cell_type": "code",
   "execution_count": null,
   "id": "645300a5-dd23-451c-8343-355be8a0d9c7",
   "metadata": {},
   "outputs": [],
   "source": []
  },
  {
   "cell_type": "code",
   "execution_count": 9,
   "id": "a07b8c9c-6af2-46d3-9b3a-e0d3c9f37a9d",
   "metadata": {},
   "outputs": [],
   "source": [
    "class human :\n",
    "    def __init__(self) :\n",
    "        pass\n",
    "    \n",
    "    def eat(self) :\n",
    "        print(\"Print the eat method from human class\")\n",
    "    "
   ]
  },
  {
   "cell_type": "code",
   "execution_count": 10,
   "id": "29b73dbe-ff62-41af-b5a2-10d6444a634c",
   "metadata": {},
   "outputs": [],
   "source": [
    "class male(human) :\n",
    "    def __init__(self, name) :\n",
    "        self.name = name\n",
    "        \n",
    "    def eat(self) :\n",
    "        print(self.name)\n",
    "        \n",
    "        "
   ]
  },
  {
   "cell_type": "code",
   "execution_count": 11,
   "id": "512aa845-8e5d-4cee-a73d-3798f069bae2",
   "metadata": {},
   "outputs": [],
   "source": [
    "sudh = male(\"sudhanshu\")"
   ]
  },
  {
   "cell_type": "code",
   "execution_count": 12,
   "id": "a64f20ce-bd88-48be-abb0-6b5d366f0fc8",
   "metadata": {},
   "outputs": [
    {
     "name": "stdout",
     "output_type": "stream",
     "text": [
      "sudhanshu\n"
     ]
    }
   ],
   "source": [
    "sudh.eat()"
   ]
  },
  {
   "cell_type": "markdown",
   "id": "f2953ed9-fdf1-4f8c-9a20-389cbbef87e6",
   "metadata": {},
   "source": [
    "##### how we can be able to print the eat method from the human class??"
   ]
  },
  {
   "cell_type": "markdown",
   "id": "37b78581-224d-4099-8cf6-c7a265cc5670",
   "metadata": {},
   "source": [
    "- our requirement is to print from the parent class not the child class"
   ]
  },
  {
   "cell_type": "raw",
   "id": "f60ad355-7684-42d7-a967-2c412496242a",
   "metadata": {},
   "source": [
    "Ans:- by using super() function we can be able to call the eat from the parent class"
   ]
  },
  {
   "cell_type": "code",
   "execution_count": 16,
   "id": "806840d3-4769-4c6c-8690-a0a690481b92",
   "metadata": {},
   "outputs": [],
   "source": [
    "class male(human) :\n",
    "    def __init__(self, name) :\n",
    "        self.name = name\n",
    "        \n",
    "    def eat(self) :\n",
    "        super().eat()\n",
    "        print(self.name)\n",
    "        \n",
    "        "
   ]
  },
  {
   "cell_type": "code",
   "execution_count": 17,
   "id": "ef619777-249c-4170-82e3-e1f56203219d",
   "metadata": {},
   "outputs": [],
   "source": [
    "sudh1 = male(\"sudhanshu\")"
   ]
  },
  {
   "cell_type": "code",
   "execution_count": 18,
   "id": "e4f32049-d915-4de8-a863-08b42b5d90e1",
   "metadata": {},
   "outputs": [
    {
     "name": "stdout",
     "output_type": "stream",
     "text": [
      "Print the eat method from human class\n",
      "sudhanshu\n"
     ]
    }
   ],
   "source": [
    "sudh1.eat()"
   ]
  },
  {
   "cell_type": "code",
   "execution_count": null,
   "id": "125d2692-fe9b-4f65-9089-e95264d3fe2b",
   "metadata": {},
   "outputs": [],
   "source": []
  },
  {
   "cell_type": "raw",
   "id": "f50bf192-0b1a-4203-a46d-442ba2fa2b3e",
   "metadata": {},
   "source": [
    "Instructor \n",
    "__init__(self)\n",
    "\n",
    "destructor"
   ]
  },
  {
   "cell_type": "code",
   "execution_count": 26,
   "id": "58476148-e2a0-4dab-bfcf-601b25b04108",
   "metadata": {},
   "outputs": [],
   "source": [
    "# example\n",
    "\n",
    "class fileopener :\n",
    "    def __init__(self, filename) : ## this doonder method called constructor method\n",
    "        self.filename = filename\n",
    "        \n",
    "    def open_file(self) :\n",
    "        print(\"this will open the file\", self.filename)\n",
    "        \n",
    "    def __del__(self) : ### this doonder method is called the destructor method\n",
    "        print(\"close my file\")"
   ]
  },
  {
   "cell_type": "code",
   "execution_count": 27,
   "id": "76d5e26d-b9be-4470-98da-b7ceab284459",
   "metadata": {},
   "outputs": [],
   "source": [
    "## whenever we open a file we must close the file. this is where the destructor comes into picture"
   ]
  },
  {
   "cell_type": "code",
   "execution_count": 28,
   "id": "5749b7be-bac9-47f0-a37c-84ab0b03a6aa",
   "metadata": {},
   "outputs": [],
   "source": [
    "f1 = fileopener(\"f1.txt\")"
   ]
  },
  {
   "cell_type": "code",
   "execution_count": 29,
   "id": "497870b7-85a2-48cc-9646-a0440bdbff52",
   "metadata": {},
   "outputs": [
    {
     "name": "stdout",
     "output_type": "stream",
     "text": [
      "this will open the file f1.txt\n"
     ]
    }
   ],
   "source": [
    "f1.open_file()"
   ]
  },
  {
   "cell_type": "code",
   "execution_count": 30,
   "id": "f892aade-22e8-491c-b574-34a9114f3cd4",
   "metadata": {},
   "outputs": [],
   "source": [
    "## in python this destructor method is called automatically but sometimes we need to do this for the safety purposes"
   ]
  },
  {
   "cell_type": "code",
   "execution_count": 12,
   "id": "9efa9258-6708-4aa0-a13a-43d106d651c2",
   "metadata": {},
   "outputs": [],
   "source": [
    "import time\n",
    "\n",
    "class timer :\n",
    "    def __init__(self) : ## when we will create an object\n",
    "        self.start_time = time.time()\n",
    "        \n",
    "    def task(self) :\n",
    "        time_spent = time.time() - self.start_time\n",
    "        print(time_spent)\n",
    "        \n",
    "    def __del__(self) : # this comes when the object have to destroyed\n",
    "        print(\"\")\n",
    "        \n",
    "    def __str__(self) :\n",
    "        return \"this is my class timer\""
   ]
  },
  {
   "cell_type": "code",
   "execution_count": 13,
   "id": "142380a0-15ba-48a9-83b9-570ce10e5e00",
   "metadata": {},
   "outputs": [
    {
     "name": "stdout",
     "output_type": "stream",
     "text": [
      "\n"
     ]
    }
   ],
   "source": [
    "t1 = timer()"
   ]
  },
  {
   "cell_type": "code",
   "execution_count": 14,
   "id": "39237caa-f102-4bce-8795-fce97665be3d",
   "metadata": {},
   "outputs": [
    {
     "name": "stdout",
     "output_type": "stream",
     "text": [
      "0.5406835079193115\n"
     ]
    }
   ],
   "source": [
    "t1.task()"
   ]
  },
  {
   "cell_type": "code",
   "execution_count": 15,
   "id": "f6f3b8e3-2a45-4e2b-9a49-4857dacc9d8a",
   "metadata": {},
   "outputs": [
    {
     "name": "stdout",
     "output_type": "stream",
     "text": [
      "this is my class timer\n"
     ]
    }
   ],
   "source": [
    "print(t1)"
   ]
  },
  {
   "cell_type": "code",
   "execution_count": null,
   "id": "e2970d3e-d592-4ee1-ba09-307854d7fa4f",
   "metadata": {},
   "outputs": [],
   "source": []
  },
  {
   "cell_type": "code",
   "execution_count": null,
   "id": "b8045b9f-bfc7-4731-9ac3-75d9cd4eac14",
   "metadata": {},
   "outputs": [],
   "source": []
  },
  {
   "cell_type": "markdown",
   "id": "0d886aba-86ee-47db-b6ed-ceef279436e5",
   "metadata": {},
   "source": [
    "## Decorator"
   ]
  },
  {
   "cell_type": "code",
   "execution_count": 19,
   "id": "b20b6c96-014e-4330-8d69-9041eff4b00e",
   "metadata": {},
   "outputs": [],
   "source": [
    "def test(func) :\n",
    "    def inner_test() :\n",
    "        print(\"this is the start of my inner test\")\n",
    "        \n",
    "        func()\n",
    "        print(\"this is the end of my inner test\")\n",
    "        \n",
    "    return inner_test\n",
    "\n",
    "@test\n",
    "def test1() :\n",
    "    print(\"this is my test1\")"
   ]
  },
  {
   "cell_type": "code",
   "execution_count": 21,
   "id": "e59ba42a-c98b-4655-b5fc-fc8330806997",
   "metadata": {},
   "outputs": [
    {
     "name": "stdout",
     "output_type": "stream",
     "text": [
      "this is the start of my inner test\n",
      "this is my test1\n",
      "this is the end of my inner test\n"
     ]
    }
   ],
   "source": [
    "test1()"
   ]
  },
  {
   "cell_type": "code",
   "execution_count": null,
   "id": "c986babe-34ae-4907-8045-60f7227a9ba4",
   "metadata": {},
   "outputs": [],
   "source": []
  },
  {
   "cell_type": "code",
   "execution_count": 22,
   "id": "8e71b47b-d650-4e4f-874a-44a4c8e6d850",
   "metadata": {},
   "outputs": [],
   "source": [
    "# but"
   ]
  },
  {
   "cell_type": "code",
   "execution_count": 23,
   "id": "1f65cca1-bf17-4a74-8af0-c3a06219979c",
   "metadata": {},
   "outputs": [],
   "source": [
    "def test(func) :\n",
    "    def inner_test() :\n",
    "        print(\"this is the start of my inner test\")\n",
    "        \n",
    "        func()\n",
    "        print(\"this is the end of my inner test\")\n",
    "        \n",
    "    return inner_test\n",
    "\n",
    "#@test\n",
    "def test1() :\n",
    "    print(\"this is my test1\")"
   ]
  },
  {
   "cell_type": "code",
   "execution_count": 24,
   "id": "257a9395-eee7-4218-a331-326cd56e3ee0",
   "metadata": {},
   "outputs": [
    {
     "name": "stdout",
     "output_type": "stream",
     "text": [
      "this is my test1\n"
     ]
    }
   ],
   "source": [
    "test1()"
   ]
  },
  {
   "cell_type": "code",
   "execution_count": 25,
   "id": "88a6b9f5-4caf-441e-ab5a-4d3ede8ea1f1",
   "metadata": {},
   "outputs": [],
   "source": [
    "# using @ we can decorate the function by the perticular function test"
   ]
  },
  {
   "cell_type": "code",
   "execution_count": 26,
   "id": "6839b049-0f21-4acc-9e33-f56b79d3d013",
   "metadata": {},
   "outputs": [],
   "source": [
    "# decorator helps to make the function workable with other functions"
   ]
  },
  {
   "cell_type": "code",
   "execution_count": null,
   "id": "3b5fdaf6-45f0-4bcf-bc5d-f58d73b23071",
   "metadata": {},
   "outputs": [],
   "source": []
  },
  {
   "cell_type": "code",
   "execution_count": 27,
   "id": "c3f7cf26-3426-444e-abca-082d1c2d03f0",
   "metadata": {},
   "outputs": [],
   "source": [
    "# Another example"
   ]
  },
  {
   "cell_type": "code",
   "execution_count": 28,
   "id": "1c55c1e0-67f3-4617-b17c-08afd25e740d",
   "metadata": {},
   "outputs": [],
   "source": [
    "def print_list(l) :\n",
    "    for i in l :\n",
    "        print(i)"
   ]
  },
  {
   "cell_type": "code",
   "execution_count": 29,
   "id": "5363146b-eb5c-4068-8310-5bec659d038d",
   "metadata": {},
   "outputs": [],
   "source": [
    "## another function\n",
    "\n",
    "def print_key(d) :\n",
    "    print(d.keys())"
   ]
  },
  {
   "cell_type": "code",
   "execution_count": 30,
   "id": "84c598c8-8aa0-493b-a7c8-ea6b1f00f0b1",
   "metadata": {},
   "outputs": [],
   "source": [
    "## now the question arises that whenever we use any of the above function, you have to print excution time of the function"
   ]
  },
  {
   "cell_type": "code",
   "execution_count": 31,
   "id": "56b4e63c-ffdc-4f26-a4c2-f4d36c3d3fc8",
   "metadata": {},
   "outputs": [],
   "source": [
    "## one step which can be done\n",
    "import time\n",
    "def print_list(l) :\n",
    "    start_time = time.time()\n",
    "    for i in l :\n",
    "        print(i)\n",
    "    end_time = time.time()\n",
    "    total_time = end_time - start_time\n",
    "    print(total_time)"
   ]
  },
  {
   "cell_type": "code",
   "execution_count": 32,
   "id": "594f5a62-2f3d-4e68-a850-818c34a3744b",
   "metadata": {},
   "outputs": [],
   "source": [
    "## for another function\n",
    "\n",
    "import time\n",
    "def print_key(d) :\n",
    "    start_time = time.time()\n",
    "    print(d.keys())\n",
    "    end_time = time.time()\n",
    "    total_time = end_time - start_time\n",
    "    print(total_time)"
   ]
  },
  {
   "cell_type": "code",
   "execution_count": 33,
   "id": "237a8ec2-9d69-4c2b-a614-45f219e8c8e5",
   "metadata": {},
   "outputs": [],
   "source": [
    "# in this way if there are thousand of tasks then we have to make thousands line of codes. which is not possible"
   ]
  },
  {
   "cell_type": "code",
   "execution_count": 34,
   "id": "c33fdf83-ee50-4525-bbdd-87def74e6698",
   "metadata": {},
   "outputs": [],
   "source": [
    "# although this is a repetative tasks for me"
   ]
  },
  {
   "cell_type": "raw",
   "id": "dc421a4a-35f3-48e8-8782-e1b7d488d0a1",
   "metadata": {},
   "source": [
    "another method which is easier from the above "
   ]
  },
  {
   "cell_type": "code",
   "execution_count": 37,
   "id": "c079d68e-a607-464c-b8e7-2cccb2e912d7",
   "metadata": {},
   "outputs": [],
   "source": [
    "def find_time(func) :\n",
    "    def cal_time() :\n",
    "        start_time = time.time()\n",
    "        func()\n",
    "        end_time = time.time()\n",
    "        total_time = end_time - start_time\n",
    "        print(total_time)\n",
    "        \n",
    "    return cal_time"
   ]
  },
  {
   "cell_type": "code",
   "execution_count": 36,
   "id": "4171cba4-728c-4cee-9da0-11c23418e5ea",
   "metadata": {},
   "outputs": [],
   "source": [
    "# now from the above function, if someone calls the time calculations"
   ]
  },
  {
   "cell_type": "code",
   "execution_count": 38,
   "id": "f88be34f-6008-4879-a9c7-0bc0e5f9d7f3",
   "metadata": {},
   "outputs": [],
   "source": [
    "@find_time # using decorator\n",
    "def print_key(d) :\n",
    "    print(d.keys())"
   ]
  },
  {
   "cell_type": "code",
   "execution_count": 39,
   "id": "9ecfc688-7bce-4923-943a-a9e9a849813d",
   "metadata": {},
   "outputs": [
    {
     "ename": "TypeError",
     "evalue": "find_time.<locals>.cal_time() takes 0 positional arguments but 1 was given",
     "output_type": "error",
     "traceback": [
      "\u001b[0;31m---------------------------------------------------------------------------\u001b[0m",
      "\u001b[0;31mTypeError\u001b[0m                                 Traceback (most recent call last)",
      "Cell \u001b[0;32mIn[39], line 1\u001b[0m\n\u001b[0;32m----> 1\u001b[0m \u001b[43mprint_key\u001b[49m\u001b[43m(\u001b[49m\u001b[43m{\u001b[49m\u001b[38;5;124;43m\"\u001b[39;49m\u001b[38;5;124;43mkey\u001b[39;49m\u001b[38;5;124;43m\"\u001b[39;49m\u001b[43m:\u001b[49m\u001b[38;5;124;43m\"\u001b[39;49m\u001b[38;5;124;43mvalue\u001b[39;49m\u001b[38;5;124;43m\"\u001b[39;49m\u001b[43m,\u001b[49m\u001b[43m \u001b[49m\u001b[38;5;124;43m\"\u001b[39;49m\u001b[38;5;124;43mname\u001b[39;49m\u001b[38;5;124;43m\"\u001b[39;49m\u001b[43m:\u001b[49m\u001b[38;5;124;43m\"\u001b[39;49m\u001b[38;5;124;43mdibu\u001b[39;49m\u001b[38;5;124;43m\"\u001b[39;49m\u001b[43m}\u001b[49m\u001b[43m)\u001b[49m\n",
      "\u001b[0;31mTypeError\u001b[0m: find_time.<locals>.cal_time() takes 0 positional arguments but 1 was given"
     ]
    }
   ],
   "source": [
    "print_key({\"key\":\"value\", \"name\":\"dibu\"})"
   ]
  },
  {
   "cell_type": "code",
   "execution_count": 40,
   "id": "e5a7d3ce-b4b4-471a-8335-01c11e8239c7",
   "metadata": {},
   "outputs": [],
   "source": [
    "# solving this error, we need to pass the positional arguments of the func() and the cal_time(). and the parameter needs to be the same"
   ]
  },
  {
   "cell_type": "code",
   "execution_count": 41,
   "id": "d0dce603-73e4-4d05-85a0-d5b5b9979c14",
   "metadata": {},
   "outputs": [],
   "source": [
    "def find_time(func) :\n",
    "    def cal_time(*args) :\n",
    "        start_time = time.time()\n",
    "        func(*args)\n",
    "        end_time = time.time()\n",
    "        total_time = end_time - start_time\n",
    "        print(total_time)\n",
    "        \n",
    "    return cal_time"
   ]
  },
  {
   "cell_type": "code",
   "execution_count": 42,
   "id": "0dfea09a-eb0a-4bfc-b0ff-262e31c3091d",
   "metadata": {},
   "outputs": [],
   "source": [
    "@find_time # using decorator\n",
    "def print_key(d) :\n",
    "    print(d.keys())"
   ]
  },
  {
   "cell_type": "code",
   "execution_count": 43,
   "id": "ae5cafc0-8890-413f-9a2c-f41c5f121244",
   "metadata": {},
   "outputs": [
    {
     "name": "stdout",
     "output_type": "stream",
     "text": [
      "dict_keys(['key', 'name'])\n",
      "6.127357482910156e-05\n"
     ]
    }
   ],
   "source": [
    "print_key({\"key\":\"value\", \"name\":\"dibu\"})"
   ]
  },
  {
   "cell_type": "code",
   "execution_count": 44,
   "id": "412f1c42-945d-41ca-8d80-9df7fa5ddc4f",
   "metadata": {},
   "outputs": [],
   "source": [
    "# on another function\n",
    "\n",
    "@find_time\n",
    "def print_list(l) :\n",
    "    for i in l :\n",
    "        print(i)"
   ]
  },
  {
   "cell_type": "code",
   "execution_count": 45,
   "id": "7d7e997a-3385-48b6-b6ce-9612bac52b6d",
   "metadata": {},
   "outputs": [
    {
     "name": "stdout",
     "output_type": "stream",
     "text": [
      "3\n",
      "5\n",
      "6\n",
      "3\n",
      "4\n",
      "2\n",
      "1\n",
      "8\n",
      "9.393692016601562e-05\n"
     ]
    }
   ],
   "source": [
    "print_list([3,5,6,3,4,2,1,8])"
   ]
  },
  {
   "cell_type": "code",
   "execution_count": 46,
   "id": "20d7587e-f2c1-4d6b-b02b-86caf7f0d36a",
   "metadata": {},
   "outputs": [],
   "source": [
    "## Performing logging with the help of the decorator"
   ]
  },
  {
   "cell_type": "code",
   "execution_count": 1,
   "id": "5f03b072-1b8a-4430-9d27-f4894e14ac6a",
   "metadata": {},
   "outputs": [],
   "source": [
    "import logging\n",
    "def log_fun(func) :\n",
    "    def log_inner(*args) :\n",
    "        logging.basicConfig(filename=\"test_001.log\", level=logging.INFO)\n",
    "        logging.info(\"this is the start of my function\")\n",
    "        func(*args)\n",
    "        logging.info(\"this is the end of my func\")\n",
    "    return log_inner"
   ]
  },
  {
   "cell_type": "code",
   "execution_count": 2,
   "id": "574698a1-2751-42d4-b557-9bb85a67817e",
   "metadata": {},
   "outputs": [],
   "source": [
    "@log_fun\n",
    "def print_list(l) :\n",
    "    for i in l :\n",
    "        print(i)"
   ]
  },
  {
   "cell_type": "code",
   "execution_count": 3,
   "id": "c086bf2b-357b-43e7-ad92-ef5b421274fb",
   "metadata": {},
   "outputs": [
    {
     "name": "stdout",
     "output_type": "stream",
     "text": [
      "3\n",
      "5\n",
      "6\n",
      "3\n",
      "4\n",
      "2\n",
      "1\n",
      "8\n"
     ]
    }
   ],
   "source": [
    "print_list([3,5,6,3,4,2,1,8])"
   ]
  },
  {
   "cell_type": "code",
   "execution_count": null,
   "id": "a60b64fe-1bf9-472e-b60b-33329fc516ce",
   "metadata": {},
   "outputs": [],
   "source": []
  }
 ],
 "metadata": {
  "kernelspec": {
   "display_name": "Python 3 (ipykernel)",
   "language": "python",
   "name": "python3"
  },
  "language_info": {
   "codemirror_mode": {
    "name": "ipython",
    "version": 3
   },
   "file_extension": ".py",
   "mimetype": "text/x-python",
   "name": "python",
   "nbconvert_exporter": "python",
   "pygments_lexer": "ipython3",
   "version": "3.10.8"
  }
 },
 "nbformat": 4,
 "nbformat_minor": 5
}
