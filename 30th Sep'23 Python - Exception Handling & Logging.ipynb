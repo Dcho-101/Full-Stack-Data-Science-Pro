{
 "cells": [
  {
   "cell_type": "markdown",
   "id": "aa43883f-771e-4733-9c8d-d562ae883b2e",
   "metadata": {},
   "source": [
    "# 30th Sep'23 : Python - Exception Handling & Logging"
   ]
  },
  {
   "cell_type": "markdown",
   "id": "7a1ba3ed-1eeb-4bfc-b4df-0b93e55e7945",
   "metadata": {},
   "source": [
    "#### from today we will use this exception handling "
   ]
  },
  {
   "cell_type": "code",
   "execution_count": 1,
   "id": "55b7deb5-b560-4ba4-9ea2-21b039afd406",
   "metadata": {},
   "outputs": [],
   "source": [
    "a = 10\n",
    "b = 0"
   ]
  },
  {
   "cell_type": "code",
   "execution_count": 2,
   "id": "56691180-ccdc-4ec7-a176-b6a240fcf9e6",
   "metadata": {},
   "outputs": [
    {
     "ename": "ZeroDivisionError",
     "evalue": "division by zero",
     "output_type": "error",
     "traceback": [
      "\u001b[0;31m---------------------------------------------------------------------------\u001b[0m",
      "\u001b[0;31mZeroDivisionError\u001b[0m                         Traceback (most recent call last)",
      "Cell \u001b[0;32mIn[2], line 1\u001b[0m\n\u001b[0;32m----> 1\u001b[0m \u001b[43ma\u001b[49m\u001b[38;5;241;43m/\u001b[39;49m\u001b[43mb\u001b[49m\n",
      "\u001b[0;31mZeroDivisionError\u001b[0m: division by zero"
     ]
    }
   ],
   "source": [
    "a/b"
   ]
  },
  {
   "cell_type": "code",
   "execution_count": 5,
   "id": "c2d28f48-965b-4277-bcf8-582e65e5a120",
   "metadata": {},
   "outputs": [],
   "source": [
    "l = [4,5,6,7,8,9,0]\n",
    "\n",
    "l1 = []\n",
    "\n",
    "# extracting a code for even number\n",
    "\n",
    "def even_parser(l) :\n",
    "    for i in l :\n",
    "        if i%2 == 0 :\n",
    "            l1.append(i)\n",
    "            \n",
    "    return l1"
   ]
  },
  {
   "cell_type": "code",
   "execution_count": 6,
   "id": "81e4c811-b1d2-474c-b9d9-ff98a68f51f1",
   "metadata": {},
   "outputs": [
    {
     "data": {
      "text/plain": [
       "[4, 6, 8, 0]"
      ]
     },
     "execution_count": 6,
     "metadata": {},
     "output_type": "execute_result"
    }
   ],
   "source": [
    "even_parser(l)"
   ]
  },
  {
   "cell_type": "code",
   "execution_count": 7,
   "id": "60a1a608-57f2-403e-9e3d-7d142b58c178",
   "metadata": {},
   "outputs": [
    {
     "ename": "TypeError",
     "evalue": "not all arguments converted during string formatting",
     "output_type": "error",
     "traceback": [
      "\u001b[0;31m---------------------------------------------------------------------------\u001b[0m",
      "\u001b[0;31mTypeError\u001b[0m                                 Traceback (most recent call last)",
      "Cell \u001b[0;32mIn[7], line 3\u001b[0m\n\u001b[1;32m      1\u001b[0m \u001b[38;5;66;03m# but\u001b[39;00m\n\u001b[0;32m----> 3\u001b[0m \u001b[43meven_parser\u001b[49m\u001b[43m(\u001b[49m\u001b[38;5;124;43m'\u001b[39;49m\u001b[38;5;124;43mdibyendu\u001b[39;49m\u001b[38;5;124;43m'\u001b[39;49m\u001b[43m)\u001b[49m\n",
      "Cell \u001b[0;32mIn[5], line 9\u001b[0m, in \u001b[0;36meven_parser\u001b[0;34m(l)\u001b[0m\n\u001b[1;32m      7\u001b[0m \u001b[38;5;28;01mdef\u001b[39;00m \u001b[38;5;21meven_parser\u001b[39m(l) :\n\u001b[1;32m      8\u001b[0m     \u001b[38;5;28;01mfor\u001b[39;00m i \u001b[38;5;129;01min\u001b[39;00m l :\n\u001b[0;32m----> 9\u001b[0m         \u001b[38;5;28;01mif\u001b[39;00m \u001b[43mi\u001b[49m\u001b[38;5;241;43m%\u001b[39;49m\u001b[38;5;241;43m2\u001b[39;49m \u001b[38;5;241m==\u001b[39m \u001b[38;5;241m0\u001b[39m :\n\u001b[1;32m     10\u001b[0m             l1\u001b[38;5;241m.\u001b[39mappend(i)\n\u001b[1;32m     12\u001b[0m     \u001b[38;5;28;01mreturn\u001b[39;00m l1\n",
      "\u001b[0;31mTypeError\u001b[0m: not all arguments converted during string formatting"
     ]
    }
   ],
   "source": [
    "# but\n",
    "\n",
    "even_parser('dibyendu')"
   ]
  },
  {
   "cell_type": "code",
   "execution_count": 8,
   "id": "2f15e81f-c6d8-4cad-ae10-a5f010b89a31",
   "metadata": {},
   "outputs": [
    {
     "ename": "TypeError",
     "evalue": "'int' object is not iterable",
     "output_type": "error",
     "traceback": [
      "\u001b[0;31m---------------------------------------------------------------------------\u001b[0m",
      "\u001b[0;31mTypeError\u001b[0m                                 Traceback (most recent call last)",
      "Cell \u001b[0;32mIn[8], line 1\u001b[0m\n\u001b[0;32m----> 1\u001b[0m \u001b[43meven_parser\u001b[49m\u001b[43m(\u001b[49m\u001b[38;5;241;43m6\u001b[39;49m\u001b[43m)\u001b[49m\n",
      "Cell \u001b[0;32mIn[5], line 8\u001b[0m, in \u001b[0;36meven_parser\u001b[0;34m(l)\u001b[0m\n\u001b[1;32m      7\u001b[0m \u001b[38;5;28;01mdef\u001b[39;00m \u001b[38;5;21meven_parser\u001b[39m(l) :\n\u001b[0;32m----> 8\u001b[0m     \u001b[38;5;28;01mfor\u001b[39;00m i \u001b[38;5;129;01min\u001b[39;00m l :\n\u001b[1;32m      9\u001b[0m         \u001b[38;5;28;01mif\u001b[39;00m i\u001b[38;5;241m%\u001b[39m\u001b[38;5;241m2\u001b[39m \u001b[38;5;241m==\u001b[39m \u001b[38;5;241m0\u001b[39m :\n\u001b[1;32m     10\u001b[0m             l1\u001b[38;5;241m.\u001b[39mappend(i)\n",
      "\u001b[0;31mTypeError\u001b[0m: 'int' object is not iterable"
     ]
    }
   ],
   "source": [
    "even_parser(6)"
   ]
  },
  {
   "cell_type": "markdown",
   "id": "7ac41860-fd6b-45eb-b573-872a5bf03eb7",
   "metadata": {},
   "source": [
    "so we need to write a code such a way that don't return error and returns output after facing the error value."
   ]
  },
  {
   "cell_type": "code",
   "execution_count": 11,
   "id": "cad81b05-e62f-42b3-9603-7291302a3467",
   "metadata": {},
   "outputs": [
    {
     "name": "stdin",
     "output_type": "stream",
     "text": [
      "Enter a value:  6\n",
      "Enter a value:  0\n"
     ]
    },
    {
     "name": "stdout",
     "output_type": "stream",
     "text": [
      "Error! division by zero\n"
     ]
    }
   ],
   "source": [
    "try :\n",
    "    a = int(input(\"Enter a value: \"))\n",
    "    b = int(input(\"Enter a value: \"))\n",
    "    c = a/b\n",
    "    print(c)\n",
    "    \n",
    "except Exception as e :\n",
    "    print(f\"Error! {e}\")"
   ]
  },
  {
   "cell_type": "code",
   "execution_count": 14,
   "id": "ff11fe7c-5843-4198-9d67-dd67c5b2753c",
   "metadata": {},
   "outputs": [],
   "source": [
    "# doing the same function with exception handling\n",
    "\n",
    "l = [4,5,6,7,8,9,0]\n",
    "\n",
    "l1 = []\n",
    "\n",
    "# extracting a code for even number\n",
    "   \n",
    "def even_parser(l) :\n",
    "    try :\n",
    "        \n",
    "        for i in l :\n",
    "            if i%2 == 0 :\n",
    "                l1.append(i)\n",
    "\n",
    "        return l1\n",
    "    \n",
    "    except Exception as e :\n",
    "        print(f\"Error! {e}\")"
   ]
  },
  {
   "cell_type": "code",
   "execution_count": 15,
   "id": "af29d679-490a-4394-a0af-bc137545e43c",
   "metadata": {},
   "outputs": [
    {
     "name": "stdout",
     "output_type": "stream",
     "text": [
      "Error! not all arguments converted during string formatting\n"
     ]
    }
   ],
   "source": [
    "even_parser('sudh')"
   ]
  },
  {
   "cell_type": "markdown",
   "id": "b19c4681-1c6d-4347-9f77-7eef7717e261",
   "metadata": {},
   "source": [
    "there are 4 blocks. 1) try, 2) except, 3) else, 4) finally"
   ]
  },
  {
   "cell_type": "code",
   "execution_count": 16,
   "id": "63642b7d-3d5e-41da-a8b3-50f5be9906ea",
   "metadata": {},
   "outputs": [
    {
     "name": "stdout",
     "output_type": "stream",
     "text": [
      "This will execute itself once try will execute without an error\n",
      "This will be executed always\n"
     ]
    }
   ],
   "source": [
    "try : \n",
    "    x = 5/1\n",
    "    \n",
    "except ZeroDivisionError as z :\n",
    "    print(z)\n",
    "    \n",
    "else :\n",
    "    print(\"This will execute itself once try will execute without an error\")\n",
    "    \n",
    "finally :\n",
    "    print(\"This will be executed always\")"
   ]
  },
  {
   "cell_type": "code",
   "execution_count": 17,
   "id": "895cd361-a6c4-47eb-a5f8-0721d573c30d",
   "metadata": {},
   "outputs": [
    {
     "name": "stdout",
     "output_type": "stream",
     "text": [
      "division by zero\n",
      "This will be executed always\n"
     ]
    }
   ],
   "source": [
    "# Similarly\n",
    "try : \n",
    "    x = 5/0\n",
    "    \n",
    "except ZeroDivisionError as z :\n",
    "    print(z)\n",
    "    \n",
    "else :\n",
    "    print(\"This will execute itself once try will execute without an error\")\n",
    "    \n",
    "finally :\n",
    "    print(\"This will be executed always\")"
   ]
  },
  {
   "cell_type": "markdown",
   "id": "05ba9e49-e356-48a8-afdf-55ae2ce0050d",
   "metadata": {},
   "source": [
    "### EXAMPLES"
   ]
  },
  {
   "cell_type": "code",
   "execution_count": 18,
   "id": "2672cb77-e67b-4bd8-bbe0-4fa38ea8d0bf",
   "metadata": {},
   "outputs": [
    {
     "ename": "KeyError",
     "evalue": "'course'",
     "output_type": "error",
     "traceback": [
      "\u001b[0;31m---------------------------------------------------------------------------\u001b[0m",
      "\u001b[0;31mKeyError\u001b[0m                                  Traceback (most recent call last)",
      "Cell \u001b[0;32mIn[18], line 2\u001b[0m\n\u001b[1;32m      1\u001b[0m d \u001b[38;5;241m=\u001b[39m {\u001b[38;5;124m\"\u001b[39m\u001b[38;5;124mname\u001b[39m\u001b[38;5;124m\"\u001b[39m : \u001b[38;5;124m\"\u001b[39m\u001b[38;5;124msudh\u001b[39m\u001b[38;5;124m\"\u001b[39m, \u001b[38;5;124m\"\u001b[39m\u001b[38;5;124mmobile_no\u001b[39m\u001b[38;5;124m\"\u001b[39m : \u001b[38;5;241m242564\u001b[39m, \u001b[38;5;124m\"\u001b[39m\u001b[38;5;124memail_id\u001b[39m\u001b[38;5;124m\"\u001b[39m : \u001b[38;5;124m\"\u001b[39m\u001b[38;5;124msudh@gmail.com\u001b[39m\u001b[38;5;124m\"\u001b[39m}\n\u001b[0;32m----> 2\u001b[0m \u001b[43md\u001b[49m\u001b[43m[\u001b[49m\u001b[38;5;124;43m'\u001b[39;49m\u001b[38;5;124;43mcourse\u001b[39;49m\u001b[38;5;124;43m'\u001b[39;49m\u001b[43m]\u001b[49m\n",
      "\u001b[0;31mKeyError\u001b[0m: 'course'"
     ]
    }
   ],
   "source": [
    "d = {\"name\" : \"sudh\", \"mobile_no\" : 242564, \"email_id\" : \"sudh@gmail.com\"}\n",
    "d['course']"
   ]
  },
  {
   "cell_type": "markdown",
   "id": "3b9c0448-af02-4c50-af34-eede91cdd933",
   "metadata": {},
   "source": [
    "this error can be solved by "
   ]
  },
  {
   "cell_type": "code",
   "execution_count": 21,
   "id": "b388514e-75bc-4493-9bf8-a62e1e8a0026",
   "metadata": {},
   "outputs": [
    {
     "name": "stdout",
     "output_type": "stream",
     "text": [
      "Error! 'course', this is a key error\n"
     ]
    }
   ],
   "source": [
    "try :\n",
    "    d = {\"name\" : \"sudh\", \"mobile_no\" : 242564, \"email_id\" : \"sudh@gmail.com\"}\n",
    "    d['course']\n",
    "except Exception as e :\n",
    "    print(f\"Error! {e}, this is a key error\")"
   ]
  },
  {
   "cell_type": "markdown",
   "id": "945b3843-02fa-459c-853a-f944eb8c3e0f",
   "metadata": {},
   "source": [
    "another example"
   ]
  },
  {
   "cell_type": "code",
   "execution_count": 22,
   "id": "1bd48496-787b-427f-b14e-2ed9878bc8cd",
   "metadata": {},
   "outputs": [
    {
     "ename": "IndexError",
     "evalue": "list index out of range",
     "output_type": "error",
     "traceback": [
      "\u001b[0;31m---------------------------------------------------------------------------\u001b[0m",
      "\u001b[0;31mIndexError\u001b[0m                                Traceback (most recent call last)",
      "Cell \u001b[0;32mIn[22], line 2\u001b[0m\n\u001b[1;32m      1\u001b[0m l \u001b[38;5;241m=\u001b[39m [\u001b[38;5;241m4\u001b[39m,\u001b[38;5;241m5\u001b[39m,\u001b[38;5;241m6\u001b[39m,\u001b[38;5;241m7\u001b[39m,\u001b[38;5;241m8\u001b[39m,\u001b[38;5;241m9\u001b[39m]\n\u001b[0;32m----> 2\u001b[0m \u001b[43ml\u001b[49m\u001b[43m[\u001b[49m\u001b[38;5;241;43m10\u001b[39;49m\u001b[43m]\u001b[49m\n",
      "\u001b[0;31mIndexError\u001b[0m: list index out of range"
     ]
    }
   ],
   "source": [
    "l = [4,5,6,7,8,9]\n",
    "l[10]"
   ]
  },
  {
   "cell_type": "markdown",
   "id": "1cb8a39f-c616-43a5-a52c-188c299aa204",
   "metadata": {},
   "source": [
    "Solve"
   ]
  },
  {
   "cell_type": "code",
   "execution_count": 24,
   "id": "385b7d00-3316-4b06-9fec-484d0990d15b",
   "metadata": {},
   "outputs": [
    {
     "name": "stdout",
     "output_type": "stream",
     "text": [
      "Error! list index out of range\n"
     ]
    }
   ],
   "source": [
    "try :\n",
    "    l = [4,5,6,7,8,9]\n",
    "    l[10]\n",
    "except Exception as e :\n",
    "    print(f\"Error! {e}\")"
   ]
  },
  {
   "cell_type": "code",
   "execution_count": 25,
   "id": "21f927e9-80a3-4d14-a16f-6df9f69c8940",
   "metadata": {},
   "outputs": [
    {
     "data": {
      "text/plain": [
       "'/home/jovyan/work'"
      ]
     },
     "execution_count": 25,
     "metadata": {},
     "output_type": "execute_result"
    }
   ],
   "source": [
    "pwd # for present working directory"
   ]
  },
  {
   "cell_type": "code",
   "execution_count": 28,
   "id": "7f4c15bb-2fa7-47ae-b04a-0119c71017cc",
   "metadata": {},
   "outputs": [
    {
     "name": "stdout",
     "output_type": "stream",
     "text": [
      "\"02nd Sep'23  Operators.ipynb\"\n",
      "\"09th Sept '23  Python - Introduction to functions.ipynb\"\n",
      "\"10 Sep'23 Python - Lambda Functions.ipynb\"\n",
      "'16th Sep'\\''23 Python - Conditional Statement & loops.ipynb'\n",
      "\"17th Sept'23 For loop , lambda , map , reduce ,filter , recursion.ipynb\"\n",
      "\"19th Aug'23  Python Basics.ipynb\"\n",
      "\" 20th Aug'23 Python basicdata types.ipynb\"\n",
      "'23rd Sept Python - While Loop , break.ipynb'\n",
      "'24th Sept Python - For loop functions.ipynb'\n",
      "'30th Sep'\\''23 Python - Exception Handling & Logging.ipynb'\n",
      "\"3rd Sep'23 Operators and Control flow.ipynb\"\n",
      " README.md\n",
      " sample-code.ipynb\n"
     ]
    }
   ],
   "source": [
    "ls "
   ]
  },
  {
   "cell_type": "code",
   "execution_count": 27,
   "id": "8f39f73b-3c84-468e-abe8-2266427b281a",
   "metadata": {},
   "outputs": [
    {
     "name": "stdout",
     "output_type": "stream",
     "text": [
      "total 284\n",
      "-rw-r--r-- 1 jovyan users 13842 May  6 05:42 \"02nd Sep'23  Operators.ipynb\"\n",
      "-rw-r--r-- 1 jovyan users 20180 May  8 07:29 \"09th Sept '23  Python - Introduction to functions.ipynb\"\n",
      "-rw-r--r-- 1 jovyan users 28304 May 11 16:57 \"10 Sep'23 Python - Lambda Functions.ipynb\"\n",
      "-rw-r--r-- 1 jovyan users  5247 May 12 07:39 '16th Sep'\\''23 Python - Conditional Statement & loops.ipynb'\n",
      "-rw-r--r-- 1 jovyan users 42437 May 13 09:26 \"17th Sept'23 For loop , lambda , map , reduce ,filter , recursion.ipynb\"\n",
      "-rw-r--r-- 1 jovyan users 32359 May  3 10:22 \"19th Aug'23  Python Basics.ipynb\"\n",
      "-rw-r--r-- 1 jovyan users 47503 May  4 08:45 \" 20th Aug'23 Python basicdata types.ipynb\"\n",
      "-rw-r--r-- 1 jovyan users 21622 May 17 08:46 '23rd Sept Python - While Loop , break.ipynb'\n",
      "-rw-r--r-- 1 jovyan users 18995 May 20 06:51 '24th Sept Python - For loop functions.ipynb'\n",
      "-rw-r--r-- 1 jovyan users 13354 May 25 09:16 '30th Sep'\\''23 Python - Exception Handling & Logging.ipynb'\n",
      "-rw-r--r-- 1 jovyan users 19283 May  6 09:17 \"3rd Sep'23 Operators and Control flow.ipynb\"\n",
      "-rw-r--r-- 1 jovyan users   198 May  3 06:21  README.md\n",
      "-rw-r--r-- 1 jovyan users  3151 May  3 06:21  sample-code.ipynb\n"
     ]
    }
   ],
   "source": [
    "ls -l"
   ]
  },
  {
   "cell_type": "markdown",
   "id": "3ad39a26-10de-42e0-be17-66f4ae9c57a0",
   "metadata": {},
   "source": [
    "if you are using windows and you want to go to a folder and access a file, there are two methods. 1) use double forward slash (//) or 2) use backword slash (\\)"
   ]
  },
  {
   "cell_type": "code",
   "execution_count": 30,
   "id": "0fac9382-6d98-4620-830b-eb74c39bbc04",
   "metadata": {},
   "outputs": [
    {
     "name": "stdout",
     "output_type": "stream",
     "text": [
      "[Errno 2] No such file or directory: '# change directory'\n",
      "/home/jovyan\n"
     ]
    }
   ],
   "source": [
    "cd # change directory"
   ]
  },
  {
   "cell_type": "code",
   "execution_count": 32,
   "id": "e93e65cf-286f-431d-b7ad-fe8ef661acce",
   "metadata": {},
   "outputs": [
    {
     "ename": "SyntaxError",
     "evalue": "invalid syntax (3261114041.py, line 3)",
     "output_type": "error",
     "traceback": [
      "\u001b[0;36m  Cell \u001b[0;32mIn[32], line 3\u001b[0;36m\u001b[0m\n\u001b[0;31m    cd ..\u001b[0m\n\u001b[0m        ^\u001b[0m\n\u001b[0;31mSyntaxError\u001b[0m\u001b[0;31m:\u001b[0m invalid syntax\n"
     ]
    }
   ],
   "source": [
    "# going out form a directory \n",
    "\n",
    "cd .."
   ]
  },
  {
   "cell_type": "code",
   "execution_count": 34,
   "id": "371c0b2d-bca0-4752-9f5a-90ec76ba29d8",
   "metadata": {},
   "outputs": [
    {
     "name": "stdin",
     "output_type": "stream",
     "text": [
      "Enter a number :  0\n"
     ]
    },
    {
     "name": "stdout",
     "output_type": "stream",
     "text": [
      "division by zero\n"
     ]
    }
   ],
   "source": [
    "# multiple error situation\n",
    "\n",
    "try :\n",
    "    n = int(input(\"Enter a number : \"))\n",
    "    div = 342/n\n",
    "    print(div)\n",
    "    \n",
    "except ValueError as v :\n",
    "    print(v)\n",
    "    \n",
    "except ZeroDivisionError as z :\n",
    "    print(z)"
   ]
  },
  {
   "cell_type": "code",
   "execution_count": 35,
   "id": "3d0e34ec-a4b5-4212-ae8d-5ef2afeacdb5",
   "metadata": {},
   "outputs": [
    {
     "name": "stdin",
     "output_type": "stream",
     "text": [
      "Enter a number :  0\n"
     ]
    },
    {
     "name": "stdout",
     "output_type": "stream",
     "text": [
      "user enter a 0 or invald input\n"
     ]
    }
   ],
   "source": [
    "# we can try the code like this\n",
    "\n",
    "try :\n",
    "    n = int(input(\"Enter a number : \"))\n",
    "    div = 342/n\n",
    "    print(div)\n",
    "    \n",
    "except(ValueError, ZeroDivisionError) :\n",
    "    print(f\"user enter a 0 or invald input\")"
   ]
  },
  {
   "cell_type": "markdown",
   "id": "a9fbafba-31b4-474f-9e4c-514a241b0b70",
   "metadata": {},
   "source": [
    "### CUSTOM EXCEPTION"
   ]
  },
  {
   "cell_type": "code",
   "execution_count": 36,
   "id": "123f8e25-2d4f-4dfb-bf1a-cd5c340b1931",
   "metadata": {},
   "outputs": [
    {
     "name": "stdin",
     "output_type": "stream",
     "text": [
      "Enter age:  -15\n"
     ]
    },
    {
     "name": "stdout",
     "output_type": "stream",
     "text": [
      "Age cannot be negative\n"
     ]
    }
   ],
   "source": [
    "try :\n",
    "    a = int(input(\"Enter age: \"))\n",
    "    \n",
    "    if a < 0 :\n",
    "        raise ValueError(\"Age cannot be negative\")\n",
    "        \n",
    "except Exception as e :\n",
    "    print(e)"
   ]
  },
  {
   "cell_type": "markdown",
   "id": "8d0e8fd3-fa24-454b-b9a4-6a394528b94d",
   "metadata": {},
   "source": [
    "ANOTHER EXAMPLE"
   ]
  },
  {
   "cell_type": "code",
   "execution_count": 39,
   "id": "1a4c825b-c7e6-4910-80a4-b55841adde9a",
   "metadata": {},
   "outputs": [
    {
     "name": "stdin",
     "output_type": "stream",
     "text": [
      "Enter your age:  -12\n"
     ]
    },
    {
     "name": "stdout",
     "output_type": "stream",
     "text": [
      "user has entered negative value as age\n"
     ]
    }
   ],
   "source": [
    "try :\n",
    "    age = int(input(\"Enter your age: \"))\n",
    "    if age < 0 :\n",
    "        raise ValueError(\"user has entered negative value as age\")\n",
    "    elif age < 18 :\n",
    "        raise(\"user is underage\")\n",
    "        \n",
    "    else :\n",
    "        print(\"Valid user\")\n",
    "        \n",
    "except Exception as e :\n",
    "    print(e)"
   ]
  },
  {
   "cell_type": "markdown",
   "id": "b71f5d1b-2324-4479-a648-d818e159b5f0",
   "metadata": {},
   "source": [
    "# Logging"
   ]
  },
  {
   "cell_type": "code",
   "execution_count": 2,
   "id": "a21292e8-9998-4fb5-89cb-d83b5d97434d",
   "metadata": {},
   "outputs": [],
   "source": [
    "# from now we have to use the logging and exception handling. this is essential for coding if there is someone is telling to do or not"
   ]
  },
  {
   "cell_type": "markdown",
   "id": "5bf4c0c7-dc83-4d84-a5b8-2ff1494a1ffd",
   "metadata": {},
   "source": [
    "- Why need this?"
   ]
  },
  {
   "cell_type": "code",
   "execution_count": 3,
   "id": "f3931c8c-ed22-4cce-90c7-d5e1c8d407c3",
   "metadata": {},
   "outputs": [],
   "source": [
    "# if we need to know if there are any error found in the code or input data, then how we can be able to find if we dont know where the code mistake or \n",
    "# input data mistake was happen! \n",
    "# also it can be happen that from other investigation teem came to check the error, then hoiw they will find!\n",
    "\n",
    "# we can see this like when any app crashed we can be able to see the popup that \"send error report\" like. that is a part of logging. "
   ]
  },
  {
   "cell_type": "code",
   "execution_count": 4,
   "id": "029248d7-e1a0-41f5-8c09-2d16330b145a",
   "metadata": {},
   "outputs": [],
   "source": [
    "# so the logginng is the way to store the messsages in some file system"
   ]
  },
  {
   "cell_type": "code",
   "execution_count": 5,
   "id": "2f14779f-dc2a-427a-9447-e05447a87b79",
   "metadata": {},
   "outputs": [],
   "source": [
    "# in a production grade system, the logging and exception handling is a must"
   ]
  },
  {
   "cell_type": "code",
   "execution_count": 1,
   "id": "30b57c71-307f-4e5f-ad15-e51487953f17",
   "metadata": {},
   "outputs": [],
   "source": [
    "import logging as log"
   ]
  },
  {
   "cell_type": "code",
   "execution_count": 2,
   "id": "283439da-4961-4f5f-b902-3f637f074aa5",
   "metadata": {},
   "outputs": [],
   "source": [
    "# logging helps to store data in some file system, so we need to create a file first"
   ]
  },
  {
   "cell_type": "code",
   "execution_count": 3,
   "id": "2ced03b1-bea4-4442-856e-f1802c351e0c",
   "metadata": {},
   "outputs": [],
   "source": [
    "log.basicConfig(filename = 'test.log', level = log.INFO) # giving file name or creating a file named as test.log\n",
    "# base or default is given info. "
   ]
  },
  {
   "cell_type": "code",
   "execution_count": 4,
   "id": "0111c7d8-43ed-458c-ad57-ac4271411d3a",
   "metadata": {},
   "outputs": [],
   "source": [
    "# this helps to create a log file in present working directory "
   ]
  },
  {
   "cell_type": "code",
   "execution_count": 6,
   "id": "5a3c28c6-5dc6-4a19-9a29-f4dddae33fd4",
   "metadata": {},
   "outputs": [],
   "source": [
    "log.info('store a message') # it helps to store the message"
   ]
  },
  {
   "cell_type": "code",
   "execution_count": 9,
   "id": "25e12c04-2bf3-40bc-b38d-bcab30e34853",
   "metadata": {},
   "outputs": [],
   "source": [
    "# there are five levels in logging in python\n",
    "# suppse as numerical level the debug is 10, info is 20, warning 30, error 40, critical 50\n",
    "# 1. DEBUG level (only capture debug)\n",
    "# 2. INFO level (capture debug as well as info)\n",
    "# 3. WARNING level (upto warning)\n",
    "# 4. ERROR level (upto error from debug)\n",
    "# 5. CRITICAL level (all)"
   ]
  },
  {
   "cell_type": "code",
   "execution_count": 10,
   "id": "8d3f7b25-781f-4eb7-952e-2c0afb080029",
   "metadata": {},
   "outputs": [],
   "source": [
    "# depend upon the information we are able to store. \n",
    "# if any system is running 24x7, it ends up generating billions of logging, so the tagging helps to identify the logging as info, warning or critical.\n",
    "\n",
    "# here level of the log is given info. \n",
    "\n",
    "# if we set the level of the log is info then the debug logging can not be able to show the logging because the debug level is lower than info. \n",
    "\n",
    "# but, warning, error and critical logging can be shown in this log"
   ]
  },
  {
   "cell_type": "code",
   "execution_count": 11,
   "id": "1e8bf32a-8ec7-459f-b135-031b1d400a72",
   "metadata": {},
   "outputs": [],
   "source": [
    "# for example\n",
    "\n",
    "log.debug(\"this is a debug message\")\n",
    "\n",
    "log.warning(\"this is a warning message\")\n",
    "\n",
    "log.error(\"this is a error message\")\n",
    "\n",
    "log.critical(\"this is a critical message\")"
   ]
  },
  {
   "cell_type": "code",
   "execution_count": 12,
   "id": "226ddf4b-7a4e-4490-a295-4dda2484d628",
   "metadata": {},
   "outputs": [],
   "source": [
    "# we can ses in the lest.log file that the debug log is missing, rest logs are shown. "
   ]
  },
  {
   "cell_type": "code",
   "execution_count": 1,
   "id": "116ca144-c990-49d4-8a2e-eab0071645bf",
   "metadata": {},
   "outputs": [
    {
     "name": "stdin",
     "output_type": "stream",
     "text": [
      "Enter your age:  -455\n"
     ]
    }
   ],
   "source": [
    "# now doing this with a code\n",
    "# first we need to import logging\n",
    "\n",
    "import logging\n",
    "\n",
    "# setting basic configuration\n",
    "\n",
    "logging.basicConfig(filename='trytest.log', level=logging.DEBUG) # giving the file name is trytest, and the level is set to debug or basic level.\n",
    "\n",
    "\n",
    "try :\n",
    "    # before starting the code, i can try to store the messsage\n",
    "    \n",
    "    logging.info('this is the start point of my program')\n",
    "    \n",
    "    logging.info('asking user to enter age')\n",
    "    \n",
    "    age = int(input(\"Enter your age: \"))\n",
    "    \n",
    "    logging.info(\"user has entered the age\")\n",
    "    \n",
    "    logging.info(f\"user has entered {age} as age\")\n",
    "    \n",
    "    if age < 0 :\n",
    "        # here also we can store information\n",
    "        \n",
    "        logging.info(\"I am checking the negative condition\")\n",
    "        \n",
    "        raise ValueError(\"user has entered negative value as age\")\n",
    "    elif age < 18 :\n",
    "        \n",
    "        logging.info(\"I am checking of the person is underage or not\")\n",
    "        \n",
    "        raise(\"user is underage\")\n",
    "        \n",
    "    else :\n",
    "        logging.info(\"Valid user\")\n",
    "        \n",
    "except Exception as e :\n",
    "    logging.error(e)\n",
    "    \n",
    "# this helps to trace the code in each line for understanding the intensity of the code and can track record of the data.\n",
    "# the valid user or error can also be stored internally"
   ]
  },
  {
   "cell_type": "code",
   "execution_count": 2,
   "id": "1265d25e-e0d2-49e5-a985-212412e5dde5",
   "metadata": {},
   "outputs": [],
   "source": [
    "#  for the above code, these are the output\n",
    "\n",
    "# INFO:root:this is the start point of my program\n",
    "# INFO:root:asking user to enter age\n",
    "# INFO:root:user has entered the age\n",
    "# INFO:root:user has entered -2445 as age\n",
    "# INFO:root:I am checking the negative condition\n",
    "# ERROR:root:user has entered negative value as age"
   ]
  },
  {
   "cell_type": "code",
   "execution_count": 1,
   "id": "ec7b7cbc-3730-41e3-ace6-667693a23cb9",
   "metadata": {},
   "outputs": [
    {
     "name": "stdin",
     "output_type": "stream",
     "text": [
      "Enter your age:  -44\n"
     ]
    }
   ],
   "source": [
    "# we can also store time of the input as logging\n",
    "\n",
    "import logging\n",
    "\n",
    "# setting basic configuration\n",
    "\n",
    "logging.basicConfig(filename='trytest.log', level=logging.DEBUG, format = '%(asctime)s') # format is helps to store the timings and the %(asctime)s helps to store the time. \n",
    "# we dont need to memorize the time code as well.\n",
    "\n",
    "\n",
    "\n",
    "try :\n",
    "    # before starting the code, i can try to store the messsage\n",
    "    \n",
    "    logging.info('this is the start point of my program')\n",
    "    \n",
    "    logging.info('asking user to enter age')\n",
    "    \n",
    "    age = int(input(\"Enter your age: \"))\n",
    "    \n",
    "    logging.info(\"user has entered the age\")\n",
    "    \n",
    "    logging.info(f\"user has entered {age} as age\")\n",
    "    \n",
    "    if age < 0 :\n",
    "        # here also we can store information\n",
    "        \n",
    "        logging.info(\"I am checking the negative condition\")\n",
    "        \n",
    "        raise ValueError(\"user has entered negative value as age\")\n",
    "    elif age < 18 :\n",
    "        \n",
    "        logging.info(\"I am checking of the person is underage or not\")\n",
    "        \n",
    "        raise(\"user is underage\")\n",
    "        \n",
    "    else :\n",
    "        logging.info(\"Valid user\")\n",
    "        \n",
    "except Exception as e :\n",
    "    logging.error(e)"
   ]
  },
  {
   "cell_type": "code",
   "execution_count": 2,
   "id": "615d9ba4-da11-40c6-bff2-0064d91f6a13",
   "metadata": {},
   "outputs": [],
   "source": [
    "# time will show in which server the code is running, if the code run on local system then it will show the local system time as well."
   ]
  },
  {
   "cell_type": "code",
   "execution_count": 3,
   "id": "781f4260-3f7a-4c52-8cce-c1f199e58911",
   "metadata": {},
   "outputs": [
    {
     "data": {
      "text/plain": [
       "'%(asctime)s - %(message)s'"
      ]
     },
     "execution_count": 3,
     "metadata": {},
     "output_type": "execute_result"
    }
   ],
   "source": [
    "# for storing time ans message in the same time, then we need to done is \n",
    "'%(asctime)s - %(message)s'"
   ]
  },
  {
   "cell_type": "code",
   "execution_count": 1,
   "id": "6f780d16-d109-42f2-a2d9-0840581e343a",
   "metadata": {},
   "outputs": [
    {
     "name": "stdin",
     "output_type": "stream",
     "text": [
      "Enter your age:  745566985\n"
     ]
    }
   ],
   "source": [
    "# applying this in the above code\n",
    "\n",
    "\n",
    "import logging\n",
    "\n",
    "# setting basic configuration\n",
    "\n",
    "logging.basicConfig(filename='trytest.log', level=logging.DEBUG, format = '%(asctime)s - %(levelname)s %(message)s') # format is helps to store the timings and mesages at the same time. \n",
    "# we dont need to memorize the time code as well.\n",
    "\n",
    "\n",
    "\n",
    "try :\n",
    "    # before starting the code, i can try to store the messsage\n",
    "    \n",
    "    logging.info('this is the start point of my program')\n",
    "    \n",
    "    logging.info('asking user to enter age')\n",
    "    \n",
    "    age = int(input(\"Enter your age: \"))\n",
    "    \n",
    "    logging.info(\"user has entered the age\")\n",
    "    \n",
    "    logging.info(f\"user has entered {age} as age\")\n",
    "    \n",
    "    if age < 0 :\n",
    "        # here also we can store information\n",
    "        \n",
    "        logging.info(\"I am checking the negative condition\")\n",
    "        \n",
    "        raise ValueError(\"user has entered negative value as age\")\n",
    "    elif age < 18 :\n",
    "        \n",
    "        logging.info(\"I am checking of the person is underage or not\")\n",
    "        \n",
    "        raise(\"user is underage\")\n",
    "        \n",
    "    else :\n",
    "        logging.info(\"Valid user\")\n",
    "        \n",
    "except Exception as e :\n",
    "    logging.error(e)"
   ]
  },
  {
   "cell_type": "code",
   "execution_count": 2,
   "id": "e4dfb725-dc5e-442d-bfe9-cbf0c8cbdd0e",
   "metadata": {},
   "outputs": [],
   "source": [
    "# we can alo store the longitude, level name, latidute and everything which may need for our investigation in future. "
   ]
  },
  {
   "cell_type": "code",
   "execution_count": 1,
   "id": "b43d3733-9f84-4911-b3e9-5bc4385db275",
   "metadata": {},
   "outputs": [],
   "source": [
    "# another example in a function\n",
    "\n",
    "import logging\n",
    "\n",
    "logging.basicConfig(filename = \"even_parser.log\", level=logging.DEBUG, format= '%(asctime)s -%(levelname)s %(message)s')\n",
    "l = [4,5,6,7,8,9,0]\n",
    "\n",
    "# I can use logging in this part\n",
    "logging.info(l)\n",
    "\n",
    "l1 = []\n",
    "\n",
    "   \n",
    "def even_parser(l) :\n",
    "    \n",
    "    try :\n",
    "        \n",
    "        logging.info(\"I am inside the try block\")\n",
    "        \n",
    "        for i in l :\n",
    "            \n",
    "            logging.info(\"inside the for loop, i = %d\", i) # %d defines integer value)\n",
    "            \n",
    "            if i%2 == 0 :\n",
    "                \n",
    "                logging.info(\"checking the value of i\")\n",
    "                \n",
    "                l1.append(i)\n",
    "                \n",
    "                logging.info(\"appending the value of i %d =\", i)\n",
    "\n",
    "        return l1\n",
    "    \n",
    "    except Exception as e :\n",
    "        logging.error(f\"Error! {e}\")\n",
    "        \n",
    "        \n",
    "# this is how we write a production grade code."
   ]
  },
  {
   "cell_type": "code",
   "execution_count": 2,
   "id": "e211e862-7900-47a7-9ade-066c9e607cc0",
   "metadata": {},
   "outputs": [
    {
     "data": {
      "text/plain": [
       "[4, 6, 8, 0]"
      ]
     },
     "execution_count": 2,
     "metadata": {},
     "output_type": "execute_result"
    }
   ],
   "source": [
    "# unless calling the function the log file won't show\n",
    "\n",
    "even_parser(l)"
   ]
  },
  {
   "cell_type": "code",
   "execution_count": null,
   "id": "145e2a19-9242-4bdd-82c5-233c19f2d647",
   "metadata": {},
   "outputs": [],
   "source": [
    "# so the every activity of my code is now tracable. \n",
    "\n"
   ]
  }
 ],
 "metadata": {
  "kernelspec": {
   "display_name": "Python 3 (ipykernel)",
   "language": "python",
   "name": "python3"
  },
  "language_info": {
   "codemirror_mode": {
    "name": "ipython",
    "version": 3
   },
   "file_extension": ".py",
   "mimetype": "text/x-python",
   "name": "python",
   "nbconvert_exporter": "python",
   "pygments_lexer": "ipython3",
   "version": "3.10.8"
  }
 },
 "nbformat": 4,
 "nbformat_minor": 5
}
