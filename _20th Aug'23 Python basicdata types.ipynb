{
 "cells": [
  {
   "cell_type": "markdown",
   "id": "fb1c6791-b502-4752-b97a-6a032cc048de",
   "metadata": {},
   "source": [
    "#  20th Aug'23 : Python basicdata types"
   ]
  },
  {
   "cell_type": "markdown",
   "id": "d44d4e50-dbfb-4158-a7f9-83c099854cc3",
   "metadata": {},
   "source": [
    "### List, Tuple "
   ]
  },
  {
   "cell_type": "code",
   "execution_count": 1,
   "id": "e8094db6-cfb3-46dc-ac31-e636f2022c74",
   "metadata": {},
   "outputs": [],
   "source": [
    "l = []"
   ]
  },
  {
   "cell_type": "code",
   "execution_count": 2,
   "id": "9ba853f9-b923-472c-bd45-c912e5af8cfe",
   "metadata": {},
   "outputs": [
    {
     "data": {
      "text/plain": [
       "list"
      ]
     },
     "execution_count": 2,
     "metadata": {},
     "output_type": "execute_result"
    }
   ],
   "source": [
    "type(l)"
   ]
  },
  {
   "cell_type": "code",
   "execution_count": 3,
   "id": "c2c82c67-df57-4fb9-bfcf-93cc32cc6352",
   "metadata": {},
   "outputs": [],
   "source": [
    "# list of a collection of multiple strings or datatypes"
   ]
  },
  {
   "cell_type": "code",
   "execution_count": 4,
   "id": "154b7d61-bc19-4d8a-8f6a-c0202c153a6c",
   "metadata": {},
   "outputs": [],
   "source": [
    "l1 = [1,2,3,4,5, \"sudh\", 'dibyendu', 3+4j, True]"
   ]
  },
  {
   "cell_type": "code",
   "execution_count": 5,
   "id": "a79f4c3b-b305-4582-9276-f98b7c561d27",
   "metadata": {},
   "outputs": [
    {
     "data": {
      "text/plain": [
       "[1, 2, 3, 4, 5, 'sudh', 'dibyendu', (3+4j), True]"
      ]
     },
     "execution_count": 5,
     "metadata": {},
     "output_type": "execute_result"
    }
   ],
   "source": [
    "l1"
   ]
  },
  {
   "cell_type": "code",
   "execution_count": 6,
   "id": "df1a54a4-ab8c-486b-b2ba-f0a608e49ca5",
   "metadata": {},
   "outputs": [],
   "source": [
    "# we can also keep list inside a list"
   ]
  },
  {
   "cell_type": "code",
   "execution_count": 7,
   "id": "8900aa0d-6e45-4bde-9483-438dc95c81b6",
   "metadata": {},
   "outputs": [],
   "source": [
    "l1 = [1,2,3,4,5, \"sudh\", 'dibyendu', 3+4j, True, [1,2,5,7]]"
   ]
  },
  {
   "cell_type": "code",
   "execution_count": 8,
   "id": "d385f38f-5194-4f4c-acd1-53220abe91e2",
   "metadata": {},
   "outputs": [
    {
     "data": {
      "text/plain": [
       "[1, 2, 3, 4, 5, 'sudh', 'dibyendu', (3+4j), True, [1, 2, 5, 7]]"
      ]
     },
     "execution_count": 8,
     "metadata": {},
     "output_type": "execute_result"
    }
   ],
   "source": [
    "l1"
   ]
  },
  {
   "cell_type": "code",
   "execution_count": 9,
   "id": "56ce87d0-6b2c-43b8-a78f-d11281240e6f",
   "metadata": {},
   "outputs": [],
   "source": [
    "# list slicing"
   ]
  },
  {
   "cell_type": "code",
   "execution_count": 10,
   "id": "e12e4ae0-c8d8-443c-af10-835d4101d5ff",
   "metadata": {},
   "outputs": [
    {
     "data": {
      "text/plain": [
       "'sudh'"
      ]
     },
     "execution_count": 10,
     "metadata": {},
     "output_type": "execute_result"
    }
   ],
   "source": [
    "l1[5]"
   ]
  },
  {
   "cell_type": "code",
   "execution_count": 11,
   "id": "ced9e069-d329-4d86-8c38-35a16912f4fa",
   "metadata": {},
   "outputs": [],
   "source": [
    "# extracting data from a list inside of a list"
   ]
  },
  {
   "cell_type": "code",
   "execution_count": 12,
   "id": "1ac5f7cc-798f-463f-a2c7-a1def01bc657",
   "metadata": {},
   "outputs": [
    {
     "data": {
      "text/plain": [
       "2"
      ]
     },
     "execution_count": 12,
     "metadata": {},
     "output_type": "execute_result"
    }
   ],
   "source": [
    "l1[-1][1]"
   ]
  },
  {
   "cell_type": "code",
   "execution_count": 13,
   "id": "7ef99219-5924-45ef-8276-80ee8f225266",
   "metadata": {},
   "outputs": [
    {
     "data": {
      "text/plain": [
       "[1, 2, 3, 4, 5]"
      ]
     },
     "execution_count": 13,
     "metadata": {},
     "output_type": "execute_result"
    }
   ],
   "source": [
    "l1[0:5]"
   ]
  },
  {
   "cell_type": "code",
   "execution_count": 14,
   "id": "f353ef2d-aa37-4093-b13c-6f320fa92f1e",
   "metadata": {},
   "outputs": [],
   "source": [
    "# list concatination"
   ]
  },
  {
   "cell_type": "code",
   "execution_count": 15,
   "id": "2d36a83f-726f-4f20-b7fa-6523f8755986",
   "metadata": {},
   "outputs": [],
   "source": [
    "l2 = [3,4,5,'sudhanshu']"
   ]
  },
  {
   "cell_type": "code",
   "execution_count": 16,
   "id": "d5da4dee-d704-4758-a69a-002502e7f00d",
   "metadata": {},
   "outputs": [
    {
     "data": {
      "text/plain": [
       "[1,\n",
       " 2,\n",
       " 3,\n",
       " 4,\n",
       " 5,\n",
       " 'sudh',\n",
       " 'dibyendu',\n",
       " (3+4j),\n",
       " True,\n",
       " [1, 2, 5, 7],\n",
       " 3,\n",
       " 4,\n",
       " 5,\n",
       " 'sudhanshu']"
      ]
     },
     "execution_count": 16,
     "metadata": {},
     "output_type": "execute_result"
    }
   ],
   "source": [
    "l1+l2"
   ]
  },
  {
   "cell_type": "code",
   "execution_count": 17,
   "id": "56967b7f-eb0d-4e42-8519-3ca977e201d2",
   "metadata": {},
   "outputs": [],
   "source": [
    "# for concatination, we need to make both as same format (list + list)"
   ]
  },
  {
   "cell_type": "code",
   "execution_count": 18,
   "id": "5cdb5be7-30d1-43a6-9b4b-882f5a0f38a4",
   "metadata": {},
   "outputs": [],
   "source": [
    "# we cannot add list and a string"
   ]
  },
  {
   "cell_type": "code",
   "execution_count": 19,
   "id": "cfbc9079-d39c-460e-8de2-a439a40b06df",
   "metadata": {},
   "outputs": [
    {
     "data": {
      "text/plain": [
       "['d', 'i', 'b', 'y', 'e', 'n', 'd', 'u']"
      ]
     },
     "execution_count": 19,
     "metadata": {},
     "output_type": "execute_result"
    }
   ],
   "source": [
    "# typecasting\n",
    "\n",
    "list('dibyendu')"
   ]
  },
  {
   "cell_type": "code",
   "execution_count": 21,
   "id": "7d0035b2-419d-40d8-852e-339f9ed1f162",
   "metadata": {},
   "outputs": [
    {
     "ename": "TypeError",
     "evalue": "'int' object is not iterable",
     "output_type": "error",
     "traceback": [
      "\u001b[0;31m---------------------------------------------------------------------------\u001b[0m",
      "\u001b[0;31mTypeError\u001b[0m                                 Traceback (most recent call last)",
      "Cell \u001b[0;32mIn[21], line 1\u001b[0m\n\u001b[0;32m----> 1\u001b[0m \u001b[38;5;28;43mlist\u001b[39;49m\u001b[43m(\u001b[49m\u001b[38;5;241;43m345\u001b[39;49m\u001b[43m)\u001b[49m\n",
      "\u001b[0;31mTypeError\u001b[0m: 'int' object is not iterable"
     ]
    }
   ],
   "source": [
    "list(345)"
   ]
  },
  {
   "cell_type": "code",
   "execution_count": 22,
   "id": "f4cdf010-20ad-49ae-949d-e958037b6b4f",
   "metadata": {},
   "outputs": [
    {
     "data": {
      "text/plain": [
       "[3, 4, 5, 'sudhanshu', 3, 4, 5, 'sudhanshu']"
      ]
     },
     "execution_count": 22,
     "metadata": {},
     "output_type": "execute_result"
    }
   ],
   "source": [
    "l2*2"
   ]
  },
  {
   "cell_type": "code",
   "execution_count": 23,
   "id": "e5b9c30d-e45a-46ab-9cc5-f81862b0ab6f",
   "metadata": {},
   "outputs": [],
   "source": [
    "# changing the data in a list\n",
    "\n",
    "l2[0] = 300"
   ]
  },
  {
   "cell_type": "code",
   "execution_count": 24,
   "id": "bfdefac8-c039-4998-a075-21e276235669",
   "metadata": {},
   "outputs": [
    {
     "data": {
      "text/plain": [
       "[300, 4, 5, 'sudhanshu']"
      ]
     },
     "execution_count": 24,
     "metadata": {},
     "output_type": "execute_result"
    }
   ],
   "source": [
    "l2"
   ]
  },
  {
   "cell_type": "code",
   "execution_count": null,
   "id": "d3fe79ff-6107-45bf-b280-4ca2c3710190",
   "metadata": {},
   "outputs": [],
   "source": []
  },
  {
   "cell_type": "markdown",
   "id": "8ee8c55b-210a-4de5-a473-10ff10e3789d",
   "metadata": {},
   "source": [
    "Tuple"
   ]
  },
  {
   "cell_type": "code",
   "execution_count": 25,
   "id": "85dd6de9-f21f-4d91-b40e-e9fcd4c9397a",
   "metadata": {},
   "outputs": [],
   "source": [
    "t = (3,4,5,7,'sudh',3+4j,False)"
   ]
  },
  {
   "cell_type": "code",
   "execution_count": 26,
   "id": "49c541dc-a0a4-4bf6-b8df-8e3689c59004",
   "metadata": {},
   "outputs": [
    {
     "data": {
      "text/plain": [
       "tuple"
      ]
     },
     "execution_count": 26,
     "metadata": {},
     "output_type": "execute_result"
    }
   ],
   "source": [
    "type(t)"
   ]
  },
  {
   "cell_type": "code",
   "execution_count": 27,
   "id": "bc1d2a43-962b-43e5-b03b-cb88077c3b5a",
   "metadata": {},
   "outputs": [],
   "source": [
    "# tuple is immutable"
   ]
  },
  {
   "cell_type": "code",
   "execution_count": 28,
   "id": "9986ae98-091e-421d-9f34-729814a7cb5b",
   "metadata": {},
   "outputs": [
    {
     "data": {
      "text/plain": [
       "(False, (3+4j), 'sudh', 7, 5, 4, 3)"
      ]
     },
     "execution_count": 28,
     "metadata": {},
     "output_type": "execute_result"
    }
   ],
   "source": [
    "# showing entire tuples om a reverse order\n",
    "\n",
    "t[::-1]"
   ]
  },
  {
   "cell_type": "code",
   "execution_count": 29,
   "id": "ab7b926a-e207-426d-81d5-e88d0c0465a2",
   "metadata": {},
   "outputs": [
    {
     "ename": "TypeError",
     "evalue": "'tuple' object does not support item assignment",
     "output_type": "error",
     "traceback": [
      "\u001b[0;31m---------------------------------------------------------------------------\u001b[0m",
      "\u001b[0;31mTypeError\u001b[0m                                 Traceback (most recent call last)",
      "Cell \u001b[0;32mIn[29], line 1\u001b[0m\n\u001b[0;32m----> 1\u001b[0m \u001b[43mt\u001b[49m\u001b[43m[\u001b[49m\u001b[38;5;241;43m0\u001b[39;49m\u001b[43m]\u001b[49m \u001b[38;5;241m=\u001b[39m \u001b[38;5;124m'\u001b[39m\u001b[38;5;124mraja\u001b[39m\u001b[38;5;124m'\u001b[39m\n",
      "\u001b[0;31mTypeError\u001b[0m: 'tuple' object does not support item assignment"
     ]
    }
   ],
   "source": [
    "t[0] = 'raja'"
   ]
  },
  {
   "cell_type": "code",
   "execution_count": 30,
   "id": "26dafcec-8cb7-4c20-91ac-4e78f16b6e10",
   "metadata": {},
   "outputs": [],
   "source": [
    "t1 = (8,9,10,11)"
   ]
  },
  {
   "cell_type": "code",
   "execution_count": 31,
   "id": "9e523428-1b48-4332-8675-335d2d46b925",
   "metadata": {},
   "outputs": [
    {
     "data": {
      "text/plain": [
       "(3, 4, 5, 7, 'sudh', (3+4j), False, 8, 9, 10, 11)"
      ]
     },
     "execution_count": 31,
     "metadata": {},
     "output_type": "execute_result"
    }
   ],
   "source": [
    "t+t1"
   ]
  },
  {
   "cell_type": "code",
   "execution_count": 32,
   "id": "51bcbd29-5701-4637-98d2-89030df24a82",
   "metadata": {},
   "outputs": [],
   "source": [
    "# showing the length of the tuple"
   ]
  },
  {
   "cell_type": "code",
   "execution_count": 33,
   "id": "8b42fb6c-68de-48b1-b8aa-5ffb92774caa",
   "metadata": {},
   "outputs": [
    {
     "data": {
      "text/plain": [
       "7"
      ]
     },
     "execution_count": 33,
     "metadata": {},
     "output_type": "execute_result"
    }
   ],
   "source": [
    "len(t)"
   ]
  },
  {
   "cell_type": "code",
   "execution_count": 34,
   "id": "129fb7f7-2197-484a-9155-7e8e925e0880",
   "metadata": {},
   "outputs": [
    {
     "data": {
      "text/plain": [
       "4"
      ]
     },
     "execution_count": 34,
     "metadata": {},
     "output_type": "execute_result"
    }
   ],
   "source": [
    "len('raja')"
   ]
  },
  {
   "cell_type": "code",
   "execution_count": 35,
   "id": "3245ecbe-389a-4ae9-9d84-c08bedd0063b",
   "metadata": {},
   "outputs": [
    {
     "data": {
      "text/plain": [
       "9"
      ]
     },
     "execution_count": 35,
     "metadata": {},
     "output_type": "execute_result"
    }
   ],
   "source": [
    "len('ra     ja')"
   ]
  },
  {
   "cell_type": "code",
   "execution_count": null,
   "id": "92086ba0-2a5d-46fc-85e8-364c8aa168f7",
   "metadata": {},
   "outputs": [],
   "source": []
  },
  {
   "cell_type": "markdown",
   "id": "86b0c9fb-0e42-4290-882f-833021a24e61",
   "metadata": {},
   "source": [
    "DICTIONARY"
   ]
  },
  {
   "cell_type": "code",
   "execution_count": 36,
   "id": "0c3c4ad4-cfff-4a76-9616-cd51e2115dd4",
   "metadata": {},
   "outputs": [],
   "source": [
    "s = {}"
   ]
  },
  {
   "cell_type": "code",
   "execution_count": 37,
   "id": "2f25caf4-3ad4-436e-9f28-066fc458897f",
   "metadata": {},
   "outputs": [
    {
     "data": {
      "text/plain": [
       "dict"
      ]
     },
     "execution_count": 37,
     "metadata": {},
     "output_type": "execute_result"
    }
   ],
   "source": [
    "type(s)"
   ]
  },
  {
   "cell_type": "code",
   "execution_count": 38,
   "id": "81c03961-4b5d-4ece-bb4c-567cd0a751de",
   "metadata": {},
   "outputs": [],
   "source": [
    "# but\n",
    "\n",
    "s1 = {1,2,3,4,5}"
   ]
  },
  {
   "cell_type": "code",
   "execution_count": 39,
   "id": "cba5f333-d079-4ded-a52f-0df9c4bfa141",
   "metadata": {},
   "outputs": [
    {
     "data": {
      "text/plain": [
       "set"
      ]
     },
     "execution_count": 39,
     "metadata": {},
     "output_type": "execute_result"
    }
   ],
   "source": [
    "type(s1)"
   ]
  },
  {
   "cell_type": "code",
   "execution_count": 40,
   "id": "73335898-f7c9-4c43-b72e-debe43f3911d",
   "metadata": {},
   "outputs": [],
   "source": [
    "# set removes the duplicate values \n",
    "\n",
    "# it looks like the set is sorting the data but it does not"
   ]
  },
  {
   "cell_type": "code",
   "execution_count": 41,
   "id": "5c93fd66-fdcf-485a-bf51-0e016f141392",
   "metadata": {},
   "outputs": [
    {
     "data": {
      "text/plain": [
       "{300, 4, 5, 'sudhanshu'}"
      ]
     },
     "execution_count": 41,
     "metadata": {},
     "output_type": "execute_result"
    }
   ],
   "source": [
    "set(l2)"
   ]
  },
  {
   "cell_type": "code",
   "execution_count": 42,
   "id": "a6afc41c-189d-4f9c-84c2-e036e04c4ae7",
   "metadata": {},
   "outputs": [
    {
     "ename": "TypeError",
     "evalue": "unhashable type: 'list'",
     "output_type": "error",
     "traceback": [
      "\u001b[0;31m---------------------------------------------------------------------------\u001b[0m",
      "\u001b[0;31mTypeError\u001b[0m                                 Traceback (most recent call last)",
      "Cell \u001b[0;32mIn[42], line 1\u001b[0m\n\u001b[0;32m----> 1\u001b[0m \u001b[38;5;28;43mset\u001b[39;49m\u001b[43m(\u001b[49m\u001b[43ml1\u001b[49m\u001b[43m)\u001b[49m\n",
      "\u001b[0;31mTypeError\u001b[0m: unhashable type: 'list'"
     ]
    }
   ],
   "source": [
    "set(l1)"
   ]
  },
  {
   "cell_type": "code",
   "execution_count": null,
   "id": "41897693-7d6e-4dd1-bb01-92567f4361fe",
   "metadata": {},
   "outputs": [],
   "source": [
    "# it cannot do the l1 list into set because the set in l1 is holding another set into the list"
   ]
  },
  {
   "cell_type": "code",
   "execution_count": 43,
   "id": "c0a65107-9b8f-4ed5-83a1-4095180bbbcc",
   "metadata": {},
   "outputs": [
    {
     "data": {
      "text/plain": [
       "[1, 2, 3, 4, 5, 'sudh', 'dibyendu', (3+4j), True, [1, 2, 5, 7]]"
      ]
     },
     "execution_count": 43,
     "metadata": {},
     "output_type": "execute_result"
    }
   ],
   "source": [
    "l1"
   ]
  },
  {
   "cell_type": "code",
   "execution_count": 44,
   "id": "2d939091-5ef7-4b97-b5ca-3b0a11a45c8f",
   "metadata": {},
   "outputs": [
    {
     "ename": "TypeError",
     "evalue": "'set' object is not subscriptable",
     "output_type": "error",
     "traceback": [
      "\u001b[0;31m---------------------------------------------------------------------------\u001b[0m",
      "\u001b[0;31mTypeError\u001b[0m                                 Traceback (most recent call last)",
      "Cell \u001b[0;32mIn[44], line 3\u001b[0m\n\u001b[1;32m      1\u001b[0m \u001b[38;5;66;03m# set caanot allow to subsribe the data\u001b[39;00m\n\u001b[0;32m----> 3\u001b[0m \u001b[43ms1\u001b[49m\u001b[43m[\u001b[49m\u001b[38;5;241;43m0\u001b[39;49m\u001b[43m]\u001b[49m\n",
      "\u001b[0;31mTypeError\u001b[0m: 'set' object is not subscriptable"
     ]
    }
   ],
   "source": [
    "# set caanot allow to subsribe the data\n",
    "\n",
    "s1[0]"
   ]
  },
  {
   "cell_type": "code",
   "execution_count": 45,
   "id": "b41d6b0a-9a16-41b4-a4bb-392465fac166",
   "metadata": {},
   "outputs": [],
   "source": [
    "# but if we need to make to subscript the data then we need to typecast the data \n",
    "\n",
    "# after converting we can do this"
   ]
  },
  {
   "cell_type": "code",
   "execution_count": null,
   "id": "b88a3ff7-2fc6-4ebd-9af7-c7b090ea0046",
   "metadata": {},
   "outputs": [],
   "source": []
  },
  {
   "cell_type": "markdown",
   "id": "bfab5995-5fa4-41b2-bc51-e50a523635d0",
   "metadata": {},
   "source": [
    "### Dictionary"
   ]
  },
  {
   "cell_type": "code",
   "execution_count": 46,
   "id": "d3346845-0315-4a03-ad76-7224255626a4",
   "metadata": {},
   "outputs": [],
   "source": [
    "d = {}"
   ]
  },
  {
   "cell_type": "code",
   "execution_count": 47,
   "id": "297ce65d-31c3-4114-a5c9-725b2f86fb81",
   "metadata": {},
   "outputs": [
    {
     "data": {
      "text/plain": [
       "dict"
      ]
     },
     "execution_count": 47,
     "metadata": {},
     "output_type": "execute_result"
    }
   ],
   "source": [
    "type(d)"
   ]
  },
  {
   "cell_type": "code",
   "execution_count": 48,
   "id": "05467d83-dec6-40ad-bce5-5582f687bd35",
   "metadata": {},
   "outputs": [],
   "source": [
    "# key value pair"
   ]
  },
  {
   "cell_type": "code",
   "execution_count": 49,
   "id": "5b0e4c02-ca0b-4c46-b3aa-61a00f75bcb5",
   "metadata": {},
   "outputs": [],
   "source": [
    "d1 = {'name': 'sudhanshu', 'subject': [\"data_science\", \"big_data\", \"data_analytics\"], \"number\": 45788854}"
   ]
  },
  {
   "cell_type": "code",
   "execution_count": 50,
   "id": "34064ce8-e70b-4e57-867b-b9daa35dca4f",
   "metadata": {},
   "outputs": [
    {
     "data": {
      "text/plain": [
       "{'name': 'sudhanshu',\n",
       " 'subject': ['data_science', 'big_data', 'data_analytics'],\n",
       " 'number': 45788854}"
      ]
     },
     "execution_count": 50,
     "metadata": {},
     "output_type": "execute_result"
    }
   ],
   "source": [
    "d1"
   ]
  },
  {
   "cell_type": "code",
   "execution_count": 51,
   "id": "b4439b02-68a2-4a96-bf57-d897f7afe035",
   "metadata": {},
   "outputs": [],
   "source": [
    "d2 = {\"name\": \"pw\", \"name\":\"pwskills\"}"
   ]
  },
  {
   "cell_type": "code",
   "execution_count": 52,
   "id": "7f2c3848-4d04-44e8-a4bf-c1cc6bdf3072",
   "metadata": {},
   "outputs": [
    {
     "data": {
      "text/plain": [
       "{'name': 'pwskills'}"
      ]
     },
     "execution_count": 52,
     "metadata": {},
     "output_type": "execute_result"
    }
   ],
   "source": [
    "d2"
   ]
  },
  {
   "cell_type": "code",
   "execution_count": 53,
   "id": "dbfa7eec-e850-41e1-a2c1-c33da1184963",
   "metadata": {},
   "outputs": [],
   "source": [
    "d3 = {1245: 'pwskills'}"
   ]
  },
  {
   "cell_type": "code",
   "execution_count": 54,
   "id": "ea38fd37-0c65-4496-a502-2fb5491d97b5",
   "metadata": {},
   "outputs": [
    {
     "data": {
      "text/plain": [
       "{1245: 'pwskills'}"
      ]
     },
     "execution_count": 54,
     "metadata": {},
     "output_type": "execute_result"
    }
   ],
   "source": [
    "d3"
   ]
  },
  {
   "cell_type": "code",
   "execution_count": 55,
   "id": "bc97d37c-969a-4a7c-9deb-876668ea13e4",
   "metadata": {},
   "outputs": [],
   "source": [
    "# but you can't take list and set as a key"
   ]
  },
  {
   "cell_type": "code",
   "execution_count": 56,
   "id": "6bd3b250-eaa4-409c-92ae-8dcce85d20a7",
   "metadata": {},
   "outputs": [
    {
     "ename": "TypeError",
     "evalue": "unhashable type: 'list'",
     "output_type": "error",
     "traceback": [
      "\u001b[0;31m---------------------------------------------------------------------------\u001b[0m",
      "\u001b[0;31mTypeError\u001b[0m                                 Traceback (most recent call last)",
      "Cell \u001b[0;32mIn[56], line 1\u001b[0m\n\u001b[0;32m----> 1\u001b[0m d4 \u001b[38;5;241m=\u001b[39m {[\u001b[38;5;241m123\u001b[39m]: \u001b[38;5;124m'\u001b[39m\u001b[38;5;124mhello\u001b[39m\u001b[38;5;124m'\u001b[39m}\n",
      "\u001b[0;31mTypeError\u001b[0m: unhashable type: 'list'"
     ]
    }
   ],
   "source": [
    "d4 = {[123]: 'hello'}"
   ]
  },
  {
   "cell_type": "code",
   "execution_count": null,
   "id": "07c49afe-d7cb-4d9b-99f1-fed0bab46962",
   "metadata": {},
   "outputs": [],
   "source": [
    "d4 = {{123}: 'hello'}"
   ]
  },
  {
   "cell_type": "code",
   "execution_count": null,
   "id": "f1c3d383-2fbb-4826-a9ab-3616cd086bd6",
   "metadata": {},
   "outputs": [],
   "source": [
    "# but tuples are allowed\n",
    "\n",
    "\n",
    "d4 = {(123): 'hello'}"
   ]
  },
  {
   "cell_type": "code",
   "execution_count": null,
   "id": "3dc4d88d-a09c-42f4-b354-2375187d31c9",
   "metadata": {},
   "outputs": [],
   "source": [
    "d1['subject']"
   ]
  },
  {
   "cell_type": "code",
   "execution_count": 57,
   "id": "2c66b26a-2ee6-4937-b378-c5bdb8c82e65",
   "metadata": {},
   "outputs": [],
   "source": [
    "# we can also override the values if available already in dictionary"
   ]
  },
  {
   "cell_type": "code",
   "execution_count": 58,
   "id": "f2d4e0f4-c46c-4519-8d47-9b9beb6251f7",
   "metadata": {},
   "outputs": [],
   "source": [
    "s1 = \"pwskills\""
   ]
  },
  {
   "cell_type": "code",
   "execution_count": 59,
   "id": "bc044da2-ebc0-4d47-a8e3-96c868172c63",
   "metadata": {},
   "outputs": [
    {
     "data": {
      "text/plain": [
       "2"
      ]
     },
     "execution_count": 59,
     "metadata": {},
     "output_type": "execute_result"
    }
   ],
   "source": [
    "s1.count('l')"
   ]
  },
  {
   "cell_type": "code",
   "execution_count": 60,
   "id": "bb3237e0-9194-4b57-ab09-3a2ea88c5831",
   "metadata": {},
   "outputs": [
    {
     "data": {
      "text/plain": [
       "2"
      ]
     },
     "execution_count": 60,
     "metadata": {},
     "output_type": "execute_result"
    }
   ],
   "source": [
    "s1.find('s')"
   ]
  },
  {
   "cell_type": "code",
   "execution_count": 61,
   "id": "f69ce721-872d-4ad5-9361-2f8fa1280ce7",
   "metadata": {},
   "outputs": [
    {
     "data": {
      "text/plain": [
       "2"
      ]
     },
     "execution_count": 61,
     "metadata": {},
     "output_type": "execute_result"
    }
   ],
   "source": [
    "s1.index('s')"
   ]
  },
  {
   "cell_type": "code",
   "execution_count": 62,
   "id": "916cbb82-2554-494b-b847-a4a412c104f9",
   "metadata": {},
   "outputs": [],
   "source": [
    "## how does find is different from the index"
   ]
  },
  {
   "cell_type": "code",
   "execution_count": 63,
   "id": "aa9804ea-209a-495e-800c-70fec3619558",
   "metadata": {},
   "outputs": [
    {
     "data": {
      "text/plain": [
       "-1"
      ]
     },
     "execution_count": 63,
     "metadata": {},
     "output_type": "execute_result"
    }
   ],
   "source": [
    "s1.find('z')"
   ]
  },
  {
   "cell_type": "code",
   "execution_count": 64,
   "id": "4fa541c4-8437-4c2a-b138-4f6356d68fd7",
   "metadata": {},
   "outputs": [
    {
     "ename": "ValueError",
     "evalue": "substring not found",
     "output_type": "error",
     "traceback": [
      "\u001b[0;31m---------------------------------------------------------------------------\u001b[0m",
      "\u001b[0;31mValueError\u001b[0m                                Traceback (most recent call last)",
      "Cell \u001b[0;32mIn[64], line 1\u001b[0m\n\u001b[0;32m----> 1\u001b[0m \u001b[43ms1\u001b[49m\u001b[38;5;241;43m.\u001b[39;49m\u001b[43mindex\u001b[49m\u001b[43m(\u001b[49m\u001b[38;5;124;43m'\u001b[39;49m\u001b[38;5;124;43mz\u001b[39;49m\u001b[38;5;124;43m'\u001b[39;49m\u001b[43m)\u001b[49m\n",
      "\u001b[0;31mValueError\u001b[0m: substring not found"
     ]
    }
   ],
   "source": [
    "s1.index('z')"
   ]
  },
  {
   "cell_type": "code",
   "execution_count": 65,
   "id": "86b7195d-f60f-47fc-955a-85664be0d259",
   "metadata": {},
   "outputs": [],
   "source": [
    "## if the find function is not able to find the occourences of the indexes, it will give (-1) as output. \n",
    "\n",
    "## on the other hand, index return as error"
   ]
  },
  {
   "cell_type": "code",
   "execution_count": null,
   "id": "c2f88f5d-47c9-489f-b3fc-77454e82e740",
   "metadata": {},
   "outputs": [],
   "source": []
  },
  {
   "cell_type": "markdown",
   "id": "22716db0-4980-496a-a5f7-6abd7b8decdb",
   "metadata": {},
   "source": [
    "Upper, Lower, "
   ]
  },
  {
   "cell_type": "code",
   "execution_count": 66,
   "id": "cf8901a2-37c0-464f-9eb0-9cec5821bf5e",
   "metadata": {},
   "outputs": [
    {
     "data": {
      "text/plain": [
       "'PWSKILLS'"
      ]
     },
     "execution_count": 66,
     "metadata": {},
     "output_type": "execute_result"
    }
   ],
   "source": [
    "s1.upper()"
   ]
  },
  {
   "cell_type": "code",
   "execution_count": 67,
   "id": "44b3e037-7d0a-4eb8-88ac-00fbdaea82f8",
   "metadata": {},
   "outputs": [
    {
     "data": {
      "text/plain": [
       "'pwskills'"
      ]
     },
     "execution_count": 67,
     "metadata": {},
     "output_type": "execute_result"
    }
   ],
   "source": [
    "s1.lower()"
   ]
  },
  {
   "cell_type": "code",
   "execution_count": 68,
   "id": "60cc2ca2-336f-4f0f-8a1f-821c8281cde8",
   "metadata": {},
   "outputs": [],
   "source": [
    "s3 = \"my name is dibyendu chowdhury\""
   ]
  },
  {
   "cell_type": "code",
   "execution_count": 69,
   "id": "14b95f7a-f80f-4858-bccc-197fb9ee071d",
   "metadata": {},
   "outputs": [
    {
     "data": {
      "text/plain": [
       "'My Name Is Dibyendu Chowdhury'"
      ]
     },
     "execution_count": 69,
     "metadata": {},
     "output_type": "execute_result"
    }
   ],
   "source": [
    "s3.title()"
   ]
  },
  {
   "cell_type": "code",
   "execution_count": 70,
   "id": "93fe93d3-e979-4667-86cd-2893a08ebed6",
   "metadata": {},
   "outputs": [
    {
     "data": {
      "text/plain": [
       "['my', 'name', 'is', 'dibyendu', 'chowdhury']"
      ]
     },
     "execution_count": 70,
     "metadata": {},
     "output_type": "execute_result"
    }
   ],
   "source": [
    "s3.split()"
   ]
  },
  {
   "cell_type": "code",
   "execution_count": 71,
   "id": "4032af51-c853-404c-a9b5-29aa3d59c5c2",
   "metadata": {},
   "outputs": [],
   "source": [
    "s4 = \"my,name,is,dibyendu,chowdhury\""
   ]
  },
  {
   "cell_type": "code",
   "execution_count": 72,
   "id": "472ecece-7f7d-46a7-9307-329358b1befb",
   "metadata": {},
   "outputs": [
    {
     "data": {
      "text/plain": [
       "['my,name,is,dibyendu,chowdhury']"
      ]
     },
     "execution_count": 72,
     "metadata": {},
     "output_type": "execute_result"
    }
   ],
   "source": [
    "s4.split()"
   ]
  },
  {
   "cell_type": "code",
   "execution_count": 73,
   "id": "4ca3713c-6972-4a80-8ad5-515de8e9371b",
   "metadata": {},
   "outputs": [
    {
     "data": {
      "text/plain": [
       "['my,name,i', ',dibyendu,chowdhury']"
      ]
     },
     "execution_count": 73,
     "metadata": {},
     "output_type": "execute_result"
    }
   ],
   "source": [
    "s4.split('s')"
   ]
  },
  {
   "cell_type": "code",
   "execution_count": 74,
   "id": "2551806f-6a5b-4a03-a933-5015c48d2a96",
   "metadata": {},
   "outputs": [],
   "source": [
    "s5 = \"this is my fsds pro batch. i am attending the class 4th time\""
   ]
  },
  {
   "cell_type": "code",
   "execution_count": 75,
   "id": "170fbd8e-e5da-4718-a87f-e007db775460",
   "metadata": {},
   "outputs": [
    {
     "data": {
      "text/plain": [
       "'this is my fsds pro batch'"
      ]
     },
     "execution_count": 75,
     "metadata": {},
     "output_type": "execute_result"
    }
   ],
   "source": [
    "s5.split('.')[0]"
   ]
  },
  {
   "cell_type": "code",
   "execution_count": 76,
   "id": "4dde489f-682a-48e5-a9e7-10ee918b82ec",
   "metadata": {},
   "outputs": [
    {
     "data": {
      "text/plain": [
       "'my name is dibyendu chowdhury'"
      ]
     },
     "execution_count": 76,
     "metadata": {},
     "output_type": "execute_result"
    }
   ],
   "source": [
    "s3"
   ]
  },
  {
   "cell_type": "code",
   "execution_count": 77,
   "id": "3c24bdb6-a23e-4d67-a1fe-493b5329e7bd",
   "metadata": {},
   "outputs": [
    {
     "data": {
      "text/plain": [
       "'My name is dibyendu chowdhury'"
      ]
     },
     "execution_count": 77,
     "metadata": {},
     "output_type": "execute_result"
    }
   ],
   "source": [
    "s3.capitalize()"
   ]
  },
  {
   "cell_type": "code",
   "execution_count": 78,
   "id": "f68b545f-f2ac-4f48-8a7e-e4b93176378c",
   "metadata": {},
   "outputs": [
    {
     "data": {
      "text/plain": [
       "'My Name Is Dibyendu Chowdhury'"
      ]
     },
     "execution_count": 78,
     "metadata": {},
     "output_type": "execute_result"
    }
   ],
   "source": [
    "s3.title()"
   ]
  },
  {
   "cell_type": "code",
   "execution_count": 79,
   "id": "479861fd-7096-4d19-94a0-a466aaa47010",
   "metadata": {},
   "outputs": [
    {
     "data": {
      "text/plain": [
       "'my same is dibyesdu chowdhury'"
      ]
     },
     "execution_count": 79,
     "metadata": {},
     "output_type": "execute_result"
    }
   ],
   "source": [
    "s3.replace('n','s')"
   ]
  },
  {
   "cell_type": "code",
   "execution_count": 80,
   "id": "e1c65785-d701-4255-b321-f87618cc8937",
   "metadata": {},
   "outputs": [],
   "source": [
    "## since the string are immutable, but it reserving a new space that's how this works"
   ]
  },
  {
   "cell_type": "code",
   "execution_count": 81,
   "id": "e6002f26-001f-4416-a7fd-f34c9bdc7d95",
   "metadata": {},
   "outputs": [
    {
     "data": {
      "text/plain": [
       "'pwskills'"
      ]
     },
     "execution_count": 81,
     "metadata": {},
     "output_type": "execute_result"
    }
   ],
   "source": [
    "s1"
   ]
  },
  {
   "cell_type": "code",
   "execution_count": 82,
   "id": "6d4377c5-b65b-46de-902d-c424946ce759",
   "metadata": {},
   "outputs": [
    {
     "data": {
      "text/plain": [
       "'ffffffffffffffffpwskillsffffffffffffffff'"
      ]
     },
     "execution_count": 82,
     "metadata": {},
     "output_type": "execute_result"
    }
   ],
   "source": [
    "s1.center(40,'f')"
   ]
  },
  {
   "cell_type": "code",
   "execution_count": 83,
   "id": "db0a4303-7440-41be-8e31-fd9c7526ab2b",
   "metadata": {},
   "outputs": [
    {
     "data": {
      "text/plain": [
       "'pwskills'"
      ]
     },
     "execution_count": 83,
     "metadata": {},
     "output_type": "execute_result"
    }
   ],
   "source": [
    "s1.rstrip()"
   ]
  },
  {
   "cell_type": "code",
   "execution_count": 84,
   "id": "6c14154b-0ba2-49c5-b6ff-137fda2fb2bb",
   "metadata": {},
   "outputs": [],
   "source": [
    "s5 = \"     pwskills        \""
   ]
  },
  {
   "cell_type": "code",
   "execution_count": 85,
   "id": "53a9f9fa-f16e-4103-bcc8-214726dfc99b",
   "metadata": {},
   "outputs": [
    {
     "data": {
      "text/plain": [
       "'     pwskills'"
      ]
     },
     "execution_count": 85,
     "metadata": {},
     "output_type": "execute_result"
    }
   ],
   "source": [
    "s5.rstrip()"
   ]
  },
  {
   "cell_type": "code",
   "execution_count": 86,
   "id": "f9ee8b2a-504d-412e-ac46-d3d7cd4b7eef",
   "metadata": {},
   "outputs": [
    {
     "data": {
      "text/plain": [
       "'pwskills        '"
      ]
     },
     "execution_count": 86,
     "metadata": {},
     "output_type": "execute_result"
    }
   ],
   "source": [
    "s5.lstrip()"
   ]
  },
  {
   "cell_type": "code",
   "execution_count": 87,
   "id": "d2683ce1-4781-47e7-a72b-a59413bc2cf8",
   "metadata": {},
   "outputs": [
    {
     "data": {
      "text/plain": [
       "'pwskills'"
      ]
     },
     "execution_count": 87,
     "metadata": {},
     "output_type": "execute_result"
    }
   ],
   "source": [
    "s5.strip()"
   ]
  },
  {
   "cell_type": "code",
   "execution_count": null,
   "id": "c7b01836-9ef3-4ec0-815e-b9e1d28f32f3",
   "metadata": {},
   "outputs": [],
   "source": []
  },
  {
   "cell_type": "code",
   "execution_count": 88,
   "id": "9b1d4482-468c-4511-8798-bb576d6f91cc",
   "metadata": {},
   "outputs": [],
   "source": [
    "## when we are performing operation which starts from is, it returns True or False value"
   ]
  },
  {
   "cell_type": "code",
   "execution_count": 89,
   "id": "6dc64dcd-d12d-4b25-b38f-0fe8e83cf202",
   "metadata": {},
   "outputs": [
    {
     "data": {
      "text/plain": [
       "True"
      ]
     },
     "execution_count": 89,
     "metadata": {},
     "output_type": "execute_result"
    }
   ],
   "source": [
    "s1.isalnum()"
   ]
  },
  {
   "cell_type": "code",
   "execution_count": 90,
   "id": "423b2d2c-1fc3-48a1-8a08-6bdaaac8cb53",
   "metadata": {},
   "outputs": [
    {
     "data": {
      "text/plain": [
       "False"
      ]
     },
     "execution_count": 90,
     "metadata": {},
     "output_type": "execute_result"
    }
   ],
   "source": [
    "s1.isnumeric()"
   ]
  },
  {
   "cell_type": "code",
   "execution_count": 91,
   "id": "25434458-adaf-4034-a6e2-7016ea445626",
   "metadata": {},
   "outputs": [
    {
     "data": {
      "text/plain": [
       "True"
      ]
     },
     "execution_count": 91,
     "metadata": {},
     "output_type": "execute_result"
    }
   ],
   "source": [
    "s1.islower()"
   ]
  },
  {
   "cell_type": "code",
   "execution_count": 92,
   "id": "3118784f-5dd2-4994-b44c-e8571f8e057c",
   "metadata": {},
   "outputs": [
    {
     "data": {
      "text/plain": [
       "False"
      ]
     },
     "execution_count": 92,
     "metadata": {},
     "output_type": "execute_result"
    }
   ],
   "source": [
    "s1.isdecimal()"
   ]
  },
  {
   "cell_type": "code",
   "execution_count": 93,
   "id": "749d6c03-9366-44f6-897a-50a7fd358bda",
   "metadata": {},
   "outputs": [],
   "source": [
    "l1.append('raja')"
   ]
  },
  {
   "cell_type": "code",
   "execution_count": 94,
   "id": "5247f663-17f6-4feb-9dc7-58b3472a6b91",
   "metadata": {},
   "outputs": [
    {
     "data": {
      "text/plain": [
       "[1, 2, 3, 4, 5, 'sudh', 'dibyendu', (3+4j), True, [1, 2, 5, 7], 'raja']"
      ]
     },
     "execution_count": 94,
     "metadata": {},
     "output_type": "execute_result"
    }
   ],
   "source": [
    "l1"
   ]
  },
  {
   "cell_type": "code",
   "execution_count": 95,
   "id": "9c9e7459-9e9b-4c6b-a5fa-6248ad1b7cd8",
   "metadata": {},
   "outputs": [],
   "source": [
    "## it append in last "
   ]
  },
  {
   "cell_type": "code",
   "execution_count": 96,
   "id": "f448e09e-f570-41c0-9292-59ea9f09af17",
   "metadata": {},
   "outputs": [],
   "source": [
    "# if we need to add after 3, then\n",
    "\n",
    "l1.insert(3,'pw')"
   ]
  },
  {
   "cell_type": "code",
   "execution_count": 97,
   "id": "beddb53c-993f-4257-9693-ed6ee4fe8b8b",
   "metadata": {},
   "outputs": [
    {
     "data": {
      "text/plain": [
       "[1, 2, 3, 'pw', 4, 5, 'sudh', 'dibyendu', (3+4j), True, [1, 2, 5, 7], 'raja']"
      ]
     },
     "execution_count": 97,
     "metadata": {},
     "output_type": "execute_result"
    }
   ],
   "source": [
    "l1"
   ]
  },
  {
   "cell_type": "code",
   "execution_count": 98,
   "id": "6d92f6fa-e2d1-4fd3-b7d0-6c5462a63727",
   "metadata": {},
   "outputs": [],
   "source": [
    "l2.extend('pw')"
   ]
  },
  {
   "cell_type": "code",
   "execution_count": 99,
   "id": "225bb9d4-6091-446d-b8e7-b1885511e201",
   "metadata": {},
   "outputs": [
    {
     "data": {
      "text/plain": [
       "[300, 4, 5, 'sudhanshu', 'p', 'w']"
      ]
     },
     "execution_count": 99,
     "metadata": {},
     "output_type": "execute_result"
    }
   ],
   "source": [
    "l2"
   ]
  },
  {
   "cell_type": "code",
   "execution_count": 100,
   "id": "298d7c9e-f188-408a-84ec-26f222688438",
   "metadata": {},
   "outputs": [
    {
     "ename": "NameError",
     "evalue": "name 'l3' is not defined",
     "output_type": "error",
     "traceback": [
      "\u001b[0;31m---------------------------------------------------------------------------\u001b[0m",
      "\u001b[0;31mNameError\u001b[0m                                 Traceback (most recent call last)",
      "Cell \u001b[0;32mIn[100], line 1\u001b[0m\n\u001b[0;32m----> 1\u001b[0m \u001b[43ml3\u001b[49m\n",
      "\u001b[0;31mNameError\u001b[0m: name 'l3' is not defined"
     ]
    }
   ],
   "source": [
    "l3"
   ]
  },
  {
   "cell_type": "code",
   "execution_count": 101,
   "id": "35ec3c83-9a33-4258-a1b4-825d158b1ee6",
   "metadata": {},
   "outputs": [],
   "source": [
    "l3 = [1,2,3,4,5]"
   ]
  },
  {
   "cell_type": "code",
   "execution_count": 102,
   "id": "4b66c60a-89f4-4124-991f-b18289b54d66",
   "metadata": {},
   "outputs": [
    {
     "data": {
      "text/plain": [
       "[1, 2, 3, 4, 5]"
      ]
     },
     "execution_count": 102,
     "metadata": {},
     "output_type": "execute_result"
    }
   ],
   "source": [
    "l3"
   ]
  },
  {
   "cell_type": "code",
   "execution_count": 103,
   "id": "02af968f-80ea-4027-8580-afb611db847a",
   "metadata": {},
   "outputs": [],
   "source": [
    "l3.extend([6,7,8])"
   ]
  },
  {
   "cell_type": "code",
   "execution_count": 104,
   "id": "d99335ec-aa2d-4a16-af79-f64891dbc305",
   "metadata": {},
   "outputs": [
    {
     "data": {
      "text/plain": [
       "[1, 2, 3, 4, 5, 6, 7, 8]"
      ]
     },
     "execution_count": 104,
     "metadata": {},
     "output_type": "execute_result"
    }
   ],
   "source": [
    "l3"
   ]
  },
  {
   "cell_type": "code",
   "execution_count": 105,
   "id": "f4c49311-2b66-4b3b-9ca2-dcbc8e035dc7",
   "metadata": {},
   "outputs": [],
   "source": [
    "l3.insert(3,[9,10,11])"
   ]
  },
  {
   "cell_type": "code",
   "execution_count": 106,
   "id": "23a070b0-5591-4e2d-8573-24f2739f191a",
   "metadata": {},
   "outputs": [
    {
     "data": {
      "text/plain": [
       "[1, 2, 3, [9, 10, 11], 4, 5, 6, 7, 8]"
      ]
     },
     "execution_count": 106,
     "metadata": {},
     "output_type": "execute_result"
    }
   ],
   "source": [
    "l3"
   ]
  },
  {
   "cell_type": "code",
   "execution_count": 107,
   "id": "ca1da282-fd13-4f70-a831-ba1e668c3ce3",
   "metadata": {},
   "outputs": [],
   "source": [
    " # extend unwrap first then insert it"
   ]
  },
  {
   "cell_type": "code",
   "execution_count": 108,
   "id": "7919abdd-2f40-4cb1-9fbf-acb082517c71",
   "metadata": {},
   "outputs": [
    {
     "data": {
      "text/plain": [
       "8"
      ]
     },
     "execution_count": 108,
     "metadata": {},
     "output_type": "execute_result"
    }
   ],
   "source": [
    "l3.pop()"
   ]
  },
  {
   "cell_type": "code",
   "execution_count": 109,
   "id": "c04054fc-b8c8-4fba-9b46-8ad15e12120c",
   "metadata": {},
   "outputs": [],
   "source": [
    "#pop will delete the data from the last"
   ]
  },
  {
   "cell_type": "code",
   "execution_count": 110,
   "id": "192d7209-d28c-4473-9975-39e01205dd5f",
   "metadata": {},
   "outputs": [
    {
     "data": {
      "text/plain": [
       "[9, 10, 11]"
      ]
     },
     "execution_count": 110,
     "metadata": {},
     "output_type": "execute_result"
    }
   ],
   "source": [
    "l3.pop(3)"
   ]
  },
  {
   "cell_type": "code",
   "execution_count": 111,
   "id": "a4c70d62-a789-49e3-9deb-adc73ea86f86",
   "metadata": {},
   "outputs": [
    {
     "data": {
      "text/plain": [
       "[1, 2, 3, 4, 5, 6, 7]"
      ]
     },
     "execution_count": 111,
     "metadata": {},
     "output_type": "execute_result"
    }
   ],
   "source": [
    "l3"
   ]
  },
  {
   "cell_type": "code",
   "execution_count": 112,
   "id": "4c593fe5-6d94-4f26-b8fb-374743a5c88c",
   "metadata": {},
   "outputs": [],
   "source": [
    "## it will delete the whole list\n",
    "\n",
    "del l3"
   ]
  },
  {
   "cell_type": "code",
   "execution_count": 113,
   "id": "604bcd30-0e94-4ffe-9959-7e0b6ffc46d1",
   "metadata": {},
   "outputs": [
    {
     "ename": "NameError",
     "evalue": "name 'l3' is not defined",
     "output_type": "error",
     "traceback": [
      "\u001b[0;31m---------------------------------------------------------------------------\u001b[0m",
      "\u001b[0;31mNameError\u001b[0m                                 Traceback (most recent call last)",
      "Cell \u001b[0;32mIn[113], line 1\u001b[0m\n\u001b[0;32m----> 1\u001b[0m \u001b[43ml3\u001b[49m\n",
      "\u001b[0;31mNameError\u001b[0m: name 'l3' is not defined"
     ]
    }
   ],
   "source": [
    "l3"
   ]
  },
  {
   "cell_type": "code",
   "execution_count": 118,
   "id": "01ff4b01-7a5e-46f7-be78-6cc0e25f9565",
   "metadata": {},
   "outputs": [],
   "source": [
    "# it will remove the first occurence of the data\n",
    "\n",
    "l2.remove('p')"
   ]
  },
  {
   "cell_type": "code",
   "execution_count": 119,
   "id": "1f836397-327a-4d7a-9c6b-b76300217775",
   "metadata": {},
   "outputs": [
    {
     "data": {
      "text/plain": [
       "[300, 4, 5, 'sudhanshu', 'w']"
      ]
     },
     "execution_count": 119,
     "metadata": {},
     "output_type": "execute_result"
    }
   ],
   "source": [
    "l2"
   ]
  },
  {
   "cell_type": "code",
   "execution_count": 120,
   "id": "8c13072e-da01-47e1-890f-d673ec8e8819",
   "metadata": {},
   "outputs": [
    {
     "ename": "IndexError",
     "evalue": "pop index out of range",
     "output_type": "error",
     "traceback": [
      "\u001b[0;31m---------------------------------------------------------------------------\u001b[0m",
      "\u001b[0;31mIndexError\u001b[0m                                Traceback (most recent call last)",
      "Cell \u001b[0;32mIn[120], line 1\u001b[0m\n\u001b[0;32m----> 1\u001b[0m \u001b[43ml2\u001b[49m\u001b[38;5;241;43m.\u001b[39;49m\u001b[43mpop\u001b[49m\u001b[43m(\u001b[49m\u001b[38;5;241;43m1000\u001b[39;49m\u001b[43m)\u001b[49m\n",
      "\u001b[0;31mIndexError\u001b[0m: pop index out of range"
     ]
    }
   ],
   "source": [
    "l2.pop(1000)"
   ]
  },
  {
   "cell_type": "code",
   "execution_count": 122,
   "id": "b79e0a9a-5b72-466c-a5ed-5e88c8d187c1",
   "metadata": {},
   "outputs": [],
   "source": [
    "l1.clear()"
   ]
  },
  {
   "cell_type": "code",
   "execution_count": 123,
   "id": "64f0be28-3b4f-4a9b-8521-460c5bda4b02",
   "metadata": {},
   "outputs": [
    {
     "data": {
      "text/plain": [
       "[]"
      ]
     },
     "execution_count": 123,
     "metadata": {},
     "output_type": "execute_result"
    }
   ],
   "source": [
    "l1"
   ]
  },
  {
   "cell_type": "code",
   "execution_count": 124,
   "id": "a0c04ea7-c5e6-4ce8-8ee1-70d7c8009610",
   "metadata": {},
   "outputs": [
    {
     "data": {
      "text/plain": [
       "[300, 4, 5, 'sudhanshu', 'w']"
      ]
     },
     "execution_count": 124,
     "metadata": {},
     "output_type": "execute_result"
    }
   ],
   "source": [
    "l2"
   ]
  },
  {
   "cell_type": "code",
   "execution_count": 125,
   "id": "337e3052-c935-4e8e-b92b-00d00e35528d",
   "metadata": {},
   "outputs": [],
   "source": [
    "l2.reverse()"
   ]
  },
  {
   "cell_type": "code",
   "execution_count": 126,
   "id": "fac4c6b4-7244-417d-b4a5-52d35a5cec9b",
   "metadata": {},
   "outputs": [
    {
     "data": {
      "text/plain": [
       "['w', 'sudhanshu', 5, 4, 300]"
      ]
     },
     "execution_count": 126,
     "metadata": {},
     "output_type": "execute_result"
    }
   ],
   "source": [
    "l2"
   ]
  },
  {
   "cell_type": "code",
   "execution_count": 127,
   "id": "c3501b4c-2dd1-4965-a1c1-dfe1c82746dd",
   "metadata": {},
   "outputs": [],
   "source": [
    "l4 = [2,4,5,6,8,4,2,1,4,5,6,3,2,4,7]"
   ]
  },
  {
   "cell_type": "code",
   "execution_count": 128,
   "id": "118f890b-4c7d-4a21-b36b-fc12c1802009",
   "metadata": {},
   "outputs": [],
   "source": [
    "l4.sort()"
   ]
  },
  {
   "cell_type": "code",
   "execution_count": 129,
   "id": "e9b4d6c6-157a-4938-892f-9e77b681a1d0",
   "metadata": {},
   "outputs": [
    {
     "data": {
      "text/plain": [
       "[1, 2, 2, 2, 3, 4, 4, 4, 4, 5, 5, 6, 6, 7, 8]"
      ]
     },
     "execution_count": 129,
     "metadata": {},
     "output_type": "execute_result"
    }
   ],
   "source": [
    "l4"
   ]
  },
  {
   "cell_type": "code",
   "execution_count": 130,
   "id": "d651ccce-c76e-4caf-835e-be48f0106966",
   "metadata": {},
   "outputs": [],
   "source": [
    "l4.sort(reverse=True)"
   ]
  },
  {
   "cell_type": "code",
   "execution_count": 131,
   "id": "d2e43cb4-cd8d-4939-8c98-40918a7227b5",
   "metadata": {},
   "outputs": [
    {
     "data": {
      "text/plain": [
       "[8, 7, 6, 6, 5, 5, 4, 4, 4, 4, 3, 2, 2, 2, 1]"
      ]
     },
     "execution_count": 131,
     "metadata": {},
     "output_type": "execute_result"
    }
   ],
   "source": [
    "l4"
   ]
  },
  {
   "cell_type": "code",
   "execution_count": 132,
   "id": "bee5b867-139f-461f-a3c5-5e66965871e8",
   "metadata": {},
   "outputs": [
    {
     "data": {
      "text/plain": [
       "['w', 'sudhanshu', 5, 4, 300]"
      ]
     },
     "execution_count": 132,
     "metadata": {},
     "output_type": "execute_result"
    }
   ],
   "source": [
    "l2"
   ]
  },
  {
   "cell_type": "code",
   "execution_count": 133,
   "id": "3cd0f85d-a596-47c5-84b2-a6fb79a902b8",
   "metadata": {},
   "outputs": [],
   "source": [
    "l7 = l2.copy()"
   ]
  },
  {
   "cell_type": "code",
   "execution_count": 134,
   "id": "9dc7f8c6-5629-4280-a1eb-6a32419f28f7",
   "metadata": {},
   "outputs": [],
   "source": [
    "l2[0] = 100"
   ]
  },
  {
   "cell_type": "code",
   "execution_count": 135,
   "id": "463fdf23-24ef-4451-ba5c-ae7e1cc1a4dd",
   "metadata": {},
   "outputs": [
    {
     "data": {
      "text/plain": [
       "[100, 'sudhanshu', 5, 4, 300]"
      ]
     },
     "execution_count": 135,
     "metadata": {},
     "output_type": "execute_result"
    }
   ],
   "source": [
    "l2"
   ]
  },
  {
   "cell_type": "code",
   "execution_count": 136,
   "id": "bf67b4af-80e7-4779-beba-96b422cc100c",
   "metadata": {},
   "outputs": [
    {
     "data": {
      "text/plain": [
       "['w', 'sudhanshu', 5, 4, 300]"
      ]
     },
     "execution_count": 136,
     "metadata": {},
     "output_type": "execute_result"
    }
   ],
   "source": [
    "l7"
   ]
  },
  {
   "cell_type": "code",
   "execution_count": 137,
   "id": "ffcc9c3d-85c8-4341-a78f-08ba8e18965b",
   "metadata": {},
   "outputs": [],
   "source": [
    "## this kind of copying is called deep copy"
   ]
  },
  {
   "cell_type": "code",
   "execution_count": null,
   "id": "60d608af-d110-4703-b4c0-e1e8d3eaa052",
   "metadata": {},
   "outputs": [],
   "source": []
  }
 ],
 "metadata": {
  "kernelspec": {
   "display_name": "Python 3 (ipykernel)",
   "language": "python",
   "name": "python3"
  },
  "language_info": {
   "codemirror_mode": {
    "name": "ipython",
    "version": 3
   },
   "file_extension": ".py",
   "mimetype": "text/x-python",
   "name": "python",
   "nbconvert_exporter": "python",
   "pygments_lexer": "ipython3",
   "version": "3.10.8"
  }
 },
 "nbformat": 4,
 "nbformat_minor": 5
}
