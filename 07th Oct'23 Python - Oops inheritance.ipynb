{
 "cells": [
  {
   "cell_type": "markdown",
   "id": "903bc34f-aa24-45fb-8b06-fd6722b9715e",
   "metadata": {},
   "source": [
    "# 07th Oct'23 : Python - Oops inheritance"
   ]
  },
  {
   "cell_type": "code",
   "execution_count": 8,
   "id": "92718f33-2acd-489b-bc43-abc393100cb1",
   "metadata": {},
   "outputs": [],
   "source": [
    "class a :\n",
    "    \n",
    "    def test(self) :\n",
    "        print(\"this is a test method for class a\")\n",
    "        \n",
    "    def test_1(self) :\n",
    "        print(\"this is a test method for  a\")"
   ]
  },
  {
   "cell_type": "code",
   "execution_count": 9,
   "id": "48810570-6b4a-4721-b72f-800ebf4debf5",
   "metadata": {},
   "outputs": [],
   "source": [
    "obj_a = a()"
   ]
  },
  {
   "cell_type": "code",
   "execution_count": 10,
   "id": "9f83d462-93c5-41f4-b6d0-008ddf40f6dc",
   "metadata": {},
   "outputs": [
    {
     "name": "stdout",
     "output_type": "stream",
     "text": [
      "this is a test method for class a\n"
     ]
    }
   ],
   "source": [
    "obj_a.test()"
   ]
  },
  {
   "cell_type": "code",
   "execution_count": 11,
   "id": "903849cb-6730-4764-ae4e-a8798923d67b",
   "metadata": {},
   "outputs": [],
   "source": [
    "# now if we want to use the function of class a in another class "
   ]
  },
  {
   "cell_type": "code",
   "execution_count": 12,
   "id": "0c4a126f-0e13-4eaa-b016-5b46c6da5811",
   "metadata": {},
   "outputs": [],
   "source": [
    "class b(a) :\n",
    "    pass"
   ]
  },
  {
   "cell_type": "code",
   "execution_count": 13,
   "id": "22d55c0b-4809-49c7-97f9-25350656b8a7",
   "metadata": {},
   "outputs": [],
   "source": [
    "obj_b = b()"
   ]
  },
  {
   "cell_type": "code",
   "execution_count": 14,
   "id": "9dcde04a-43be-4632-b391-98363020fedf",
   "metadata": {},
   "outputs": [
    {
     "name": "stdout",
     "output_type": "stream",
     "text": [
      "this is a test method for class a\n"
     ]
    }
   ],
   "source": [
    "obj_b.test()"
   ]
  },
  {
   "cell_type": "code",
   "execution_count": null,
   "id": "79dead89-8d90-4fdc-9cae-cb071aa5a868",
   "metadata": {},
   "outputs": [],
   "source": []
  },
  {
   "cell_type": "code",
   "execution_count": 15,
   "id": "2257eea4-ae44-41d7-9c32-f003495ade1a",
   "metadata": {},
   "outputs": [
    {
     "name": "stdout",
     "output_type": "stream",
     "text": [
      "this is a test method for  a\n"
     ]
    }
   ],
   "source": [
    "obj_b.test_1()"
   ]
  },
  {
   "cell_type": "code",
   "execution_count": null,
   "id": "d5147454-fc0d-4441-8e25-83f7dd6779dc",
   "metadata": {},
   "outputs": [],
   "source": []
  },
  {
   "cell_type": "code",
   "execution_count": 17,
   "id": "ccd0e018-a7b1-4451-b1a9-3b695bdc387b",
   "metadata": {},
   "outputs": [],
   "source": [
    "class lecture :\n",
    "    def topic(self) : \n",
    "        print(\"today's class we are discussing about inheritence\")\n",
    "        \n",
    "    def timing(self) :\n",
    "        print(\"timing for today's class is 9 AM IST\")\n",
    "        \n",
    "    def end_time(self) :\n",
    "        print(\"today I will try to end the class early\")"
   ]
  },
  {
   "cell_type": "code",
   "execution_count": 19,
   "id": "4067df85-f623-4979-9b67-1c7ae12f1ad9",
   "metadata": {},
   "outputs": [],
   "source": [
    "class student(lecture) :\n",
    "    \n",
    "    def student_details(self) :\n",
    "        print(\"this class will give you a student details\")"
   ]
  },
  {
   "cell_type": "code",
   "execution_count": 20,
   "id": "1e6e7a01-d38e-431a-9811-f118e056409f",
   "metadata": {},
   "outputs": [],
   "source": [
    "naval = student()"
   ]
  },
  {
   "cell_type": "code",
   "execution_count": 21,
   "id": "8ffc5d6e-4a5d-4557-a6f7-a8d67c30e415",
   "metadata": {},
   "outputs": [
    {
     "name": "stdout",
     "output_type": "stream",
     "text": [
      "timing for today's class is 9 AM IST\n"
     ]
    }
   ],
   "source": [
    "naval.timing()"
   ]
  },
  {
   "cell_type": "code",
   "execution_count": 22,
   "id": "7460a993-b9b0-4a6d-a660-65ed3050ac5f",
   "metadata": {},
   "outputs": [
    {
     "name": "stdout",
     "output_type": "stream",
     "text": [
      "today's class we are discussing about inheritence\n"
     ]
    }
   ],
   "source": [
    "naval.topic()"
   ]
  },
  {
   "cell_type": "markdown",
   "id": "c1d79af3-cdce-459e-aa07-75059ffe7372",
   "metadata": {},
   "source": [
    "#### Multi Level Inhritence"
   ]
  },
  {
   "cell_type": "code",
   "execution_count": 23,
   "id": "01d1fe6c-df16-4693-981b-d0aa26533b4b",
   "metadata": {},
   "outputs": [],
   "source": [
    "class teacher(student) :\n",
    "    def details(self) :\n",
    "        print(\"this will give you a details about a teacher\")"
   ]
  },
  {
   "cell_type": "code",
   "execution_count": 24,
   "id": "4e98087d-29b4-475d-88a1-70ca06fc7022",
   "metadata": {},
   "outputs": [],
   "source": [
    "sudh = teacher()"
   ]
  },
  {
   "cell_type": "code",
   "execution_count": 25,
   "id": "8282e232-399e-4618-b330-598d9b599dff",
   "metadata": {},
   "outputs": [
    {
     "name": "stdout",
     "output_type": "stream",
     "text": [
      "timing for today's class is 9 AM IST\n"
     ]
    }
   ],
   "source": [
    "sudh.timing()"
   ]
  },
  {
   "cell_type": "code",
   "execution_count": null,
   "id": "bb134f9a-84d7-4b27-82df-7f8edc1cb355",
   "metadata": {},
   "outputs": [],
   "source": []
  },
  {
   "cell_type": "markdown",
   "id": "3e6ffba1-de7a-4a32-9cef-dfd3a6fef29d",
   "metadata": {},
   "source": [
    "##### Fresh Concept"
   ]
  },
  {
   "cell_type": "code",
   "execution_count": 29,
   "id": "887a901d-bee0-40bb-bb2a-26b09182000b",
   "metadata": {},
   "outputs": [],
   "source": [
    "class lecture :\n",
    "    def topic(self) : \n",
    "        print(\"today's class we are discussing about inheritence\")\n",
    "        \n",
    "    def timing(self) :\n",
    "        print(\"timing for today's class is 9 AM IST\")\n",
    "        \n",
    "    def end_time(self) :\n",
    "        print(\"today I will try to end the class early\")"
   ]
  },
  {
   "cell_type": "code",
   "execution_count": 30,
   "id": "32c1b892-e025-49f8-bd91-b96b981a0aba",
   "metadata": {},
   "outputs": [],
   "source": [
    "class student(lecture) :\n",
    "    \n",
    "    def student_details(self) :\n",
    "        print(\"this class will give you a student details\")"
   ]
  },
  {
   "cell_type": "code",
   "execution_count": 31,
   "id": "665e91e1-5d92-40ad-bd20-a44878fff302",
   "metadata": {},
   "outputs": [],
   "source": [
    "class teacher(student, lecture) :\n",
    "    def details(self) :\n",
    "        print(\"this will give you a details about a teacher\")"
   ]
  },
  {
   "cell_type": "code",
   "execution_count": null,
   "id": "42dd00b2-4b33-46cb-8387-d38bab658890",
   "metadata": {},
   "outputs": [],
   "source": []
  }
 ],
 "metadata": {
  "kernelspec": {
   "display_name": "Python 3 (ipykernel)",
   "language": "python",
   "name": "python3"
  },
  "language_info": {
   "codemirror_mode": {
    "name": "ipython",
    "version": 3
   },
   "file_extension": ".py",
   "mimetype": "text/x-python",
   "name": "python",
   "nbconvert_exporter": "python",
   "pygments_lexer": "ipython3",
   "version": "3.10.8"
  }
 },
 "nbformat": 4,
 "nbformat_minor": 5
}
