{
  "nbformat": 4,
  "nbformat_minor": 0,
  "metadata": {
    "colab": {
      "provenance": []
    },
    "kernelspec": {
      "name": "python3",
      "display_name": "Python 3"
    },
    "language_info": {
      "name": "python"
    }
  },
  "cells": [
    {
      "cell_type": "markdown",
      "source": [
        "# ***20th Jan : Numpy***"
      ],
      "metadata": {
        "id": "Nc_EyJL_elq4"
      }
    },
    {
      "cell_type": "code",
      "execution_count": 1,
      "metadata": {
        "id": "Gk_o9MeidF_X"
      },
      "outputs": [],
      "source": [
        "# Numpy = Numerical Python"
      ]
    },
    {
      "cell_type": "code",
      "source": [
        "import numpy as np # 2005 by Travis Oliphant"
      ],
      "metadata": {
        "id": "X58lp7RlgOq0"
      },
      "execution_count": 2,
      "outputs": []
    },
    {
      "cell_type": "code",
      "source": [
        "np.__version__"
      ],
      "metadata": {
        "colab": {
          "base_uri": "https://localhost:8080/",
          "height": 35
        },
        "id": "EgIecUzphK6x",
        "outputId": "168c75b5-325e-4cb1-b3a6-45c93029119f"
      },
      "execution_count": 3,
      "outputs": [
        {
          "output_type": "execute_result",
          "data": {
            "text/plain": [
              "'1.26.4'"
            ],
            "application/vnd.google.colaboratory.intrinsic+json": {
              "type": "string"
            }
          },
          "metadata": {},
          "execution_count": 3
        }
      ]
    },
    {
      "cell_type": "code",
      "source": [
        "print(np.__doc__)"
      ],
      "metadata": {
        "colab": {
          "base_uri": "https://localhost:8080/"
        },
        "id": "sde99ygQj9Pp",
        "outputId": "45e3d0b8-dbbb-4d0b-e00f-6d5f27657470"
      },
      "execution_count": 4,
      "outputs": [
        {
          "output_type": "stream",
          "name": "stdout",
          "text": [
            "\n",
            "NumPy\n",
            "=====\n",
            "\n",
            "Provides\n",
            "  1. An array object of arbitrary homogeneous items\n",
            "  2. Fast mathematical operations over arrays\n",
            "  3. Linear Algebra, Fourier Transforms, Random Number Generation\n",
            "\n",
            "How to use the documentation\n",
            "----------------------------\n",
            "Documentation is available in two forms: docstrings provided\n",
            "with the code, and a loose standing reference guide, available from\n",
            "`the NumPy homepage <https://numpy.org>`_.\n",
            "\n",
            "We recommend exploring the docstrings using\n",
            "`IPython <https://ipython.org>`_, an advanced Python shell with\n",
            "TAB-completion and introspection capabilities.  See below for further\n",
            "instructions.\n",
            "\n",
            "The docstring examples assume that `numpy` has been imported as ``np``::\n",
            "\n",
            "  >>> import numpy as np\n",
            "\n",
            "Code snippets are indicated by three greater-than signs::\n",
            "\n",
            "  >>> x = 42\n",
            "  >>> x = x + 1\n",
            "\n",
            "Use the built-in ``help`` function to view a function's docstring::\n",
            "\n",
            "  >>> help(np.sort)\n",
            "  ... # doctest: +SKIP\n",
            "\n",
            "For some objects, ``np.info(obj)`` may provide additional help.  This is\n",
            "particularly true if you see the line \"Help on ufunc object:\" at the top\n",
            "of the help() page.  Ufuncs are implemented in C, not Python, for speed.\n",
            "The native Python help() does not know how to view their help, but our\n",
            "np.info() function does.\n",
            "\n",
            "To search for documents containing a keyword, do::\n",
            "\n",
            "  >>> np.lookfor('keyword')\n",
            "  ... # doctest: +SKIP\n",
            "\n",
            "General-purpose documents like a glossary and help on the basic concepts\n",
            "of numpy are available under the ``doc`` sub-module::\n",
            "\n",
            "  >>> from numpy import doc\n",
            "  >>> help(doc)\n",
            "  ... # doctest: +SKIP\n",
            "\n",
            "Available subpackages\n",
            "---------------------\n",
            "lib\n",
            "    Basic functions used by several sub-packages.\n",
            "random\n",
            "    Core Random Tools\n",
            "linalg\n",
            "    Core Linear Algebra Tools\n",
            "fft\n",
            "    Core FFT routines\n",
            "polynomial\n",
            "    Polynomial tools\n",
            "testing\n",
            "    NumPy testing tools\n",
            "distutils\n",
            "    Enhancements to distutils with support for\n",
            "    Fortran compilers support and more  (for Python <= 3.11).\n",
            "\n",
            "Utilities\n",
            "---------\n",
            "test\n",
            "    Run numpy unittests\n",
            "show_config\n",
            "    Show numpy build configuration\n",
            "matlib\n",
            "    Make everything matrices.\n",
            "__version__\n",
            "    NumPy version string\n",
            "\n",
            "Viewing documentation using IPython\n",
            "-----------------------------------\n",
            "\n",
            "Start IPython and import `numpy` usually under the alias ``np``: `import\n",
            "numpy as np`.  Then, directly past or use the ``%cpaste`` magic to paste\n",
            "examples into the shell.  To see which functions are available in `numpy`,\n",
            "type ``np.<TAB>`` (where ``<TAB>`` refers to the TAB key), or use\n",
            "``np.*cos*?<ENTER>`` (where ``<ENTER>`` refers to the ENTER key) to narrow\n",
            "down the list.  To view the docstring for a function, use\n",
            "``np.cos?<ENTER>`` (to view the docstring) and ``np.cos??<ENTER>`` (to view\n",
            "the source code).\n",
            "\n",
            "Copies vs. in-place operation\n",
            "-----------------------------\n",
            "Most of the functions in `numpy` return a copy of the array argument\n",
            "(e.g., `np.sort`).  In-place versions of these functions are often\n",
            "available as array methods, i.e. ``x = np.array([1,2,3]); x.sort()``.\n",
            "Exceptions to this rule are documented.\n",
            "\n",
            "\n"
          ]
        }
      ]
    },
    {
      "cell_type": "code",
      "source": [
        "## Why Numpy\n",
        "\n",
        "# - mathematical function\n",
        "\n",
        "# Faster"
      ],
      "metadata": {
        "id": "lImEQFQMkPDB"
      },
      "execution_count": 5,
      "outputs": []
    },
    {
      "cell_type": "code",
      "source": [
        "list_1 = [1,2,3,4,5]"
      ],
      "metadata": {
        "id": "IMi-lziqkaAA"
      },
      "execution_count": 6,
      "outputs": []
    },
    {
      "cell_type": "markdown",
      "source": [
        "## What is the difference between array and list????"
      ],
      "metadata": {
        "id": "D_Nt2bRklIqg"
      }
    },
    {
      "cell_type": "code",
      "source": [
        "# Arrays are homogeneous (all elements of the same type), while lists are heterogeneous (elements can be different)"
      ],
      "metadata": {
        "id": "IOPbDWWNlDFs"
      },
      "execution_count": 7,
      "outputs": []
    },
    {
      "cell_type": "code",
      "source": [
        "np.array(list_1)"
      ],
      "metadata": {
        "colab": {
          "base_uri": "https://localhost:8080/"
        },
        "id": "jIlIwP4Ik6nx",
        "outputId": "a7cf6b5c-19f0-443a-deff-b2bace4c3155"
      },
      "execution_count": 8,
      "outputs": [
        {
          "output_type": "execute_result",
          "data": {
            "text/plain": [
              "array([1, 2, 3, 4, 5])"
            ]
          },
          "metadata": {},
          "execution_count": 8
        }
      ]
    },
    {
      "cell_type": "code",
      "source": [
        "type(np.array(list_1))"
      ],
      "metadata": {
        "colab": {
          "base_uri": "https://localhost:8080/"
        },
        "id": "0flY99xuk9jI",
        "outputId": "b8ebc827-b60e-42d8-eaa9-10aaee1e100e"
      },
      "execution_count": 9,
      "outputs": [
        {
          "output_type": "execute_result",
          "data": {
            "text/plain": [
              "numpy.ndarray"
            ]
          },
          "metadata": {},
          "execution_count": 9
        }
      ]
    },
    {
      "cell_type": "code",
      "source": [
        "# ndarray means n dimensional array\n",
        "\n",
        "\n",
        "\n",
        "## array is the way in which numpy stores the data\n",
        "## it only stores same type of the data (datatype is same)"
      ],
      "metadata": {
        "id": "caXP2uROlVlx"
      },
      "execution_count": 10,
      "outputs": []
    },
    {
      "cell_type": "code",
      "source": [
        "list_2 = [1,2,3,'heaven',8]"
      ],
      "metadata": {
        "id": "fBU5JGZ5lgyQ"
      },
      "execution_count": 11,
      "outputs": []
    },
    {
      "cell_type": "code",
      "source": [
        "np.array(list_2)\n",
        "\n",
        "## here the datatype has been changed to string (dtype='<U21')\n",
        "\n",
        "## you also get (dtype= 'U11') that is different string format"
      ],
      "metadata": {
        "colab": {
          "base_uri": "https://localhost:8080/"
        },
        "id": "kUzNbESSlxaA",
        "outputId": "f0c76057-2b03-4791-f8cd-e649b05d1697"
      },
      "execution_count": 12,
      "outputs": [
        {
          "output_type": "execute_result",
          "data": {
            "text/plain": [
              "array(['1', '2', '3', 'heaven', '8'], dtype='<U21')"
            ]
          },
          "metadata": {},
          "execution_count": 12
        }
      ]
    },
    {
      "cell_type": "code",
      "source": [
        "arr_1 = np.array(list_1)"
      ],
      "metadata": {
        "id": "yWV7_k_Pl6uY"
      },
      "execution_count": 13,
      "outputs": []
    },
    {
      "cell_type": "code",
      "source": [
        "arr_1.ndim"
      ],
      "metadata": {
        "colab": {
          "base_uri": "https://localhost:8080/"
        },
        "id": "niecWpe0nPf6",
        "outputId": "fc195cde-3a67-44dd-e7db-dfd36a960c4f"
      },
      "execution_count": 14,
      "outputs": [
        {
          "output_type": "execute_result",
          "data": {
            "text/plain": [
              "1"
            ]
          },
          "metadata": {},
          "execution_count": 14
        }
      ]
    },
    {
      "cell_type": "code",
      "source": [
        "arr_2 = np.array(list_2)"
      ],
      "metadata": {
        "id": "syZwNNsvnSLo"
      },
      "execution_count": 15,
      "outputs": []
    },
    {
      "cell_type": "code",
      "source": [
        "arr_2.ndim"
      ],
      "metadata": {
        "colab": {
          "base_uri": "https://localhost:8080/"
        },
        "id": "LhvomTwCnWph",
        "outputId": "07ed07e0-08b1-4f7a-c676-f57737f258ae"
      },
      "execution_count": 16,
      "outputs": [
        {
          "output_type": "execute_result",
          "data": {
            "text/plain": [
              "1"
            ]
          },
          "metadata": {},
          "execution_count": 16
        }
      ]
    },
    {
      "cell_type": "code",
      "source": [
        "arr_3 = np.array([[1,2,3],[4,5,6]])"
      ],
      "metadata": {
        "id": "xw-g3_3pnYnw"
      },
      "execution_count": 17,
      "outputs": []
    },
    {
      "cell_type": "code",
      "source": [
        "arr_3"
      ],
      "metadata": {
        "colab": {
          "base_uri": "https://localhost:8080/"
        },
        "id": "EQN-XyUOrMAJ",
        "outputId": "4d8aef1c-04c1-46e4-f609-f4b7b1f5066b"
      },
      "execution_count": 18,
      "outputs": [
        {
          "output_type": "execute_result",
          "data": {
            "text/plain": [
              "array([[1, 2, 3],\n",
              "       [4, 5, 6]])"
            ]
          },
          "metadata": {},
          "execution_count": 18
        }
      ]
    },
    {
      "cell_type": "code",
      "source": [
        "arr_3.ndim"
      ],
      "metadata": {
        "colab": {
          "base_uri": "https://localhost:8080/"
        },
        "id": "m65-W4zbrONk",
        "outputId": "7bb08e0d-cd5a-461e-fb9e-e5ebaec49eec"
      },
      "execution_count": 19,
      "outputs": [
        {
          "output_type": "execute_result",
          "data": {
            "text/plain": [
              "2"
            ]
          },
          "metadata": {},
          "execution_count": 19
        }
      ]
    },
    {
      "cell_type": "markdown",
      "source": [
        "![image.png](data:image/png;base64,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)"
      ],
      "metadata": {
        "id": "QyCcJpKQsr5y"
      }
    },
    {
      "cell_type": "markdown",
      "source": [
        "![image.png](data:image/png;base64,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)"
      ],
      "metadata": {
        "id": "Tg11A3k3szPT"
      }
    },
    {
      "cell_type": "markdown",
      "source": [
        "![image.png](data:image/png;base64,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)"
      ],
      "metadata": {
        "id": "RTYiDdvts--M"
      }
    },
    {
      "cell_type": "code",
      "source": [
        "## you can also say the dimention of the array by checking the number of square bracket in the beginning"
      ],
      "metadata": {
        "id": "MI6eFbGQu5o7"
      },
      "execution_count": 20,
      "outputs": []
    },
    {
      "cell_type": "code",
      "source": [
        "l = [1,2,3,4,5,6,7,8,9]\n",
        "\n",
        "np.array(l)"
      ],
      "metadata": {
        "colab": {
          "base_uri": "https://localhost:8080/"
        },
        "id": "1Z9lHujZrRZ5",
        "outputId": "b05041be-96b4-4e4f-dd32-3644296166b4"
      },
      "execution_count": 21,
      "outputs": [
        {
          "output_type": "execute_result",
          "data": {
            "text/plain": [
              "array([1, 2, 3, 4, 5, 6, 7, 8, 9])"
            ]
          },
          "metadata": {},
          "execution_count": 21
        }
      ]
    },
    {
      "cell_type": "code",
      "source": [
        "np.matrix(l)"
      ],
      "metadata": {
        "colab": {
          "base_uri": "https://localhost:8080/"
        },
        "id": "0CiNHAXyufZh",
        "outputId": "a2d03fe9-e021-4fb6-e463-e481b357f5e7"
      },
      "execution_count": 22,
      "outputs": [
        {
          "output_type": "execute_result",
          "data": {
            "text/plain": [
              "matrix([[1, 2, 3, 4, 5, 6, 7, 8, 9]])"
            ]
          },
          "metadata": {},
          "execution_count": 22
        }
      ]
    },
    {
      "cell_type": "code",
      "source": [
        "## matrix provides only the two dimensional array.\n",
        "\n",
        "## because by default matrix becomes 2D array"
      ],
      "metadata": {
        "id": "SRV8SJdHZCp_"
      },
      "execution_count": 23,
      "outputs": []
    },
    {
      "cell_type": "code",
      "source": [
        "np.matrix([[1,2,3], [4,5,6], [7,8,9]])"
      ],
      "metadata": {
        "colab": {
          "base_uri": "https://localhost:8080/"
        },
        "id": "lxj6ZoLOZNle",
        "outputId": "721e17b2-1377-4a0c-e1f3-75e66843a8d7"
      },
      "execution_count": 24,
      "outputs": [
        {
          "output_type": "execute_result",
          "data": {
            "text/plain": [
              "matrix([[1, 2, 3],\n",
              "        [4, 5, 6],\n",
              "        [7, 8, 9]])"
            ]
          },
          "metadata": {},
          "execution_count": 24
        }
      ]
    },
    {
      "cell_type": "code",
      "source": [
        "np.matrix([[1,2], [4,5], [7,8]])"
      ],
      "metadata": {
        "colab": {
          "base_uri": "https://localhost:8080/"
        },
        "id": "bDEZjduNANKb",
        "outputId": "2b4c6dc8-e215-45ac-8fee-ac59cc313251"
      },
      "execution_count": 25,
      "outputs": [
        {
          "output_type": "execute_result",
          "data": {
            "text/plain": [
              "matrix([[1, 2],\n",
              "        [4, 5],\n",
              "        [7, 8]])"
            ]
          },
          "metadata": {},
          "execution_count": 25
        }
      ]
    },
    {
      "cell_type": "code",
      "source": [
        "## but\n",
        "\n",
        "np.matrix([[[1,2], [3,4], [5,6]]])\n",
        "\n",
        "## will show an error as matrix cannot be able to make 3D array"
      ],
      "metadata": {
        "colab": {
          "base_uri": "https://localhost:8080/",
          "height": 332
        },
        "id": "15o89FeSA59D",
        "outputId": "b27101b0-32b9-4a3d-ac69-a4f050841e23"
      },
      "execution_count": 26,
      "outputs": [
        {
          "output_type": "error",
          "ename": "ValueError",
          "evalue": "matrix must be 2-dimensional",
          "traceback": [
            "\u001b[0;31m---------------------------------------------------------------------------\u001b[0m",
            "\u001b[0;31mValueError\u001b[0m                                Traceback (most recent call last)",
            "\u001b[0;32m<ipython-input-26-29cf6b84c3ad>\u001b[0m in \u001b[0;36m<cell line: 3>\u001b[0;34m()\u001b[0m\n\u001b[1;32m      1\u001b[0m \u001b[0;31m## but\u001b[0m\u001b[0;34m\u001b[0m\u001b[0;34m\u001b[0m\u001b[0m\n\u001b[1;32m      2\u001b[0m \u001b[0;34m\u001b[0m\u001b[0m\n\u001b[0;32m----> 3\u001b[0;31m \u001b[0mnp\u001b[0m\u001b[0;34m.\u001b[0m\u001b[0mmatrix\u001b[0m\u001b[0;34m(\u001b[0m\u001b[0;34m[\u001b[0m\u001b[0;34m[\u001b[0m\u001b[0;34m[\u001b[0m\u001b[0;36m1\u001b[0m\u001b[0;34m,\u001b[0m\u001b[0;36m2\u001b[0m\u001b[0;34m]\u001b[0m\u001b[0;34m,\u001b[0m \u001b[0;34m[\u001b[0m\u001b[0;36m3\u001b[0m\u001b[0;34m,\u001b[0m\u001b[0;36m4\u001b[0m\u001b[0;34m]\u001b[0m\u001b[0;34m,\u001b[0m \u001b[0;34m[\u001b[0m\u001b[0;36m5\u001b[0m\u001b[0;34m,\u001b[0m\u001b[0;36m6\u001b[0m\u001b[0;34m]\u001b[0m\u001b[0;34m]\u001b[0m\u001b[0;34m]\u001b[0m\u001b[0;34m)\u001b[0m\u001b[0;34m\u001b[0m\u001b[0;34m\u001b[0m\u001b[0m\n\u001b[0m\u001b[1;32m      4\u001b[0m \u001b[0;34m\u001b[0m\u001b[0m\n\u001b[1;32m      5\u001b[0m \u001b[0;31m## will show an error as matrix cannot be able to make 3D array\u001b[0m\u001b[0;34m\u001b[0m\u001b[0;34m\u001b[0m\u001b[0m\n",
            "\u001b[0;32m/usr/local/lib/python3.10/dist-packages/numpy/matrixlib/defmatrix.py\u001b[0m in \u001b[0;36m__new__\u001b[0;34m(subtype, data, dtype, copy)\u001b[0m\n\u001b[1;32m    148\u001b[0m         \u001b[0mshape\u001b[0m \u001b[0;34m=\u001b[0m \u001b[0marr\u001b[0m\u001b[0;34m.\u001b[0m\u001b[0mshape\u001b[0m\u001b[0;34m\u001b[0m\u001b[0;34m\u001b[0m\u001b[0m\n\u001b[1;32m    149\u001b[0m         \u001b[0;32mif\u001b[0m \u001b[0;34m(\u001b[0m\u001b[0mndim\u001b[0m \u001b[0;34m>\u001b[0m \u001b[0;36m2\u001b[0m\u001b[0;34m)\u001b[0m\u001b[0;34m:\u001b[0m\u001b[0;34m\u001b[0m\u001b[0;34m\u001b[0m\u001b[0m\n\u001b[0;32m--> 150\u001b[0;31m             \u001b[0;32mraise\u001b[0m \u001b[0mValueError\u001b[0m\u001b[0;34m(\u001b[0m\u001b[0;34m\"matrix must be 2-dimensional\"\u001b[0m\u001b[0;34m)\u001b[0m\u001b[0;34m\u001b[0m\u001b[0;34m\u001b[0m\u001b[0m\n\u001b[0m\u001b[1;32m    151\u001b[0m         \u001b[0;32melif\u001b[0m \u001b[0mndim\u001b[0m \u001b[0;34m==\u001b[0m \u001b[0;36m0\u001b[0m\u001b[0;34m:\u001b[0m\u001b[0;34m\u001b[0m\u001b[0;34m\u001b[0m\u001b[0m\n\u001b[1;32m    152\u001b[0m             \u001b[0mshape\u001b[0m \u001b[0;34m=\u001b[0m \u001b[0;34m(\u001b[0m\u001b[0;36m1\u001b[0m\u001b[0;34m,\u001b[0m \u001b[0;36m1\u001b[0m\u001b[0;34m)\u001b[0m\u001b[0;34m\u001b[0m\u001b[0;34m\u001b[0m\u001b[0m\n",
            "\u001b[0;31mValueError\u001b[0m: matrix must be 2-dimensional"
          ]
        }
      ]
    },
    {
      "cell_type": "code",
      "source": [
        "## but in array, it can be possible\n",
        "\n",
        "\n",
        "np.array([[[1,2], [3,4], [5,6]]])"
      ],
      "metadata": {
        "colab": {
          "base_uri": "https://localhost:8080/"
        },
        "id": "-z6lFanlBkF8",
        "outputId": "3f463ff9-afaf-436a-f42f-d80d9a1b3ec2"
      },
      "execution_count": 27,
      "outputs": [
        {
          "output_type": "execute_result",
          "data": {
            "text/plain": [
              "array([[[1, 2],\n",
              "        [3, 4],\n",
              "        [5, 6]]])"
            ]
          },
          "metadata": {},
          "execution_count": 27
        }
      ]
    },
    {
      "cell_type": "code",
      "source": [
        "## more way to convert list into array\n",
        "\n",
        "\n",
        "np.asarray([[[1,2], [3,4], [5,6]]])"
      ],
      "metadata": {
        "colab": {
          "base_uri": "https://localhost:8080/"
        },
        "id": "v7_URvGvB8rC",
        "outputId": "06c1922b-3f24-4338-a773-c59acf910b4d"
      },
      "execution_count": 28,
      "outputs": [
        {
          "output_type": "execute_result",
          "data": {
            "text/plain": [
              "array([[[1, 2],\n",
              "        [3, 4],\n",
              "        [5, 6]]])"
            ]
          },
          "metadata": {},
          "execution_count": 28
        }
      ]
    },
    {
      "cell_type": "markdown",
      "source": [
        "### **Matrix is a Sublclass of array. on the other hand, Matrix cannot be able to make more than 2 Dinmensional array**"
      ],
      "metadata": {
        "id": "dv9o1sHNGcGw"
      }
    },
    {
      "cell_type": "code",
      "source": [
        "### converting the input to an ndarray but pass ndarray subclass through"
      ],
      "metadata": {
        "id": "dU_BF5ZdEVw2"
      },
      "execution_count": 29,
      "outputs": []
    },
    {
      "cell_type": "code",
      "source": [
        "np.asanyarray([[[1,2], [3,4], [5,6]]])"
      ],
      "metadata": {
        "colab": {
          "base_uri": "https://localhost:8080/"
        },
        "id": "c3rsBuYKHVLv",
        "outputId": "adf0d415-c82d-472c-ceea-a7b6db869c91"
      },
      "execution_count": 30,
      "outputs": [
        {
          "output_type": "execute_result",
          "data": {
            "text/plain": [
              "array([[[1, 2],\n",
              "        [3, 4],\n",
              "        [5, 6]]])"
            ]
          },
          "metadata": {},
          "execution_count": 30
        }
      ]
    },
    {
      "cell_type": "code",
      "source": [
        "mat = np.matrix(l)"
      ],
      "metadata": {
        "id": "qNyAH2FJHe1P"
      },
      "execution_count": 31,
      "outputs": []
    },
    {
      "cell_type": "code",
      "source": [
        "mat"
      ],
      "metadata": {
        "colab": {
          "base_uri": "https://localhost:8080/"
        },
        "id": "ANlAjSbFHvb-",
        "outputId": "36be60ae-ffe4-4c17-effe-a98dd67502bf"
      },
      "execution_count": 32,
      "outputs": [
        {
          "output_type": "execute_result",
          "data": {
            "text/plain": [
              "matrix([[1, 2, 3, 4, 5, 6, 7, 8, 9]])"
            ]
          },
          "metadata": {},
          "execution_count": 32
        }
      ]
    },
    {
      "cell_type": "code",
      "source": [
        "np.asanyarray(mat)"
      ],
      "metadata": {
        "colab": {
          "base_uri": "https://localhost:8080/"
        },
        "id": "JLcxL5MaHyrU",
        "outputId": "4e6cae8f-f9ea-40cd-864e-e4be0d5ff4d8"
      },
      "execution_count": 33,
      "outputs": [
        {
          "output_type": "execute_result",
          "data": {
            "text/plain": [
              "matrix([[1, 2, 3, 4, 5, 6, 7, 8, 9]])"
            ]
          },
          "metadata": {},
          "execution_count": 33
        }
      ]
    },
    {
      "cell_type": "code",
      "source": [
        "## it means it will conver in an array. but if there are any array or subclass of an array already given then it will pass only"
      ],
      "metadata": {
        "id": "-Hx0ViTPH6zn"
      },
      "execution_count": 34,
      "outputs": []
    },
    {
      "cell_type": "code",
      "source": [
        "t = ([1,2,3], [4,5,6])"
      ],
      "metadata": {
        "id": "PvBNes56IW9U"
      },
      "execution_count": 35,
      "outputs": []
    },
    {
      "cell_type": "code",
      "source": [
        "type(t)"
      ],
      "metadata": {
        "colab": {
          "base_uri": "https://localhost:8080/"
        },
        "id": "Z0ATPmYuI87W",
        "outputId": "f07f6254-88ca-4e40-8cdf-dc756ba98bff"
      },
      "execution_count": 36,
      "outputs": [
        {
          "output_type": "execute_result",
          "data": {
            "text/plain": [
              "tuple"
            ]
          },
          "metadata": {},
          "execution_count": 36
        }
      ]
    },
    {
      "cell_type": "code",
      "source": [
        "## changing into array\n",
        "\n",
        "np.array(t)"
      ],
      "metadata": {
        "colab": {
          "base_uri": "https://localhost:8080/"
        },
        "id": "CQANhyyOJCC2",
        "outputId": "5b46a86c-903b-4cba-9373-821f55170d68"
      },
      "execution_count": 37,
      "outputs": [
        {
          "output_type": "execute_result",
          "data": {
            "text/plain": [
              "array([[1, 2, 3],\n",
              "       [4, 5, 6]])"
            ]
          },
          "metadata": {},
          "execution_count": 37
        }
      ]
    },
    {
      "cell_type": "code",
      "source": [
        "a = 5"
      ],
      "metadata": {
        "id": "o6Mm3dx4JHZO"
      },
      "execution_count": 38,
      "outputs": []
    },
    {
      "cell_type": "code",
      "source": [
        "np.array(a)"
      ],
      "metadata": {
        "colab": {
          "base_uri": "https://localhost:8080/"
        },
        "id": "_05TKpYaJMnG",
        "outputId": "7d3fdf2b-2d1e-4818-e09e-9d317bb3bfc9"
      },
      "execution_count": 39,
      "outputs": [
        {
          "output_type": "execute_result",
          "data": {
            "text/plain": [
              "array(5)"
            ]
          },
          "metadata": {},
          "execution_count": 39
        }
      ]
    },
    {
      "cell_type": "markdown",
      "source": [
        "# **Deep Copying and Shallow Coping**"
      ],
      "metadata": {
        "id": "zLiNVUAEdyTx"
      }
    },
    {
      "cell_type": "code",
      "source": [
        "## deep copying and shallow coping"
      ],
      "metadata": {
        "id": "SpyKVNj-JNq2"
      },
      "execution_count": 40,
      "outputs": []
    },
    {
      "cell_type": "code",
      "source": [
        "l = [1,2,3,4,5]\n",
        "\n",
        "arr = np.array(l)"
      ],
      "metadata": {
        "id": "tnNYVhl9dYN3"
      },
      "execution_count": 41,
      "outputs": []
    },
    {
      "cell_type": "code",
      "source": [
        "arr"
      ],
      "metadata": {
        "colab": {
          "base_uri": "https://localhost:8080/"
        },
        "id": "tRGmox-CdgM9",
        "outputId": "adbd7cd6-19b2-4912-d8a9-8650f246e60e"
      },
      "execution_count": 42,
      "outputs": [
        {
          "output_type": "execute_result",
          "data": {
            "text/plain": [
              "array([1, 2, 3, 4, 5])"
            ]
          },
          "metadata": {},
          "execution_count": 42
        }
      ]
    },
    {
      "cell_type": "code",
      "source": [
        "arr[0]"
      ],
      "metadata": {
        "colab": {
          "base_uri": "https://localhost:8080/"
        },
        "id": "Py2Crfcqdg_W",
        "outputId": "e60af46c-4d31-4e12-e33d-3e1de242a923"
      },
      "execution_count": 43,
      "outputs": [
        {
          "output_type": "execute_result",
          "data": {
            "text/plain": [
              "1"
            ]
          },
          "metadata": {},
          "execution_count": 43
        }
      ]
    },
    {
      "cell_type": "code",
      "source": [
        "arr[3]"
      ],
      "metadata": {
        "colab": {
          "base_uri": "https://localhost:8080/"
        },
        "id": "C5NzjKI7dkxd",
        "outputId": "b9598141-df48-43b4-8f3f-b6e6ada85b79"
      },
      "execution_count": 44,
      "outputs": [
        {
          "output_type": "execute_result",
          "data": {
            "text/plain": [
              "4"
            ]
          },
          "metadata": {},
          "execution_count": 44
        }
      ]
    },
    {
      "cell_type": "code",
      "source": [
        "a = arr"
      ],
      "metadata": {
        "id": "Su08nmsZdnZn"
      },
      "execution_count": 45,
      "outputs": []
    },
    {
      "cell_type": "code",
      "source": [
        "a"
      ],
      "metadata": {
        "colab": {
          "base_uri": "https://localhost:8080/"
        },
        "id": "wOcMnnygdqxu",
        "outputId": "128d93ba-aeef-44e2-bb75-dd95b76e6c48"
      },
      "execution_count": 46,
      "outputs": [
        {
          "output_type": "execute_result",
          "data": {
            "text/plain": [
              "array([1, 2, 3, 4, 5])"
            ]
          },
          "metadata": {},
          "execution_count": 46
        }
      ]
    },
    {
      "cell_type": "code",
      "source": [
        "arr[0] = 1000"
      ],
      "metadata": {
        "id": "neD8EjZHdrLt"
      },
      "execution_count": 47,
      "outputs": []
    },
    {
      "cell_type": "code",
      "source": [
        "arr"
      ],
      "metadata": {
        "colab": {
          "base_uri": "https://localhost:8080/"
        },
        "id": "H0TaQxEZdugO",
        "outputId": "dec7ee39-c0d0-4895-cf4d-815d79228a13"
      },
      "execution_count": 48,
      "outputs": [
        {
          "output_type": "execute_result",
          "data": {
            "text/plain": [
              "array([1000,    2,    3,    4,    5])"
            ]
          },
          "metadata": {},
          "execution_count": 48
        }
      ]
    },
    {
      "cell_type": "code",
      "source": [
        "## in the array a is also change\n",
        "\n",
        "a"
      ],
      "metadata": {
        "colab": {
          "base_uri": "https://localhost:8080/"
        },
        "id": "ZAY6XBRPdv7-",
        "outputId": "6ad2aff0-51d4-4821-d468-66828c3d54c1"
      },
      "execution_count": 49,
      "outputs": [
        {
          "output_type": "execute_result",
          "data": {
            "text/plain": [
              "array([1000,    2,    3,    4,    5])"
            ]
          },
          "metadata": {},
          "execution_count": 49
        }
      ]
    },
    {
      "cell_type": "code",
      "source": [
        "## Deep Copy"
      ],
      "metadata": {
        "id": "Nh4YHKBveBv_"
      },
      "execution_count": 50,
      "outputs": []
    },
    {
      "cell_type": "code",
      "source": [
        "b = a.copy()"
      ],
      "metadata": {
        "id": "FQLB1euohEn9"
      },
      "execution_count": 51,
      "outputs": []
    },
    {
      "cell_type": "code",
      "source": [
        "b[0] = 2000"
      ],
      "metadata": {
        "id": "TIhBIhiXhGYH"
      },
      "execution_count": 52,
      "outputs": []
    },
    {
      "cell_type": "code",
      "source": [
        "b"
      ],
      "metadata": {
        "colab": {
          "base_uri": "https://localhost:8080/"
        },
        "id": "BPSj1zYVhJPl",
        "outputId": "89ec2fc7-8126-4d5a-baea-82b4490dd3e3"
      },
      "execution_count": 53,
      "outputs": [
        {
          "output_type": "execute_result",
          "data": {
            "text/plain": [
              "array([2000,    2,    3,    4,    5])"
            ]
          },
          "metadata": {},
          "execution_count": 53
        }
      ]
    },
    {
      "cell_type": "code",
      "source": [
        "a"
      ],
      "metadata": {
        "colab": {
          "base_uri": "https://localhost:8080/"
        },
        "id": "83_T-2M5hJr4",
        "outputId": "6e85d70b-f540-4bb3-8842-8a2c2badaa2b"
      },
      "execution_count": 54,
      "outputs": [
        {
          "output_type": "execute_result",
          "data": {
            "text/plain": [
              "array([1000,    2,    3,    4,    5])"
            ]
          },
          "metadata": {},
          "execution_count": 54
        }
      ]
    },
    {
      "cell_type": "code",
      "source": [
        "## there are multiple ways to generate arrays"
      ],
      "metadata": {
        "id": "o5Ml8EDYhKu9"
      },
      "execution_count": 55,
      "outputs": []
    },
    {
      "cell_type": "code",
      "source": [
        "np.fromfunction(lambda i, j: i == j, shape = (3,3))"
      ],
      "metadata": {
        "colab": {
          "base_uri": "https://localhost:8080/"
        },
        "id": "cKQExKNrhrRK",
        "outputId": "d69bd1c4-8216-43d6-ee64-885b569f3623"
      },
      "execution_count": 56,
      "outputs": [
        {
          "output_type": "execute_result",
          "data": {
            "text/plain": [
              "array([[ True, False, False],\n",
              "       [False,  True, False],\n",
              "       [False, False,  True]])"
            ]
          },
          "metadata": {},
          "execution_count": 56
        }
      ]
    },
    {
      "cell_type": "code",
      "source": [],
      "metadata": {
        "id": "4QDrsEyWiKbm"
      },
      "execution_count": 56,
      "outputs": []
    },
    {
      "cell_type": "code",
      "source": [
        "arr"
      ],
      "metadata": {
        "colab": {
          "base_uri": "https://localhost:8080/"
        },
        "id": "JVF_rNo8iign",
        "outputId": "49acc60a-d8ee-450e-a728-b62a41b83d25"
      },
      "execution_count": 57,
      "outputs": [
        {
          "output_type": "execute_result",
          "data": {
            "text/plain": [
              "array([1000,    2,    3,    4,    5])"
            ]
          },
          "metadata": {},
          "execution_count": 57
        }
      ]
    },
    {
      "cell_type": "code",
      "source": [
        "arr.shape"
      ],
      "metadata": {
        "colab": {
          "base_uri": "https://localhost:8080/"
        },
        "id": "3IbCiBSLikQu",
        "outputId": "ae35dc2c-6062-48fd-d511-57b99021898c"
      },
      "execution_count": 58,
      "outputs": [
        {
          "output_type": "execute_result",
          "data": {
            "text/plain": [
              "(5,)"
            ]
          },
          "metadata": {},
          "execution_count": 58
        }
      ]
    },
    {
      "cell_type": "code",
      "source": [
        "arr1 = np.array(t)"
      ],
      "metadata": {
        "id": "1nc0zFBmjQem"
      },
      "execution_count": 59,
      "outputs": []
    },
    {
      "cell_type": "code",
      "source": [
        "arr1"
      ],
      "metadata": {
        "colab": {
          "base_uri": "https://localhost:8080/"
        },
        "id": "cmOXE7ORjTJW",
        "outputId": "368a8cfe-a8a9-46e5-a139-b933fa5a0f90"
      },
      "execution_count": 60,
      "outputs": [
        {
          "output_type": "execute_result",
          "data": {
            "text/plain": [
              "array([[1, 2, 3],\n",
              "       [4, 5, 6]])"
            ]
          },
          "metadata": {},
          "execution_count": 60
        }
      ]
    },
    {
      "cell_type": "code",
      "source": [
        "arr1.shape"
      ],
      "metadata": {
        "colab": {
          "base_uri": "https://localhost:8080/"
        },
        "id": "KvqG9SESjcId",
        "outputId": "38a165a5-b235-4515-c4e3-009c1591793c"
      },
      "execution_count": 61,
      "outputs": [
        {
          "output_type": "execute_result",
          "data": {
            "text/plain": [
              "(2, 3)"
            ]
          },
          "metadata": {},
          "execution_count": 61
        }
      ]
    },
    {
      "cell_type": "code",
      "source": [
        "## number of elements\n",
        "\n",
        "arr.size"
      ],
      "metadata": {
        "colab": {
          "base_uri": "https://localhost:8080/"
        },
        "id": "fuYzgDvQjeqv",
        "outputId": "05bd2fc8-9204-4a36-d0b1-0b7a01e87dcd"
      },
      "execution_count": 62,
      "outputs": [
        {
          "output_type": "execute_result",
          "data": {
            "text/plain": [
              "5"
            ]
          },
          "metadata": {},
          "execution_count": 62
        }
      ]
    },
    {
      "cell_type": "code",
      "source": [
        "arr1.size"
      ],
      "metadata": {
        "colab": {
          "base_uri": "https://localhost:8080/"
        },
        "id": "eiL5q9gtkGtm",
        "outputId": "e3d8c2a0-e33f-4c9c-bab4-1ec897883b33"
      },
      "execution_count": 63,
      "outputs": [
        {
          "output_type": "execute_result",
          "data": {
            "text/plain": [
              "6"
            ]
          },
          "metadata": {},
          "execution_count": 63
        }
      ]
    },
    {
      "cell_type": "code",
      "source": [
        "np.fromfunction(lambda i, j: i * j, shape = (3,3)) ## i always will be x axis and j is y axis"
      ],
      "metadata": {
        "colab": {
          "base_uri": "https://localhost:8080/"
        },
        "id": "EolwKAV4kH4d",
        "outputId": "dcc239d8-ef93-4262-aa0b-1860141bf694"
      },
      "execution_count": 64,
      "outputs": [
        {
          "output_type": "execute_result",
          "data": {
            "text/plain": [
              "array([[0., 0., 0.],\n",
              "       [0., 1., 2.],\n",
              "       [0., 2., 4.]])"
            ]
          },
          "metadata": {},
          "execution_count": 64
        }
      ]
    },
    {
      "cell_type": "code",
      "source": [
        "range(5)"
      ],
      "metadata": {
        "colab": {
          "base_uri": "https://localhost:8080/"
        },
        "id": "0R2ro2SlmH49",
        "outputId": "5f58e0f3-5ec6-4802-8ec5-72107cd985de"
      },
      "execution_count": 65,
      "outputs": [
        {
          "output_type": "execute_result",
          "data": {
            "text/plain": [
              "range(0, 5)"
            ]
          },
          "metadata": {},
          "execution_count": 65
        }
      ]
    },
    {
      "cell_type": "code",
      "source": [
        "for i in range(5):\n",
        "  print(i)\n"
      ],
      "metadata": {
        "colab": {
          "base_uri": "https://localhost:8080/"
        },
        "id": "Uyxjl_rOsLRn",
        "outputId": "afaaa42d-89eb-43a8-bc96-8c5be2188343"
      },
      "execution_count": 66,
      "outputs": [
        {
          "output_type": "stream",
          "name": "stdout",
          "text": [
            "0\n",
            "1\n",
            "2\n",
            "3\n",
            "4\n"
          ]
        }
      ]
    },
    {
      "cell_type": "code",
      "source": [
        "## or you can do this\n",
        "\n",
        "[i for i in range(5)]"
      ],
      "metadata": {
        "colab": {
          "base_uri": "https://localhost:8080/"
        },
        "id": "QdzYkpIZsUFi",
        "outputId": "15845c99-ebe1-43b8-8b26-c96a2080f98e"
      },
      "execution_count": 67,
      "outputs": [
        {
          "output_type": "execute_result",
          "data": {
            "text/plain": [
              "[0, 1, 2, 3, 4]"
            ]
          },
          "metadata": {},
          "execution_count": 67
        }
      ]
    },
    {
      "cell_type": "code",
      "source": [
        "## or\n",
        "\n",
        "list(i for i in range(5))"
      ],
      "metadata": {
        "colab": {
          "base_uri": "https://localhost:8080/"
        },
        "id": "VCav48f1sab7",
        "outputId": "2d7b4301-64dc-49d2-95b4-61f45cb6107a"
      },
      "execution_count": 68,
      "outputs": [
        {
          "output_type": "execute_result",
          "data": {
            "text/plain": [
              "[0, 1, 2, 3, 4]"
            ]
          },
          "metadata": {},
          "execution_count": 68
        }
      ]
    },
    {
      "cell_type": "code",
      "source": [
        "list(range(5))"
      ],
      "metadata": {
        "colab": {
          "base_uri": "https://localhost:8080/"
        },
        "id": "_78Ilvovsxf3",
        "outputId": "df78e22f-c111-4d05-9121-d869a1b29da8"
      },
      "execution_count": 69,
      "outputs": [
        {
          "output_type": "execute_result",
          "data": {
            "text/plain": [
              "[0, 1, 2, 3, 4]"
            ]
          },
          "metadata": {},
          "execution_count": 69
        }
      ]
    },
    {
      "cell_type": "code",
      "source": [
        "(i * i for i in range(5))"
      ],
      "metadata": {
        "colab": {
          "base_uri": "https://localhost:8080/"
        },
        "id": "T8eVe__Rs4F5",
        "outputId": "0d25736d-8cbd-4873-9538-d6de36b2b5a8"
      },
      "execution_count": 70,
      "outputs": [
        {
          "output_type": "execute_result",
          "data": {
            "text/plain": [
              "<generator object <genexpr> at 0x7dabe8185b60>"
            ]
          },
          "metadata": {},
          "execution_count": 70
        }
      ]
    },
    {
      "cell_type": "code",
      "source": [
        "iter = (i * i for i in range(5))"
      ],
      "metadata": {
        "id": "jL1F0gI3tCBI"
      },
      "execution_count": 71,
      "outputs": []
    },
    {
      "cell_type": "code",
      "source": [
        "np.fromiter(iter, float)"
      ],
      "metadata": {
        "colab": {
          "base_uri": "https://localhost:8080/"
        },
        "id": "6XuezOnNtOAf",
        "outputId": "fb19735e-13a3-48ab-e783-1073e0ddcab3"
      },
      "execution_count": 72,
      "outputs": [
        {
          "output_type": "execute_result",
          "data": {
            "text/plain": [
              "array([ 0.,  1.,  4.,  9., 16.])"
            ]
          },
          "metadata": {},
          "execution_count": 72
        }
      ]
    },
    {
      "cell_type": "code",
      "source": [
        "### generating array from string\n",
        "\n",
        "np.fromstring('23 34 67', sep = ' ')"
      ],
      "metadata": {
        "colab": {
          "base_uri": "https://localhost:8080/"
        },
        "id": "JGXxr2O5tRuH",
        "outputId": "e6224bd1-6c68-4596-f51f-f8b58003537c"
      },
      "execution_count": 73,
      "outputs": [
        {
          "output_type": "execute_result",
          "data": {
            "text/plain": [
              "array([23., 34., 67.])"
            ]
          },
          "metadata": {},
          "execution_count": 73
        }
      ]
    },
    {
      "cell_type": "code",
      "source": [
        "np.fromstring('23,34,67', sep = ',')"
      ],
      "metadata": {
        "colab": {
          "base_uri": "https://localhost:8080/"
        },
        "id": "W03KcoGdtvpX",
        "outputId": "56abe7b0-cc7d-4ad6-e77d-81bc4fd87c44"
      },
      "execution_count": 74,
      "outputs": [
        {
          "output_type": "execute_result",
          "data": {
            "text/plain": [
              "array([23., 34., 67.])"
            ]
          },
          "metadata": {},
          "execution_count": 74
        }
      ]
    },
    {
      "cell_type": "code",
      "source": [
        "np.fromstring('Suhani,Krish,Madhu', sep = ',')\n",
        "\n",
        "### dtype=float64 that is why it cannot be able to make the output"
      ],
      "metadata": {
        "colab": {
          "base_uri": "https://localhost:8080/"
        },
        "id": "zvZp0aD-t-Bg",
        "outputId": "844a9ff4-735e-4ae8-e470-381f5f6f8046"
      },
      "execution_count": 75,
      "outputs": [
        {
          "output_type": "stream",
          "name": "stderr",
          "text": [
            "<ipython-input-75-d76c4d1e6833>:1: DeprecationWarning: string or file could not be read to its end due to unmatched data; this will raise a ValueError in the future.\n",
            "  np.fromstring('Suhani,Krish,Madhu', sep = ',')\n"
          ]
        },
        {
          "output_type": "execute_result",
          "data": {
            "text/plain": [
              "array([], dtype=float64)"
            ]
          },
          "metadata": {},
          "execution_count": 75
        }
      ]
    },
    {
      "cell_type": "code",
      "source": [
        "arr"
      ],
      "metadata": {
        "colab": {
          "base_uri": "https://localhost:8080/"
        },
        "id": "9DtUXgqTudCO",
        "outputId": "84b81a7c-fd6f-4972-935a-168c24c1ac73"
      },
      "execution_count": 76,
      "outputs": [
        {
          "output_type": "execute_result",
          "data": {
            "text/plain": [
              "array([1000,    2,    3,    4,    5])"
            ]
          },
          "metadata": {},
          "execution_count": 76
        }
      ]
    },
    {
      "cell_type": "code",
      "source": [
        "arr.size"
      ],
      "metadata": {
        "colab": {
          "base_uri": "https://localhost:8080/"
        },
        "id": "-j9Z8w6du6LA",
        "outputId": "295ed786-487e-4971-87d4-548b77657436"
      },
      "execution_count": 77,
      "outputs": [
        {
          "output_type": "execute_result",
          "data": {
            "text/plain": [
              "5"
            ]
          },
          "metadata": {},
          "execution_count": 77
        }
      ]
    },
    {
      "cell_type": "code",
      "source": [
        "arr.shape"
      ],
      "metadata": {
        "colab": {
          "base_uri": "https://localhost:8080/"
        },
        "id": "m4bblNhGu8U4",
        "outputId": "17d94973-2908-4be5-8b84-695be8c88d37"
      },
      "execution_count": 78,
      "outputs": [
        {
          "output_type": "execute_result",
          "data": {
            "text/plain": [
              "(5,)"
            ]
          },
          "metadata": {},
          "execution_count": 78
        }
      ]
    },
    {
      "cell_type": "code",
      "source": [
        "arr.dtype"
      ],
      "metadata": {
        "colab": {
          "base_uri": "https://localhost:8080/"
        },
        "id": "dH8ptZSnu9Qf",
        "outputId": "73ecccce-f23c-4cf0-e890-b6e649969ef9"
      },
      "execution_count": 79,
      "outputs": [
        {
          "output_type": "execute_result",
          "data": {
            "text/plain": [
              "dtype('int64')"
            ]
          },
          "metadata": {},
          "execution_count": 79
        }
      ]
    },
    {
      "cell_type": "code",
      "source": [
        "l = [1,2,3]\n",
        "\n",
        "arr = np.array(l)\n",
        "\n",
        "arr.dtype"
      ],
      "metadata": {
        "colab": {
          "base_uri": "https://localhost:8080/"
        },
        "id": "xE0Ke09fvAm4",
        "outputId": "fd3f4984-0a01-4b09-e8ab-20776be47b91"
      },
      "execution_count": 80,
      "outputs": [
        {
          "output_type": "execute_result",
          "data": {
            "text/plain": [
              "dtype('int64')"
            ]
          },
          "metadata": {},
          "execution_count": 80
        }
      ]
    },
    {
      "cell_type": "code",
      "source": [
        "l = [1,2,3, \"Ajay\"]\n",
        "\n",
        "arr = np.array(l)\n",
        "\n",
        "arr.dtype"
      ],
      "metadata": {
        "colab": {
          "base_uri": "https://localhost:8080/"
        },
        "id": "oB_gNWRDvL7X",
        "outputId": "da6825ba-6b74-488b-bb32-9f7154257381"
      },
      "execution_count": 81,
      "outputs": [
        {
          "output_type": "execute_result",
          "data": {
            "text/plain": [
              "dtype('<U21')"
            ]
          },
          "metadata": {},
          "execution_count": 81
        }
      ]
    },
    {
      "cell_type": "code",
      "source": [
        "list(range(5))"
      ],
      "metadata": {
        "colab": {
          "base_uri": "https://localhost:8080/"
        },
        "id": "mybEeZKVvSa2",
        "outputId": "c4fb2df0-5bb5-408e-f4b9-101f75065b25"
      },
      "execution_count": 82,
      "outputs": [
        {
          "output_type": "execute_result",
          "data": {
            "text/plain": [
              "[0, 1, 2, 3, 4]"
            ]
          },
          "metadata": {},
          "execution_count": 82
        }
      ]
    },
    {
      "cell_type": "code",
      "source": [
        "# another thing\n",
        "\n",
        "## if we do\n",
        "\n",
        "list(range(1,10))"
      ],
      "metadata": {
        "colab": {
          "base_uri": "https://localhost:8080/"
        },
        "id": "MzCSfrqsvhJX",
        "outputId": "c043d273-e0c0-4729-e2d1-9349fda608bd"
      },
      "execution_count": 83,
      "outputs": [
        {
          "output_type": "execute_result",
          "data": {
            "text/plain": [
              "[1, 2, 3, 4, 5, 6, 7, 8, 9]"
            ]
          },
          "metadata": {},
          "execution_count": 83
        }
      ]
    },
    {
      "cell_type": "code",
      "source": [
        "## what would be if we do\n",
        "\n",
        "list(range(1.0,2.10))"
      ],
      "metadata": {
        "colab": {
          "base_uri": "https://localhost:8080/",
          "height": 176
        },
        "id": "v-ZjaDqOv2CX",
        "outputId": "f6810b11-79a0-41b1-8d10-7d9dcd1978cf"
      },
      "execution_count": 84,
      "outputs": [
        {
          "output_type": "error",
          "ename": "TypeError",
          "evalue": "'float' object cannot be interpreted as an integer",
          "traceback": [
            "\u001b[0;31m---------------------------------------------------------------------------\u001b[0m",
            "\u001b[0;31mTypeError\u001b[0m                                 Traceback (most recent call last)",
            "\u001b[0;32m<ipython-input-84-e352d98ac6f1>\u001b[0m in \u001b[0;36m<cell line: 3>\u001b[0;34m()\u001b[0m\n\u001b[1;32m      1\u001b[0m \u001b[0;31m## what would be if we do\u001b[0m\u001b[0;34m\u001b[0m\u001b[0;34m\u001b[0m\u001b[0m\n\u001b[1;32m      2\u001b[0m \u001b[0;34m\u001b[0m\u001b[0m\n\u001b[0;32m----> 3\u001b[0;31m \u001b[0mlist\u001b[0m\u001b[0;34m(\u001b[0m\u001b[0mrange\u001b[0m\u001b[0;34m(\u001b[0m\u001b[0;36m1.0\u001b[0m\u001b[0;34m,\u001b[0m\u001b[0;36m2.10\u001b[0m\u001b[0;34m)\u001b[0m\u001b[0;34m)\u001b[0m\u001b[0;34m\u001b[0m\u001b[0;34m\u001b[0m\u001b[0m\n\u001b[0m",
            "\u001b[0;31mTypeError\u001b[0m: 'float' object cannot be interpreted as an integer"
          ]
        }
      ]
    },
    {
      "cell_type": "code",
      "source": [
        "## so the demerit of range is that it cann not be able to make output in range values."
      ],
      "metadata": {
        "id": "TrRQ72lTv-2n"
      },
      "execution_count": null,
      "outputs": []
    },
    {
      "cell_type": "code",
      "source": [
        "## for dealing with float values, we need have another values such as arange\n",
        "\n",
        "np.arange(0.1, 10.2, 0.2) ## first value, last value, jump value"
      ],
      "metadata": {
        "id": "NvwqJqntwP2X"
      },
      "execution_count": null,
      "outputs": []
    },
    {
      "cell_type": "code",
      "source": [
        "# also you can make the values is in list as well\n",
        "\n",
        "list(np.arange(0.1, 10.2, 0.2))"
      ],
      "metadata": {
        "id": "sPaZ4TFswlSf"
      },
      "execution_count": null,
      "outputs": []
    },
    {
      "cell_type": "code",
      "source": [
        "np.linspace(1,5,20) # start, end, give 20 values between start and end\n",
        "\n",
        "## it works like arithmatic progression"
      ],
      "metadata": {
        "colab": {
          "base_uri": "https://localhost:8080/"
        },
        "id": "MqsSV0Z5yi2n",
        "outputId": "ce1b56bf-5e84-4866-e2ee-7f7d1fba69f3"
      },
      "execution_count": 85,
      "outputs": [
        {
          "output_type": "execute_result",
          "data": {
            "text/plain": [
              "array([1.        , 1.21052632, 1.42105263, 1.63157895, 1.84210526,\n",
              "       2.05263158, 2.26315789, 2.47368421, 2.68421053, 2.89473684,\n",
              "       3.10526316, 3.31578947, 3.52631579, 3.73684211, 3.94736842,\n",
              "       4.15789474, 4.36842105, 4.57894737, 4.78947368, 5.        ])"
            ]
          },
          "metadata": {},
          "execution_count": 85
        }
      ]
    },
    {
      "cell_type": "code",
      "source": [
        "np.logspace(1, 5, base = 2) ## start,end,base of log"
      ],
      "metadata": {
        "colab": {
          "base_uri": "https://localhost:8080/"
        },
        "id": "CoaW0nxpy9X3",
        "outputId": "e39ea743-65ae-4a85-a675-cc97c1cd42b5"
      },
      "execution_count": 86,
      "outputs": [
        {
          "output_type": "execute_result",
          "data": {
            "text/plain": [
              "array([ 2.        ,  2.11642982,  2.2396376 ,  2.37001791,  2.50798829,\n",
              "        2.65399061,  2.80849244,  2.97198858,  3.14500263,  3.32808868,\n",
              "        3.52183307,  3.72685628,  3.94381489,  4.17340372,  4.41635805,\n",
              "        4.67345595,  4.94552078,  5.23342383,  5.53808714,  5.8604864 ,\n",
              "        6.2016541 ,  6.56268285,  6.94472885,  7.34901563,  7.77683793,\n",
              "        8.22956587,  8.70864932,  9.21562258,  9.75210923, 10.31982742,\n",
              "       10.92059526, 11.55633675, 12.22908788, 12.94100316, 13.69436252,\n",
              "       14.49157863, 15.3352046 , 16.22794219, 17.17265042, 18.17235475,\n",
              "       19.23025679, 20.3497445 , 21.53440308, 22.78802646, 24.11462942,\n",
              "       25.51846045, 27.00401538, 28.57605177, 30.23960411, 32.        ])"
            ]
          },
          "metadata": {},
          "execution_count": 86
        }
      ]
    },
    {
      "cell_type": "code",
      "source": [
        "np.logspace(1, 5, 10, base = 2) ## start,end, number of vales, base of log"
      ],
      "metadata": {
        "colab": {
          "base_uri": "https://localhost:8080/"
        },
        "id": "wbUE9xWf2b13",
        "outputId": "ff435b65-45f5-4464-c267-94ddeef77cd5"
      },
      "execution_count": 87,
      "outputs": [
        {
          "output_type": "execute_result",
          "data": {
            "text/plain": [
              "array([ 2.        ,  2.72158   ,  3.70349885,  5.0396842 ,  6.85795186,\n",
              "        9.33223232, 12.69920842, 17.28095582, 23.51575188, 32.        ])"
            ]
          },
          "metadata": {},
          "execution_count": 87
        }
      ]
    },
    {
      "cell_type": "code",
      "source": [
        "np.logspace(1, 5, 10, base = 10) ## start,end, number of vales, base of log"
      ],
      "metadata": {
        "colab": {
          "base_uri": "https://localhost:8080/"
        },
        "id": "JuVObijM2s-H",
        "outputId": "413bb044-d7bb-4c7b-b8a8-08da76bf0579"
      },
      "execution_count": 88,
      "outputs": [
        {
          "output_type": "execute_result",
          "data": {
            "text/plain": [
              "array([1.00000000e+01, 2.78255940e+01, 7.74263683e+01, 2.15443469e+02,\n",
              "       5.99484250e+02, 1.66810054e+03, 4.64158883e+03, 1.29154967e+04,\n",
              "       3.59381366e+04, 1.00000000e+05])"
            ]
          },
          "metadata": {},
          "execution_count": 88
        }
      ]
    },
    {
      "cell_type": "code",
      "source": [
        "arr11 = np.zeros(5)"
      ],
      "metadata": {
        "id": "jBWjR3Qv24ah"
      },
      "execution_count": 89,
      "outputs": []
    },
    {
      "cell_type": "code",
      "source": [
        "arr11"
      ],
      "metadata": {
        "colab": {
          "base_uri": "https://localhost:8080/"
        },
        "id": "Trh77mnI338y",
        "outputId": "819654e2-4b9c-400e-f0fc-0780018549c8"
      },
      "execution_count": 90,
      "outputs": [
        {
          "output_type": "execute_result",
          "data": {
            "text/plain": [
              "array([0., 0., 0., 0., 0.])"
            ]
          },
          "metadata": {},
          "execution_count": 90
        }
      ]
    },
    {
      "cell_type": "code",
      "source": [
        "arr12 = np.zeros((3,4))"
      ],
      "metadata": {
        "id": "WBZZ3mmW3JRQ"
      },
      "execution_count": 91,
      "outputs": []
    },
    {
      "cell_type": "code",
      "source": [
        "arr12"
      ],
      "metadata": {
        "colab": {
          "base_uri": "https://localhost:8080/"
        },
        "id": "fOxlkJUh37ti",
        "outputId": "069f08eb-0f91-449b-a224-5f90ba4aafcd"
      },
      "execution_count": 92,
      "outputs": [
        {
          "output_type": "execute_result",
          "data": {
            "text/plain": [
              "array([[0., 0., 0., 0.],\n",
              "       [0., 0., 0., 0.],\n",
              "       [0., 0., 0., 0.]])"
            ]
          },
          "metadata": {},
          "execution_count": 92
        }
      ]
    },
    {
      "cell_type": "code",
      "source": [
        "arr13 = np.zeros((3, 3, 4), int)"
      ],
      "metadata": {
        "id": "iwGWLUYj3XTw"
      },
      "execution_count": 93,
      "outputs": []
    },
    {
      "cell_type": "code",
      "source": [
        "arr13"
      ],
      "metadata": {
        "colab": {
          "base_uri": "https://localhost:8080/"
        },
        "id": "p-7QROvD3fvl",
        "outputId": "846ccdac-e04c-4a11-e7c5-fa32bd2a2ac2"
      },
      "execution_count": 94,
      "outputs": [
        {
          "output_type": "execute_result",
          "data": {
            "text/plain": [
              "array([[[0, 0, 0, 0],\n",
              "        [0, 0, 0, 0],\n",
              "        [0, 0, 0, 0]],\n",
              "\n",
              "       [[0, 0, 0, 0],\n",
              "        [0, 0, 0, 0],\n",
              "        [0, 0, 0, 0]],\n",
              "\n",
              "       [[0, 0, 0, 0],\n",
              "        [0, 0, 0, 0],\n",
              "        [0, 0, 0, 0]]])"
            ]
          },
          "metadata": {},
          "execution_count": 94
        }
      ]
    },
    {
      "cell_type": "code",
      "source": [
        "arr11.ndim"
      ],
      "metadata": {
        "colab": {
          "base_uri": "https://localhost:8080/"
        },
        "id": "BO1HmLOs4FGP",
        "outputId": "842d88a2-c28d-4f5d-e3c6-57516ec10c71"
      },
      "execution_count": 95,
      "outputs": [
        {
          "output_type": "execute_result",
          "data": {
            "text/plain": [
              "1"
            ]
          },
          "metadata": {},
          "execution_count": 95
        }
      ]
    },
    {
      "cell_type": "code",
      "source": [
        "arr12.ndim"
      ],
      "metadata": {
        "colab": {
          "base_uri": "https://localhost:8080/"
        },
        "id": "h4mSB9p94Kn2",
        "outputId": "4b269e0c-8d45-4481-d177-5b7b903048c2"
      },
      "execution_count": 96,
      "outputs": [
        {
          "output_type": "execute_result",
          "data": {
            "text/plain": [
              "2"
            ]
          },
          "metadata": {},
          "execution_count": 96
        }
      ]
    },
    {
      "cell_type": "code",
      "source": [
        "arr13.ndim"
      ],
      "metadata": {
        "colab": {
          "base_uri": "https://localhost:8080/"
        },
        "id": "WwU2tLZM4O3u",
        "outputId": "ffb9abef-cd41-4ed1-c014-02441549a9b6"
      },
      "execution_count": 97,
      "outputs": [
        {
          "output_type": "execute_result",
          "data": {
            "text/plain": [
              "3"
            ]
          },
          "metadata": {},
          "execution_count": 97
        }
      ]
    },
    {
      "cell_type": "code",
      "source": [
        "for i in range(5) :\n",
        "  print(i)"
      ],
      "metadata": {
        "id": "ssnx2i-S4RiO",
        "colab": {
          "base_uri": "https://localhost:8080/"
        },
        "outputId": "b4a88ea3-a919-4f17-b6e5-bef521d638e0"
      },
      "execution_count": 98,
      "outputs": [
        {
          "output_type": "stream",
          "name": "stdout",
          "text": [
            "0\n",
            "1\n",
            "2\n",
            "3\n",
            "4\n"
          ]
        }
      ]
    },
    {
      "cell_type": "code",
      "source": [
        "[i for i in range(5)]"
      ],
      "metadata": {
        "colab": {
          "base_uri": "https://localhost:8080/"
        },
        "id": "jYrfjr955lOz",
        "outputId": "1df908ba-ad7a-48c8-ac70-c236948c563f"
      },
      "execution_count": 99,
      "outputs": [
        {
          "output_type": "execute_result",
          "data": {
            "text/plain": [
              "[0, 1, 2, 3, 4]"
            ]
          },
          "metadata": {},
          "execution_count": 99
        }
      ]
    },
    {
      "cell_type": "code",
      "source": [
        "list(i for i in range(5))"
      ],
      "metadata": {
        "colab": {
          "base_uri": "https://localhost:8080/"
        },
        "id": "150qIEkx5rBD",
        "outputId": "e5af5474-a777-477c-f1e0-b10bb5a99159"
      },
      "execution_count": 100,
      "outputs": [
        {
          "output_type": "execute_result",
          "data": {
            "text/plain": [
              "[0, 1, 2, 3, 4]"
            ]
          },
          "metadata": {},
          "execution_count": 100
        }
      ]
    },
    {
      "cell_type": "code",
      "source": [
        "list(range(5))"
      ],
      "metadata": {
        "colab": {
          "base_uri": "https://localhost:8080/"
        },
        "id": "iRpMAuUk50Tz",
        "outputId": "6a70443b-d114-4b21-bb42-953105083625"
      },
      "execution_count": 101,
      "outputs": [
        {
          "output_type": "execute_result",
          "data": {
            "text/plain": [
              "[0, 1, 2, 3, 4]"
            ]
          },
          "metadata": {},
          "execution_count": 101
        }
      ]
    },
    {
      "cell_type": "code",
      "source": [
        "iterable = (i*i for i in range(5))"
      ],
      "metadata": {
        "id": "sebmaqR356bM"
      },
      "execution_count": 102,
      "outputs": []
    },
    {
      "cell_type": "code",
      "source": [
        "np.fromiter(iterable, float)"
      ],
      "metadata": {
        "colab": {
          "base_uri": "https://localhost:8080/"
        },
        "id": "Ke4zIvDE6J0b",
        "outputId": "6786f095-74f6-4962-b085-2fdf84f63b39"
      },
      "execution_count": 103,
      "outputs": [
        {
          "output_type": "execute_result",
          "data": {
            "text/plain": [
              "array([ 0.,  1.,  4.,  9., 16.])"
            ]
          },
          "metadata": {},
          "execution_count": 103
        }
      ]
    },
    {
      "cell_type": "code",
      "source": [
        "np.fromstring('23 34 67', sep = ' ')"
      ],
      "metadata": {
        "colab": {
          "base_uri": "https://localhost:8080/"
        },
        "id": "FiMtkMEg6Nrj",
        "outputId": "5f2d333c-0234-497c-90f4-3b78fd68a264"
      },
      "execution_count": 104,
      "outputs": [
        {
          "output_type": "execute_result",
          "data": {
            "text/plain": [
              "array([23., 34., 67.])"
            ]
          },
          "metadata": {},
          "execution_count": 104
        }
      ]
    },
    {
      "cell_type": "code",
      "source": [
        "np.fromstring('23,34,67', sep = ',')"
      ],
      "metadata": {
        "colab": {
          "base_uri": "https://localhost:8080/"
        },
        "id": "yEHg9J8_8vN8",
        "outputId": "31fa890b-9166-41c2-e979-a64c54c7b280"
      },
      "execution_count": 105,
      "outputs": [
        {
          "output_type": "execute_result",
          "data": {
            "text/plain": [
              "array([23., 34., 67.])"
            ]
          },
          "metadata": {},
          "execution_count": 105
        }
      ]
    },
    {
      "cell_type": "code",
      "source": [
        "## but\n",
        "\n",
        "np.fromstring('Suhani, Ajay, Anwesha', sep = ',')\n",
        "\n",
        "## you cannot be able"
      ],
      "metadata": {
        "colab": {
          "base_uri": "https://localhost:8080/"
        },
        "id": "pwo6mq6981fb",
        "outputId": "b75f93f8-2e5f-4ab1-c915-ec8655cda657"
      },
      "execution_count": 106,
      "outputs": [
        {
          "output_type": "stream",
          "name": "stderr",
          "text": [
            "<ipython-input-106-1ab0ced0acc0>:3: DeprecationWarning: string or file could not be read to its end due to unmatched data; this will raise a ValueError in the future.\n",
            "  np.fromstring('Suhani, Ajay, Anwesha', sep = ',')\n"
          ]
        },
        {
          "output_type": "execute_result",
          "data": {
            "text/plain": [
              "array([], dtype=float64)"
            ]
          },
          "metadata": {},
          "execution_count": 106
        }
      ]
    },
    {
      "cell_type": "code",
      "source": [
        "l = [1,2,3]\n",
        "\n",
        "arr = np.array(l)\n",
        "\n",
        "arr.dtype"
      ],
      "metadata": {
        "id": "aToL0v5Q9AWj",
        "colab": {
          "base_uri": "https://localhost:8080/"
        },
        "outputId": "fe2017fb-887e-40f6-83d8-f1656c93a656"
      },
      "execution_count": 107,
      "outputs": [
        {
          "output_type": "execute_result",
          "data": {
            "text/plain": [
              "dtype('int64')"
            ]
          },
          "metadata": {},
          "execution_count": 107
        }
      ]
    },
    {
      "cell_type": "code",
      "source": [
        "## but\n",
        "\n",
        "l = [1,2,3, 'Akash']\n",
        "\n",
        "arr = np.array(l)\n",
        "\n",
        "arr.dtype"
      ],
      "metadata": {
        "colab": {
          "base_uri": "https://localhost:8080/"
        },
        "id": "wxuPfdKC-eG7",
        "outputId": "76b43f40-ef19-4531-c49b-e210c01fc128"
      },
      "execution_count": 108,
      "outputs": [
        {
          "output_type": "execute_result",
          "data": {
            "text/plain": [
              "dtype('<U21')"
            ]
          },
          "metadata": {},
          "execution_count": 108
        }
      ]
    },
    {
      "cell_type": "code",
      "source": [
        "list(range(1,5))"
      ],
      "metadata": {
        "colab": {
          "base_uri": "https://localhost:8080/"
        },
        "id": "DRdCzjK--iCL",
        "outputId": "7078ae3d-d8b0-4765-ba7d-2530391f802b"
      },
      "execution_count": 109,
      "outputs": [
        {
          "output_type": "execute_result",
          "data": {
            "text/plain": [
              "[1, 2, 3, 4]"
            ]
          },
          "metadata": {},
          "execution_count": 109
        }
      ]
    },
    {
      "cell_type": "code",
      "source": [
        "## but\n",
        "\n",
        "list(range(1.0,5.0))"
      ],
      "metadata": {
        "colab": {
          "base_uri": "https://localhost:8080/",
          "height": 176
        },
        "id": "_sjHAEVw-5lj",
        "outputId": "183b10f6-5116-439d-ed92-1c60936ca30f"
      },
      "execution_count": 110,
      "outputs": [
        {
          "output_type": "error",
          "ename": "TypeError",
          "evalue": "'float' object cannot be interpreted as an integer",
          "traceback": [
            "\u001b[0;31m---------------------------------------------------------------------------\u001b[0m",
            "\u001b[0;31mTypeError\u001b[0m                                 Traceback (most recent call last)",
            "\u001b[0;32m<ipython-input-110-a0f4267794de>\u001b[0m in \u001b[0;36m<cell line: 3>\u001b[0;34m()\u001b[0m\n\u001b[1;32m      1\u001b[0m \u001b[0;31m## but\u001b[0m\u001b[0;34m\u001b[0m\u001b[0;34m\u001b[0m\u001b[0m\n\u001b[1;32m      2\u001b[0m \u001b[0;34m\u001b[0m\u001b[0m\n\u001b[0;32m----> 3\u001b[0;31m \u001b[0mlist\u001b[0m\u001b[0;34m(\u001b[0m\u001b[0mrange\u001b[0m\u001b[0;34m(\u001b[0m\u001b[0;36m1.0\u001b[0m\u001b[0;34m,\u001b[0m\u001b[0;36m5.0\u001b[0m\u001b[0;34m)\u001b[0m\u001b[0;34m)\u001b[0m\u001b[0;34m\u001b[0m\u001b[0;34m\u001b[0m\u001b[0m\n\u001b[0m",
            "\u001b[0;31mTypeError\u001b[0m: 'float' object cannot be interpreted as an integer"
          ]
        }
      ]
    },
    {
      "cell_type": "code",
      "source": [
        "## in this situation we can use the arange function\n",
        "\n",
        "\n",
        "np.arange(0.1, 10.2, 0.2) ## (start, end, gap)"
      ],
      "metadata": {
        "id": "2E2zAPrx--J6"
      },
      "execution_count": null,
      "outputs": []
    },
    {
      "cell_type": "code",
      "source": [
        "## you can pass the values in this list format also\n",
        "\n",
        "list(np.arange(0.1, 10.2, 0.2))"
      ],
      "metadata": {
        "colab": {
          "base_uri": "https://localhost:8080/"
        },
        "id": "gGAomCBv_WTk",
        "outputId": "960a48c5-9325-4ef6-93ca-d9e52e4c294a"
      },
      "execution_count": 111,
      "outputs": [
        {
          "output_type": "execute_result",
          "data": {
            "text/plain": [
              "[0.1,\n",
              " 0.30000000000000004,\n",
              " 0.5000000000000001,\n",
              " 0.7000000000000001,\n",
              " 0.9000000000000001,\n",
              " 1.1000000000000003,\n",
              " 1.3000000000000003,\n",
              " 1.5000000000000004,\n",
              " 1.7000000000000004,\n",
              " 1.9000000000000004,\n",
              " 2.1000000000000005,\n",
              " 2.3000000000000007,\n",
              " 2.5000000000000004,\n",
              " 2.7000000000000006,\n",
              " 2.900000000000001,\n",
              " 3.1000000000000005,\n",
              " 3.3000000000000007,\n",
              " 3.500000000000001,\n",
              " 3.7000000000000006,\n",
              " 3.900000000000001,\n",
              " 4.1000000000000005,\n",
              " 4.300000000000001,\n",
              " 4.500000000000001,\n",
              " 4.7,\n",
              " 4.9,\n",
              " 5.1000000000000005,\n",
              " 5.300000000000001,\n",
              " 5.500000000000001,\n",
              " 5.700000000000001,\n",
              " 5.9,\n",
              " 6.1000000000000005,\n",
              " 6.300000000000001,\n",
              " 6.500000000000001,\n",
              " 6.700000000000001,\n",
              " 6.900000000000001,\n",
              " 7.100000000000001,\n",
              " 7.300000000000001,\n",
              " 7.500000000000001,\n",
              " 7.700000000000001,\n",
              " 7.900000000000001,\n",
              " 8.100000000000001,\n",
              " 8.3,\n",
              " 8.500000000000002,\n",
              " 8.700000000000001,\n",
              " 8.900000000000002,\n",
              " 9.100000000000001,\n",
              " 9.3,\n",
              " 9.500000000000002,\n",
              " 9.700000000000001,\n",
              " 9.900000000000002,\n",
              " 10.100000000000001]"
            ]
          },
          "metadata": {},
          "execution_count": 111
        }
      ]
    },
    {
      "cell_type": "code",
      "source": [
        "np.linspace(1,5,20) # start, end, give 20 values between start and end\n",
        "\n",
        "## it works like arithmatic progression"
      ],
      "metadata": {
        "colab": {
          "base_uri": "https://localhost:8080/"
        },
        "id": "nW59bHG7_lWc",
        "outputId": "c391987f-61c3-4f05-fb5b-242d5b70f220"
      },
      "execution_count": 112,
      "outputs": [
        {
          "output_type": "execute_result",
          "data": {
            "text/plain": [
              "array([1.        , 1.21052632, 1.42105263, 1.63157895, 1.84210526,\n",
              "       2.05263158, 2.26315789, 2.47368421, 2.68421053, 2.89473684,\n",
              "       3.10526316, 3.31578947, 3.52631579, 3.73684211, 3.94736842,\n",
              "       4.15789474, 4.36842105, 4.57894737, 4.78947368, 5.        ])"
            ]
          },
          "metadata": {},
          "execution_count": 112
        }
      ]
    },
    {
      "cell_type": "code",
      "source": [
        "np.logspace(1, 5, base = 2) ## start,end,base of log"
      ],
      "metadata": {
        "colab": {
          "base_uri": "https://localhost:8080/"
        },
        "id": "sPayk-S4_8Z7",
        "outputId": "9e8ffbb5-7fbd-48c4-9580-1530f4ee1cd1"
      },
      "execution_count": 113,
      "outputs": [
        {
          "output_type": "execute_result",
          "data": {
            "text/plain": [
              "array([ 2.        ,  2.11642982,  2.2396376 ,  2.37001791,  2.50798829,\n",
              "        2.65399061,  2.80849244,  2.97198858,  3.14500263,  3.32808868,\n",
              "        3.52183307,  3.72685628,  3.94381489,  4.17340372,  4.41635805,\n",
              "        4.67345595,  4.94552078,  5.23342383,  5.53808714,  5.8604864 ,\n",
              "        6.2016541 ,  6.56268285,  6.94472885,  7.34901563,  7.77683793,\n",
              "        8.22956587,  8.70864932,  9.21562258,  9.75210923, 10.31982742,\n",
              "       10.92059526, 11.55633675, 12.22908788, 12.94100316, 13.69436252,\n",
              "       14.49157863, 15.3352046 , 16.22794219, 17.17265042, 18.17235475,\n",
              "       19.23025679, 20.3497445 , 21.53440308, 22.78802646, 24.11462942,\n",
              "       25.51846045, 27.00401538, 28.57605177, 30.23960411, 32.        ])"
            ]
          },
          "metadata": {},
          "execution_count": 113
        }
      ]
    },
    {
      "cell_type": "code",
      "source": [
        "np.zeros(5)"
      ],
      "metadata": {
        "colab": {
          "base_uri": "https://localhost:8080/"
        },
        "id": "xkavs9oYABVz",
        "outputId": "2dd552ac-0a85-4ead-b2ca-461c863b4c39"
      },
      "execution_count": 114,
      "outputs": [
        {
          "output_type": "execute_result",
          "data": {
            "text/plain": [
              "array([0., 0., 0., 0., 0.])"
            ]
          },
          "metadata": {},
          "execution_count": 114
        }
      ]
    },
    {
      "cell_type": "code",
      "source": [
        "np.zeros((3,4), int)"
      ],
      "metadata": {
        "colab": {
          "base_uri": "https://localhost:8080/"
        },
        "id": "lpLLdJ17BC3l",
        "outputId": "1a70cad5-cbf1-4277-ed1c-e6e0c00bb5d7"
      },
      "execution_count": 115,
      "outputs": [
        {
          "output_type": "execute_result",
          "data": {
            "text/plain": [
              "array([[0, 0, 0, 0],\n",
              "       [0, 0, 0, 0],\n",
              "       [0, 0, 0, 0]])"
            ]
          },
          "metadata": {},
          "execution_count": 115
        }
      ]
    },
    {
      "cell_type": "code",
      "source": [
        "arr3 = np.zeros((3, 3, 4), int)"
      ],
      "metadata": {
        "id": "hpYQnB40BHq8"
      },
      "execution_count": 116,
      "outputs": []
    },
    {
      "cell_type": "code",
      "source": [
        "arr3"
      ],
      "metadata": {
        "colab": {
          "base_uri": "https://localhost:8080/"
        },
        "id": "0u6eNNlaCVTs",
        "outputId": "3cb6f2f3-dc75-4d4d-9fc3-7b5915523669"
      },
      "execution_count": 117,
      "outputs": [
        {
          "output_type": "execute_result",
          "data": {
            "text/plain": [
              "array([[[0, 0, 0, 0],\n",
              "        [0, 0, 0, 0],\n",
              "        [0, 0, 0, 0]],\n",
              "\n",
              "       [[0, 0, 0, 0],\n",
              "        [0, 0, 0, 0],\n",
              "        [0, 0, 0, 0]],\n",
              "\n",
              "       [[0, 0, 0, 0],\n",
              "        [0, 0, 0, 0],\n",
              "        [0, 0, 0, 0]]])"
            ]
          },
          "metadata": {},
          "execution_count": 117
        }
      ]
    },
    {
      "cell_type": "code",
      "source": [
        "np.ones(5)"
      ],
      "metadata": {
        "colab": {
          "base_uri": "https://localhost:8080/"
        },
        "id": "-6t5zyYHCXHr",
        "outputId": "84eacd4a-fb96-4734-9a62-286bb6258539"
      },
      "execution_count": 118,
      "outputs": [
        {
          "output_type": "execute_result",
          "data": {
            "text/plain": [
              "array([1., 1., 1., 1., 1.])"
            ]
          },
          "metadata": {},
          "execution_count": 118
        }
      ]
    },
    {
      "cell_type": "code",
      "source": [
        "arr = np.ones((3,4))"
      ],
      "metadata": {
        "id": "3eSFWzUXCmm0"
      },
      "execution_count": 119,
      "outputs": []
    },
    {
      "cell_type": "code",
      "source": [
        "arr + 5"
      ],
      "metadata": {
        "colab": {
          "base_uri": "https://localhost:8080/"
        },
        "id": "8a2BJZHuCqZM",
        "outputId": "2c28769d-c3eb-46e2-d7db-bc1a6245a513"
      },
      "execution_count": 120,
      "outputs": [
        {
          "output_type": "execute_result",
          "data": {
            "text/plain": [
              "array([[6., 6., 6., 6.],\n",
              "       [6., 6., 6., 6.],\n",
              "       [6., 6., 6., 6.]])"
            ]
          },
          "metadata": {},
          "execution_count": 120
        }
      ]
    },
    {
      "cell_type": "code",
      "source": [
        "# we have onbly two attributes that zeros and ones."
      ],
      "metadata": {
        "id": "FXhQWBCOCwK7"
      },
      "execution_count": 121,
      "outputs": []
    },
    {
      "cell_type": "code",
      "source": [
        "# list has the property of resizing and concpet of referencing. on the other hand, array is statically defined. and it is not dynamic (static).\n",
        "\n",
        "# in array there is no concept if resizing.\n",
        "\n",
        "# in list you have to check both the datatype and size but in array not."
      ],
      "metadata": {
        "id": "oE6gcZNNLfy6"
      },
      "execution_count": 122,
      "outputs": []
    },
    {
      "cell_type": "markdown",
      "source": [
        "![image.png](data:image/png;base64,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)"
      ],
      "metadata": {
        "id": "KNRMJQM-OrVs"
      }
    },
    {
      "cell_type": "code",
      "source": [
        "# 1D array is called vector\n",
        "\n",
        "# 2D array is called Matrix\n",
        "\n",
        "# 3D array is called Tensor"
      ],
      "metadata": {
        "id": "tZq0TQZfOdTD"
      },
      "execution_count": 123,
      "outputs": []
    },
    {
      "cell_type": "code",
      "source": [],
      "metadata": {
        "id": "oJRiCjbQO9Rz"
      },
      "execution_count": null,
      "outputs": []
    }
  ]
}