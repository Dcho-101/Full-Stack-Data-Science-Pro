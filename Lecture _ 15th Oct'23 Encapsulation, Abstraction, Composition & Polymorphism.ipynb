{
 "cells": [
  {
   "cell_type": "markdown",
   "id": "c6f72973-39c0-4aaf-9850-470cf32da415",
   "metadata": {},
   "source": [
    "# Lecture : 15th Oct'23 : Encapsulation, Abstraction, Composition & Polymorphism"
   ]
  },
  {
   "cell_type": "code",
   "execution_count": null,
   "id": "20d33c57-ae93-4bb9-a293-0dacbaefdcb0",
   "metadata": {},
   "outputs": [],
   "source": []
  },
  {
   "cell_type": "markdown",
   "id": "68b664f0-abc0-4d10-94f7-dc4496397686",
   "metadata": {},
   "source": [
    "## Polymorphism based on OVER LOADING"
   ]
  },
  {
   "cell_type": "markdown",
   "id": "84b9f2f5-e2d8-4b25-b880-9350852a5557",
   "metadata": {},
   "source": [
    "different nature in different situation is called polymorphism"
   ]
  },
  {
   "cell_type": "code",
   "execution_count": 1,
   "id": "af61e217-1858-4c74-92cc-2a856d3401c2",
   "metadata": {},
   "outputs": [],
   "source": [
    "def test(a,b) :\n",
    "    return a+b"
   ]
  },
  {
   "cell_type": "code",
   "execution_count": 2,
   "id": "8af561b3-c054-48c2-a9c3-3b967459e97a",
   "metadata": {},
   "outputs": [
    {
     "data": {
      "text/plain": [
       "7"
      ]
     },
     "execution_count": 2,
     "metadata": {},
     "output_type": "execute_result"
    }
   ],
   "source": [
    "test(3,4)"
   ]
  },
  {
   "cell_type": "code",
   "execution_count": 3,
   "id": "4f5a3495-c932-4eb5-858e-0edbee84c80d",
   "metadata": {},
   "outputs": [
    {
     "data": {
      "text/plain": [
       "'dibyendu chowdhury'"
      ]
     },
     "execution_count": 3,
     "metadata": {},
     "output_type": "execute_result"
    }
   ],
   "source": [
    "test(\"dibyendu \",\"chowdhury\")"
   ]
  },
  {
   "cell_type": "code",
   "execution_count": 4,
   "id": "7b6dda12-ea26-44ac-bb35-4e55b5b7ffa2",
   "metadata": {},
   "outputs": [],
   "source": [
    "# we can see that when we are adding the integer input that function tries to make an addition operation but, whenever I am doing the string operation \n",
    "# they are doing the concatination operation"
   ]
  },
  {
   "cell_type": "code",
   "execution_count": 5,
   "id": "7ae8d9c1-ef1d-4e94-8162-4eea41c80209",
   "metadata": {},
   "outputs": [],
   "source": [
    "# "
   ]
  },
  {
   "cell_type": "code",
   "execution_count": 6,
   "id": "f8dfcdd9-bf6f-469a-9b70-b89f156abb10",
   "metadata": {},
   "outputs": [],
   "source": [
    "class pwskills :\n",
    "    def student(self) :\n",
    "        pass\n",
    "    \n",
    "class datascience(pwskills) :\n",
    "    def student(self) :\n",
    "        print(\"this will give me a details about data science student\")\n",
    "        \n",
    "class bigdata(pwskills) :\n",
    "    def student(self) :\n",
    "        print(\"this will give me details about the big data students\")"
   ]
  },
  {
   "cell_type": "code",
   "execution_count": 7,
   "id": "55663b76-3d4f-44e2-b6d8-f7fda192263e",
   "metadata": {},
   "outputs": [],
   "source": [
    "yash = datascience()"
   ]
  },
  {
   "cell_type": "code",
   "execution_count": 8,
   "id": "35dfe628-be37-4ae0-9e10-af859f2a4ccb",
   "metadata": {},
   "outputs": [],
   "source": [
    "farhana = bigdata()"
   ]
  },
  {
   "cell_type": "code",
   "execution_count": 9,
   "id": "69c06484-4ae2-4e8f-85fa-f371f57805b6",
   "metadata": {},
   "outputs": [
    {
     "name": "stdout",
     "output_type": "stream",
     "text": [
      "this will give me a details about data science student\n"
     ]
    }
   ],
   "source": [
    "yash.student()"
   ]
  },
  {
   "cell_type": "code",
   "execution_count": 10,
   "id": "16b20e50-1821-4f16-a627-7c0dc420866b",
   "metadata": {},
   "outputs": [
    {
     "name": "stdout",
     "output_type": "stream",
     "text": [
      "this will give me details about the big data students\n"
     ]
    }
   ],
   "source": [
    "farhana.student()"
   ]
  },
  {
   "cell_type": "code",
   "execution_count": 11,
   "id": "33d9366b-8752-4ce9-aef5-330e663042e9",
   "metadata": {},
   "outputs": [],
   "source": [
    "## here in first we make the function pass, and in data science we pass the pwskills class so that the function achieve the \n",
    "## student class and we change the values in the datascience class and bigdata class. \n",
    "## here the student function defines polymorphism"
   ]
  },
  {
   "cell_type": "code",
   "execution_count": 12,
   "id": "e8f06a53-baa9-4eab-bd3d-8c229dfae035",
   "metadata": {},
   "outputs": [],
   "source": [
    "pw = pwskills()"
   ]
  },
  {
   "cell_type": "code",
   "execution_count": 13,
   "id": "c3bc0cc7-ae5a-493b-82b1-a755bae1f41d",
   "metadata": {},
   "outputs": [],
   "source": [
    "pw.student()"
   ]
  },
  {
   "cell_type": "code",
   "execution_count": 14,
   "id": "e6cf8b8a-3a1f-44f3-9976-f664ea1f5209",
   "metadata": {},
   "outputs": [],
   "source": [
    "# nothing will happend because there are no return values as we comment that as pass"
   ]
  },
  {
   "cell_type": "code",
   "execution_count": null,
   "id": "ce08b59a-79bd-4a6d-ad8a-7ff83cd82624",
   "metadata": {},
   "outputs": [],
   "source": []
  },
  {
   "cell_type": "code",
   "execution_count": null,
   "id": "6c243a39-9cd1-4133-b0b2-905292876bf6",
   "metadata": {},
   "outputs": [],
   "source": []
  },
  {
   "cell_type": "code",
   "execution_count": 15,
   "id": "546bfe1f-aba1-4e1c-bd08-4a65dce07500",
   "metadata": {},
   "outputs": [],
   "source": [
    "class bigdata :\n",
    "    def __init__(self, no_of_class, no_of_student) :\n",
    "        self.number_of_class = no_of_class\n",
    "        self.number_of_student = no_of_student\n",
    "        \n",
    "    def __add__(self, other) :\n",
    "        return bigdata(self.number_of_class + other.number_of_class, self.number_of_student + other.number_of_student)"
   ]
  },
  {
   "cell_type": "code",
   "execution_count": 16,
   "id": "f0e95f8a-3402-4169-89f2-dd27c8983be1",
   "metadata": {},
   "outputs": [],
   "source": [
    "c1 = bigdata(1,10)\n",
    "c2 = bigdata(2,12)\n",
    "## this will add the both data"
   ]
  },
  {
   "cell_type": "code",
   "execution_count": 17,
   "id": "f9e9b36a-55a6-4be3-9188-7111a4104d93",
   "metadata": {},
   "outputs": [
    {
     "name": "stdout",
     "output_type": "stream",
     "text": [
      "3 22\n"
     ]
    }
   ],
   "source": [
    "result = c1 + c2\n",
    "\n",
    "print(result.number_of_class, result.number_of_student)"
   ]
  },
  {
   "cell_type": "code",
   "execution_count": 18,
   "id": "19c7637d-e086-4757-b2f9-fb097705a9c9",
   "metadata": {},
   "outputs": [
    {
     "name": "stdout",
     "output_type": "stream",
     "text": [
      "6 32\n"
     ]
    }
   ],
   "source": [
    "## if we make another variable and put data it will also add like this \n",
    "\n",
    "c3 = bigdata(3,10)\n",
    "\n",
    "result2 = c1+c2+c3\n",
    "\n",
    "print(result2.number_of_class, result2.number_of_student)"
   ]
  },
  {
   "cell_type": "code",
   "execution_count": null,
   "id": "aeed65b2-3e11-4381-ad37-8933bc29dc1f",
   "metadata": {},
   "outputs": [],
   "source": []
  },
  {
   "cell_type": "code",
   "execution_count": 19,
   "id": "2bf5218c-567c-4cae-88ee-15d68c2e1a98",
   "metadata": {},
   "outputs": [],
   "source": [
    "# but if we do this in above like this\n",
    "\n",
    "class datascience :\n",
    "    def student(self) :\n",
    "        print(\"this will give me a details about data science student\")"
   ]
  },
  {
   "cell_type": "code",
   "execution_count": 20,
   "id": "482462ec-be44-45cc-8255-1d0339b8c725",
   "metadata": {},
   "outputs": [],
   "source": [
    "o1 = datascience()\n",
    "o2 = datascience()\n",
    "o3 = datascience()"
   ]
  },
  {
   "cell_type": "code",
   "execution_count": 21,
   "id": "96a24667-e0cc-4950-abb3-ab2124682589",
   "metadata": {},
   "outputs": [
    {
     "ename": "TypeError",
     "evalue": "unsupported operand type(s) for +: 'datascience' and 'datascience'",
     "output_type": "error",
     "traceback": [
      "\u001b[0;31m---------------------------------------------------------------------------\u001b[0m",
      "\u001b[0;31mTypeError\u001b[0m                                 Traceback (most recent call last)",
      "Cell \u001b[0;32mIn[21], line 1\u001b[0m\n\u001b[0;32m----> 1\u001b[0m r \u001b[38;5;241m=\u001b[39m \u001b[43mo1\u001b[49m\u001b[38;5;241;43m+\u001b[39;49m\u001b[43mo2\u001b[49m\u001b[38;5;241m+\u001b[39mo3\n",
      "\u001b[0;31mTypeError\u001b[0m: unsupported operand type(s) for +: 'datascience' and 'datascience'"
     ]
    }
   ],
   "source": [
    "r = o1+o2+o3"
   ]
  },
  {
   "cell_type": "code",
   "execution_count": 22,
   "id": "6d414548-486b-4340-9f94-ec89447201fa",
   "metadata": {},
   "outputs": [],
   "source": [
    "# it shows the datascience and datascience can not be able to add via +\n",
    "\n",
    "# but in above bigdata class, i was able to add via +\n",
    "\n",
    "## because I have done METHOD OVERLOADING via __add__"
   ]
  },
  {
   "cell_type": "markdown",
   "id": "936f35be-742b-4841-9e8c-9c71a62b67e1",
   "metadata": {},
   "source": [
    "## Polymorphism using DUCK TYPING"
   ]
  },
  {
   "cell_type": "code",
   "execution_count": 23,
   "id": "3ef9deed-eae2-4426-9c2b-552680750c3b",
   "metadata": {},
   "outputs": [],
   "source": [
    "class datascience : ## here I am not doing any inherritence\n",
    "    def student(self) :\n",
    "        print(\"this will give me a details about data science student\")\n",
    "        \n",
    "class bigdata : ## here I am not doing any inherritence\n",
    "    def student(self) :\n",
    "        print(\"this will give me details about the big data students\")\n",
    "        \n",
    "# creating an outside function\n",
    "\n",
    "def output_class(class_obj) :\n",
    "    return class_obj.student()"
   ]
  },
  {
   "cell_type": "code",
   "execution_count": 24,
   "id": "dad1728c-fc00-4688-a1b4-176a2afe790b",
   "metadata": {},
   "outputs": [],
   "source": [
    "sesha = datascience()\n",
    "sashi = bigdata()"
   ]
  },
  {
   "cell_type": "code",
   "execution_count": 25,
   "id": "0e2a5c8e-e660-4d48-b184-bad7d1dbfa42",
   "metadata": {},
   "outputs": [
    {
     "name": "stdout",
     "output_type": "stream",
     "text": [
      "this will give me a details about data science student\n"
     ]
    }
   ],
   "source": [
    "output_class(sesha)"
   ]
  },
  {
   "cell_type": "code",
   "execution_count": 26,
   "id": "8dd46b21-6407-479d-b5dc-b9305c603dd4",
   "metadata": {},
   "outputs": [
    {
     "name": "stdout",
     "output_type": "stream",
     "text": [
      "this will give me details about the big data students\n"
     ]
    }
   ],
   "source": [
    "output_class(sashi)"
   ]
  },
  {
   "cell_type": "code",
   "execution_count": 27,
   "id": "e11c7c18-bc53-4f7d-bc97-b7d0605bede7",
   "metadata": {},
   "outputs": [],
   "source": [
    "## here also we can see that we can achive saparate student function in this way\n",
    "\n",
    "## this is called DUCK TYPING"
   ]
  },
  {
   "cell_type": "markdown",
   "id": "b121b2a9-ca46-4921-86b5-002e89e50536",
   "metadata": {},
   "source": [
    "#### Method Overriding"
   ]
  },
  {
   "cell_type": "code",
   "execution_count": 28,
   "id": "76a2d93f-c0b7-47bb-9a8d-33977fd5e6c1",
   "metadata": {},
   "outputs": [],
   "source": [
    "class pwskills :\n",
    "    def student(self) :\n",
    "        return \"this is a pwskills student\"\n",
    "    \n",
    "class datascience(pwskills) :\n",
    "    def student(self) :\n",
    "        print(\"this will give me a details about data science student\")"
   ]
  },
  {
   "cell_type": "code",
   "execution_count": 29,
   "id": "bc3a7142-7226-4819-820d-4ed847e34c1c",
   "metadata": {},
   "outputs": [],
   "source": [
    "ujwal = datascience()"
   ]
  },
  {
   "cell_type": "code",
   "execution_count": 30,
   "id": "b75f9800-40b7-4cf2-a2fc-2b53074320be",
   "metadata": {},
   "outputs": [
    {
     "name": "stdout",
     "output_type": "stream",
     "text": [
      "this will give me a details about data science student\n"
     ]
    }
   ],
   "source": [
    "ujwal.student()"
   ]
  },
  {
   "cell_type": "code",
   "execution_count": 31,
   "id": "7853aabd-881b-43b0-86a9-146804cebe89",
   "metadata": {},
   "outputs": [],
   "source": [
    "## this is override the student value of the pwskills class by datascience class student value"
   ]
  },
  {
   "cell_type": "code",
   "execution_count": null,
   "id": "7c070ca1-9f28-405a-a9bd-6ff6da90d9f3",
   "metadata": {},
   "outputs": [],
   "source": []
  },
  {
   "cell_type": "code",
   "execution_count": 32,
   "id": "8a344263-c473-4cc2-91c3-0c45d96a9a42",
   "metadata": {},
   "outputs": [
    {
     "data": {
      "text/plain": [
       "8"
      ]
     },
     "execution_count": 32,
     "metadata": {},
     "output_type": "execute_result"
    }
   ],
   "source": [
    "len('dibyendu')"
   ]
  },
  {
   "cell_type": "code",
   "execution_count": 33,
   "id": "fa20e473-f61a-4ce7-b1ea-12629d02af1f",
   "metadata": {},
   "outputs": [
    {
     "data": {
      "text/plain": [
       "5"
      ]
     },
     "execution_count": 33,
     "metadata": {},
     "output_type": "execute_result"
    }
   ],
   "source": [
    "len([2,4,5,6,7])"
   ]
  },
  {
   "cell_type": "code",
   "execution_count": 34,
   "id": "d16c51c0-6ceb-4b09-8516-754781efb826",
   "metadata": {},
   "outputs": [],
   "source": [
    "# this len is also showing the polymorphism"
   ]
  },
  {
   "cell_type": "code",
   "execution_count": null,
   "id": "78e9cd0e-3e87-4b39-812a-4f1659efbb36",
   "metadata": {},
   "outputs": [],
   "source": []
  },
  {
   "cell_type": "markdown",
   "id": "6402b849-4547-4626-827e-8b58df52f391",
   "metadata": {},
   "source": [
    "## Next Topic"
   ]
  },
  {
   "cell_type": "markdown",
   "id": "07386ae5-c44f-41e8-be9d-8c7a6fbabd8a",
   "metadata": {},
   "source": [
    "#### ENCAPSULATION"
   ]
  },
  {
   "cell_type": "code",
   "execution_count": 1,
   "id": "686589d6-d3c0-4549-90c8-694c55dd2310",
   "metadata": {},
   "outputs": [],
   "source": [
    "## encapsulation is nothing but hiding a detail. "
   ]
  },
  {
   "cell_type": "code",
   "execution_count": 7,
   "id": "e5ac826d-455d-42a6-b979-cc1e32a22399",
   "metadata": {},
   "outputs": [],
   "source": [
    "class test : \n",
    "    def __init__(self) :\n",
    "        self.x = \"dibu\""
   ]
  },
  {
   "cell_type": "code",
   "execution_count": 8,
   "id": "cc95d052-68e5-47c1-8a9a-6d4641b20c15",
   "metadata": {},
   "outputs": [],
   "source": [
    "t1 = test()"
   ]
  },
  {
   "cell_type": "code",
   "execution_count": 9,
   "id": "807aec4c-5b1d-41e5-87e4-ca2ef38722b3",
   "metadata": {},
   "outputs": [
    {
     "data": {
      "text/plain": [
       "'dibu'"
      ]
     },
     "execution_count": 9,
     "metadata": {},
     "output_type": "execute_result"
    }
   ],
   "source": [
    "t1.x"
   ]
  },
  {
   "cell_type": "code",
   "execution_count": 10,
   "id": "33b35046-e8c4-4643-aa5d-3337676ed406",
   "metadata": {},
   "outputs": [],
   "source": [
    "# but"
   ]
  },
  {
   "cell_type": "code",
   "execution_count": 11,
   "id": "69b4273a-1dd1-49b7-8dd5-2e44e963a87f",
   "metadata": {},
   "outputs": [],
   "source": [
    "class test : \n",
    "    def __init__(self) :\n",
    "        self.__x = \"dibu\""
   ]
  },
  {
   "cell_type": "code",
   "execution_count": 12,
   "id": "bdb047f9-ed29-498e-9a17-b0a4bf2e4822",
   "metadata": {},
   "outputs": [
    {
     "ename": "AttributeError",
     "evalue": "'test' object has no attribute 'x'",
     "output_type": "error",
     "traceback": [
      "\u001b[0;31m---------------------------------------------------------------------------\u001b[0m",
      "\u001b[0;31mAttributeError\u001b[0m                            Traceback (most recent call last)",
      "Cell \u001b[0;32mIn[12], line 5\u001b[0m\n\u001b[1;32m      1\u001b[0m \u001b[38;5;66;03m# now\u001b[39;00m\n\u001b[1;32m      3\u001b[0m t2 \u001b[38;5;241m=\u001b[39m test()\n\u001b[0;32m----> 5\u001b[0m \u001b[43mt2\u001b[49m\u001b[38;5;241;43m.\u001b[39;49m\u001b[43mx\u001b[49m\n",
      "\u001b[0;31mAttributeError\u001b[0m: 'test' object has no attribute 'x'"
     ]
    }
   ],
   "source": [
    "# now\n",
    "\n",
    "t2 = test()\n",
    "\n",
    "t2.x"
   ]
  },
  {
   "cell_type": "code",
   "execution_count": 13,
   "id": "2d6f9ee7-a0e0-49da-9611-8325c16351eb",
   "metadata": {},
   "outputs": [],
   "source": [
    "# similarly\n",
    "\n"
   ]
  },
  {
   "cell_type": "code",
   "execution_count": 14,
   "id": "618248a0-ddf4-4701-80b4-328437252319",
   "metadata": {},
   "outputs": [
    {
     "ename": "AttributeError",
     "evalue": "'test' object has no attribute '__x'",
     "output_type": "error",
     "traceback": [
      "\u001b[0;31m---------------------------------------------------------------------------\u001b[0m",
      "\u001b[0;31mAttributeError\u001b[0m                            Traceback (most recent call last)",
      "Cell \u001b[0;32mIn[14], line 1\u001b[0m\n\u001b[0;32m----> 1\u001b[0m \u001b[43mt2\u001b[49m\u001b[38;5;241;43m.\u001b[39;49m\u001b[43m__x\u001b[49m\n",
      "\u001b[0;31mAttributeError\u001b[0m: 'test' object has no attribute '__x'"
     ]
    }
   ],
   "source": [
    "t2.__x"
   ]
  },
  {
   "cell_type": "code",
   "execution_count": 17,
   "id": "c5758a9f-e299-4c60-8775-49f18a5727b8",
   "metadata": {},
   "outputs": [],
   "source": [
    "## in python, there are three type of variable can be defined. \n",
    "# 1) Public (No underscore)\n",
    "# 2) Protected (one underscore)\n",
    "# 3) Private (double underscore)\n",
    "\n",
    "# __ defines private variable"
   ]
  },
  {
   "cell_type": "code",
   "execution_count": 19,
   "id": "cdb4a419-3411-4c14-90f1-2ec11c223130",
   "metadata": {},
   "outputs": [
    {
     "data": {
      "text/plain": [
       "'dibu'"
      ]
     },
     "execution_count": 19,
     "metadata": {},
     "output_type": "execute_result"
    }
   ],
   "source": [
    "# if only I know the class name then and only then I will be able to fetch the data.\n",
    "\n",
    "t2._test__x"
   ]
  },
  {
   "cell_type": "code",
   "execution_count": 20,
   "id": "8d6d41b5-0302-47bf-bda5-ed9802b1890e",
   "metadata": {},
   "outputs": [],
   "source": [
    "# one more exmaple"
   ]
  },
  {
   "cell_type": "code",
   "execution_count": 21,
   "id": "21b6374c-eed3-4b36-ac9b-7d4bea27fed5",
   "metadata": {},
   "outputs": [],
   "source": [
    "class test : \n",
    "    def __init__(self) :\n",
    "        self.__x = \"dibu\"\n",
    "        \n",
    "    def test_meth(self) :\n",
    "        return \"this is a test method\""
   ]
  },
  {
   "cell_type": "code",
   "execution_count": 22,
   "id": "77ab2004-d3c2-4a96-a428-0848bc96ae8e",
   "metadata": {},
   "outputs": [],
   "source": [
    "t3 = test()"
   ]
  },
  {
   "cell_type": "code",
   "execution_count": 24,
   "id": "2c95e34b-0b83-49e0-a239-6a7615e52559",
   "metadata": {},
   "outputs": [
    {
     "data": {
      "text/plain": [
       "'this is a test method'"
      ]
     },
     "execution_count": 24,
     "metadata": {},
     "output_type": "execute_result"
    }
   ],
   "source": [
    "t3.test_meth()"
   ]
  },
  {
   "cell_type": "code",
   "execution_count": 25,
   "id": "dd266b7b-1bdc-45f6-99c8-3cabe7fb4bfc",
   "metadata": {},
   "outputs": [],
   "source": [
    "#  but\n",
    "\n",
    "class test : \n",
    "    def __init__(self) :\n",
    "        self.__x = \"dibu\"\n",
    "        \n",
    "    def __test_meth(self) :\n",
    "        return \"this is a test method\""
   ]
  },
  {
   "cell_type": "code",
   "execution_count": 26,
   "id": "d4b741ea-3317-4703-afd7-669f6cf54759",
   "metadata": {},
   "outputs": [],
   "source": [
    "t4 = test()"
   ]
  },
  {
   "cell_type": "code",
   "execution_count": 27,
   "id": "19503735-879e-4333-b50b-2e0b978a7b93",
   "metadata": {},
   "outputs": [
    {
     "ename": "AttributeError",
     "evalue": "'test' object has no attribute 'test_meth'",
     "output_type": "error",
     "traceback": [
      "\u001b[0;31m---------------------------------------------------------------------------\u001b[0m",
      "\u001b[0;31mAttributeError\u001b[0m                            Traceback (most recent call last)",
      "Cell \u001b[0;32mIn[27], line 1\u001b[0m\n\u001b[0;32m----> 1\u001b[0m \u001b[43mt4\u001b[49m\u001b[38;5;241;43m.\u001b[39;49m\u001b[43mtest_meth\u001b[49m()\n",
      "\u001b[0;31mAttributeError\u001b[0m: 'test' object has no attribute 'test_meth'"
     ]
    }
   ],
   "source": [
    "t4.test_meth()"
   ]
  },
  {
   "cell_type": "code",
   "execution_count": 28,
   "id": "a4a5811e-2fc9-4576-a2c5-660b74f9334d",
   "metadata": {},
   "outputs": [
    {
     "data": {
      "text/plain": [
       "'this is a test method'"
      ]
     },
     "execution_count": 28,
     "metadata": {},
     "output_type": "execute_result"
    }
   ],
   "source": [
    "# but\n",
    "\n",
    "t4._test__test_meth()"
   ]
  },
  {
   "cell_type": "code",
   "execution_count": null,
   "id": "0fab8573-7774-40c6-bbad-06a603609944",
   "metadata": {},
   "outputs": [],
   "source": []
  },
  {
   "cell_type": "code",
   "execution_count": 41,
   "id": "371604d0-afa5-4280-8138-b3ae2a743775",
   "metadata": {},
   "outputs": [],
   "source": [
    "# to provide access without knowing the actual variable\n",
    "\n",
    "class test01 : \n",
    "    def __init__(self) :\n",
    "        self.__x = \"Dibyendu\"\n",
    "        self.__y = \"Chowdhury\"\n",
    "        self.z = \"pwskills\"\n",
    "        \n",
    "    def test_method(self) :\n",
    "        return \"this is just a test\"\n",
    "    \n",
    "    def access_var(self) :\n",
    "        return self.__x, self.__y ## this will show the data of the x and y varible but cannot change it\n",
    "    \n",
    "    def update_var(self, data01, data02) :\n",
    "        self.__x = data01\n",
    "        self.__y = data02"
   ]
  },
  {
   "cell_type": "code",
   "execution_count": 34,
   "id": "08ef1fca-d6e1-443d-b460-00b44d764f83",
   "metadata": {},
   "outputs": [],
   "source": [
    "t5 = test01()"
   ]
  },
  {
   "cell_type": "code",
   "execution_count": 35,
   "id": "3df04a5a-4640-4b45-997d-215702ee7b59",
   "metadata": {},
   "outputs": [
    {
     "data": {
      "text/plain": [
       "('Dibyendu', 'Chowdhury')"
      ]
     },
     "execution_count": 35,
     "metadata": {},
     "output_type": "execute_result"
    }
   ],
   "source": [
    "t5.access_var()"
   ]
  },
  {
   "cell_type": "code",
   "execution_count": 42,
   "id": "a5661fd3-eae9-44f6-8f47-d5bcdfa016de",
   "metadata": {},
   "outputs": [],
   "source": [
    "t6 = test01()"
   ]
  },
  {
   "cell_type": "code",
   "execution_count": 43,
   "id": "684b96f7-ff12-4983-87a4-178226e6b7f2",
   "metadata": {},
   "outputs": [],
   "source": [
    "t6.update_var(\"Raja\", \"Choudhary\")"
   ]
  },
  {
   "cell_type": "code",
   "execution_count": 44,
   "id": "e4f73b0d-20a9-4d8f-a46e-c48c2a32f308",
   "metadata": {},
   "outputs": [
    {
     "data": {
      "text/plain": [
       "('Raja', 'Choudhary')"
      ]
     },
     "execution_count": 44,
     "metadata": {},
     "output_type": "execute_result"
    }
   ],
   "source": [
    "t6.access_var()"
   ]
  },
  {
   "cell_type": "code",
   "execution_count": 45,
   "id": "748f0ca0-076d-4026-980f-f0138f155f4e",
   "metadata": {},
   "outputs": [],
   "source": [
    "class bankaccount :\n",
    "    def __init__(self, account_number, balance) :\n",
    "        self._account_number = account_number\n",
    "        self.__balance = balance\n",
    "        \n",
    "    def check_balance(self, password) :\n",
    "        if password == \"mysecurepassword\" :\n",
    "            return self.__balance\n",
    "        else :\n",
    "            return \"Incorrect Password\"\n",
    "        "
   ]
  },
  {
   "cell_type": "code",
   "execution_count": 46,
   "id": "e716e8f7-61ab-4199-983b-e3d97ee9d72b",
   "metadata": {},
   "outputs": [],
   "source": [
    "s1 = bankaccount(245541,6988)"
   ]
  },
  {
   "cell_type": "code",
   "execution_count": 47,
   "id": "6a5a6735-40cf-4647-87e2-eaf0df604b5e",
   "metadata": {},
   "outputs": [
    {
     "data": {
      "text/plain": [
       "'Incorrect Password'"
      ]
     },
     "execution_count": 47,
     "metadata": {},
     "output_type": "execute_result"
    }
   ],
   "source": [
    "# checking balance\n",
    "\n",
    "s1.check_balance(54112)"
   ]
  },
  {
   "cell_type": "code",
   "execution_count": 48,
   "id": "ea06fd3f-20dc-41ce-b18b-a6f11c98731b",
   "metadata": {},
   "outputs": [
    {
     "data": {
      "text/plain": [
       "6988"
      ]
     },
     "execution_count": 48,
     "metadata": {},
     "output_type": "execute_result"
    }
   ],
   "source": [
    "s1.check_balance(\"mysecurepassword\")"
   ]
  },
  {
   "cell_type": "code",
   "execution_count": 54,
   "id": "c4084ee0-05e4-40d9-8c9b-e9e47f2e1bd3",
   "metadata": {},
   "outputs": [],
   "source": [
    "# another example\n",
    "\n",
    "class queue :\n",
    "    def __init__(self) :\n",
    "        self._queue = []\n",
    "        \n",
    "    def enqueue(self, data) :\n",
    "        self._queue.append(data)\n",
    "        \n",
    "    def dequeue(self) :\n",
    "        if self._queue :\n",
    "            return self._queue.pop(0)\n",
    "        else :\n",
    "            print(\"its empty\")"
   ]
  },
  {
   "cell_type": "code",
   "execution_count": 55,
   "id": "5d8d534a-5d69-4ada-b2cd-59c30451a4cd",
   "metadata": {},
   "outputs": [],
   "source": [
    "q = queue()"
   ]
  },
  {
   "cell_type": "code",
   "execution_count": 56,
   "id": "4d0f1e3c-bf30-4031-92e9-14630f6a29f3",
   "metadata": {},
   "outputs": [
    {
     "name": "stdout",
     "output_type": "stream",
     "text": [
      "its empty\n"
     ]
    }
   ],
   "source": [
    "q.dequeue()"
   ]
  },
  {
   "cell_type": "code",
   "execution_count": 57,
   "id": "c4fce14f-92ea-4ccb-bfb9-0789bf0ef663",
   "metadata": {},
   "outputs": [],
   "source": [
    "q.enqueue(40)"
   ]
  },
  {
   "cell_type": "code",
   "execution_count": 58,
   "id": "4d8f124b-b38a-4deb-83cd-cbf0fa78a62b",
   "metadata": {},
   "outputs": [],
   "source": [
    "## we still cant be able to see the data in the list"
   ]
  },
  {
   "cell_type": "code",
   "execution_count": 59,
   "id": "4a94da4d-6c9c-44f3-b721-b0d6b928c050",
   "metadata": {},
   "outputs": [],
   "source": [
    "## to show the data we need to make a new variable\n",
    "\n",
    "class queue :\n",
    "    def __init__(self) :\n",
    "        self._queue = []\n",
    "        \n",
    "    def enqueue(self, data) :\n",
    "        self._queue.append(data)\n",
    "        \n",
    "    def dequeue(self) :\n",
    "        if self._queue :\n",
    "            return self._queue.pop(0)\n",
    "        else :\n",
    "            print(\"its empty\")\n",
    "            \n",
    "            \n",
    "    def show_data(self) :\n",
    "        return self._queue"
   ]
  },
  {
   "cell_type": "code",
   "execution_count": 60,
   "id": "fa408686-e6a7-4758-828b-c33314e8550e",
   "metadata": {},
   "outputs": [],
   "source": [
    "q = queue()"
   ]
  },
  {
   "cell_type": "code",
   "execution_count": 61,
   "id": "0dfd136c-da07-452a-8c4e-c73b75672410",
   "metadata": {},
   "outputs": [
    {
     "data": {
      "text/plain": [
       "[]"
      ]
     },
     "execution_count": 61,
     "metadata": {},
     "output_type": "execute_result"
    }
   ],
   "source": [
    "q.show_data()"
   ]
  },
  {
   "cell_type": "code",
   "execution_count": 62,
   "id": "f7ca591f-272e-445d-9a3e-54d67675c6c4",
   "metadata": {},
   "outputs": [
    {
     "name": "stdout",
     "output_type": "stream",
     "text": [
      "its empty\n"
     ]
    }
   ],
   "source": [
    "q.dequeue()"
   ]
  },
  {
   "cell_type": "code",
   "execution_count": 63,
   "id": "d801074a-538f-4000-8fb8-a33d15cc3407",
   "metadata": {},
   "outputs": [],
   "source": [
    "q.enqueue(40)"
   ]
  },
  {
   "cell_type": "code",
   "execution_count": 64,
   "id": "90b6e290-5714-4244-880f-cbb18c442f88",
   "metadata": {},
   "outputs": [
    {
     "data": {
      "text/plain": [
       "[40]"
      ]
     },
     "execution_count": 64,
     "metadata": {},
     "output_type": "execute_result"
    }
   ],
   "source": [
    "q.show_data()"
   ]
  },
  {
   "cell_type": "code",
   "execution_count": null,
   "id": "b179845e-3baf-4872-bbc6-95f28359fc6f",
   "metadata": {},
   "outputs": [],
   "source": []
  },
  {
   "cell_type": "markdown",
   "id": "c5085adb-17af-4fb4-ad65-fc106eea5f3f",
   "metadata": {},
   "source": [
    "## ABSTRACTION"
   ]
  },
  {
   "cell_type": "code",
   "execution_count": 65,
   "id": "9980955e-091c-41e6-8f8a-41762f009e8b",
   "metadata": {},
   "outputs": [],
   "source": [
    "## creating a skeleton is called abstraction"
   ]
  },
  {
   "cell_type": "code",
   "execution_count": 113,
   "id": "af0ca2d2-5fd5-4e36-adee-31d31c40a186",
   "metadata": {},
   "outputs": [],
   "source": [
    "## when we are simplyfy the whole mega system or process into smaller and simpler parts, it can be called as abstraction"
   ]
  },
  {
   "cell_type": "code",
   "execution_count": 66,
   "id": "cbebb71d-5a5c-4d76-914c-a3dcbea9f2aa",
   "metadata": {},
   "outputs": [],
   "source": [
    "class pwskills :\n",
    "    def student_details(self) :\n",
    "        return \" this will give the details about the student\""
   ]
  },
  {
   "cell_type": "code",
   "execution_count": 89,
   "id": "dfe503ca-9f30-4f3b-8384-4a1054afee9b",
   "metadata": {},
   "outputs": [],
   "source": [
    "from abc import ABC, abstractmethod ## to import the abstractclass\n",
    "\n",
    "class pwskills(ABC) : \n",
    "    \n",
    "    ## we need to implement a decoration so that anyone can call and implement it, to make nessesary adjustment for that, we need to call @abstractmethod in each of the function\n",
    "    \n",
    "    @abstractmethod\n",
    "    def databaseconnect(self) :\n",
    "        pass\n",
    "    \n",
    "    @abstractmethod\n",
    "    def check_user_enroll(self, user_mail_id) :\n",
    "        pass\n",
    "    \n",
    "    @abstractmethod\n",
    "    def check_completed_lecture(self, user_id, class_id) :\n",
    "        pass\n",
    "    \n",
    "    @abstractmethod\n",
    "    def check_lab_usages(self, user_id) :\n",
    "        pass\n",
    "    \n",
    "    @abstractmethod\n",
    "    def check_internship(self, user_id) :\n",
    "        pass\n",
    "    \n",
    "## here we can see that we dont write any function properly\n",
    "## wherever we create a class levelled diagram, and suppose I am the manager, so I made these methods so everyone can run the project properly. so anyone cannot lose track of methods. "
   ]
  },
  {
   "cell_type": "code",
   "execution_count": null,
   "id": "d6bfe5a6-11e0-4791-bd19-8cb28b0d856a",
   "metadata": {},
   "outputs": [],
   "source": [
    "from abc import ABC, abstractmethod\n",
    "\n",
    "class pwskills(ABC): \n",
    "    @abstractmethod\n",
    "    def databaseconnect(self):\n",
    "        pass\n",
    "    \n",
    "    @abstractmethod\n",
    "    def check_user_enroll(self, user_mail_id):\n",
    "        pass\n",
    "    \n",
    "    @abstractmethod\n",
    "    def check_completed_lecture(self, user_id, class_id):\n",
    "        pass\n",
    "    \n",
    "    @abstractmethod\n",
    "    def check_lab_usages(self, user_id):\n",
    "        pass\n",
    "    \n",
    "    @abstractmethod\n",
    "    def check_internship(self, user_id):\n",
    "        pass\n"
   ]
  },
  {
   "cell_type": "code",
   "execution_count": 85,
   "id": "f9ebcb9d-26fd-4cc8-9b4b-b0539d98d116",
   "metadata": {},
   "outputs": [],
   "source": [
    "# if anyone need to implement something, they have to do this in above functions only. \n",
    "\n",
    "class databaseconnect(pwskills) :\n",
    "    def databaseconnect(self) :\n",
    "        print(\"this is an implementation of database connectivity\")"
   ]
  },
  {
   "cell_type": "code",
   "execution_count": 90,
   "id": "6d7e6358-894e-44d9-a57f-250dfb5195ae",
   "metadata": {},
   "outputs": [
    {
     "ename": "TypeError",
     "evalue": "Can't instantiate abstract class databaseconnect with abstract methods check_completed_lecture, check_internship, check_lab_usages, check_user_enroll",
     "output_type": "error",
     "traceback": [
      "\u001b[0;31m---------------------------------------------------------------------------\u001b[0m",
      "\u001b[0;31mTypeError\u001b[0m                                 Traceback (most recent call last)",
      "Cell \u001b[0;32mIn[90], line 1\u001b[0m\n\u001b[0;32m----> 1\u001b[0m db \u001b[38;5;241m=\u001b[39m \u001b[43mdatabaseconnect\u001b[49m\u001b[43m(\u001b[49m\u001b[43m)\u001b[49m\n",
      "\u001b[0;31mTypeError\u001b[0m: Can't instantiate abstract class databaseconnect with abstract methods check_completed_lecture, check_internship, check_lab_usages, check_user_enroll"
     ]
    }
   ],
   "source": [
    "db = databaseconnect()"
   ]
  },
  {
   "cell_type": "code",
   "execution_count": 92,
   "id": "269170c7-e1fc-4aaf-97fb-c699159ea527",
   "metadata": {},
   "outputs": [],
   "source": [
    "## it is showing that you are written other methods as well. so you need to make changes on those functions as well to proper functioning \n",
    "## it means that forcefully asking the user to get the nessesary changes to the user"
   ]
  },
  {
   "cell_type": "code",
   "execution_count": 94,
   "id": "b0ef39f5-41d4-424c-892a-bf4077be77e3",
   "metadata": {},
   "outputs": [],
   "source": [
    "class calculations:\n",
    "    def add(x,y) :\n",
    "        return x+y\n",
    "    \n",
    "    def sub(x,y) :\n",
    "        return x-y"
   ]
  },
  {
   "cell_type": "code",
   "execution_count": 96,
   "id": "c149dd26-7b5c-40fb-9a0c-6fa79b981db7",
   "metadata": {},
   "outputs": [
    {
     "ename": "TypeError",
     "evalue": "calculations.add() takes 2 positional arguments but 3 were given",
     "output_type": "error",
     "traceback": [
      "\u001b[0;31m---------------------------------------------------------------------------\u001b[0m",
      "\u001b[0;31mTypeError\u001b[0m                                 Traceback (most recent call last)",
      "Cell \u001b[0;32mIn[96], line 3\u001b[0m\n\u001b[1;32m      1\u001b[0m a \u001b[38;5;241m=\u001b[39m calculations()\n\u001b[0;32m----> 3\u001b[0m \u001b[43ma\u001b[49m\u001b[38;5;241;43m.\u001b[39;49m\u001b[43madd\u001b[49m\u001b[43m(\u001b[49m\u001b[38;5;241;43m3\u001b[39;49m\u001b[43m,\u001b[49m\u001b[38;5;241;43m4\u001b[39;49m\u001b[43m)\u001b[49m \u001b[38;5;66;03m## it will give an error as we dosen't use the self parameter\u001b[39;00m\n",
      "\u001b[0;31mTypeError\u001b[0m: calculations.add() takes 2 positional arguments but 3 were given"
     ]
    }
   ],
   "source": [
    "a = calculations()\n",
    "\n",
    "a.add(3,4) ## it will give an error as we dosen't use the self parameter"
   ]
  },
  {
   "cell_type": "code",
   "execution_count": 97,
   "id": "dab54aa5-e4dc-4d96-86cf-589d4c8240b3",
   "metadata": {},
   "outputs": [
    {
     "data": {
      "text/plain": [
       "10"
      ]
     },
     "execution_count": 97,
     "metadata": {},
     "output_type": "execute_result"
    }
   ],
   "source": [
    "# without creating an object (using self), we can call this  \n",
    "\n",
    "calculations.add(3,7)"
   ]
  },
  {
   "cell_type": "code",
   "execution_count": 104,
   "id": "421510d7-4b2c-4565-8a5c-3f317f90cb35",
   "metadata": {},
   "outputs": [],
   "source": [
    "#  another example\n",
    "\n",
    "class calculations:\n",
    "    @staticmethod ## it help to understand that we are using here the static method (we dont use here the self method)\n",
    "    def add(x,y) :\n",
    "        return x+y\n",
    "    @staticmethod\n",
    "    def sub(x,y) :\n",
    "        return x-y\n",
    "    \n",
    "    def div(self, x,y) :\n",
    "        return x/y\n"
   ]
  },
  {
   "cell_type": "code",
   "execution_count": 102,
   "id": "67201671-bd0c-4abc-9e87-d224963b764f",
   "metadata": {},
   "outputs": [],
   "source": [
    "class cal(calculations):\n",
    "    pass"
   ]
  },
  {
   "cell_type": "code",
   "execution_count": 103,
   "id": "381ac279-b639-4a12-9eb7-7181fe6bad31",
   "metadata": {},
   "outputs": [
    {
     "data": {
      "text/plain": [
       "7"
      ]
     },
     "execution_count": 103,
     "metadata": {},
     "output_type": "execute_result"
    }
   ],
   "source": [
    "cal.add(3,4)"
   ]
  },
  {
   "cell_type": "code",
   "execution_count": 105,
   "id": "0ac65302-8d65-4afa-aad8-8876b90f7d38",
   "metadata": {},
   "outputs": [],
   "source": [
    "## another example of encapsulation"
   ]
  },
  {
   "cell_type": "code",
   "execution_count": 106,
   "id": "744b7b87-ed84-44e9-997d-84da43d8263b",
   "metadata": {},
   "outputs": [],
   "source": [
    "class file_ops :\n",
    "    def __init__(self, filename) :\n",
    "        self.filename = filename\n",
    "        \n",
    "    def read_file(self) :\n",
    "        with open(self.filename, 'r') :\n",
    "            return file.read()\n",
    "        \n",
    "    def write_file(self, data) :\n",
    "        with open(self.filename, 'w') as file :\n",
    "            file.write(data)\n",
    "            \n",
    "            "
   ]
  },
  {
   "cell_type": "code",
   "execution_count": 107,
   "id": "5e16082a-000c-4435-a4e1-7e1bee2181d1",
   "metadata": {},
   "outputs": [],
   "source": [
    "sudh_op_file = file_ops('sudhfile.txt')\n",
    "\n",
    "sudh_op_file.write_file('fhffkkhdhkfjhhf ghjd')"
   ]
  },
  {
   "cell_type": "code",
   "execution_count": 108,
   "id": "02c687f6-e80d-4bde-a975-6acbf327130c",
   "metadata": {},
   "outputs": [],
   "source": [
    "kapil = file_ops('kapil.txt')\n",
    "\n",
    "kapil.write_file('this is kapil file')"
   ]
  },
  {
   "cell_type": "code",
   "execution_count": 109,
   "id": "67a98a57-5c81-4b8d-bc37-2370e95e73cb",
   "metadata": {},
   "outputs": [],
   "source": [
    "## the user dosen't know internally how the write operations are made. "
   ]
  },
  {
   "cell_type": "code",
   "execution_count": null,
   "id": "d21d57ab-a683-42b4-94bf-8e973320fe31",
   "metadata": {},
   "outputs": [],
   "source": []
  },
  {
   "cell_type": "markdown",
   "id": "fff98597-fe25-48a7-894a-c7bfa65db843",
   "metadata": {},
   "source": [
    "## COMPOSITION"
   ]
  },
  {
   "cell_type": "code",
   "execution_count": 110,
   "id": "042b0b9c-e4fa-4e90-8ef2-dec47d35e39e",
   "metadata": {},
   "outputs": [],
   "source": [
    "class pwskills:\n",
    "    def student(self) :\n",
    "        return \"student details\"\n",
    "    \n",
    "    \n",
    "class datascience :\n",
    "    def __init__(self) :\n",
    "        self.student = pwskills()"
   ]
  },
  {
   "cell_type": "code",
   "execution_count": 111,
   "id": "83cd6a79-c9ea-4ab0-a706-2fa959048e5e",
   "metadata": {},
   "outputs": [
    {
     "data": {
      "text/plain": [
       "'student details'"
      ]
     },
     "execution_count": 111,
     "metadata": {},
     "output_type": "execute_result"
    }
   ],
   "source": [
    "ds = datascience()\n",
    "\n",
    "ds.student.student()"
   ]
  },
  {
   "cell_type": "code",
   "execution_count": 112,
   "id": "5ee5aead-3466-4cda-863b-949e942ba6ed",
   "metadata": {},
   "outputs": [],
   "source": [
    "## composition is a way in which we will be able to build a complex object by combining the simplest objects"
   ]
  },
  {
   "cell_type": "code",
   "execution_count": null,
   "id": "a018bbf7-87e9-4761-86be-eacec656b975",
   "metadata": {},
   "outputs": [],
   "source": []
  },
  {
   "cell_type": "markdown",
   "id": "161dcaef-d174-4ed9-9d81-3a9eb4d7ec38",
   "metadata": {},
   "source": [
    "## ZIP"
   ]
  },
  {
   "cell_type": "code",
   "execution_count": 114,
   "id": "be711433-a90c-4997-8155-236e4a998f08",
   "metadata": {},
   "outputs": [],
   "source": [
    "l = [1,2,3,4]\n",
    "\n",
    "l1 = [5,6,7,8]"
   ]
  },
  {
   "cell_type": "code",
   "execution_count": 115,
   "id": "9aec98cc-67e4-46a7-a7e9-a75d90a24324",
   "metadata": {},
   "outputs": [
    {
     "data": {
      "text/plain": [
       "[(1, 5), (2, 6), (3, 7), (4, 8)]"
      ]
     },
     "execution_count": 115,
     "metadata": {},
     "output_type": "execute_result"
    }
   ],
   "source": [
    "list(zip(l,l1))"
   ]
  },
  {
   "cell_type": "code",
   "execution_count": null,
   "id": "cd4e3b55-82cb-4e6e-a3f1-ceb0b0f3da4a",
   "metadata": {},
   "outputs": [],
   "source": []
  },
  {
   "cell_type": "markdown",
   "id": "32120a87-017a-4f35-ad25-fbe500d2fa8d",
   "metadata": {},
   "source": [
    "## ENUMERATE"
   ]
  },
  {
   "cell_type": "code",
   "execution_count": 117,
   "id": "244a30de-f248-4859-8654-7463f4093321",
   "metadata": {},
   "outputs": [
    {
     "name": "stdout",
     "output_type": "stream",
     "text": [
      "0   5\n",
      "1   6\n",
      "2   7\n",
      "3   8\n"
     ]
    }
   ],
   "source": [
    "for index,data in enumerate(l1) :\n",
    "    print(index, \" \", data)"
   ]
  },
  {
   "cell_type": "code",
   "execution_count": null,
   "id": "a6bb59ab-2a4c-45e5-b9c5-4c68bc1673cf",
   "metadata": {},
   "outputs": [],
   "source": []
  }
 ],
 "metadata": {
  "kernelspec": {
   "display_name": "Python 3 (ipykernel)",
   "language": "python",
   "name": "python3"
  },
  "language_info": {
   "codemirror_mode": {
    "name": "ipython",
    "version": 3
   },
   "file_extension": ".py",
   "mimetype": "text/x-python",
   "name": "python",
   "nbconvert_exporter": "python",
   "pygments_lexer": "ipython3",
   "version": "3.10.8"
  }
 },
 "nbformat": 4,
 "nbformat_minor": 5
}
