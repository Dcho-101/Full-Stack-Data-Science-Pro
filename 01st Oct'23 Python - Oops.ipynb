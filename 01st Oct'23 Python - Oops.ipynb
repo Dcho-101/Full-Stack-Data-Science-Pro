{
 "cells": [
  {
   "cell_type": "markdown",
   "id": "12bd8851-52ac-4982-870a-71b524d485cb",
   "metadata": {},
   "source": [
    "# 01st Oct'23 : Python - Oops"
   ]
  },
  {
   "cell_type": "code",
   "execution_count": 1,
   "id": "065f6066-8067-46bd-93bc-7fbcfdd0ce85",
   "metadata": {},
   "outputs": [],
   "source": [
    "# object is the variable of a class"
   ]
  },
  {
   "cell_type": "code",
   "execution_count": 3,
   "id": "d8b96baa-797e-4601-81e6-865ed182b171",
   "metadata": {},
   "outputs": [],
   "source": [
    "# class is called a simple classification of an obejct"
   ]
  },
  {
   "cell_type": "code",
   "execution_count": 4,
   "id": "18da7d6b-d474-4db9-a3f3-18c7e009dce2",
   "metadata": {},
   "outputs": [],
   "source": [
    "# numerous functions can be stored into one class"
   ]
  },
  {
   "cell_type": "code",
   "execution_count": 1,
   "id": "8d667f8f-14c3-45a6-a521-15c94f6744a3",
   "metadata": {},
   "outputs": [],
   "source": [
    "# creating class for performing some sort of operation in lists\n",
    "\n",
    "# suppose we are making a class for bank account\n",
    "\n",
    "class bankaccount :\n",
    "    \n",
    "    # making function for opening a bank account. \n",
    "    # when we are making a function in a class, the very first parameter needs to be pointer.\n",
    "    # generally this pointer is written as self. we can also use any name insead of self.\n",
    "    # name and email are the parameters which we need to open the bank account \n",
    "    \n",
    "    def open_bank_account(self, name, email_id) :\n",
    "        \n",
    "        # so it is taking two argument as it seems to take 3 argument\n",
    "        # self is the reference of the class.\n",
    "        print(\"open an account by taking name and email_id\")\n",
    "        return name + email_id \n",
    "    \n",
    "    # another function for diposit\n",
    "    def diposit(self, amount) :\n",
    "        print(\"I am trying to deposit an amount in my account\")\n",
    "        \n",
    "    def withdraw(self, amt_withdraw) :\n",
    "        print(\"withdraw the amount\")\n",
    "        \n",
    "    def update_details(self, name_update, e_mail_update) :\n",
    "        print(\"this function will update my name and mail for account\")"
   ]
  },
  {
   "cell_type": "code",
   "execution_count": 6,
   "id": "0c95a6c5-7ee7-4cf3-a000-aef05c215c9b",
   "metadata": {},
   "outputs": [],
   "source": [
    "# openaccount cannot be able to use directly\n",
    "\n",
    "# if we are using some function inside a class , then it cannot be able to use directly.\n",
    "\n",
    "# we can use by using variable of a class\n",
    "\n"
   ]
  },
  {
   "cell_type": "code",
   "execution_count": 8,
   "id": "50686ab7-8857-4f99-a01d-1f9d0131f4c3",
   "metadata": {},
   "outputs": [],
   "source": [
    "# for example\n",
    "\n",
    "sudh = bankaccount()\n",
    "\n",
    "# now if we type sudh then press . then we can be able to see the functions inside the class which is stored in this variable"
   ]
  },
  {
   "cell_type": "code",
   "execution_count": 9,
   "id": "ce7d7bde-82c9-442b-a3ee-ccc58f060714",
   "metadata": {},
   "outputs": [
    {
     "name": "stdout",
     "output_type": "stream",
     "text": [
      "open an account by taking name and email_id\n"
     ]
    },
    {
     "data": {
      "text/plain": [
       "'dibyendudchowdhury513@gmail.com'"
      ]
     },
     "execution_count": 9,
     "metadata": {},
     "output_type": "execute_result"
    }
   ],
   "source": [
    "sudh.open_bank_account(\"dibyendu\", \"dchowdhury513@gmail.com\")"
   ]
  },
  {
   "cell_type": "markdown",
   "id": "4626895c-1b49-41a1-8b18-ef895f2263e2",
   "metadata": {},
   "source": [
    "#### Examples"
   ]
  },
  {
   "cell_type": "code",
   "execution_count": 14,
   "id": "81bbe359-49b6-4265-a859-8995002bf7f6",
   "metadata": {},
   "outputs": [],
   "source": [
    "class list_ops :\n",
    "    def extract_from_index(self, l, index) :\n",
    "        return l[index]\n",
    "    \n",
    "    def extract_range_data(self, l, start, end) :\n",
    "        return l[start:end]\n",
    "    \n",
    "    def extract_even(self, l) :\n",
    "        l1 = []\n",
    "        for i in l :\n",
    "            if i%2 == 0 :\n",
    "                l1.append(i)\n",
    "        return l1"
   ]
  },
  {
   "cell_type": "code",
   "execution_count": 11,
   "id": "1ed8a9a3-04b7-4408-a020-21246bc4800c",
   "metadata": {},
   "outputs": [],
   "source": [
    "l = [4,5,6,7,8,9]"
   ]
  },
  {
   "cell_type": "code",
   "execution_count": 13,
   "id": "4b520cf5-9687-4679-b860-6377816b83e8",
   "metadata": {},
   "outputs": [
    {
     "data": {
      "text/plain": [
       "5"
      ]
     },
     "execution_count": 13,
     "metadata": {},
     "output_type": "execute_result"
    }
   ],
   "source": [
    "l[1]"
   ]
  },
  {
   "cell_type": "code",
   "execution_count": 15,
   "id": "47918b55-8091-4a86-b6de-74aa91d77658",
   "metadata": {},
   "outputs": [],
   "source": [
    "first_obj = list_ops()"
   ]
  },
  {
   "cell_type": "code",
   "execution_count": 16,
   "id": "f7f145ad-13a5-4593-8288-fa939c8182c8",
   "metadata": {},
   "outputs": [
    {
     "data": {
      "text/plain": [
       "6"
      ]
     },
     "execution_count": 16,
     "metadata": {},
     "output_type": "execute_result"
    }
   ],
   "source": [
    "first_obj.extract_from_index([2,3,4,5,6], 4)"
   ]
  },
  {
   "cell_type": "code",
   "execution_count": 17,
   "id": "2b60c8a5-cbcc-434d-ada8-79a3a2c9a71f",
   "metadata": {},
   "outputs": [
    {
     "data": {
      "text/plain": [
       "[1, 2, 3, 4]"
      ]
     },
     "execution_count": 17,
     "metadata": {},
     "output_type": "execute_result"
    }
   ],
   "source": [
    "first_obj.extract_range_data([1,2,3,4,5,6,7,8,9,0], 0, 4)"
   ]
  },
  {
   "cell_type": "code",
   "execution_count": 18,
   "id": "5f9fd36f-b7cf-4730-9a06-d64bb46468d9",
   "metadata": {},
   "outputs": [
    {
     "data": {
      "text/plain": [
       "[2, 4, 6, 8, 0]"
      ]
     },
     "execution_count": 18,
     "metadata": {},
     "output_type": "execute_result"
    }
   ],
   "source": [
    "first_obj.extract_even([1,2,3,4,5,6,7,8,9,0])"
   ]
  },
  {
   "cell_type": "code",
   "execution_count": 19,
   "id": "32376492-d853-4f86-a877-0fc52d7e0e05",
   "metadata": {},
   "outputs": [],
   "source": [
    "# in class function, 'self' is used to bind the entire function to the classes.\n",
    "\n",
    "# we can use other name insted of using self. but the pointer should be one in each class. for convension, we use self."
   ]
  },
  {
   "cell_type": "code",
   "execution_count": null,
   "id": "fc51cf1d-86c5-4a5f-a44d-d60241106933",
   "metadata": {},
   "outputs": [],
   "source": []
  },
  {
   "cell_type": "markdown",
   "id": "5cb31058-8fb1-4942-bddc-323f7c64b162",
   "metadata": {},
   "source": [
    "#### Doonder Method"
   ]
  },
  {
   "cell_type": "code",
   "execution_count": 21,
   "id": "1fb593e6-fe77-49c2-b9f7-edc5ef196f69",
   "metadata": {},
   "outputs": [],
   "source": [
    "def __init__(self, l) : # init stands for initialization which links the information with the class\n",
    "    self.l = l"
   ]
  },
  {
   "cell_type": "code",
   "execution_count": 22,
   "id": "32a28771-5eea-4918-8aa9-4e8a1cb376ad",
   "metadata": {},
   "outputs": [],
   "source": [
    "# if we use the init function in the class then\n",
    "\n",
    "class list_ops :\n",
    "    \n",
    "    def __init__(self, l) : # init stands for initialization which links the information with the class\n",
    "        self.l = l\n",
    "    \n",
    "    def extract_from_index(self, l, index) :\n",
    "        return l[index]\n",
    "    \n",
    "    def extract_range_data(self, l, start, end) :\n",
    "        return l[start:end]\n",
    "    \n",
    "    def extract_even(self, l) :\n",
    "        l1 = []\n",
    "        for i in l :\n",
    "            if i%2 == 0 :\n",
    "                l1.append(i)\n",
    "        return l1\n",
    "    \n",
    "# now if we use this class then it will ask the list in the first place"
   ]
  },
  {
   "cell_type": "code",
   "execution_count": 23,
   "id": "16dddc01-82ed-4efa-881d-a9297e4b2434",
   "metadata": {},
   "outputs": [
    {
     "ename": "TypeError",
     "evalue": "list_ops.__init__() missing 1 required positional argument: 'l'",
     "output_type": "error",
     "traceback": [
      "\u001b[0;31m---------------------------------------------------------------------------\u001b[0m",
      "\u001b[0;31mTypeError\u001b[0m                                 Traceback (most recent call last)",
      "Cell \u001b[0;32mIn[23], line 1\u001b[0m\n\u001b[0;32m----> 1\u001b[0m abc \u001b[38;5;241m=\u001b[39m \u001b[43mlist_ops\u001b[49m\u001b[43m(\u001b[49m\u001b[43m)\u001b[49m\n",
      "\u001b[0;31mTypeError\u001b[0m: list_ops.__init__() missing 1 required positional argument: 'l'"
     ]
    }
   ],
   "source": [
    "abc = list_ops()"
   ]
  },
  {
   "cell_type": "code",
   "execution_count": 24,
   "id": "d4216435-e8b6-44b7-b7fb-92371e958fc4",
   "metadata": {},
   "outputs": [],
   "source": [
    "# the init function is inbuild function which is used to provide data for a perticular object "
   ]
  },
  {
   "cell_type": "code",
   "execution_count": 25,
   "id": "2bea9ae3-9058-4aab-96de-c1fb1f4e07d3",
   "metadata": {},
   "outputs": [],
   "source": [
    "abc = list_ops([1,2,3,4,5,6,7,8])"
   ]
  },
  {
   "cell_type": "code",
   "execution_count": 26,
   "id": "8f2ba337-ec67-4dd0-beaf-58aee0b061cd",
   "metadata": {},
   "outputs": [
    {
     "data": {
      "text/plain": [
       "[1, 2, 3, 4, 5, 6, 7, 8]"
      ]
     },
     "execution_count": 26,
     "metadata": {},
     "output_type": "execute_result"
    }
   ],
   "source": [
    "abc.l"
   ]
  },
  {
   "cell_type": "code",
   "execution_count": 29,
   "id": "0ec56212-6394-4aad-a769-65b2e6a25b7d",
   "metadata": {},
   "outputs": [
    {
     "ename": "AttributeError",
     "evalue": "'list_ops' object has no attribute 'l1'",
     "output_type": "error",
     "traceback": [
      "\u001b[0;31m---------------------------------------------------------------------------\u001b[0m",
      "\u001b[0;31mAttributeError\u001b[0m                            Traceback (most recent call last)",
      "Cell \u001b[0;32mIn[29], line 3\u001b[0m\n\u001b[1;32m      1\u001b[0m \u001b[38;5;66;03m# now if we change the vlue of l from self.l and make the statemet l1  \u001b[39;00m\n\u001b[0;32m----> 3\u001b[0m \u001b[43mabc\u001b[49m\u001b[38;5;241;43m.\u001b[39;49m\u001b[43ml1\u001b[49m\n",
      "\u001b[0;31mAttributeError\u001b[0m: 'list_ops' object has no attribute 'l1'"
     ]
    }
   ],
   "source": [
    "# now if we change the vlue of l from self.l and make the statemet l1  \n",
    "\n",
    "abc.l1"
   ]
  },
  {
   "cell_type": "code",
   "execution_count": 28,
   "id": "5109010e-176c-4062-b3a0-c71f81b1203d",
   "metadata": {},
   "outputs": [],
   "source": [
    "# if we use the init function in the class then\n",
    "\n",
    "class list_ops :\n",
    "    \n",
    "    def __init__(self, l) : # init stands for initialization which links the information with the class\n",
    "        self.l1 = l\n",
    "    \n",
    "    def extract_from_index(self, l, index) :\n",
    "        return l[index]\n",
    "    \n",
    "    def extract_range_data(self, l, start, end) :\n",
    "        return l[start:end]\n",
    "    \n",
    "    def extract_even(self, l) :\n",
    "        l1 = []\n",
    "        for i in l :\n",
    "            if i%2 == 0 :\n",
    "                l1.append(i)\n",
    "        return l1\n",
    "    \n",
    "# now if we use this class then it will ask the list in the first place"
   ]
  },
  {
   "cell_type": "code",
   "execution_count": 30,
   "id": "71a9761f-5aa8-48ba-ad64-c752fdb87a5d",
   "metadata": {},
   "outputs": [],
   "source": [
    "abc = list_ops([4,5,6,4,5,3,3,4,5,7,78])"
   ]
  },
  {
   "cell_type": "code",
   "execution_count": 31,
   "id": "66d75b41-bf89-4e58-85d1-2b429a66270b",
   "metadata": {},
   "outputs": [
    {
     "data": {
      "text/plain": [
       "[4, 5, 6, 4, 5, 3, 3, 4, 5, 7, 78]"
      ]
     },
     "execution_count": 31,
     "metadata": {},
     "output_type": "execute_result"
    }
   ],
   "source": [
    "abc.l1"
   ]
  },
  {
   "cell_type": "code",
   "execution_count": 32,
   "id": "101add58-6efb-44ed-9fc9-710ea9fc258a",
   "metadata": {},
   "outputs": [],
   "source": [
    "# __init__ is also called as constructor"
   ]
  },
  {
   "cell_type": "code",
   "execution_count": null,
   "id": "db8150d1-105a-4b40-bf77-a83a3c517dd2",
   "metadata": {},
   "outputs": [],
   "source": []
  },
  {
   "cell_type": "code",
   "execution_count": 1,
   "id": "b461540d-eeb9-4781-8d3b-325857a4e39f",
   "metadata": {},
   "outputs": [],
   "source": [
    "# another example"
   ]
  },
  {
   "cell_type": "code",
   "execution_count": 26,
   "id": "70cb1206-be3a-4483-9ac4-d4b61b028e7b",
   "metadata": {},
   "outputs": [],
   "source": [
    "class book :\n",
    "    def __init__(self, book, title, page_no) :\n",
    "        self.name_of_book = book\n",
    "        self.title_of_book = title\n",
    "        self.page_number = page_no\n",
    "        \n",
    "        # it means whenever the user is changed, the name of the book and auther of the book will gets different as everyone does not like every books.\n",
    "        \n",
    "        # now using different constructer\n",
    "        \n",
    "    def extract_details(self) :\n",
    "        print(self.name_of_book, ',', self.title_of_book)\n",
    "        # inside the class we need to print like this.\n",
    "            \n",
    "    def print_page_no(self) :\n",
    "        print(self.page_number)"
   ]
  },
  {
   "cell_type": "code",
   "execution_count": 27,
   "id": "05bd07d6-6e5f-4967-8864-91acf89f04df",
   "metadata": {},
   "outputs": [],
   "source": [
    "# everyone have different choices for the books and page number. so the generic classes have been made"
   ]
  },
  {
   "cell_type": "code",
   "execution_count": 28,
   "id": "f985bfa0-a323-4019-a9c6-c1a3eb4fd131",
   "metadata": {},
   "outputs": [],
   "source": [
    "sudhanshu = book('DSA', 'Practical_DSA', 456)\n",
    "\n",
    "ronik = book('Data_Science', 'Implementation_of_data_science', 465)\n",
    "\n",
    "wasim = book('Big_data', 'invention_with_big_data', 785)"
   ]
  },
  {
   "cell_type": "code",
   "execution_count": 29,
   "id": "1f4d0feb-18a0-45ad-8495-c87f9a76c8fd",
   "metadata": {},
   "outputs": [],
   "source": [
    "# for everyone the book, title, and the page number is different. so whenever we are dealing with different user the functions will \n",
    "# return the title, book,and page number accordingly"
   ]
  },
  {
   "cell_type": "code",
   "execution_count": 30,
   "id": "b09d0560-2214-4336-b2d0-65e4cf7cf827",
   "metadata": {},
   "outputs": [
    {
     "name": "stdout",
     "output_type": "stream",
     "text": [
      "DSA , Practical_DSA\n"
     ]
    }
   ],
   "source": [
    "sudhanshu.extract_details()"
   ]
  },
  {
   "cell_type": "code",
   "execution_count": 31,
   "id": "52837191-c0fb-4498-b787-8bded1584964",
   "metadata": {},
   "outputs": [
    {
     "name": "stdout",
     "output_type": "stream",
     "text": [
      "Data_Science , Implementation_of_data_science\n"
     ]
    }
   ],
   "source": [
    "ronik.extract_details()"
   ]
  },
  {
   "cell_type": "code",
   "execution_count": 32,
   "id": "dcbb668f-0336-4017-9027-40f58334de35",
   "metadata": {},
   "outputs": [
    {
     "data": {
      "text/plain": [
       "'DSA'"
      ]
     },
     "execution_count": 32,
     "metadata": {},
     "output_type": "execute_result"
    }
   ],
   "source": [
    "sudhanshu.name_of_book"
   ]
  },
  {
   "cell_type": "code",
   "execution_count": null,
   "id": "06c3ef10-b5cb-44f3-a76f-6105dfcb5f16",
   "metadata": {},
   "outputs": [],
   "source": []
  },
  {
   "cell_type": "code",
   "execution_count": 33,
   "id": "502c2f0a-9a55-434e-9846-960420959d18",
   "metadata": {},
   "outputs": [],
   "source": [
    "# so if we need to pass different different data, with different object, in a class then we can use the __init__ method \n",
    "# otherwise __init__ method not need in other cases. "
   ]
  },
  {
   "cell_type": "code",
   "execution_count": 34,
   "id": "58c857a8-606c-42c6-ad4c-10bb0f4cc38c",
   "metadata": {},
   "outputs": [],
   "source": [
    "# maximum time in google they start with __init__ but it is not mandatory all the time"
   ]
  },
  {
   "cell_type": "code",
   "execution_count": 35,
   "id": "067d5497-0fa7-4dfd-b4dc-8f66a55fc219",
   "metadata": {},
   "outputs": [],
   "source": [
    "# using init method without pssinng any data"
   ]
  },
  {
   "cell_type": "code",
   "execution_count": 36,
   "id": "af0b2060-45b9-47ac-b4fe-a1fd1915ea81",
   "metadata": {},
   "outputs": [],
   "source": [
    "class book :\n",
    "    def __init__(self) :\n",
    "        self.name_of_book = 'DSA'\n",
    "        self.title_of_book = 'DSA Advance'\n",
    "        self.page_number = 5646\n",
    "        \n",
    "        # it means whenever the user is changed, the name of the book and auther of the book will gets different as everyone does not like every books.\n",
    "        \n",
    "        # now using different constructer\n",
    "        \n",
    "    def extract_details(self) :\n",
    "        print(self.name_of_book, ',', self.title_of_book)\n",
    "        # inside the class we need to print like this.\n",
    "            \n",
    "    def print_page_no(self) :\n",
    "        print(self.page_number)"
   ]
  },
  {
   "cell_type": "code",
   "execution_count": 37,
   "id": "55a846e0-bb57-49c3-929e-e42f5058df6f",
   "metadata": {},
   "outputs": [],
   "source": [
    "# in this case every new variable will follow the same book, title, and page number"
   ]
  },
  {
   "cell_type": "code",
   "execution_count": 38,
   "id": "81f82c2e-fa12-43fc-8827-21816a040124",
   "metadata": {},
   "outputs": [],
   "source": [
    "sutdent1 = book()"
   ]
  },
  {
   "cell_type": "code",
   "execution_count": 40,
   "id": "86bda686-1028-44de-957b-f07c5d010c3b",
   "metadata": {},
   "outputs": [
    {
     "name": "stdout",
     "output_type": "stream",
     "text": [
      "DSA , DSA Advance\n"
     ]
    }
   ],
   "source": [
    "sutdent1.extract_details()"
   ]
  },
  {
   "cell_type": "code",
   "execution_count": 41,
   "id": "175cdd44-62cc-4f0a-9438-f786278080bb",
   "metadata": {},
   "outputs": [
    {
     "name": "stdout",
     "output_type": "stream",
     "text": [
      "DSA , DSA Advance\n"
     ]
    }
   ],
   "source": [
    "student2 = book()\n",
    "student2.extract_details()"
   ]
  },
  {
   "cell_type": "code",
   "execution_count": 42,
   "id": "d2d42e73-f1b0-4393-8700-20238a9b7b2c",
   "metadata": {},
   "outputs": [],
   "source": [
    "# using another example with gmail\n",
    "# userid, and password will be different but the url will be the same "
   ]
  },
  {
   "cell_type": "code",
   "execution_count": 43,
   "id": "5ee0b642-f925-418f-8dd0-7f70b2299782",
   "metadata": {},
   "outputs": [],
   "source": [
    "class gmail_ops :\n",
    "    def __init__(self, user_id, password) :\n",
    "        self.user_id = user_id\n",
    "        self.password = password\n",
    "        self.url = 'https://mail.google.com/mail/u/1/#inbox'\n",
    "        \n",
    "    def login(self) :\n",
    "        print(\"take user id\" + self.user_id + \"take password\" + self.password + 'hit url' + self.url)\n",
    "        print('login')\n",
    "        \n",
    "    def read_mail(self) :\n",
    "        print('read mail for' + self.user_id + \" \" + self.password)\n",
    "        \n",
    "    def reply_mail(self) :\n",
    "        print('reply mail for' + self.user_id + \" \" + self.password)"
   ]
  },
  {
   "cell_type": "code",
   "execution_count": 44,
   "id": "4c5a809a-f685-4a3d-ac42-7b54c2ed04f0",
   "metadata": {},
   "outputs": [
    {
     "name": "stdout",
     "output_type": "stream",
     "text": [
      "take user iduser1take passworduserpasshit urlhttps://mail.google.com/mail/u/1/#inbox\n",
      "login\n"
     ]
    }
   ],
   "source": [
    "user1 = gmail_ops('user1', 'userpass')\n",
    "user1.login()"
   ]
  },
  {
   "cell_type": "code",
   "execution_count": 45,
   "id": "b841cd35-2943-4c9b-9f65-fd9aeb377b4a",
   "metadata": {},
   "outputs": [
    {
     "name": "stdout",
     "output_type": "stream",
     "text": [
      "take user iduser1take passworduserpasshit urlhttps://mail.google.com/mail/u/1/#inbox\n",
      "login\n"
     ]
    }
   ],
   "source": [
    "user2 = gmail_ops('user2', 'user2pass')\n",
    "user1.login()"
   ]
  },
  {
   "cell_type": "code",
   "execution_count": 46,
   "id": "26922953-2495-4eb0-86aa-8f9ab498c8a4",
   "metadata": {},
   "outputs": [],
   "source": [
    "# another example"
   ]
  },
  {
   "cell_type": "code",
   "execution_count": 52,
   "id": "7ef05709-d8bb-4b7b-9b71-fba28e8231be",
   "metadata": {},
   "outputs": [],
   "source": [
    "from functools import reduce\n",
    "class calculator :\n",
    "    \n",
    "    def add(self, *args) :\n",
    "        return sum(args)\n",
    "    \n",
    "    def subtraction(self, *args) :\n",
    "        return reduce(lambda a,b : a-b, args)\n",
    "    \n",
    "    def mul(self, *args) :\n",
    "        return reduce(lambda a,b: a*b, args)\n",
    "    \n",
    "    def div(self, *args) :\n",
    "        return reduce(lambda a,b: a/b, args)"
   ]
  },
  {
   "cell_type": "code",
   "execution_count": 53,
   "id": "1fdd8c15-b051-4c02-9071-d0e492572ea3",
   "metadata": {},
   "outputs": [],
   "source": [
    "himanshu = calculator()"
   ]
  },
  {
   "cell_type": "code",
   "execution_count": 54,
   "id": "685d1317-53c0-42fd-a947-3a93c74b9937",
   "metadata": {},
   "outputs": [
    {
     "data": {
      "text/plain": [
       "11"
      ]
     },
     "execution_count": 54,
     "metadata": {},
     "output_type": "execute_result"
    }
   ],
   "source": [
    "himanshu.add(7,4)"
   ]
  },
  {
   "cell_type": "code",
   "execution_count": 55,
   "id": "fdf6bfe4-e5fb-426f-af74-3765e93340ee",
   "metadata": {},
   "outputs": [
    {
     "data": {
      "text/plain": [
       "12"
      ]
     },
     "execution_count": 55,
     "metadata": {},
     "output_type": "execute_result"
    }
   ],
   "source": [
    "himanshu.mul(4,3)"
   ]
  },
  {
   "cell_type": "code",
   "execution_count": 56,
   "id": "83f2f6fb-92a3-4960-bef3-41141ce488a2",
   "metadata": {},
   "outputs": [
    {
     "data": {
      "text/plain": [
       "3.0"
      ]
     },
     "execution_count": 56,
     "metadata": {},
     "output_type": "execute_result"
    }
   ],
   "source": [
    "himanshu.div(6,2)"
   ]
  },
  {
   "cell_type": "code",
   "execution_count": 57,
   "id": "79e71e30-6d62-4ce6-961a-94e39fc23e7f",
   "metadata": {},
   "outputs": [],
   "source": [
    "# also other user can use the calculator as well "
   ]
  },
  {
   "cell_type": "code",
   "execution_count": 66,
   "id": "f4b7cfa2-7851-448d-a50d-f6980fda7751",
   "metadata": {},
   "outputs": [
    {
     "data": {
      "text/plain": [
       "('rohan', 36)"
      ]
     },
     "execution_count": 66,
     "metadata": {},
     "output_type": "execute_result"
    }
   ],
   "source": [
    "rohan = calculator('rohan')\n",
    "rohan.add(3,5,6,7,4,2,9)"
   ]
  },
  {
   "cell_type": "code",
   "execution_count": 59,
   "id": "e3d7bc75-a927-402d-b7cd-7fcd3ecc965f",
   "metadata": {},
   "outputs": [],
   "source": [
    "# now we want to print username with the result"
   ]
  },
  {
   "cell_type": "code",
   "execution_count": 65,
   "id": "c42468bc-7ebb-44f8-af83-17605a5d3ef0",
   "metadata": {},
   "outputs": [],
   "source": [
    "from functools import reduce\n",
    "class calculator :\n",
    "    \n",
    "    def __init__(self, username) :\n",
    "        self.username = username\n",
    "    \n",
    "    def add(self, *args) :\n",
    "        return self.username, sum(args)\n",
    "    \n",
    "    def subtraction(self, *args) :\n",
    "        return self.username, reduce(lambda a,b : a-b, args)\n",
    "    \n",
    "    def mul(self, *args) :\n",
    "        return self.username, reduce(lambda a,b: a*b, args)\n",
    "    \n",
    "    def div(self, *args) :\n",
    "        return self.username, reduce(lambda a,b: a/b, args)"
   ]
  },
  {
   "cell_type": "code",
   "execution_count": 67,
   "id": "93a60bd6-5042-463a-8530-abd1c05255ff",
   "metadata": {},
   "outputs": [
    {
     "data": {
      "text/plain": [
       "('rohan', -10)"
      ]
     },
     "execution_count": 67,
     "metadata": {},
     "output_type": "execute_result"
    }
   ],
   "source": [
    "rohan.subtraction(4,5,6,3)"
   ]
  },
  {
   "cell_type": "code",
   "execution_count": null,
   "id": "17a000a8-041e-49d1-84f7-66a9402703c9",
   "metadata": {},
   "outputs": [],
   "source": []
  },
  {
   "cell_type": "code",
   "execution_count": 69,
   "id": "ae266d8a-e305-4eab-8629-e68183517560",
   "metadata": {},
   "outputs": [],
   "source": [
    "# implementation of logging in the class and using exception handling"
   ]
  },
  {
   "cell_type": "code",
   "execution_count": null,
   "id": "d6ddb3ee-62f7-454b-9504-11cbbaced31f",
   "metadata": {},
   "outputs": [],
   "source": [
    "from functools import reduce\n",
    "class calculator :\n",
    "    \n",
    "    def __init__(self, username) :\n",
    "        self.username = username\n",
    "    \n",
    "    def add(self, *args) :\n",
    "        return self.username, sum(args)\n",
    "    \n",
    "    def subtraction(self, *args) :\n",
    "        return self.username, reduce(lambda a,b : a-b, args)\n",
    "    \n",
    "    def mul(self, *args) :\n",
    "        return self.username, reduce(lambda a,b: a*b, args)\n",
    "    \n",
    "    def div(self, *args) :\n",
    "        return self.username, reduce(lambda a,b: a/b, args)"
   ]
  }
 ],
 "metadata": {
  "kernelspec": {
   "display_name": "Python 3 (ipykernel)",
   "language": "python",
   "name": "python3"
  },
  "language_info": {
   "codemirror_mode": {
    "name": "ipython",
    "version": 3
   },
   "file_extension": ".py",
   "mimetype": "text/x-python",
   "name": "python",
   "nbconvert_exporter": "python",
   "pygments_lexer": "ipython3",
   "version": "3.10.8"
  }
 },
 "nbformat": 4,
 "nbformat_minor": 5
}
