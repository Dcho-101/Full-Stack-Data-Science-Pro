{
 "cells": [
  {
   "cell_type": "markdown",
   "id": "3807d14c-8f10-4587-8e6a-1554af4fe4b7",
   "metadata": {},
   "source": [
    "# 3rd Sep'23 : Operators and Control flow"
   ]
  },
  {
   "cell_type": "code",
   "execution_count": 1,
   "id": "ca783751-e731-4454-9ce4-672568728719",
   "metadata": {},
   "outputs": [
    {
     "ename": "SyntaxError",
     "evalue": "invalid syntax (157741791.py, line 1)",
     "output_type": "error",
     "traceback": [
      "\u001b[0;36m  Cell \u001b[0;32mIn[1], line 1\u001b[0;36m\u001b[0m\n\u001b[0;31m    and\u001b[0m\n\u001b[0m    ^\u001b[0m\n\u001b[0;31mSyntaxError\u001b[0m\u001b[0;31m:\u001b[0m invalid syntax\n"
     ]
    }
   ],
   "source": [
    "'''\n",
    "and \n",
    "or \n",
    "not\n",
    "'''"
   ]
  },
  {
   "cell_type": "code",
   "execution_count": 2,
   "id": "82b1a6c1-bdcd-4387-b75a-1144e21fdd97",
   "metadata": {},
   "outputs": [],
   "source": [
    "a = 10\n",
    "b = 20"
   ]
  },
  {
   "cell_type": "code",
   "execution_count": 3,
   "id": "b7c04aad-4567-42c6-ac1f-64cf57542be7",
   "metadata": {},
   "outputs": [
    {
     "data": {
      "text/plain": [
       "False"
      ]
     },
     "execution_count": 3,
     "metadata": {},
     "output_type": "execute_result"
    }
   ],
   "source": [
    "((a > 10) and (b > 20))"
   ]
  },
  {
   "cell_type": "code",
   "execution_count": 4,
   "id": "bef713e5-f741-4ea5-8ee2-e9b649766678",
   "metadata": {},
   "outputs": [],
   "source": [
    "# true is 1 and false is 0"
   ]
  },
  {
   "cell_type": "code",
   "execution_count": 6,
   "id": "c271c49a-5d14-4dd9-9563-a2620047c275",
   "metadata": {},
   "outputs": [
    {
     "data": {
      "text/plain": [
       "'\\n1 1 = 1\\n1 0 = 0\\n0 1 = 0\\n0 0 = 0 \\n'"
      ]
     },
     "execution_count": 6,
     "metadata": {},
     "output_type": "execute_result"
    }
   ],
   "source": [
    "# AND logic\n",
    "\n",
    "'''\n",
    "1 1 = 1\n",
    "1 0 = 0\n",
    "0 1 = 0\n",
    "0 0 = 0 \n",
    "'''"
   ]
  },
  {
   "cell_type": "code",
   "execution_count": 8,
   "id": "ebc2f865-b0db-4ea0-9996-eeccc575bc17",
   "metadata": {},
   "outputs": [
    {
     "data": {
      "text/plain": [
       "True"
      ]
     },
     "execution_count": 8,
     "metadata": {},
     "output_type": "execute_result"
    }
   ],
   "source": [
    "((a > 6) and (b > 7))"
   ]
  },
  {
   "cell_type": "code",
   "execution_count": null,
   "id": "a36caf8b-b2c0-4d80-808d-1cb61c67314f",
   "metadata": {},
   "outputs": [],
   "source": [
    "# OR logic"
   ]
  },
  {
   "cell_type": "code",
   "execution_count": 9,
   "id": "c240271c-37bd-4b7f-8220-da13b7290250",
   "metadata": {},
   "outputs": [
    {
     "data": {
      "text/plain": [
       "'\\n1 1 = 1\\n1 0 = 1\\n0 1 = 1\\n0 0 = 0 \\n'"
      ]
     },
     "execution_count": 9,
     "metadata": {},
     "output_type": "execute_result"
    }
   ],
   "source": [
    "'''\n",
    "1 1 = 1\n",
    "1 0 = 1\n",
    "0 1 = 1\n",
    "0 0 = 0 \n",
    "'''"
   ]
  },
  {
   "cell_type": "code",
   "execution_count": 11,
   "id": "9c5b487e-dd5d-468f-9965-00fdfeda1cb5",
   "metadata": {},
   "outputs": [
    {
     "data": {
      "text/plain": [
       "True"
      ]
     },
     "execution_count": 11,
     "metadata": {},
     "output_type": "execute_result"
    }
   ],
   "source": [
    "((a > 10) or (b > 7)) # returns true because any one of the expression is true"
   ]
  },
  {
   "cell_type": "code",
   "execution_count": 12,
   "id": "07e9f18f-91dd-45d5-be30-961381889be9",
   "metadata": {},
   "outputs": [],
   "source": [
    " # NOT operation"
   ]
  },
  {
   "cell_type": "code",
   "execution_count": 13,
   "id": "518ae948-ed26-4ed2-a743-89f6266d01a3",
   "metadata": {},
   "outputs": [],
   "source": [
    "a = True"
   ]
  },
  {
   "cell_type": "code",
   "execution_count": 14,
   "id": "668e1343-46ad-43ec-aeed-b162311e8cab",
   "metadata": {},
   "outputs": [
    {
     "data": {
      "text/plain": [
       "False"
      ]
     },
     "execution_count": 14,
     "metadata": {},
     "output_type": "execute_result"
    }
   ],
   "source": [
    "not(a)"
   ]
  },
  {
   "cell_type": "code",
   "execution_count": 15,
   "id": "0a350ba8-9081-4294-b79a-b07a827fb42a",
   "metadata": {},
   "outputs": [],
   "source": [
    "a = 5"
   ]
  },
  {
   "cell_type": "code",
   "execution_count": 20,
   "id": "304859b5-5728-415d-a942-2a84b57ef3f6",
   "metadata": {},
   "outputs": [
    {
     "data": {
      "text/plain": [
       "'0b1000'"
      ]
     },
     "execution_count": 20,
     "metadata": {},
     "output_type": "execute_result"
    }
   ],
   "source": [
    "bin(8)"
   ]
  },
  {
   "cell_type": "code",
   "execution_count": null,
   "id": "8b5ba2a1-b66b-474d-858d-6303de9fd273",
   "metadata": {},
   "outputs": [],
   "source": []
  },
  {
   "cell_type": "code",
   "execution_count": null,
   "id": "4456c835-65c9-4468-bfe7-d261cfcf083c",
   "metadata": {},
   "outputs": [],
   "source": []
  },
  {
   "cell_type": "markdown",
   "id": "83f5f5e5-f1b7-44c0-bfbc-45f6feab2e5c",
   "metadata": {},
   "source": [
    "### Control Statement"
   ]
  },
  {
   "cell_type": "code",
   "execution_count": 21,
   "id": "bfe9ab2f-bd4f-4ce3-bac4-0a6a5c2e0619",
   "metadata": {},
   "outputs": [
    {
     "data": {
      "text/plain": [
       "'\\nif\\nelif\\nelse\\n'"
      ]
     },
     "execution_count": 21,
     "metadata": {},
     "output_type": "execute_result"
    }
   ],
   "source": [
    "'''\n",
    "if\n",
    "elif\n",
    "else\n",
    "'''"
   ]
  },
  {
   "cell_type": "code",
   "execution_count": 22,
   "id": "2ead9645-13ea-45fe-b186-8258ff0bb1c6",
   "metadata": {},
   "outputs": [],
   "source": [
    "age = 18"
   ]
  },
  {
   "cell_type": "code",
   "execution_count": 23,
   "id": "bf47860d-3218-4568-bb16-9801a89a19fd",
   "metadata": {},
   "outputs": [
    {
     "name": "stdout",
     "output_type": "stream",
     "text": [
      "you can drive\n"
     ]
    }
   ],
   "source": [
    "if age >= 18:\n",
    "    print(\"you can drive\")"
   ]
  },
  {
   "cell_type": "code",
   "execution_count": 25,
   "id": "d52d0151-ef1f-42b0-98a7-56dd7754b6b1",
   "metadata": {},
   "outputs": [
    {
     "name": "stdin",
     "output_type": "stream",
     "text": [
      "enter age:  15\n"
     ]
    }
   ],
   "source": [
    "age = int(input(\"enter age: \"))"
   ]
  },
  {
   "cell_type": "code",
   "execution_count": 26,
   "id": "ae09c4b6-e4df-4db3-a709-68e7d1a04859",
   "metadata": {},
   "outputs": [
    {
     "name": "stdout",
     "output_type": "stream",
     "text": [
      "you cannot drive\n"
     ]
    }
   ],
   "source": [
    "if age >= 18:\n",
    "    print(\"you can drive\")\n",
    "else:\n",
    "    print(\"you cannot drive\")"
   ]
  },
  {
   "cell_type": "code",
   "execution_count": 27,
   "id": "ce4c2418-4f91-4559-8ec6-1ac2f7a08a06",
   "metadata": {},
   "outputs": [
    {
     "name": "stdout",
     "output_type": "stream",
     "text": [
      "largest number is 30\n"
     ]
    }
   ],
   "source": [
    "num1 = 10\n",
    "num2 = 20\n",
    "num3 = 30\n",
    "\n",
    "\n",
    "if (num1>=num2) and (num1>=num3) :\n",
    "    largest = num1\n",
    "    print(f\"largest number is {largest}\")\n",
    "    \n",
    "elif (num2>=num1) and (num2>=num3) :\n",
    "    largest = num2\n",
    "    print(f\"largest number is {largest}\")\n",
    "    \n",
    "else:\n",
    "    largest = num3\n",
    "    print(f\"largest number is {largest}\")\n"
   ]
  },
  {
   "cell_type": "code",
   "execution_count": 28,
   "id": "177d0935-98fb-44b4-b89c-c9159a005f1f",
   "metadata": {},
   "outputs": [
    {
     "name": "stdin",
     "output_type": "stream",
     "text": [
      "enter number:  -5\n"
     ]
    },
    {
     "name": "stdout",
     "output_type": "stream",
     "text": [
      "the number is negative\n"
     ]
    }
   ],
   "source": [
    "num = int(input('enter number: '))\n",
    "\n",
    "if num>=0 :\n",
    "    if num == 0:\n",
    "        print(\"The number is zero\")\n",
    "    else:\n",
    "        print(\"the number is poitive\")\n",
    "        \n",
    "else:\n",
    "    print(\"the number is negative\")"
   ]
  },
  {
   "cell_type": "code",
   "execution_count": null,
   "id": "89a71f84-d93d-4614-ae71-5ee34c796a8f",
   "metadata": {},
   "outputs": [],
   "source": []
  },
  {
   "cell_type": "markdown",
   "id": "053cbca2-aac6-4072-8176-4bf0dbf54a83",
   "metadata": {},
   "source": [
    "### For Loop"
   ]
  },
  {
   "cell_type": "code",
   "execution_count": 29,
   "id": "6aead9ce-5324-4061-a0e4-8321d67108ec",
   "metadata": {},
   "outputs": [
    {
     "data": {
      "text/plain": [
       "range(0, 5)"
      ]
     },
     "execution_count": 29,
     "metadata": {},
     "output_type": "execute_result"
    }
   ],
   "source": [
    "range(5)"
   ]
  },
  {
   "cell_type": "code",
   "execution_count": 30,
   "id": "9035fda9-d4ba-4a13-8073-93f52a0cdebf",
   "metadata": {},
   "outputs": [
    {
     "data": {
      "text/plain": [
       "[0, 1, 2, 3, 4]"
      ]
     },
     "execution_count": 30,
     "metadata": {},
     "output_type": "execute_result"
    }
   ],
   "source": [
    "list(range(5))"
   ]
  },
  {
   "cell_type": "code",
   "execution_count": 31,
   "id": "dc1f33d7-9d18-4599-8c2d-4eaf9f58bbc8",
   "metadata": {},
   "outputs": [
    {
     "data": {
      "text/plain": [
       "[2, 3, 4, 5, 6, 7, 8, 9]"
      ]
     },
     "execution_count": 31,
     "metadata": {},
     "output_type": "execute_result"
    }
   ],
   "source": [
    "list(range(2,10))"
   ]
  },
  {
   "cell_type": "code",
   "execution_count": 32,
   "id": "35cd97d5-6912-411e-b7be-aad4fb9baebe",
   "metadata": {},
   "outputs": [
    {
     "data": {
      "text/plain": [
       "[2, 4, 6, 8, 10, 12, 14, 16, 18]"
      ]
     },
     "execution_count": 32,
     "metadata": {},
     "output_type": "execute_result"
    }
   ],
   "source": [
    "list(range(2,20,2))"
   ]
  },
  {
   "cell_type": "code",
   "execution_count": 35,
   "id": "27f2c491-f834-44e8-8872-27751684e7ec",
   "metadata": {},
   "outputs": [
    {
     "name": "stdout",
     "output_type": "stream",
     "text": [
      "0\n",
      "1\n",
      "2\n",
      "3\n",
      "4\n",
      "5\n"
     ]
    }
   ],
   "source": [
    "for i in range(6) :\n",
    "    print(i) # you can take anything beside i"
   ]
  },
  {
   "cell_type": "code",
   "execution_count": 36,
   "id": "337de301-504b-4b65-bffc-550e429d1d16",
   "metadata": {},
   "outputs": [
    {
     "ename": "TypeError",
     "evalue": "'int' object is not iterable",
     "output_type": "error",
     "traceback": [
      "\u001b[0;31m---------------------------------------------------------------------------\u001b[0m",
      "\u001b[0;31mTypeError\u001b[0m                                 Traceback (most recent call last)",
      "Cell \u001b[0;32mIn[36], line 3\u001b[0m\n\u001b[1;32m      1\u001b[0m \u001b[38;5;66;03m# but\u001b[39;00m\n\u001b[0;32m----> 3\u001b[0m \u001b[38;5;28;01mfor\u001b[39;00m i \u001b[38;5;129;01min\u001b[39;00m \u001b[38;5;241m23\u001b[39m :\n\u001b[1;32m      4\u001b[0m     \u001b[38;5;28mprint\u001b[39m(i)\n",
      "\u001b[0;31mTypeError\u001b[0m: 'int' object is not iterable"
     ]
    }
   ],
   "source": [
    "# but\n",
    "\n",
    "for i in 23 :\n",
    "    print(i)"
   ]
  },
  {
   "cell_type": "code",
   "execution_count": 37,
   "id": "2a89ee0e-547e-49af-8ee2-2de9ea27574d",
   "metadata": {},
   "outputs": [],
   "source": [
    "# on the other hand\n",
    "\n",
    "\n",
    "x = {\"name\" : \"Dibyendu\", \"city\" : \"Pandaveswar\"}"
   ]
  },
  {
   "cell_type": "code",
   "execution_count": 38,
   "id": "0a999e1e-e4d8-41f1-b487-84d9bf8343c2",
   "metadata": {},
   "outputs": [
    {
     "name": "stdout",
     "output_type": "stream",
     "text": [
      "Dibyendu\n",
      "Pandaveswar\n"
     ]
    }
   ],
   "source": [
    "for i in x.values() :\n",
    "    print(i)"
   ]
  },
  {
   "cell_type": "code",
   "execution_count": 39,
   "id": "695e07f3-fe52-4848-84fb-f0608e60f136",
   "metadata": {},
   "outputs": [],
   "source": [
    "dict1 = {\"x1\": 1, \"x2\" : 2, \"x3\" : 3}"
   ]
  },
  {
   "cell_type": "code",
   "execution_count": 43,
   "id": "366b0f78-24ee-420e-843d-58f5a8c9e3a3",
   "metadata": {},
   "outputs": [
    {
     "name": "stdout",
     "output_type": "stream",
     "text": [
      "x1 1\n",
      "x2 2\n",
      "x3 3\n"
     ]
    }
   ],
   "source": [
    "for i in dict1 :\n",
    "    print(i,dict1[i])"
   ]
  },
  {
   "cell_type": "code",
   "execution_count": 45,
   "id": "f8a952df-0b27-4ea2-a792-94f30207fb8f",
   "metadata": {},
   "outputs": [
    {
     "data": {
      "text/plain": [
       "1"
      ]
     },
     "execution_count": 45,
     "metadata": {},
     "output_type": "execute_result"
    }
   ],
   "source": [
    "dict1['x1']"
   ]
  },
  {
   "cell_type": "code",
   "execution_count": null,
   "id": "ee4c5fd1-5a56-468d-b55b-325a14e66860",
   "metadata": {},
   "outputs": [],
   "source": []
  },
  {
   "cell_type": "markdown",
   "id": "bde8907e-d373-45c9-8127-b5b36c413a0b",
   "metadata": {},
   "source": [
    "### writing in same line with print statement"
   ]
  },
  {
   "cell_type": "code",
   "execution_count": 46,
   "id": "60a27349-6d1c-42aa-ac96-c3ed05e1a910",
   "metadata": {},
   "outputs": [
    {
     "name": "stdout",
     "output_type": "stream",
     "text": [
      "hi\n",
      "pw\n",
      "skills\n",
      "ineuron\n"
     ]
    }
   ],
   "source": [
    "print(\"hi\")\n",
    "print(\"pw\")\n",
    "print('skills')\n",
    "print('ineuron')"
   ]
  },
  {
   "cell_type": "code",
   "execution_count": 47,
   "id": "10b5748d-cb7c-41e6-9a59-403e64d82e15",
   "metadata": {},
   "outputs": [],
   "source": [
    "# but"
   ]
  },
  {
   "cell_type": "code",
   "execution_count": 48,
   "id": "14b31ee9-d01a-4a40-8c4b-ea7500c7f23f",
   "metadata": {},
   "outputs": [
    {
     "name": "stdout",
     "output_type": "stream",
     "text": [
      "hi pw skills ineuron "
     ]
    }
   ],
   "source": [
    "print(\"hi\", end=' ')\n",
    "print(\"pw\",end=' ')\n",
    "print('skills', end=' ')\n",
    "print('ineuron', end=' ')"
   ]
  },
  {
   "cell_type": "code",
   "execution_count": null,
   "id": "b74c9cca-7e46-49a2-97ca-c25fe0f2865c",
   "metadata": {},
   "outputs": [],
   "source": []
  },
  {
   "cell_type": "code",
   "execution_count": 49,
   "id": "0581627f-799c-4805-9ff9-dbc0c53097b5",
   "metadata": {},
   "outputs": [],
   "source": [
    "### Printing a pattern"
   ]
  },
  {
   "cell_type": "code",
   "execution_count": 50,
   "id": "6a8a4931-a9db-42df-9a64-e9b5ec842744",
   "metadata": {},
   "outputs": [
    {
     "name": "stdout",
     "output_type": "stream",
     "text": [
      "* * * * * * * * * * * * * * * * * * * * * * * * * * * * * * * * * * * * * * * * * * * * * * * * * * * * * * * * * * * * * * * * * * * * * * * * * * * * * * * * * * * * * * * * * * * * * * * "
     ]
    }
   ],
   "source": [
    "for i in range(10) :\n",
    "    for j in range(i+5) :\n",
    "        print(\"*\", end=' ')"
   ]
  },
  {
   "cell_type": "code",
   "execution_count": 51,
   "id": "722c8fc6-e029-457d-90b1-ace0e8c126e8",
   "metadata": {},
   "outputs": [
    {
     "name": "stdout",
     "output_type": "stream",
     "text": [
      "* * * * * \n",
      "* * * * * * \n",
      "* * * * * * * \n",
      "* * * * * * * * \n",
      "* * * * * * * * * \n",
      "* * * * * * * * * * \n",
      "* * * * * * * * * * * \n",
      "* * * * * * * * * * * * \n",
      "* * * * * * * * * * * * * \n",
      "* * * * * * * * * * * * * * \n"
     ]
    }
   ],
   "source": [
    "# also\n",
    "\n",
    "for i in range(10) :\n",
    "    for j in range(i+5) :\n",
    "        print(\"*\", end=' ')\n",
    "        \n",
    "    print()"
   ]
  },
  {
   "cell_type": "code",
   "execution_count": 52,
   "id": "eb45a41c-450d-4193-b639-1b82f5ed7960",
   "metadata": {},
   "outputs": [
    {
     "name": "stdout",
     "output_type": "stream",
     "text": [
      "1 2 3 4 5 \n",
      "2 4 6 8 10 \n",
      "3 6 9 12 15 \n",
      "4 8 12 16 20 \n",
      "5 10 15 20 25 \n"
     ]
    }
   ],
   "source": [
    "for i in range(1,6) :\n",
    "    for j in range(1,6) :\n",
    "        print(i*j, end = ' ')\n",
    "    print()"
   ]
  },
  {
   "cell_type": "code",
   "execution_count": null,
   "id": "9088d587-0df6-49df-9f96-80ef99a5b91c",
   "metadata": {},
   "outputs": [],
   "source": []
  },
  {
   "cell_type": "markdown",
   "id": "91371f04-a053-4bdd-9547-a069add7565b",
   "metadata": {},
   "source": [
    "### While loop"
   ]
  },
  {
   "cell_type": "code",
   "execution_count": 53,
   "id": "560d2038-0aed-451e-9d15-6024a68e2022",
   "metadata": {},
   "outputs": [
    {
     "name": "stdout",
     "output_type": "stream",
     "text": [
      "1\n",
      "2\n",
      "3\n",
      "4\n",
      "5\n"
     ]
    }
   ],
   "source": [
    "count = 1\n",
    "\n",
    "while count <=5 :\n",
    "    print(count)\n",
    "    count += 1"
   ]
  },
  {
   "cell_type": "code",
   "execution_count": 54,
   "id": "85c117a3-51a8-49bb-ae0b-71749b585479",
   "metadata": {},
   "outputs": [
    {
     "name": "stdin",
     "output_type": "stream",
     "text": [
      "enter a word www\n"
     ]
    },
    {
     "name": "stdout",
     "output_type": "stream",
     "text": [
      "you entered www\n"
     ]
    },
    {
     "name": "stdin",
     "output_type": "stream",
     "text": [
      "enter a word ww\n"
     ]
    },
    {
     "name": "stdout",
     "output_type": "stream",
     "text": [
      "you entered ww\n"
     ]
    },
    {
     "name": "stdin",
     "output_type": "stream",
     "text": [
      "enter a word quit\n"
     ]
    },
    {
     "name": "stdout",
     "output_type": "stream",
     "text": [
      "you entered quit\n"
     ]
    }
   ],
   "source": [
    "text = \" \"\n",
    "\n",
    "while text != \"quit\" :\n",
    "    text = input(\"enter a word\")\n",
    "    print(f\"you entered {text}\")"
   ]
  },
  {
   "cell_type": "code",
   "execution_count": null,
   "id": "507a9d19-362d-424f-a182-55252b089b44",
   "metadata": {},
   "outputs": [],
   "source": []
  },
  {
   "cell_type": "markdown",
   "id": "ada87c86-6e75-4e6e-8669-ff00d3f15e86",
   "metadata": {},
   "source": [
    "- if you know the number of iterations you can go with for loop\n",
    "\n",
    "- if you don't know the number of iterations then you need to go with while loop"
   ]
  },
  {
   "cell_type": "code",
   "execution_count": null,
   "id": "54bed5f1-a601-4d46-8afa-188b0e883cf1",
   "metadata": {},
   "outputs": [],
   "source": []
  }
 ],
 "metadata": {
  "kernelspec": {
   "display_name": "Python 3 (ipykernel)",
   "language": "python",
   "name": "python3"
  },
  "language_info": {
   "codemirror_mode": {
    "name": "ipython",
    "version": 3
   },
   "file_extension": ".py",
   "mimetype": "text/x-python",
   "name": "python",
   "nbconvert_exporter": "python",
   "pygments_lexer": "ipython3",
   "version": "3.10.8"
  }
 },
 "nbformat": 4,
 "nbformat_minor": 5
}
