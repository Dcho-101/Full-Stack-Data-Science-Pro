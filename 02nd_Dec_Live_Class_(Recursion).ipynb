{
  "nbformat": 4,
  "nbformat_minor": 0,
  "metadata": {
    "colab": {
      "provenance": []
    },
    "kernelspec": {
      "name": "python3",
      "display_name": "Python 3"
    },
    "language_info": {
      "name": "python"
    }
  },
  "cells": [
    {
      "cell_type": "markdown",
      "source": [
        "# **RECURSION**\n",
        "\n",
        "# 2nd December 2023"
      ],
      "metadata": {
        "id": "xgZ7qSvgjVb7"
      }
    },
    {
      "cell_type": "code",
      "execution_count": 3,
      "metadata": {
        "colab": {
          "base_uri": "https://localhost:8080/"
        },
        "id": "yVOWQxFRjJfI",
        "outputId": "89cb0999-81ad-48e0-8ced-24ccd0ceba97"
      },
      "outputs": [
        {
          "output_type": "stream",
          "name": "stdout",
          "text": [
            "1\n",
            "2\n",
            "3\n",
            "4\n",
            "5\n"
          ]
        }
      ],
      "source": [
        "def printRec(arr, start_index) :\n",
        "  # Base Condition\n",
        "  if start_index >= len(arr) :\n",
        "    return\n",
        "    # Logic\n",
        "  print(arr[start_index])\n",
        "    # Recursive Function Call\n",
        "  printRec(arr, start_index + 1)\n",
        "\n",
        "\n",
        "arr = [1, 2, 3, 4, 5]\n",
        "printRec(arr, 0)"
      ]
    },
    {
      "cell_type": "code",
      "source": [
        "def find_min(arr, start_index) :\n",
        "  # Base Condition\n",
        "  if start_index >= len(arr) :\n",
        "    return 99999999\n",
        "\n",
        "  return min(arr[start_index], find_min(arr, start_index+1))\n",
        "\n",
        "\n",
        "find_min([3,5,2,4,1,-1],0)"
      ],
      "metadata": {
        "colab": {
          "base_uri": "https://localhost:8080/"
        },
        "id": "6r_CouGOkl6z",
        "outputId": "c5e39033-8481-4345-d9f5-1d67c1b2454f"
      },
      "execution_count": 15,
      "outputs": [
        {
          "output_type": "execute_result",
          "data": {
            "text/plain": [
              "-1"
            ]
          },
          "metadata": {},
          "execution_count": 15
        }
      ]
    },
    {
      "cell_type": "markdown",
      "source": [
        "# **Tower of Hanoi**"
      ],
      "metadata": {
        "id": "yC5aJA-I1Tsg"
      }
    },
    {
      "cell_type": "code",
      "source": [
        "def moves(n,s,d,a) :\n",
        "  # Base Condition\n",
        "  if n == 1 :\n",
        "    return 1\n",
        "\n",
        "\n",
        "  # move n-1 coin from s to a, then move 1 biggest coin from s to d, and then n-1 coin moves from a to d\n",
        "  return moves(n-1,s,a,d) + 1 + moves(n-1,a,d,s)\n",
        "\n",
        "\n",
        "\n",
        "print(moves(1,'s','d','a'))\n",
        "print(moves(2,'s','d','a'))\n",
        "print(moves(3,'s','d','a'))\n",
        "print(moves(10,'s','d','a'))"
      ],
      "metadata": {
        "colab": {
          "base_uri": "https://localhost:8080/"
        },
        "id": "WIXJEVke7aOx",
        "outputId": "0b7431a6-d486-4be6-d30e-2e5c84431556"
      },
      "execution_count": 6,
      "outputs": [
        {
          "output_type": "stream",
          "name": "stdout",
          "text": [
            "1\n",
            "3\n",
            "7\n",
            "1023\n"
          ]
        }
      ]
    },
    {
      "cell_type": "code",
      "source": [
        "## for the above code, the time complexity is in the exponential form.\n",
        "## for n number of moves, the total moves will be (2 to the power n) - 1"
      ],
      "metadata": {
        "id": "OR8DOhnBJj8Z"
      },
      "execution_count": null,
      "outputs": []
    }
  ]
}