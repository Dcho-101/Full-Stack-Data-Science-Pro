{
 "cells": [
  {
   "cell_type": "markdown",
   "id": "a6407f8b-043b-492f-8f37-a02f23cfb86a",
   "metadata": {},
   "source": [
    "# 16th Sep'23 Python - Conditional Statement & loops"
   ]
  },
  {
   "cell_type": "code",
   "execution_count": 2,
   "id": "38de6f72-570b-4d2f-9dbf-8759963a0265",
   "metadata": {},
   "outputs": [
    {
     "name": "stdout",
     "output_type": "stream",
     "text": [
      "yes it is available under my budget\n",
      "i will try to buy a shirt\n",
      "yes i can choose to try it\n"
     ]
    }
   ],
   "source": [
    "a = 500\n",
    "\n",
    "shirt_price = 200\n",
    "\n",
    "pant_price = 500\n",
    "\n",
    "coat_price = 800\n",
    "\n",
    "my_size = 'M'\n",
    "\n",
    "size_store = ['L','XL', 'S', 'XXL', 'XXXL', 'M']\n",
    "\n",
    "my_fav_clr = 'white'\n",
    "\n",
    "store_clr = ['white', 'red', 'blue', 'orange']\n",
    "\n",
    "\n",
    "if coat_price <= a :\n",
    "    print('i will try to buy a coat')\n",
    "    \n",
    "elif pant_price < 500 :\n",
    "    print('i will try to buy a pant')\n",
    "    \n",
    "elif shirt_price < 500 :\n",
    "    print('yes it is available under my budget')\n",
    "    \n",
    "    if my_size in size_store :\n",
    "        print('i will try to buy a shirt')\n",
    "        \n",
    "        if my_fav_clr in store_clr :\n",
    "            print('yes i can choose to try it')\n",
    "        else :\n",
    "            print('my favorite colour is not available')\n",
    "    else :\n",
    "        print('my size is not available')\n",
    "        \n",
    "else :\n",
    "    print('i wont be able to buy')"
   ]
  },
  {
   "cell_type": "code",
   "execution_count": null,
   "id": "7fb18469-75ce-4f2d-9667-e85a41593f59",
   "metadata": {},
   "outputs": [],
   "source": []
  },
  {
   "cell_type": "code",
   "execution_count": 4,
   "id": "cb97a01d-b1f4-40f6-a204-ce6ce1e6843e",
   "metadata": {},
   "outputs": [
    {
     "name": "stdin",
     "output_type": "stream",
     "text": [
      "enter user name :  agaga\n"
     ]
    },
    {
     "name": "stdout",
     "output_type": "stream",
     "text": [
      "Enter correct username and password\n"
     ]
    }
   ],
   "source": [
    "username = 'sudh'\n",
    "password = 'sudh@1234'\n",
    "\n",
    "if username == input(\"enter user name : \") and password == input(\"enter password : \") :\n",
    "    print(\"You have logged in succesfully\")\n",
    "    \n",
    "else :\n",
    "    print(\"Enter correct username and password\")"
   ]
  },
  {
   "cell_type": "code",
   "execution_count": null,
   "id": "a2d4c372-0e67-4fd1-8d4f-9cd9c12f551a",
   "metadata": {},
   "outputs": [],
   "source": []
  },
  {
   "cell_type": "code",
   "execution_count": 5,
   "id": "7007f2c4-0163-4d0c-a85c-7e2165f5ff5f",
   "metadata": {},
   "outputs": [
    {
     "name": "stdin",
     "output_type": "stream",
     "text": [
      "enter your mobile number :  451147\n"
     ]
    },
    {
     "name": "stdout",
     "output_type": "stream",
     "text": [
      "you have not entered a valid mobile number\n"
     ]
    }
   ],
   "source": [
    "# another example\n",
    "\n",
    "mob_no = {245587,564478,335466,854712}\n",
    "\n",
    "otp = 1234\n",
    "\n",
    "if int(input(\"enter your mobile number : \")) in mob_no :\n",
    "    print(\"Yes you are a registered user\")\n",
    "    \n",
    "    if otp == int(input(\"Enter otp that sent on your registered mobile number : \")) :\n",
    "        print(\"you have logged in succesfully\")\n",
    "        \n",
    "    else :\n",
    "        print(\"otp is incorrect please try again\")\n",
    "        \n",
    "else :\n",
    "    print(\"you have not entered a valid mobile number\")\n",
    "    "
   ]
  },
  {
   "cell_type": "code",
   "execution_count": null,
   "id": "0d46e57d-49a0-4d89-a3ee-e3a54aa6c331",
   "metadata": {},
   "outputs": [],
   "source": []
  },
  {
   "cell_type": "code",
   "execution_count": 6,
   "id": "88ec29ef-f9e4-47d7-b3e0-71de4c811b2f",
   "metadata": {},
   "outputs": [
    {
     "name": "stdout",
     "output_type": "stream",
     "text": [
      "[12, 5, 4, 8, 66, 99, 77]\n",
      "['sudh', 'kumar']\n"
     ]
    }
   ],
   "source": [
    "t = (12,5,4,8,66,99,77,'sudh', 'kumar')\n",
    "\n",
    "l_int = []\n",
    "\n",
    "l_str = []\n",
    "\n",
    "for i in t :\n",
    "    if type(i) == str :\n",
    "        l_str.append(i)\n",
    "    elif type(i) == int :\n",
    "        l_int.append(i)\n",
    "        \n",
    "        \n",
    "print(l_int)\n",
    "\n",
    "print(l_str)\n"
   ]
  },
  {
   "cell_type": "code",
   "execution_count": null,
   "id": "048a6230-5d34-4948-8e29-9c10a9b27ab4",
   "metadata": {},
   "outputs": [],
   "source": []
  }
 ],
 "metadata": {
  "kernelspec": {
   "display_name": "Python 3 (ipykernel)",
   "language": "python",
   "name": "python3"
  },
  "language_info": {
   "codemirror_mode": {
    "name": "ipython",
    "version": 3
   },
   "file_extension": ".py",
   "mimetype": "text/x-python",
   "name": "python",
   "nbconvert_exporter": "python",
   "pygments_lexer": "ipython3",
   "version": "3.10.8"
  }
 },
 "nbformat": 4,
 "nbformat_minor": 5
}
